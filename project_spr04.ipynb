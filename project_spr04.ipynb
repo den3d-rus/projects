{
 "cells": [
  {
   "cell_type": "markdown",
   "metadata": {},
   "source": [
    "# Определение перспективного тарифа для телеком компании\n",
    "\n",
    "\n",
    "ПРОЕКТНАЯ РАБОТА - СПРИНТ 4"
   ]
  },
  {
   "cell_type": "markdown",
   "metadata": {},
   "source": [
    "<a name=\"title\"></a>\n",
    "### Содержание\n",
    "\n",
    "[Описание проекта](#info)\n",
    "1. [Открытие данных](#start)\n",
    "2. [Подготовка данных](#preprocessing)\n",
    "  - [Предобработка](#null)\n",
    "  - [Типы данных](#data_type)  \n",
    "  - [Добавление данных](#data_add) \n",
    "3. [Анализ данных](#analitika)  \n",
    "4. [Проверка гипотез](#gipoteza)\n",
    "    * [Гипотеза \"Тарифы\"](#gipoteza01)\n",
    "    * [Гипотеза \"Россия не Москва\"](#gipoteza02)    \n",
    "5. [Общий вывод](#general)"
   ]
  },
  {
   "cell_type": "markdown",
   "metadata": {},
   "source": [
    "<a name=\"info\"></a>\n",
    "## Описание проекта\n",
    "В нашем распоряжении данные федерального оператора сотовой связи — данные 500 пользователей: кто они, откуда, каким тарифом пользуются, сколько звонков и сообщений каждый отправил за 2018 год.. \n",
    "\n",
    "**Цель** - скорректировать рекламный бюджет.\n",
    "\n",
    "**Задача** - проанализировать поведение клиентов и сделать вывод — какой из 2-х тарифных планов лучше. \n",
    "\n",
    "Это поможет коммерческому департаменту принять решение по корректировке рекламного бюджета.\n",
    "\n",
    "\n",
    "**Данные предоставлены в формате csv.**"
   ]
  },
  {
   "cell_type": "markdown",
   "metadata": {},
   "source": [
    "[к содержанию...](#title)"
   ]
  },
  {
   "cell_type": "markdown",
   "metadata": {},
   "source": [
    "<a name=\"start\"></a>\n",
    "# 1. Открытие и изучение вводных данных\n",
    "Откроем данные и проведем предварительный анализ составив перечень работ для шага 2 \"Подготовка данных\""
   ]
  },
  {
   "cell_type": "code",
   "execution_count": 1,
   "metadata": {},
   "outputs": [],
   "source": [
    "import pandas as pd\n",
    "import numpy as np\n",
    "import seaborn as sns\n",
    "import matplotlib.pyplot as plt\n",
    "import datetime as DT\n",
    "import math\n",
    "from scipy import stats as st\n",
    "from scipy.stats import levene\n",
    "pd.options.display.float_format = '{:,.2f}'.format"
   ]
  },
  {
   "cell_type": "code",
   "execution_count": 2,
   "metadata": {},
   "outputs": [],
   "source": [
    "calls = pd.read_csv('datasets/calls.csv')\n",
    "internet = pd.read_csv('datasets/internet.csv')\n",
    "messages = pd.read_csv('datasets/messages.csv')\n",
    "tariffs = pd.read_csv('datasets/tariffs.csv')\n",
    "users = pd.read_csv('datasets/users.csv')\n"
   ]
  },
  {
   "cell_type": "markdown",
   "metadata": {},
   "source": [
    "## users"
   ]
  },
  {
   "cell_type": "code",
   "execution_count": 3,
   "metadata": {},
   "outputs": [
    {
     "name": "stdout",
     "output_type": "stream",
     "text": [
      "<class 'pandas.core.frame.DataFrame'>\n",
      "RangeIndex: 500 entries, 0 to 499\n",
      "Data columns (total 8 columns):\n",
      " #   Column      Non-Null Count  Dtype \n",
      "---  ------      --------------  ----- \n",
      " 0   user_id     500 non-null    int64 \n",
      " 1   age         500 non-null    int64 \n",
      " 2   churn_date  38 non-null     object\n",
      " 3   city        500 non-null    object\n",
      " 4   first_name  500 non-null    object\n",
      " 5   last_name   500 non-null    object\n",
      " 6   reg_date    500 non-null    object\n",
      " 7   tariff      500 non-null    object\n",
      "dtypes: int64(2), object(6)\n",
      "memory usage: 31.4+ KB\n"
     ]
    }
   ],
   "source": [
    "users.info()"
   ]
  },
  {
   "cell_type": "code",
   "execution_count": 4,
   "metadata": {},
   "outputs": [
    {
     "data": {
      "text/html": [
       "<div>\n",
       "<style scoped>\n",
       "    .dataframe tbody tr th:only-of-type {\n",
       "        vertical-align: middle;\n",
       "    }\n",
       "\n",
       "    .dataframe tbody tr th {\n",
       "        vertical-align: top;\n",
       "    }\n",
       "\n",
       "    .dataframe thead th {\n",
       "        text-align: right;\n",
       "    }\n",
       "</style>\n",
       "<table border=\"1\" class=\"dataframe\">\n",
       "  <thead>\n",
       "    <tr style=\"text-align: right;\">\n",
       "      <th></th>\n",
       "      <th>user_id</th>\n",
       "      <th>age</th>\n",
       "      <th>churn_date</th>\n",
       "      <th>city</th>\n",
       "      <th>first_name</th>\n",
       "      <th>last_name</th>\n",
       "      <th>reg_date</th>\n",
       "      <th>tariff</th>\n",
       "    </tr>\n",
       "  </thead>\n",
       "  <tbody>\n",
       "    <tr>\n",
       "      <th>37</th>\n",
       "      <td>1037</td>\n",
       "      <td>73</td>\n",
       "      <td>NaN</td>\n",
       "      <td>Череповец</td>\n",
       "      <td>Изольда</td>\n",
       "      <td>Архипова</td>\n",
       "      <td>2018-10-13</td>\n",
       "      <td>smart</td>\n",
       "    </tr>\n",
       "    <tr>\n",
       "      <th>288</th>\n",
       "      <td>1288</td>\n",
       "      <td>63</td>\n",
       "      <td>NaN</td>\n",
       "      <td>Улан-Удэ</td>\n",
       "      <td>Григорий</td>\n",
       "      <td>Давыдов</td>\n",
       "      <td>2018-09-09</td>\n",
       "      <td>smart</td>\n",
       "    </tr>\n",
       "    <tr>\n",
       "      <th>102</th>\n",
       "      <td>1102</td>\n",
       "      <td>28</td>\n",
       "      <td>NaN</td>\n",
       "      <td>Москва</td>\n",
       "      <td>Марта</td>\n",
       "      <td>Королькова</td>\n",
       "      <td>2018-06-16</td>\n",
       "      <td>smart</td>\n",
       "    </tr>\n",
       "  </tbody>\n",
       "</table>\n",
       "</div>"
      ],
      "text/plain": [
       "     user_id  age churn_date       city first_name   last_name    reg_date  \\\n",
       "37      1037   73        NaN  Череповец    Изольда    Архипова  2018-10-13   \n",
       "288     1288   63        NaN   Улан-Удэ   Григорий     Давыдов  2018-09-09   \n",
       "102     1102   28        NaN     Москва      Марта  Королькова  2018-06-16   \n",
       "\n",
       "    tariff  \n",
       "37   smart  \n",
       "288  smart  \n",
       "102  smart  "
      ]
     },
     "execution_count": 4,
     "metadata": {},
     "output_type": "execute_result"
    }
   ],
   "source": [
    "users.sample(3)"
   ]
  },
  {
   "cell_type": "markdown",
   "metadata": {},
   "source": [
    "Ненулевых значений в столбце *churn_date* не много, осмотрим их, чтобы понять с чем мы имеем дело."
   ]
  },
  {
   "cell_type": "code",
   "execution_count": 5,
   "metadata": {},
   "outputs": [
    {
     "data": {
      "text/html": [
       "<div>\n",
       "<style scoped>\n",
       "    .dataframe tbody tr th:only-of-type {\n",
       "        vertical-align: middle;\n",
       "    }\n",
       "\n",
       "    .dataframe tbody tr th {\n",
       "        vertical-align: top;\n",
       "    }\n",
       "\n",
       "    .dataframe thead th {\n",
       "        text-align: right;\n",
       "    }\n",
       "</style>\n",
       "<table border=\"1\" class=\"dataframe\">\n",
       "  <thead>\n",
       "    <tr style=\"text-align: right;\">\n",
       "      <th></th>\n",
       "      <th>user_id</th>\n",
       "      <th>age</th>\n",
       "      <th>churn_date</th>\n",
       "      <th>city</th>\n",
       "      <th>first_name</th>\n",
       "      <th>last_name</th>\n",
       "      <th>reg_date</th>\n",
       "      <th>tariff</th>\n",
       "    </tr>\n",
       "  </thead>\n",
       "  <tbody>\n",
       "    <tr>\n",
       "      <th>254</th>\n",
       "      <td>1254</td>\n",
       "      <td>75</td>\n",
       "      <td>2018-08-17</td>\n",
       "      <td>Москва</td>\n",
       "      <td>Александра</td>\n",
       "      <td>Сухарева</td>\n",
       "      <td>2018-01-04</td>\n",
       "      <td>ultra</td>\n",
       "    </tr>\n",
       "    <tr>\n",
       "      <th>71</th>\n",
       "      <td>1071</td>\n",
       "      <td>20</td>\n",
       "      <td>2018-08-31</td>\n",
       "      <td>Омск</td>\n",
       "      <td>Гектор</td>\n",
       "      <td>Чумаков</td>\n",
       "      <td>2018-01-09</td>\n",
       "      <td>smart</td>\n",
       "    </tr>\n",
       "    <tr>\n",
       "      <th>255</th>\n",
       "      <td>1255</td>\n",
       "      <td>40</td>\n",
       "      <td>2018-09-02</td>\n",
       "      <td>Саранск</td>\n",
       "      <td>Серафима</td>\n",
       "      <td>Пономарева</td>\n",
       "      <td>2018-02-19</td>\n",
       "      <td>ultra</td>\n",
       "    </tr>\n",
       "    <tr>\n",
       "      <th>480</th>\n",
       "      <td>1480</td>\n",
       "      <td>29</td>\n",
       "      <td>2018-09-26</td>\n",
       "      <td>Новокузнецк</td>\n",
       "      <td>Гелена</td>\n",
       "      <td>Емельянова</td>\n",
       "      <td>2018-02-14</td>\n",
       "      <td>smart</td>\n",
       "    </tr>\n",
       "    <tr>\n",
       "      <th>392</th>\n",
       "      <td>1392</td>\n",
       "      <td>54</td>\n",
       "      <td>2018-09-27</td>\n",
       "      <td>Челябинск</td>\n",
       "      <td>Алла</td>\n",
       "      <td>Беликова</td>\n",
       "      <td>2018-02-27</td>\n",
       "      <td>ultra</td>\n",
       "    </tr>\n",
       "    <tr>\n",
       "      <th>50</th>\n",
       "      <td>1050</td>\n",
       "      <td>44</td>\n",
       "      <td>2018-10-03</td>\n",
       "      <td>Тюмень</td>\n",
       "      <td>Рузана</td>\n",
       "      <td>Аничкина</td>\n",
       "      <td>2018-06-16</td>\n",
       "      <td>ultra</td>\n",
       "    </tr>\n",
       "    <tr>\n",
       "      <th>191</th>\n",
       "      <td>1191</td>\n",
       "      <td>64</td>\n",
       "      <td>2018-10-03</td>\n",
       "      <td>Набережные Челны</td>\n",
       "      <td>Александр</td>\n",
       "      <td>Акиндинов</td>\n",
       "      <td>2018-06-30</td>\n",
       "      <td>smart</td>\n",
       "    </tr>\n",
       "    <tr>\n",
       "      <th>265</th>\n",
       "      <td>1265</td>\n",
       "      <td>24</td>\n",
       "      <td>2018-10-04</td>\n",
       "      <td>Омск</td>\n",
       "      <td>Радим</td>\n",
       "      <td>Адамов</td>\n",
       "      <td>2018-06-24</td>\n",
       "      <td>ultra</td>\n",
       "    </tr>\n",
       "    <tr>\n",
       "      <th>19</th>\n",
       "      <td>1019</td>\n",
       "      <td>63</td>\n",
       "      <td>2018-10-05</td>\n",
       "      <td>Томск</td>\n",
       "      <td>Игнатий</td>\n",
       "      <td>Круглов</td>\n",
       "      <td>2018-05-16</td>\n",
       "      <td>ultra</td>\n",
       "    </tr>\n",
       "    <tr>\n",
       "      <th>51</th>\n",
       "      <td>1051</td>\n",
       "      <td>37</td>\n",
       "      <td>2018-10-14</td>\n",
       "      <td>Москва</td>\n",
       "      <td>Кристина</td>\n",
       "      <td>Сомова</td>\n",
       "      <td>2018-05-28</td>\n",
       "      <td>smart</td>\n",
       "    </tr>\n",
       "    <tr>\n",
       "      <th>56</th>\n",
       "      <td>1056</td>\n",
       "      <td>73</td>\n",
       "      <td>2018-10-14</td>\n",
       "      <td>Иркутск</td>\n",
       "      <td>Радислав</td>\n",
       "      <td>Артемьев</td>\n",
       "      <td>2018-04-13</td>\n",
       "      <td>smart</td>\n",
       "    </tr>\n",
       "    <tr>\n",
       "      <th>498</th>\n",
       "      <td>1498</td>\n",
       "      <td>68</td>\n",
       "      <td>2018-10-25</td>\n",
       "      <td>Владикавказ</td>\n",
       "      <td>Всеволод</td>\n",
       "      <td>Акимчин</td>\n",
       "      <td>2018-07-19</td>\n",
       "      <td>smart</td>\n",
       "    </tr>\n",
       "    <tr>\n",
       "      <th>370</th>\n",
       "      <td>1370</td>\n",
       "      <td>48</td>\n",
       "      <td>2018-10-27</td>\n",
       "      <td>Новороссийск</td>\n",
       "      <td>Гектор</td>\n",
       "      <td>Сысоев</td>\n",
       "      <td>2018-02-06</td>\n",
       "      <td>smart</td>\n",
       "    </tr>\n",
       "    <tr>\n",
       "      <th>343</th>\n",
       "      <td>1343</td>\n",
       "      <td>30</td>\n",
       "      <td>2018-10-28</td>\n",
       "      <td>Кострома</td>\n",
       "      <td>Анита</td>\n",
       "      <td>Верещагина</td>\n",
       "      <td>2018-08-15</td>\n",
       "      <td>ultra</td>\n",
       "    </tr>\n",
       "    <tr>\n",
       "      <th>161</th>\n",
       "      <td>1161</td>\n",
       "      <td>65</td>\n",
       "      <td>2018-11-07</td>\n",
       "      <td>Набережные Челны</td>\n",
       "      <td>Татьяна</td>\n",
       "      <td>Голованова</td>\n",
       "      <td>2018-07-03</td>\n",
       "      <td>smart</td>\n",
       "    </tr>\n",
       "    <tr>\n",
       "      <th>271</th>\n",
       "      <td>1271</td>\n",
       "      <td>69</td>\n",
       "      <td>2018-11-13</td>\n",
       "      <td>Челябинск</td>\n",
       "      <td>Аурелия</td>\n",
       "      <td>Чижова</td>\n",
       "      <td>2018-07-14</td>\n",
       "      <td>ultra</td>\n",
       "    </tr>\n",
       "    <tr>\n",
       "      <th>367</th>\n",
       "      <td>1367</td>\n",
       "      <td>43</td>\n",
       "      <td>2018-11-16</td>\n",
       "      <td>Москва</td>\n",
       "      <td>Всеволод</td>\n",
       "      <td>Антоненко</td>\n",
       "      <td>2018-09-14</td>\n",
       "      <td>ultra</td>\n",
       "    </tr>\n",
       "    <tr>\n",
       "      <th>34</th>\n",
       "      <td>1034</td>\n",
       "      <td>66</td>\n",
       "      <td>2018-11-21</td>\n",
       "      <td>Вологда</td>\n",
       "      <td>Святослав</td>\n",
       "      <td>Бондарев</td>\n",
       "      <td>2018-08-26</td>\n",
       "      <td>smart</td>\n",
       "    </tr>\n",
       "    <tr>\n",
       "      <th>293</th>\n",
       "      <td>1293</td>\n",
       "      <td>39</td>\n",
       "      <td>2018-11-22</td>\n",
       "      <td>Санкт-Петербург</td>\n",
       "      <td>Эдита</td>\n",
       "      <td>Дубинина</td>\n",
       "      <td>2018-09-05</td>\n",
       "      <td>smart</td>\n",
       "    </tr>\n",
       "    <tr>\n",
       "      <th>353</th>\n",
       "      <td>1353</td>\n",
       "      <td>57</td>\n",
       "      <td>2018-11-26</td>\n",
       "      <td>Санкт-Петербург</td>\n",
       "      <td>Доминика</td>\n",
       "      <td>Анищенко</td>\n",
       "      <td>2018-04-22</td>\n",
       "      <td>smart</td>\n",
       "    </tr>\n",
       "    <tr>\n",
       "      <th>355</th>\n",
       "      <td>1355</td>\n",
       "      <td>33</td>\n",
       "      <td>2018-11-27</td>\n",
       "      <td>Киров</td>\n",
       "      <td>Сара</td>\n",
       "      <td>Абрикосова</td>\n",
       "      <td>2018-07-21</td>\n",
       "      <td>smart</td>\n",
       "    </tr>\n",
       "    <tr>\n",
       "      <th>232</th>\n",
       "      <td>1232</td>\n",
       "      <td>60</td>\n",
       "      <td>2018-11-30</td>\n",
       "      <td>Томск</td>\n",
       "      <td>Виктория</td>\n",
       "      <td>Ларина</td>\n",
       "      <td>2018-10-07</td>\n",
       "      <td>smart</td>\n",
       "    </tr>\n",
       "    <tr>\n",
       "      <th>90</th>\n",
       "      <td>1090</td>\n",
       "      <td>54</td>\n",
       "      <td>2018-12-03</td>\n",
       "      <td>Череповец</td>\n",
       "      <td>Екатерина</td>\n",
       "      <td>Астафьева</td>\n",
       "      <td>2018-10-11</td>\n",
       "      <td>ultra</td>\n",
       "    </tr>\n",
       "    <tr>\n",
       "      <th>201</th>\n",
       "      <td>1201</td>\n",
       "      <td>32</td>\n",
       "      <td>2018-12-03</td>\n",
       "      <td>Москва</td>\n",
       "      <td>Геннадий</td>\n",
       "      <td>Веселов</td>\n",
       "      <td>2018-08-06</td>\n",
       "      <td>ultra</td>\n",
       "    </tr>\n",
       "    <tr>\n",
       "      <th>65</th>\n",
       "      <td>1065</td>\n",
       "      <td>53</td>\n",
       "      <td>2018-12-09</td>\n",
       "      <td>Москва</td>\n",
       "      <td>Роза</td>\n",
       "      <td>Игнатова</td>\n",
       "      <td>2018-03-08</td>\n",
       "      <td>smart</td>\n",
       "    </tr>\n",
       "    <tr>\n",
       "      <th>62</th>\n",
       "      <td>1062</td>\n",
       "      <td>24</td>\n",
       "      <td>2018-12-09</td>\n",
       "      <td>Москва</td>\n",
       "      <td>Александр</td>\n",
       "      <td>Коршунов</td>\n",
       "      <td>2018-11-16</td>\n",
       "      <td>smart</td>\n",
       "    </tr>\n",
       "    <tr>\n",
       "      <th>63</th>\n",
       "      <td>1063</td>\n",
       "      <td>45</td>\n",
       "      <td>2018-12-11</td>\n",
       "      <td>Тула</td>\n",
       "      <td>Таира</td>\n",
       "      <td>Климова</td>\n",
       "      <td>2018-04-12</td>\n",
       "      <td>ultra</td>\n",
       "    </tr>\n",
       "    <tr>\n",
       "      <th>416</th>\n",
       "      <td>1416</td>\n",
       "      <td>50</td>\n",
       "      <td>2018-12-14</td>\n",
       "      <td>Санкт-Петербург</td>\n",
       "      <td>Валерия</td>\n",
       "      <td>Ёлчина</td>\n",
       "      <td>2018-07-16</td>\n",
       "      <td>ultra</td>\n",
       "    </tr>\n",
       "    <tr>\n",
       "      <th>163</th>\n",
       "      <td>1163</td>\n",
       "      <td>21</td>\n",
       "      <td>2018-12-16</td>\n",
       "      <td>Москва</td>\n",
       "      <td>Лев</td>\n",
       "      <td>Вишневский</td>\n",
       "      <td>2018-11-03</td>\n",
       "      <td>smart</td>\n",
       "    </tr>\n",
       "    <tr>\n",
       "      <th>20</th>\n",
       "      <td>1020</td>\n",
       "      <td>59</td>\n",
       "      <td>2018-12-18</td>\n",
       "      <td>Чита</td>\n",
       "      <td>Тала</td>\n",
       "      <td>Костина</td>\n",
       "      <td>2018-10-22</td>\n",
       "      <td>smart</td>\n",
       "    </tr>\n",
       "    <tr>\n",
       "      <th>206</th>\n",
       "      <td>1206</td>\n",
       "      <td>35</td>\n",
       "      <td>2018-12-20</td>\n",
       "      <td>Москва</td>\n",
       "      <td>Елена</td>\n",
       "      <td>Шарапова</td>\n",
       "      <td>2018-11-03</td>\n",
       "      <td>smart</td>\n",
       "    </tr>\n",
       "    <tr>\n",
       "      <th>242</th>\n",
       "      <td>1242</td>\n",
       "      <td>39</td>\n",
       "      <td>2018-12-21</td>\n",
       "      <td>Хабаровск</td>\n",
       "      <td>Радим</td>\n",
       "      <td>Федосеев</td>\n",
       "      <td>2018-11-18</td>\n",
       "      <td>smart</td>\n",
       "    </tr>\n",
       "    <tr>\n",
       "      <th>422</th>\n",
       "      <td>1422</td>\n",
       "      <td>60</td>\n",
       "      <td>2018-12-21</td>\n",
       "      <td>Москва</td>\n",
       "      <td>Клара</td>\n",
       "      <td>Устинова</td>\n",
       "      <td>2018-10-12</td>\n",
       "      <td>smart</td>\n",
       "    </tr>\n",
       "    <tr>\n",
       "      <th>128</th>\n",
       "      <td>1128</td>\n",
       "      <td>51</td>\n",
       "      <td>2018-12-23</td>\n",
       "      <td>Волжский</td>\n",
       "      <td>Ксения</td>\n",
       "      <td>Агаева</td>\n",
       "      <td>2018-12-15</td>\n",
       "      <td>ultra</td>\n",
       "    </tr>\n",
       "    <tr>\n",
       "      <th>438</th>\n",
       "      <td>1438</td>\n",
       "      <td>24</td>\n",
       "      <td>2018-12-24</td>\n",
       "      <td>Екатеринбург</td>\n",
       "      <td>Нателла</td>\n",
       "      <td>Бородина</td>\n",
       "      <td>2018-10-05</td>\n",
       "      <td>smart</td>\n",
       "    </tr>\n",
       "    <tr>\n",
       "      <th>399</th>\n",
       "      <td>1399</td>\n",
       "      <td>31</td>\n",
       "      <td>2018-12-25</td>\n",
       "      <td>Уфа</td>\n",
       "      <td>Алиса</td>\n",
       "      <td>Абрашина</td>\n",
       "      <td>2018-11-06</td>\n",
       "      <td>ultra</td>\n",
       "    </tr>\n",
       "    <tr>\n",
       "      <th>64</th>\n",
       "      <td>1064</td>\n",
       "      <td>55</td>\n",
       "      <td>2018-12-26</td>\n",
       "      <td>Якутск</td>\n",
       "      <td>Динара</td>\n",
       "      <td>Алфеева</td>\n",
       "      <td>2018-03-17</td>\n",
       "      <td>smart</td>\n",
       "    </tr>\n",
       "    <tr>\n",
       "      <th>371</th>\n",
       "      <td>1371</td>\n",
       "      <td>50</td>\n",
       "      <td>2018-12-30</td>\n",
       "      <td>Омск</td>\n",
       "      <td>Ириней</td>\n",
       "      <td>Трофимов</td>\n",
       "      <td>2018-12-25</td>\n",
       "      <td>smart</td>\n",
       "    </tr>\n",
       "  </tbody>\n",
       "</table>\n",
       "</div>"
      ],
      "text/plain": [
       "     user_id  age  churn_date              city  first_name   last_name  \\\n",
       "254     1254   75  2018-08-17            Москва  Александра    Сухарева   \n",
       "71      1071   20  2018-08-31              Омск      Гектор     Чумаков   \n",
       "255     1255   40  2018-09-02           Саранск    Серафима  Пономарева   \n",
       "480     1480   29  2018-09-26       Новокузнецк      Гелена  Емельянова   \n",
       "392     1392   54  2018-09-27         Челябинск        Алла    Беликова   \n",
       "50      1050   44  2018-10-03            Тюмень      Рузана    Аничкина   \n",
       "191     1191   64  2018-10-03  Набережные Челны   Александр   Акиндинов   \n",
       "265     1265   24  2018-10-04              Омск       Радим      Адамов   \n",
       "19      1019   63  2018-10-05             Томск     Игнатий     Круглов   \n",
       "51      1051   37  2018-10-14            Москва    Кристина      Сомова   \n",
       "56      1056   73  2018-10-14           Иркутск    Радислав    Артемьев   \n",
       "498     1498   68  2018-10-25       Владикавказ    Всеволод     Акимчин   \n",
       "370     1370   48  2018-10-27      Новороссийск      Гектор      Сысоев   \n",
       "343     1343   30  2018-10-28          Кострома       Анита  Верещагина   \n",
       "161     1161   65  2018-11-07  Набережные Челны     Татьяна  Голованова   \n",
       "271     1271   69  2018-11-13         Челябинск     Аурелия      Чижова   \n",
       "367     1367   43  2018-11-16            Москва    Всеволод   Антоненко   \n",
       "34      1034   66  2018-11-21           Вологда   Святослав    Бондарев   \n",
       "293     1293   39  2018-11-22   Санкт-Петербург       Эдита    Дубинина   \n",
       "353     1353   57  2018-11-26   Санкт-Петербург    Доминика    Анищенко   \n",
       "355     1355   33  2018-11-27             Киров        Сара  Абрикосова   \n",
       "232     1232   60  2018-11-30             Томск    Виктория      Ларина   \n",
       "90      1090   54  2018-12-03         Череповец   Екатерина   Астафьева   \n",
       "201     1201   32  2018-12-03            Москва    Геннадий     Веселов   \n",
       "65      1065   53  2018-12-09            Москва        Роза    Игнатова   \n",
       "62      1062   24  2018-12-09            Москва   Александр    Коршунов   \n",
       "63      1063   45  2018-12-11              Тула       Таира     Климова   \n",
       "416     1416   50  2018-12-14   Санкт-Петербург     Валерия      Ёлчина   \n",
       "163     1163   21  2018-12-16            Москва         Лев  Вишневский   \n",
       "20      1020   59  2018-12-18              Чита        Тала     Костина   \n",
       "206     1206   35  2018-12-20            Москва       Елена    Шарапова   \n",
       "242     1242   39  2018-12-21         Хабаровск       Радим    Федосеев   \n",
       "422     1422   60  2018-12-21            Москва       Клара    Устинова   \n",
       "128     1128   51  2018-12-23          Волжский      Ксения      Агаева   \n",
       "438     1438   24  2018-12-24      Екатеринбург     Нателла    Бородина   \n",
       "399     1399   31  2018-12-25               Уфа       Алиса    Абрашина   \n",
       "64      1064   55  2018-12-26            Якутск      Динара     Алфеева   \n",
       "371     1371   50  2018-12-30              Омск      Ириней    Трофимов   \n",
       "\n",
       "       reg_date tariff  \n",
       "254  2018-01-04  ultra  \n",
       "71   2018-01-09  smart  \n",
       "255  2018-02-19  ultra  \n",
       "480  2018-02-14  smart  \n",
       "392  2018-02-27  ultra  \n",
       "50   2018-06-16  ultra  \n",
       "191  2018-06-30  smart  \n",
       "265  2018-06-24  ultra  \n",
       "19   2018-05-16  ultra  \n",
       "51   2018-05-28  smart  \n",
       "56   2018-04-13  smart  \n",
       "498  2018-07-19  smart  \n",
       "370  2018-02-06  smart  \n",
       "343  2018-08-15  ultra  \n",
       "161  2018-07-03  smart  \n",
       "271  2018-07-14  ultra  \n",
       "367  2018-09-14  ultra  \n",
       "34   2018-08-26  smart  \n",
       "293  2018-09-05  smart  \n",
       "353  2018-04-22  smart  \n",
       "355  2018-07-21  smart  \n",
       "232  2018-10-07  smart  \n",
       "90   2018-10-11  ultra  \n",
       "201  2018-08-06  ultra  \n",
       "65   2018-03-08  smart  \n",
       "62   2018-11-16  smart  \n",
       "63   2018-04-12  ultra  \n",
       "416  2018-07-16  ultra  \n",
       "163  2018-11-03  smart  \n",
       "20   2018-10-22  smart  \n",
       "206  2018-11-03  smart  \n",
       "242  2018-11-18  smart  \n",
       "422  2018-10-12  smart  \n",
       "128  2018-12-15  ultra  \n",
       "438  2018-10-05  smart  \n",
       "399  2018-11-06  ultra  \n",
       "64   2018-03-17  smart  \n",
       "371  2018-12-25  smart  "
      ]
     },
     "execution_count": 5,
     "metadata": {},
     "output_type": "execute_result"
    }
   ],
   "source": [
    "users_na = users.dropna()\n",
    "users_na.sort_values(by = 'churn_date')"
   ]
  },
  {
   "cell_type": "code",
   "execution_count": 6,
   "metadata": {},
   "outputs": [
    {
     "data": {
      "text/html": [
       "<div>\n",
       "<style scoped>\n",
       "    .dataframe tbody tr th:only-of-type {\n",
       "        vertical-align: middle;\n",
       "    }\n",
       "\n",
       "    .dataframe tbody tr th {\n",
       "        vertical-align: top;\n",
       "    }\n",
       "\n",
       "    .dataframe thead th {\n",
       "        text-align: right;\n",
       "    }\n",
       "</style>\n",
       "<table border=\"1\" class=\"dataframe\">\n",
       "  <thead>\n",
       "    <tr style=\"text-align: right;\">\n",
       "      <th></th>\n",
       "      <th>user_id</th>\n",
       "      <th>age</th>\n",
       "      <th>churn_date</th>\n",
       "      <th>city</th>\n",
       "      <th>first_name</th>\n",
       "      <th>last_name</th>\n",
       "      <th>reg_date</th>\n",
       "      <th>tariff</th>\n",
       "    </tr>\n",
       "  </thead>\n",
       "  <tbody>\n",
       "    <tr>\n",
       "      <th>count</th>\n",
       "      <td>500.00</td>\n",
       "      <td>500.00</td>\n",
       "      <td>38</td>\n",
       "      <td>500</td>\n",
       "      <td>500</td>\n",
       "      <td>500</td>\n",
       "      <td>500</td>\n",
       "      <td>500</td>\n",
       "    </tr>\n",
       "    <tr>\n",
       "      <th>unique</th>\n",
       "      <td>nan</td>\n",
       "      <td>nan</td>\n",
       "      <td>33</td>\n",
       "      <td>76</td>\n",
       "      <td>246</td>\n",
       "      <td>419</td>\n",
       "      <td>270</td>\n",
       "      <td>2</td>\n",
       "    </tr>\n",
       "    <tr>\n",
       "      <th>top</th>\n",
       "      <td>nan</td>\n",
       "      <td>nan</td>\n",
       "      <td>2018-12-09</td>\n",
       "      <td>Москва</td>\n",
       "      <td>Радим</td>\n",
       "      <td>Андреенко</td>\n",
       "      <td>2018-05-28</td>\n",
       "      <td>smart</td>\n",
       "    </tr>\n",
       "    <tr>\n",
       "      <th>freq</th>\n",
       "      <td>nan</td>\n",
       "      <td>nan</td>\n",
       "      <td>2</td>\n",
       "      <td>99</td>\n",
       "      <td>6</td>\n",
       "      <td>5</td>\n",
       "      <td>8</td>\n",
       "      <td>351</td>\n",
       "    </tr>\n",
       "    <tr>\n",
       "      <th>mean</th>\n",
       "      <td>1,249.50</td>\n",
       "      <td>46.59</td>\n",
       "      <td>NaN</td>\n",
       "      <td>NaN</td>\n",
       "      <td>NaN</td>\n",
       "      <td>NaN</td>\n",
       "      <td>NaN</td>\n",
       "      <td>NaN</td>\n",
       "    </tr>\n",
       "    <tr>\n",
       "      <th>std</th>\n",
       "      <td>144.48</td>\n",
       "      <td>16.67</td>\n",
       "      <td>NaN</td>\n",
       "      <td>NaN</td>\n",
       "      <td>NaN</td>\n",
       "      <td>NaN</td>\n",
       "      <td>NaN</td>\n",
       "      <td>NaN</td>\n",
       "    </tr>\n",
       "    <tr>\n",
       "      <th>min</th>\n",
       "      <td>1,000.00</td>\n",
       "      <td>18.00</td>\n",
       "      <td>NaN</td>\n",
       "      <td>NaN</td>\n",
       "      <td>NaN</td>\n",
       "      <td>NaN</td>\n",
       "      <td>NaN</td>\n",
       "      <td>NaN</td>\n",
       "    </tr>\n",
       "    <tr>\n",
       "      <th>25%</th>\n",
       "      <td>1,124.75</td>\n",
       "      <td>32.00</td>\n",
       "      <td>NaN</td>\n",
       "      <td>NaN</td>\n",
       "      <td>NaN</td>\n",
       "      <td>NaN</td>\n",
       "      <td>NaN</td>\n",
       "      <td>NaN</td>\n",
       "    </tr>\n",
       "    <tr>\n",
       "      <th>50%</th>\n",
       "      <td>1,249.50</td>\n",
       "      <td>46.00</td>\n",
       "      <td>NaN</td>\n",
       "      <td>NaN</td>\n",
       "      <td>NaN</td>\n",
       "      <td>NaN</td>\n",
       "      <td>NaN</td>\n",
       "      <td>NaN</td>\n",
       "    </tr>\n",
       "    <tr>\n",
       "      <th>75%</th>\n",
       "      <td>1,374.25</td>\n",
       "      <td>62.00</td>\n",
       "      <td>NaN</td>\n",
       "      <td>NaN</td>\n",
       "      <td>NaN</td>\n",
       "      <td>NaN</td>\n",
       "      <td>NaN</td>\n",
       "      <td>NaN</td>\n",
       "    </tr>\n",
       "    <tr>\n",
       "      <th>max</th>\n",
       "      <td>1,499.00</td>\n",
       "      <td>75.00</td>\n",
       "      <td>NaN</td>\n",
       "      <td>NaN</td>\n",
       "      <td>NaN</td>\n",
       "      <td>NaN</td>\n",
       "      <td>NaN</td>\n",
       "      <td>NaN</td>\n",
       "    </tr>\n",
       "  </tbody>\n",
       "</table>\n",
       "</div>"
      ],
      "text/plain": [
       "        user_id    age  churn_date    city first_name  last_name    reg_date  \\\n",
       "count    500.00 500.00          38     500        500        500         500   \n",
       "unique      nan    nan          33      76        246        419         270   \n",
       "top         nan    nan  2018-12-09  Москва      Радим  Андреенко  2018-05-28   \n",
       "freq        nan    nan           2      99          6          5           8   \n",
       "mean   1,249.50  46.59         NaN     NaN        NaN        NaN         NaN   \n",
       "std      144.48  16.67         NaN     NaN        NaN        NaN         NaN   \n",
       "min    1,000.00  18.00         NaN     NaN        NaN        NaN         NaN   \n",
       "25%    1,124.75  32.00         NaN     NaN        NaN        NaN         NaN   \n",
       "50%    1,249.50  46.00         NaN     NaN        NaN        NaN         NaN   \n",
       "75%    1,374.25  62.00         NaN     NaN        NaN        NaN         NaN   \n",
       "max    1,499.00  75.00         NaN     NaN        NaN        NaN         NaN   \n",
       "\n",
       "       tariff  \n",
       "count     500  \n",
       "unique      2  \n",
       "top     smart  \n",
       "freq      351  \n",
       "mean      NaN  \n",
       "std       NaN  \n",
       "min       NaN  \n",
       "25%       NaN  \n",
       "50%       NaN  \n",
       "75%       NaN  \n",
       "max       NaN  "
      ]
     },
     "execution_count": 6,
     "metadata": {},
     "output_type": "execute_result"
    }
   ],
   "source": [
    "users.describe(include = 'all')"
   ]
  },
  {
   "cell_type": "markdown",
   "metadata": {},
   "source": [
    "### Вывод:\n",
    "В выборке содержаться данные 500 пользователей и 76 городов. Пропуски обнаружены в столбце 'churn_date' и согласно ТЗ говорят о том, что на момент выгрузки договор с пользователем действовал. **Заменим  пропуски в 'churn_date' крайней датой 2018 года**. Так же **изменим тип столбцов 'churn_date' и 'reg_date' на date**"
   ]
  },
  {
   "cell_type": "markdown",
   "metadata": {},
   "source": [
    "## tariffs"
   ]
  },
  {
   "cell_type": "code",
   "execution_count": 7,
   "metadata": {},
   "outputs": [
    {
     "data": {
      "text/html": [
       "<div>\n",
       "<style scoped>\n",
       "    .dataframe tbody tr th:only-of-type {\n",
       "        vertical-align: middle;\n",
       "    }\n",
       "\n",
       "    .dataframe tbody tr th {\n",
       "        vertical-align: top;\n",
       "    }\n",
       "\n",
       "    .dataframe thead th {\n",
       "        text-align: right;\n",
       "    }\n",
       "</style>\n",
       "<table border=\"1\" class=\"dataframe\">\n",
       "  <thead>\n",
       "    <tr style=\"text-align: right;\">\n",
       "      <th></th>\n",
       "      <th>messages_included</th>\n",
       "      <th>mb_per_month_included</th>\n",
       "      <th>minutes_included</th>\n",
       "      <th>rub_monthly_fee</th>\n",
       "      <th>rub_per_gb</th>\n",
       "      <th>rub_per_message</th>\n",
       "      <th>rub_per_minute</th>\n",
       "      <th>tariff_name</th>\n",
       "    </tr>\n",
       "  </thead>\n",
       "  <tbody>\n",
       "    <tr>\n",
       "      <th>0</th>\n",
       "      <td>50</td>\n",
       "      <td>15360</td>\n",
       "      <td>500</td>\n",
       "      <td>550</td>\n",
       "      <td>200</td>\n",
       "      <td>3</td>\n",
       "      <td>3</td>\n",
       "      <td>smart</td>\n",
       "    </tr>\n",
       "    <tr>\n",
       "      <th>1</th>\n",
       "      <td>1000</td>\n",
       "      <td>30720</td>\n",
       "      <td>3000</td>\n",
       "      <td>1950</td>\n",
       "      <td>150</td>\n",
       "      <td>1</td>\n",
       "      <td>1</td>\n",
       "      <td>ultra</td>\n",
       "    </tr>\n",
       "  </tbody>\n",
       "</table>\n",
       "</div>"
      ],
      "text/plain": [
       "   messages_included  mb_per_month_included  minutes_included  \\\n",
       "0                 50                  15360               500   \n",
       "1               1000                  30720              3000   \n",
       "\n",
       "   rub_monthly_fee  rub_per_gb  rub_per_message  rub_per_minute tariff_name  \n",
       "0              550         200                3               3       smart  \n",
       "1             1950         150                1               1       ultra  "
      ]
     },
     "execution_count": 7,
     "metadata": {},
     "output_type": "execute_result"
    }
   ],
   "source": [
    "tariffs"
   ]
  },
  {
   "cell_type": "markdown",
   "metadata": {},
   "source": [
    "### Вывод:\n",
    "Данные соответствуют условиям ТЗ."
   ]
  },
  {
   "cell_type": "markdown",
   "metadata": {},
   "source": [
    "## calls"
   ]
  },
  {
   "cell_type": "code",
   "execution_count": 8,
   "metadata": {},
   "outputs": [
    {
     "name": "stdout",
     "output_type": "stream",
     "text": [
      "<class 'pandas.core.frame.DataFrame'>\n",
      "RangeIndex: 202607 entries, 0 to 202606\n",
      "Data columns (total 4 columns):\n",
      " #   Column     Non-Null Count   Dtype  \n",
      "---  ------     --------------   -----  \n",
      " 0   id         202607 non-null  object \n",
      " 1   call_date  202607 non-null  object \n",
      " 2   duration   202607 non-null  float64\n",
      " 3   user_id    202607 non-null  int64  \n",
      "dtypes: float64(1), int64(1), object(2)\n",
      "memory usage: 6.2+ MB\n"
     ]
    }
   ],
   "source": [
    "calls.info()"
   ]
  },
  {
   "cell_type": "code",
   "execution_count": 9,
   "metadata": {},
   "outputs": [
    {
     "data": {
      "text/html": [
       "<div>\n",
       "<style scoped>\n",
       "    .dataframe tbody tr th:only-of-type {\n",
       "        vertical-align: middle;\n",
       "    }\n",
       "\n",
       "    .dataframe tbody tr th {\n",
       "        vertical-align: top;\n",
       "    }\n",
       "\n",
       "    .dataframe thead th {\n",
       "        text-align: right;\n",
       "    }\n",
       "</style>\n",
       "<table border=\"1\" class=\"dataframe\">\n",
       "  <thead>\n",
       "    <tr style=\"text-align: right;\">\n",
       "      <th></th>\n",
       "      <th>id</th>\n",
       "      <th>call_date</th>\n",
       "      <th>duration</th>\n",
       "      <th>user_id</th>\n",
       "    </tr>\n",
       "  </thead>\n",
       "  <tbody>\n",
       "    <tr>\n",
       "      <th>198185</th>\n",
       "      <td>1486_18</td>\n",
       "      <td>2018-11-20</td>\n",
       "      <td>2.11</td>\n",
       "      <td>1486</td>\n",
       "    </tr>\n",
       "    <tr>\n",
       "      <th>199138</th>\n",
       "      <td>1491_97</td>\n",
       "      <td>2018-12-01</td>\n",
       "      <td>12.54</td>\n",
       "      <td>1491</td>\n",
       "    </tr>\n",
       "    <tr>\n",
       "      <th>31302</th>\n",
       "      <td>1078_646</td>\n",
       "      <td>2018-10-10</td>\n",
       "      <td>12.92</td>\n",
       "      <td>1078</td>\n",
       "    </tr>\n",
       "  </tbody>\n",
       "</table>\n",
       "</div>"
      ],
      "text/plain": [
       "              id   call_date  duration  user_id\n",
       "198185   1486_18  2018-11-20      2.11     1486\n",
       "199138   1491_97  2018-12-01     12.54     1491\n",
       "31302   1078_646  2018-10-10     12.92     1078"
      ]
     },
     "execution_count": 9,
     "metadata": {},
     "output_type": "execute_result"
    }
   ],
   "source": [
    "calls.sample(3)"
   ]
  },
  {
   "cell_type": "code",
   "execution_count": 10,
   "metadata": {},
   "outputs": [
    {
     "data": {
      "text/html": [
       "<div>\n",
       "<style scoped>\n",
       "    .dataframe tbody tr th:only-of-type {\n",
       "        vertical-align: middle;\n",
       "    }\n",
       "\n",
       "    .dataframe tbody tr th {\n",
       "        vertical-align: top;\n",
       "    }\n",
       "\n",
       "    .dataframe thead th {\n",
       "        text-align: right;\n",
       "    }\n",
       "</style>\n",
       "<table border=\"1\" class=\"dataframe\">\n",
       "  <thead>\n",
       "    <tr style=\"text-align: right;\">\n",
       "      <th></th>\n",
       "      <th>id</th>\n",
       "      <th>call_date</th>\n",
       "      <th>duration</th>\n",
       "      <th>user_id</th>\n",
       "    </tr>\n",
       "  </thead>\n",
       "  <tbody>\n",
       "    <tr>\n",
       "      <th>count</th>\n",
       "      <td>202607</td>\n",
       "      <td>202607</td>\n",
       "      <td>202,607.00</td>\n",
       "      <td>202,607.00</td>\n",
       "    </tr>\n",
       "    <tr>\n",
       "      <th>unique</th>\n",
       "      <td>202607</td>\n",
       "      <td>365</td>\n",
       "      <td>nan</td>\n",
       "      <td>nan</td>\n",
       "    </tr>\n",
       "    <tr>\n",
       "      <th>top</th>\n",
       "      <td>1102_4</td>\n",
       "      <td>2018-12-31</td>\n",
       "      <td>nan</td>\n",
       "      <td>nan</td>\n",
       "    </tr>\n",
       "    <tr>\n",
       "      <th>freq</th>\n",
       "      <td>1</td>\n",
       "      <td>1435</td>\n",
       "      <td>nan</td>\n",
       "      <td>nan</td>\n",
       "    </tr>\n",
       "    <tr>\n",
       "      <th>mean</th>\n",
       "      <td>NaN</td>\n",
       "      <td>NaN</td>\n",
       "      <td>6.76</td>\n",
       "      <td>1,253.94</td>\n",
       "    </tr>\n",
       "    <tr>\n",
       "      <th>std</th>\n",
       "      <td>NaN</td>\n",
       "      <td>NaN</td>\n",
       "      <td>5.84</td>\n",
       "      <td>144.72</td>\n",
       "    </tr>\n",
       "    <tr>\n",
       "      <th>min</th>\n",
       "      <td>NaN</td>\n",
       "      <td>NaN</td>\n",
       "      <td>0.00</td>\n",
       "      <td>1,000.00</td>\n",
       "    </tr>\n",
       "    <tr>\n",
       "      <th>25%</th>\n",
       "      <td>NaN</td>\n",
       "      <td>NaN</td>\n",
       "      <td>1.30</td>\n",
       "      <td>1,126.00</td>\n",
       "    </tr>\n",
       "    <tr>\n",
       "      <th>50%</th>\n",
       "      <td>NaN</td>\n",
       "      <td>NaN</td>\n",
       "      <td>6.00</td>\n",
       "      <td>1,260.00</td>\n",
       "    </tr>\n",
       "    <tr>\n",
       "      <th>75%</th>\n",
       "      <td>NaN</td>\n",
       "      <td>NaN</td>\n",
       "      <td>10.70</td>\n",
       "      <td>1,379.00</td>\n",
       "    </tr>\n",
       "    <tr>\n",
       "      <th>max</th>\n",
       "      <td>NaN</td>\n",
       "      <td>NaN</td>\n",
       "      <td>38.00</td>\n",
       "      <td>1,499.00</td>\n",
       "    </tr>\n",
       "  </tbody>\n",
       "</table>\n",
       "</div>"
      ],
      "text/plain": [
       "            id   call_date   duration    user_id\n",
       "count   202607      202607 202,607.00 202,607.00\n",
       "unique  202607         365        nan        nan\n",
       "top     1102_4  2018-12-31        nan        nan\n",
       "freq         1        1435        nan        nan\n",
       "mean       NaN         NaN       6.76   1,253.94\n",
       "std        NaN         NaN       5.84     144.72\n",
       "min        NaN         NaN       0.00   1,000.00\n",
       "25%        NaN         NaN       1.30   1,126.00\n",
       "50%        NaN         NaN       6.00   1,260.00\n",
       "75%        NaN         NaN      10.70   1,379.00\n",
       "max        NaN         NaN      38.00   1,499.00"
      ]
     },
     "execution_count": 10,
     "metadata": {},
     "output_type": "execute_result"
    }
   ],
   "source": [
    "calls.describe(include = 'all')"
   ]
  },
  {
   "cell_type": "markdown",
   "metadata": {},
   "source": [
    "### Вывод:\n",
    "Данные содержат 202.6 тысяч строк, **пропуски в данных отсутствуют**, значения столбца 'id' полностью уникальны. Количество уникальных значений в столбце 'call_date' = 365, учитывая, что 2018 невысокосный год, наша выборка охватывает все его 365 дней. \n",
    "\n",
    "**Замены типа данных на date требует столбец 'call_date'**. \n",
    "\n",
    "Учитывая что «Мегалайн» всегда округляет вверх значения минут, нужно провести данное округление вверх до целых и изменить **тип данных столбца 'duration' на int**. Так же необходимо провести **анализ распределения столбца 'duration'**."
   ]
  },
  {
   "cell_type": "markdown",
   "metadata": {},
   "source": [
    "## internet"
   ]
  },
  {
   "cell_type": "code",
   "execution_count": 11,
   "metadata": {},
   "outputs": [
    {
     "name": "stdout",
     "output_type": "stream",
     "text": [
      "<class 'pandas.core.frame.DataFrame'>\n",
      "RangeIndex: 149396 entries, 0 to 149395\n",
      "Data columns (total 5 columns):\n",
      " #   Column        Non-Null Count   Dtype  \n",
      "---  ------        --------------   -----  \n",
      " 0   Unnamed: 0    149396 non-null  int64  \n",
      " 1   id            149396 non-null  object \n",
      " 2   mb_used       149396 non-null  float64\n",
      " 3   session_date  149396 non-null  object \n",
      " 4   user_id       149396 non-null  int64  \n",
      "dtypes: float64(1), int64(2), object(2)\n",
      "memory usage: 5.7+ MB\n"
     ]
    }
   ],
   "source": [
    "internet.info()"
   ]
  },
  {
   "cell_type": "code",
   "execution_count": 12,
   "metadata": {},
   "outputs": [
    {
     "data": {
      "text/html": [
       "<div>\n",
       "<style scoped>\n",
       "    .dataframe tbody tr th:only-of-type {\n",
       "        vertical-align: middle;\n",
       "    }\n",
       "\n",
       "    .dataframe tbody tr th {\n",
       "        vertical-align: top;\n",
       "    }\n",
       "\n",
       "    .dataframe thead th {\n",
       "        text-align: right;\n",
       "    }\n",
       "</style>\n",
       "<table border=\"1\" class=\"dataframe\">\n",
       "  <thead>\n",
       "    <tr style=\"text-align: right;\">\n",
       "      <th></th>\n",
       "      <th>Unnamed: 0</th>\n",
       "      <th>id</th>\n",
       "      <th>mb_used</th>\n",
       "      <th>session_date</th>\n",
       "      <th>user_id</th>\n",
       "    </tr>\n",
       "  </thead>\n",
       "  <tbody>\n",
       "    <tr>\n",
       "      <th>58626</th>\n",
       "      <td>58626</td>\n",
       "      <td>1197_261</td>\n",
       "      <td>401.62</td>\n",
       "      <td>2018-08-06</td>\n",
       "      <td>1197</td>\n",
       "    </tr>\n",
       "    <tr>\n",
       "      <th>54170</th>\n",
       "      <td>54170</td>\n",
       "      <td>1180_661</td>\n",
       "      <td>204.75</td>\n",
       "      <td>2018-05-19</td>\n",
       "      <td>1180</td>\n",
       "    </tr>\n",
       "    <tr>\n",
       "      <th>20085</th>\n",
       "      <td>20085</td>\n",
       "      <td>1067_186</td>\n",
       "      <td>250.19</td>\n",
       "      <td>2018-05-21</td>\n",
       "      <td>1067</td>\n",
       "    </tr>\n",
       "  </tbody>\n",
       "</table>\n",
       "</div>"
      ],
      "text/plain": [
       "       Unnamed: 0        id  mb_used session_date  user_id\n",
       "58626       58626  1197_261   401.62   2018-08-06     1197\n",
       "54170       54170  1180_661   204.75   2018-05-19     1180\n",
       "20085       20085  1067_186   250.19   2018-05-21     1067"
      ]
     },
     "execution_count": 12,
     "metadata": {},
     "output_type": "execute_result"
    }
   ],
   "source": [
    "internet.sample(3)"
   ]
  },
  {
   "cell_type": "code",
   "execution_count": 13,
   "metadata": {},
   "outputs": [
    {
     "data": {
      "text/html": [
       "<div>\n",
       "<style scoped>\n",
       "    .dataframe tbody tr th:only-of-type {\n",
       "        vertical-align: middle;\n",
       "    }\n",
       "\n",
       "    .dataframe tbody tr th {\n",
       "        vertical-align: top;\n",
       "    }\n",
       "\n",
       "    .dataframe thead th {\n",
       "        text-align: right;\n",
       "    }\n",
       "</style>\n",
       "<table border=\"1\" class=\"dataframe\">\n",
       "  <thead>\n",
       "    <tr style=\"text-align: right;\">\n",
       "      <th></th>\n",
       "      <th>Unnamed: 0</th>\n",
       "      <th>id</th>\n",
       "      <th>mb_used</th>\n",
       "      <th>session_date</th>\n",
       "      <th>user_id</th>\n",
       "    </tr>\n",
       "  </thead>\n",
       "  <tbody>\n",
       "    <tr>\n",
       "      <th>count</th>\n",
       "      <td>149,396.00</td>\n",
       "      <td>149396</td>\n",
       "      <td>149,396.00</td>\n",
       "      <td>149396</td>\n",
       "      <td>149,396.00</td>\n",
       "    </tr>\n",
       "    <tr>\n",
       "      <th>unique</th>\n",
       "      <td>nan</td>\n",
       "      <td>149396</td>\n",
       "      <td>nan</td>\n",
       "      <td>365</td>\n",
       "      <td>nan</td>\n",
       "    </tr>\n",
       "    <tr>\n",
       "      <th>top</th>\n",
       "      <td>nan</td>\n",
       "      <td>1102_4</td>\n",
       "      <td>nan</td>\n",
       "      <td>2018-12-31</td>\n",
       "      <td>nan</td>\n",
       "    </tr>\n",
       "    <tr>\n",
       "      <th>freq</th>\n",
       "      <td>nan</td>\n",
       "      <td>1</td>\n",
       "      <td>nan</td>\n",
       "      <td>1057</td>\n",
       "      <td>nan</td>\n",
       "    </tr>\n",
       "    <tr>\n",
       "      <th>mean</th>\n",
       "      <td>74,697.50</td>\n",
       "      <td>NaN</td>\n",
       "      <td>370.19</td>\n",
       "      <td>NaN</td>\n",
       "      <td>1,252.10</td>\n",
       "    </tr>\n",
       "    <tr>\n",
       "      <th>std</th>\n",
       "      <td>43,127.05</td>\n",
       "      <td>NaN</td>\n",
       "      <td>278.30</td>\n",
       "      <td>NaN</td>\n",
       "      <td>144.05</td>\n",
       "    </tr>\n",
       "    <tr>\n",
       "      <th>min</th>\n",
       "      <td>0.00</td>\n",
       "      <td>NaN</td>\n",
       "      <td>0.00</td>\n",
       "      <td>NaN</td>\n",
       "      <td>1,000.00</td>\n",
       "    </tr>\n",
       "    <tr>\n",
       "      <th>25%</th>\n",
       "      <td>37,348.75</td>\n",
       "      <td>NaN</td>\n",
       "      <td>138.19</td>\n",
       "      <td>NaN</td>\n",
       "      <td>1,130.00</td>\n",
       "    </tr>\n",
       "    <tr>\n",
       "      <th>50%</th>\n",
       "      <td>74,697.50</td>\n",
       "      <td>NaN</td>\n",
       "      <td>348.01</td>\n",
       "      <td>NaN</td>\n",
       "      <td>1,251.00</td>\n",
       "    </tr>\n",
       "    <tr>\n",
       "      <th>75%</th>\n",
       "      <td>112,046.25</td>\n",
       "      <td>NaN</td>\n",
       "      <td>559.55</td>\n",
       "      <td>NaN</td>\n",
       "      <td>1,380.00</td>\n",
       "    </tr>\n",
       "    <tr>\n",
       "      <th>max</th>\n",
       "      <td>149,395.00</td>\n",
       "      <td>NaN</td>\n",
       "      <td>1,724.83</td>\n",
       "      <td>NaN</td>\n",
       "      <td>1,499.00</td>\n",
       "    </tr>\n",
       "  </tbody>\n",
       "</table>\n",
       "</div>"
      ],
      "text/plain": [
       "        Unnamed: 0      id    mb_used session_date    user_id\n",
       "count   149,396.00  149396 149,396.00       149396 149,396.00\n",
       "unique         nan  149396        nan          365        nan\n",
       "top            nan  1102_4        nan   2018-12-31        nan\n",
       "freq           nan       1        nan         1057        nan\n",
       "mean     74,697.50     NaN     370.19          NaN   1,252.10\n",
       "std      43,127.05     NaN     278.30          NaN     144.05\n",
       "min           0.00     NaN       0.00          NaN   1,000.00\n",
       "25%      37,348.75     NaN     138.19          NaN   1,130.00\n",
       "50%      74,697.50     NaN     348.01          NaN   1,251.00\n",
       "75%     112,046.25     NaN     559.55          NaN   1,380.00\n",
       "max     149,395.00     NaN   1,724.83          NaN   1,499.00"
      ]
     },
     "execution_count": 13,
     "metadata": {},
     "output_type": "execute_result"
    }
   ],
   "source": [
    "internet.describe(include = 'all')"
   ]
  },
  {
   "cell_type": "markdown",
   "metadata": {},
   "source": [
    "### Вывод:\n",
    "Данные содержат 149 тысяч строк, **пропуски в данных отсутствуют**, значения столбца 'id' полностью уникальны. Количество уникальных значений в столбце 'session_date' = 365. \n",
    "\n",
    "**Замены типа данных на date требует столбец 'session_date'**. \n",
    "\n",
    "Учитывая что «Мегалайн» всегда округляет вверх значения мегабайтов, нужно провести данное округление вверх до целых и изменить **тип данных столбца 'mb_used' на int**. Так же необходимо провести **анализ распределения столбца 'mb_used'**."
   ]
  },
  {
   "cell_type": "markdown",
   "metadata": {},
   "source": [
    "## messages"
   ]
  },
  {
   "cell_type": "code",
   "execution_count": 14,
   "metadata": {},
   "outputs": [
    {
     "name": "stdout",
     "output_type": "stream",
     "text": [
      "<class 'pandas.core.frame.DataFrame'>\n",
      "RangeIndex: 123036 entries, 0 to 123035\n",
      "Data columns (total 3 columns):\n",
      " #   Column        Non-Null Count   Dtype \n",
      "---  ------        --------------   ----- \n",
      " 0   id            123036 non-null  object\n",
      " 1   message_date  123036 non-null  object\n",
      " 2   user_id       123036 non-null  int64 \n",
      "dtypes: int64(1), object(2)\n",
      "memory usage: 2.8+ MB\n"
     ]
    }
   ],
   "source": [
    "messages.info()"
   ]
  },
  {
   "cell_type": "code",
   "execution_count": 15,
   "metadata": {},
   "outputs": [
    {
     "data": {
      "text/html": [
       "<div>\n",
       "<style scoped>\n",
       "    .dataframe tbody tr th:only-of-type {\n",
       "        vertical-align: middle;\n",
       "    }\n",
       "\n",
       "    .dataframe tbody tr th {\n",
       "        vertical-align: top;\n",
       "    }\n",
       "\n",
       "    .dataframe thead th {\n",
       "        text-align: right;\n",
       "    }\n",
       "</style>\n",
       "<table border=\"1\" class=\"dataframe\">\n",
       "  <thead>\n",
       "    <tr style=\"text-align: right;\">\n",
       "      <th></th>\n",
       "      <th>id</th>\n",
       "      <th>message_date</th>\n",
       "      <th>user_id</th>\n",
       "    </tr>\n",
       "  </thead>\n",
       "  <tbody>\n",
       "    <tr>\n",
       "      <th>39980</th>\n",
       "      <td>1171_124</td>\n",
       "      <td>2018-09-19</td>\n",
       "      <td>1171</td>\n",
       "    </tr>\n",
       "    <tr>\n",
       "      <th>65328</th>\n",
       "      <td>1281_215</td>\n",
       "      <td>2018-12-07</td>\n",
       "      <td>1281</td>\n",
       "    </tr>\n",
       "    <tr>\n",
       "      <th>30289</th>\n",
       "      <td>1134_7</td>\n",
       "      <td>2018-06-23</td>\n",
       "      <td>1134</td>\n",
       "    </tr>\n",
       "    <tr>\n",
       "      <th>16868</th>\n",
       "      <td>1076_17</td>\n",
       "      <td>2018-09-18</td>\n",
       "      <td>1076</td>\n",
       "    </tr>\n",
       "    <tr>\n",
       "      <th>94543</th>\n",
       "      <td>1385_1252</td>\n",
       "      <td>2018-11-06</td>\n",
       "      <td>1385</td>\n",
       "    </tr>\n",
       "    <tr>\n",
       "      <th>113291</th>\n",
       "      <td>1459_47</td>\n",
       "      <td>2018-11-24</td>\n",
       "      <td>1459</td>\n",
       "    </tr>\n",
       "    <tr>\n",
       "      <th>25866</th>\n",
       "      <td>1106_19</td>\n",
       "      <td>2018-07-19</td>\n",
       "      <td>1106</td>\n",
       "    </tr>\n",
       "    <tr>\n",
       "      <th>41105</th>\n",
       "      <td>1174_450</td>\n",
       "      <td>2018-10-10</td>\n",
       "      <td>1174</td>\n",
       "    </tr>\n",
       "    <tr>\n",
       "      <th>33950</th>\n",
       "      <td>1147_92</td>\n",
       "      <td>2018-09-20</td>\n",
       "      <td>1147</td>\n",
       "    </tr>\n",
       "    <tr>\n",
       "      <th>86984</th>\n",
       "      <td>1358_613</td>\n",
       "      <td>2018-09-24</td>\n",
       "      <td>1358</td>\n",
       "    </tr>\n",
       "  </tbody>\n",
       "</table>\n",
       "</div>"
      ],
      "text/plain": [
       "               id message_date  user_id\n",
       "39980    1171_124   2018-09-19     1171\n",
       "65328    1281_215   2018-12-07     1281\n",
       "30289      1134_7   2018-06-23     1134\n",
       "16868     1076_17   2018-09-18     1076\n",
       "94543   1385_1252   2018-11-06     1385\n",
       "113291    1459_47   2018-11-24     1459\n",
       "25866     1106_19   2018-07-19     1106\n",
       "41105    1174_450   2018-10-10     1174\n",
       "33950     1147_92   2018-09-20     1147\n",
       "86984    1358_613   2018-09-24     1358"
      ]
     },
     "execution_count": 15,
     "metadata": {},
     "output_type": "execute_result"
    }
   ],
   "source": [
    "messages.sample(10)"
   ]
  },
  {
   "cell_type": "code",
   "execution_count": 16,
   "metadata": {},
   "outputs": [
    {
     "data": {
      "text/html": [
       "<div>\n",
       "<style scoped>\n",
       "    .dataframe tbody tr th:only-of-type {\n",
       "        vertical-align: middle;\n",
       "    }\n",
       "\n",
       "    .dataframe tbody tr th {\n",
       "        vertical-align: top;\n",
       "    }\n",
       "\n",
       "    .dataframe thead th {\n",
       "        text-align: right;\n",
       "    }\n",
       "</style>\n",
       "<table border=\"1\" class=\"dataframe\">\n",
       "  <thead>\n",
       "    <tr style=\"text-align: right;\">\n",
       "      <th></th>\n",
       "      <th>id</th>\n",
       "      <th>message_date</th>\n",
       "      <th>user_id</th>\n",
       "    </tr>\n",
       "  </thead>\n",
       "  <tbody>\n",
       "    <tr>\n",
       "      <th>count</th>\n",
       "      <td>123036</td>\n",
       "      <td>123036</td>\n",
       "      <td>123,036.00</td>\n",
       "    </tr>\n",
       "    <tr>\n",
       "      <th>unique</th>\n",
       "      <td>123036</td>\n",
       "      <td>364</td>\n",
       "      <td>nan</td>\n",
       "    </tr>\n",
       "    <tr>\n",
       "      <th>top</th>\n",
       "      <td>1102_4</td>\n",
       "      <td>2018-12-31</td>\n",
       "      <td>nan</td>\n",
       "    </tr>\n",
       "    <tr>\n",
       "      <th>freq</th>\n",
       "      <td>1</td>\n",
       "      <td>859</td>\n",
       "      <td>nan</td>\n",
       "    </tr>\n",
       "    <tr>\n",
       "      <th>mean</th>\n",
       "      <td>NaN</td>\n",
       "      <td>NaN</td>\n",
       "      <td>1,256.99</td>\n",
       "    </tr>\n",
       "    <tr>\n",
       "      <th>std</th>\n",
       "      <td>NaN</td>\n",
       "      <td>NaN</td>\n",
       "      <td>143.52</td>\n",
       "    </tr>\n",
       "    <tr>\n",
       "      <th>min</th>\n",
       "      <td>NaN</td>\n",
       "      <td>NaN</td>\n",
       "      <td>1,000.00</td>\n",
       "    </tr>\n",
       "    <tr>\n",
       "      <th>25%</th>\n",
       "      <td>NaN</td>\n",
       "      <td>NaN</td>\n",
       "      <td>1,134.00</td>\n",
       "    </tr>\n",
       "    <tr>\n",
       "      <th>50%</th>\n",
       "      <td>NaN</td>\n",
       "      <td>NaN</td>\n",
       "      <td>1,271.00</td>\n",
       "    </tr>\n",
       "    <tr>\n",
       "      <th>75%</th>\n",
       "      <td>NaN</td>\n",
       "      <td>NaN</td>\n",
       "      <td>1,381.00</td>\n",
       "    </tr>\n",
       "    <tr>\n",
       "      <th>max</th>\n",
       "      <td>NaN</td>\n",
       "      <td>NaN</td>\n",
       "      <td>1,499.00</td>\n",
       "    </tr>\n",
       "  </tbody>\n",
       "</table>\n",
       "</div>"
      ],
      "text/plain": [
       "            id message_date    user_id\n",
       "count   123036       123036 123,036.00\n",
       "unique  123036          364        nan\n",
       "top     1102_4   2018-12-31        nan\n",
       "freq         1          859        nan\n",
       "mean       NaN          NaN   1,256.99\n",
       "std        NaN          NaN     143.52\n",
       "min        NaN          NaN   1,000.00\n",
       "25%        NaN          NaN   1,134.00\n",
       "50%        NaN          NaN   1,271.00\n",
       "75%        NaN          NaN   1,381.00\n",
       "max        NaN          NaN   1,499.00"
      ]
     },
     "execution_count": 16,
     "metadata": {},
     "output_type": "execute_result"
    }
   ],
   "source": [
    "messages.describe(include = 'all')"
   ]
  },
  {
   "cell_type": "markdown",
   "metadata": {},
   "source": [
    "### Вывод:\n",
    "Данные содержат 123 тысяч строк, **пропуски в данных отсутствуют**, значения столбца 'id' полностью уникальны. Количество уникальных значений в столбце 'call_date' = 364, интересно но у нас пропал один день, рассмотрим это на следующем шаге. \n",
    "\n",
    "Заменим тип данных на date в столбец 'message_date'** и проанализируем данный столбец."
   ]
  },
  {
   "cell_type": "markdown",
   "metadata": {},
   "source": [
    "[к содержанию...](#title)"
   ]
  },
  {
   "cell_type": "markdown",
   "metadata": {},
   "source": [
    " <a name=\"preprocessing\"></a>\n",
    "# 2. Подготовка данных\n",
    "<a name=\"null\"></a>\n",
    "\n",
    "## 2.1 Предобработка\n",
    "На основании сделанных выше выводов...\n",
    "\n",
    "**Провести анализ**:\n",
    "\n",
    "    calls -столбец'duration'\n",
    "    internet - столбец 'mb_used'\n",
    "    message - 'message_date'.\n",
    "\n",
    "**Округлить вверх до целых и изменить тип данных на int**:\n",
    "\n",
    "    calls -  'duration'\n",
    "    internet - 'mb_used'\n",
    "\n",
    "**Заменить пропуски в 'churn_date' на 31.12.2018 года**.\n",
    "\n",
    "**Обработать столбцы с датами**:\n",
    "\n",
    "    users - 'churn_date' и 'reg_date'\n",
    "    calls - 'call_date'\n",
    "    internet - 'session_date'\n",
    "    message - 'message_date' \n"
   ]
  },
  {
   "cell_type": "markdown",
   "metadata": {},
   "source": [
    "### Анализ *calls.duration*"
   ]
  },
  {
   "cell_type": "code",
   "execution_count": 17,
   "metadata": {},
   "outputs": [
    {
     "data": {
      "text/plain": [
       "count   202,607.00\n",
       "mean          6.76\n",
       "std           5.84\n",
       "min           0.00\n",
       "25%           1.30\n",
       "50%           6.00\n",
       "75%          10.70\n",
       "max          38.00\n",
       "Name: duration, dtype: float64"
      ]
     },
     "execution_count": 17,
     "metadata": {},
     "output_type": "execute_result"
    }
   ],
   "source": [
    "calls.duration.describe()"
   ]
  },
  {
   "cell_type": "code",
   "execution_count": 18,
   "metadata": {},
   "outputs": [
    {
     "data": {
      "image/png": "[encoded data removed]",
      "text/plain": [
       "<Figure size 720x432 with 2 Axes>"
      ]
     },
     "metadata": {
      "needs_background": "light"
     },
     "output_type": "display_data"
    }
   ],
   "source": [
    "f, (ax_box, ax_hist) =plt.subplots(2, figsize=(10, 6), sharex=True, gridspec_kw={\"height_ratios\": (.15, .85)})\n",
    "\n",
    "sns.boxplot(calls['duration'], ax=ax_box)\n",
    "\n",
    "sns.distplot(calls['duration'],ax=ax_hist, hist=True, kde=True,  label='вся выборка')\n",
    "sns.distplot(calls.query('duration > 0')['duration'],ax=ax_hist, hist=True, kde=True, label='> 0')\n",
    "\n",
    "ax_box.set(xlabel='')\n",
    "ax_box.set(title='Распределение calls.duration')\n",
    "ax_hist.legend()\n",
    "\n",
    "\n",
    "plt.show()"
   ]
  },
  {
   "cell_type": "markdown",
   "metadata": {},
   "source": [
    "Проверим у скольки пользователей встречаются нулевые значения:"
   ]
  },
  {
   "cell_type": "code",
   "execution_count": 19,
   "metadata": {},
   "outputs": [
    {
     "data": {
      "text/plain": [
       "492"
      ]
     },
     "execution_count": 19,
     "metadata": {},
     "output_type": "execute_result"
    }
   ],
   "source": [
    "len(calls.query('duration == 0').user_id.unique())"
   ]
  },
  {
   "cell_type": "code",
   "execution_count": 20,
   "metadata": {},
   "outputs": [
    {
     "data": {
      "text/plain": [
       "492"
      ]
     },
     "execution_count": 20,
     "metadata": {},
     "output_type": "execute_result"
    }
   ],
   "source": [
    "len(calls.user_id.unique())"
   ]
  },
  {
   "cell_type": "markdown",
   "metadata": {},
   "source": [
    "#### Вывод: \n",
    "Принципиальным вопросом по данному столбцу является то как поступить с нулевыми значениями. Попробуем разобраться...\n",
    "\n",
    "**Вводные**:\n",
    "\n",
    "0. Ситуация не уникальна и **встречается у 100% пользователей**.\n",
    "\n",
    "1. Данные звонки **не могут быть звонками** продолжительностью **меньше минуты**, которые не корректно отобразились в выгрузке - это невозможно так как по условиям ТЗ округление времени звонка происходит в большую сторону до целой минуты, а нетарифицируемых исходящих секунд тарифы не предусматривают.\n",
    "2. Данные звонки могут быть или **безответными вызовами** самого пользователя, **или** же его **входящим трафиком** который не тарифицируется согласно законодательству.\n",
    "\n",
    "**Исходя из этого**: Данные звонки **не внесут вклад** (а соответственно и погрешность) **в формирование выручки** (а это главная задача нашего исследования), **но внесут искажения в анализ статистических величин, искажая среднее количество**.\n",
    "\n",
    "**Поэтому**:Определим и зафиксируем для себя отношение не отвеченных вызовов к общему числу вызовов и удалим строки с нулевым значением."
   ]
  },
  {
   "cell_type": "code",
   "execution_count": 21,
   "metadata": {},
   "outputs": [
    {
     "name": "stdout",
     "output_type": "stream",
     "text": [
      "Доля не отвеченных вызовов: 0.19551644316336553\n"
     ]
    }
   ],
   "source": [
    "numb_null_calls = calls.query('duration == 0').duration.count()\n",
    "namb_ttl_calls = calls.duration.count()\n",
    "print('Доля не отвеченных вызовов:', numb_null_calls / namb_ttl_calls)\n",
    "calls = calls.query('duration != 0')\n",
    "calls = calls.reset_index(drop=True)"
   ]
  },
  {
   "cell_type": "markdown",
   "metadata": {},
   "source": [
    "### Анализ *internet.mb_used*"
   ]
  },
  {
   "cell_type": "code",
   "execution_count": 22,
   "metadata": {
    "scrolled": true
   },
   "outputs": [
    {
     "data": {
      "text/plain": [
       "count   149,396.00\n",
       "mean        370.19\n",
       "std         278.30\n",
       "min           0.00\n",
       "25%         138.19\n",
       "50%         348.01\n",
       "75%         559.55\n",
       "max       1,724.83\n",
       "Name: mb_used, dtype: float64"
      ]
     },
     "execution_count": 22,
     "metadata": {},
     "output_type": "execute_result"
    }
   ],
   "source": [
    "internet.mb_used.describe()"
   ]
  },
  {
   "cell_type": "code",
   "execution_count": 23,
   "metadata": {},
   "outputs": [
    {
     "data": {
      "image/png": "[encoded data removed]",
      "text/plain": [
       "<Figure size 720x432 with 2 Axes>"
      ]
     },
     "metadata": {
      "needs_background": "light"
     },
     "output_type": "display_data"
    }
   ],
   "source": [
    "f, (ax_box, ax_hist) =plt.subplots(2, figsize=(10, 6), sharex=True, gridspec_kw={\"height_ratios\": (.15, .85)})\n",
    "\n",
    "sns.boxplot(internet['mb_used'], ax=ax_box)\n",
    "sns.distplot(internet['mb_used'],ax=ax_hist, hist=True, kde=True,  label='вся выборка')\n",
    "sns.distplot(internet.query('mb_used > 0')['mb_used'],ax=ax_hist, hist=True, kde=True, label='> 0')\n",
    "\n",
    "ax_box.set(xlabel='')\n",
    "ax_box.set(title='Распределение internet.mb_used')\n",
    "ax_hist.legend()\n",
    "\n",
    "\n",
    "plt.show()"
   ]
  },
  {
   "cell_type": "markdown",
   "metadata": {},
   "source": [
    "Проверим у скольки пользователей встречаются нулевые значения:"
   ]
  },
  {
   "cell_type": "code",
   "execution_count": 24,
   "metadata": {},
   "outputs": [
    {
     "data": {
      "text/plain": [
       "494"
      ]
     },
     "execution_count": 24,
     "metadata": {},
     "output_type": "execute_result"
    }
   ],
   "source": [
    "len(internet.query('mb_used == 0').user_id.unique())"
   ]
  },
  {
   "cell_type": "code",
   "execution_count": 25,
   "metadata": {},
   "outputs": [
    {
     "data": {
      "text/plain": [
       "497"
      ]
     },
     "execution_count": 25,
     "metadata": {},
     "output_type": "execute_result"
    }
   ],
   "source": [
    "len(internet.user_id.unique())"
   ]
  },
  {
   "cell_type": "markdown",
   "metadata": {},
   "source": [
    "#### Вывод: \n",
    "Принципиальным вопросом по данному столбцу является то как поступить с нулевыми значениями. Попробуем разобраться...\n",
    "\n",
    "**Вводные**:\n",
    "\n",
    "1. Ситуация не уникальна и встречается у 494 из 497 пользователей (*интересно есть ли трафик у оставшихся 3? )))*).\n",
    "2. Предположим, что речь идет о технических сессиях самого оператора, сбоях подключения или же например о бесплатном трафике для мессенджера.\n",
    "\n",
    "**Исходя из этого**: Рассуждения аналогичны \"нулевым\" звонкам, в рамках данного исследования они нам не интересны и их наличие никак не скажется на результатах исследования.\n",
    "\n",
    "**Поэтому**: Удаляем строки с нулевыми значениями."
   ]
  },
  {
   "cell_type": "code",
   "execution_count": 26,
   "metadata": {},
   "outputs": [],
   "source": [
    "internet = internet.query('mb_used != 0')\n",
    "internet = internet.reset_index(drop=True)"
   ]
  },
  {
   "cell_type": "markdown",
   "metadata": {},
   "source": [
    "### Анализ *messages.message_date*\n",
    "Посмотрим, чтоже за дату мы тут потеряли...\n",
    "С генерируем список всех дат 2018 года и посмотрим чего не хватает:"
   ]
  },
  {
   "cell_type": "code",
   "execution_count": 27,
   "metadata": {},
   "outputs": [
    {
     "data": {
      "text/plain": [
       "['2018-01-01', '2018-01-02', '2018-01-03', '2018-01-04', '2018-01-05']"
      ]
     },
     "execution_count": 27,
     "metadata": {},
     "output_type": "execute_result"
    }
   ],
   "source": [
    "start_date = DT.datetime(2018, 1, 1)\n",
    "end_date = DT.datetime(2018, 12, 31)\n",
    "\n",
    "res = pd.date_range(\n",
    "    min(start_date, end_date),\n",
    "    max(start_date, end_date)\n",
    ").strftime('%Y-%m-%d').tolist()\n",
    "\n",
    "res[0:5]"
   ]
  },
  {
   "cell_type": "code",
   "execution_count": 28,
   "metadata": {},
   "outputs": [
    {
     "name": "stdout",
     "output_type": "stream",
     "text": [
      "2018-01-01\n"
     ]
    }
   ],
   "source": [
    "for i in res:\n",
    "    if i in messages['message_date'].unique():\n",
    "        pass\n",
    "    else: print(i)\n",
    "    \n",
    "        "
   ]
  },
  {
   "cell_type": "markdown",
   "metadata": {},
   "source": [
    "О как! Видимо оператор подарил всем бесплатные смски в честь 1 января."
   ]
  },
  {
   "cell_type": "markdown",
   "metadata": {},
   "source": [
    "### Округление вверх до целых *calls.duration* и *internet.mb_used*\n",
    "    \n",
    "    \n",
    "    "
   ]
  },
  {
   "cell_type": "markdown",
   "metadata": {},
   "source": [
    "Напишем небольшую функцию для округления вверх значений столбца *column* датафрейма *data*:"
   ]
  },
  {
   "cell_type": "code",
   "execution_count": 29,
   "metadata": {},
   "outputs": [],
   "source": [
    "def round_up(data, column):\n",
    "    data[column] = np.ceil(data[column])"
   ]
  },
  {
   "cell_type": "code",
   "execution_count": 30,
   "metadata": {},
   "outputs": [],
   "source": [
    "round_up(internet, 'mb_used')"
   ]
  },
  {
   "cell_type": "code",
   "execution_count": 31,
   "metadata": {},
   "outputs": [
    {
     "data": {
      "text/html": [
       "<div>\n",
       "<style scoped>\n",
       "    .dataframe tbody tr th:only-of-type {\n",
       "        vertical-align: middle;\n",
       "    }\n",
       "\n",
       "    .dataframe tbody tr th {\n",
       "        vertical-align: top;\n",
       "    }\n",
       "\n",
       "    .dataframe thead th {\n",
       "        text-align: right;\n",
       "    }\n",
       "</style>\n",
       "<table border=\"1\" class=\"dataframe\">\n",
       "  <thead>\n",
       "    <tr style=\"text-align: right;\">\n",
       "      <th></th>\n",
       "      <th>Unnamed: 0</th>\n",
       "      <th>id</th>\n",
       "      <th>mb_used</th>\n",
       "      <th>session_date</th>\n",
       "      <th>user_id</th>\n",
       "    </tr>\n",
       "  </thead>\n",
       "  <tbody>\n",
       "    <tr>\n",
       "      <th>73988</th>\n",
       "      <td>85654</td>\n",
       "      <td>1291_210</td>\n",
       "      <td>59.00</td>\n",
       "      <td>2018-05-21</td>\n",
       "      <td>1291</td>\n",
       "    </tr>\n",
       "    <tr>\n",
       "      <th>84906</th>\n",
       "      <td>98238</td>\n",
       "      <td>1330_446</td>\n",
       "      <td>39.00</td>\n",
       "      <td>2018-06-04</td>\n",
       "      <td>1330</td>\n",
       "    </tr>\n",
       "    <tr>\n",
       "      <th>42182</th>\n",
       "      <td>48870</td>\n",
       "      <td>1168_638</td>\n",
       "      <td>1,061.00</td>\n",
       "      <td>2018-03-23</td>\n",
       "      <td>1168</td>\n",
       "    </tr>\n",
       "  </tbody>\n",
       "</table>\n",
       "</div>"
      ],
      "text/plain": [
       "       Unnamed: 0        id  mb_used session_date  user_id\n",
       "73988       85654  1291_210    59.00   2018-05-21     1291\n",
       "84906       98238  1330_446    39.00   2018-06-04     1330\n",
       "42182       48870  1168_638 1,061.00   2018-03-23     1168"
      ]
     },
     "execution_count": 31,
     "metadata": {},
     "output_type": "execute_result"
    }
   ],
   "source": [
    "internet.sample(3)"
   ]
  },
  {
   "cell_type": "code",
   "execution_count": 32,
   "metadata": {},
   "outputs": [],
   "source": [
    "round_up(calls, 'duration')"
   ]
  },
  {
   "cell_type": "code",
   "execution_count": 33,
   "metadata": {},
   "outputs": [
    {
     "data": {
      "text/html": [
       "<div>\n",
       "<style scoped>\n",
       "    .dataframe tbody tr th:only-of-type {\n",
       "        vertical-align: middle;\n",
       "    }\n",
       "\n",
       "    .dataframe tbody tr th {\n",
       "        vertical-align: top;\n",
       "    }\n",
       "\n",
       "    .dataframe thead th {\n",
       "        text-align: right;\n",
       "    }\n",
       "</style>\n",
       "<table border=\"1\" class=\"dataframe\">\n",
       "  <thead>\n",
       "    <tr style=\"text-align: right;\">\n",
       "      <th></th>\n",
       "      <th>id</th>\n",
       "      <th>call_date</th>\n",
       "      <th>duration</th>\n",
       "      <th>user_id</th>\n",
       "    </tr>\n",
       "  </thead>\n",
       "  <tbody>\n",
       "    <tr>\n",
       "      <th>117851</th>\n",
       "      <td>1374_109</td>\n",
       "      <td>2018-10-14</td>\n",
       "      <td>9.00</td>\n",
       "      <td>1374</td>\n",
       "    </tr>\n",
       "    <tr>\n",
       "      <th>51593</th>\n",
       "      <td>1164_392</td>\n",
       "      <td>2018-04-05</td>\n",
       "      <td>3.00</td>\n",
       "      <td>1164</td>\n",
       "    </tr>\n",
       "    <tr>\n",
       "      <th>121774</th>\n",
       "      <td>1378_617</td>\n",
       "      <td>2018-11-19</td>\n",
       "      <td>5.00</td>\n",
       "      <td>1378</td>\n",
       "    </tr>\n",
       "  </tbody>\n",
       "</table>\n",
       "</div>"
      ],
      "text/plain": [
       "              id   call_date  duration  user_id\n",
       "117851  1374_109  2018-10-14      9.00     1374\n",
       "51593   1164_392  2018-04-05      3.00     1164\n",
       "121774  1378_617  2018-11-19      5.00     1378"
      ]
     },
     "execution_count": 33,
     "metadata": {},
     "output_type": "execute_result"
    }
   ],
   "source": [
    "calls.sample(3)"
   ]
  },
  {
   "cell_type": "markdown",
   "metadata": {},
   "source": [
    "### Пропуски в *user.churn_date*\n",
    "Заменим пропуски столбца *churn_date* на 31 декабря 2018."
   ]
  },
  {
   "cell_type": "code",
   "execution_count": 34,
   "metadata": {},
   "outputs": [],
   "source": [
    "users = users.fillna('2018-12-31')"
   ]
  },
  {
   "cell_type": "markdown",
   "metadata": {},
   "source": [
    "[к содержанию...](#title)"
   ]
  },
  {
   "cell_type": "markdown",
   "metadata": {},
   "source": [
    "<a name=\"data_type\"></a>\n",
    "## 2.2 Типы данных"
   ]
  },
  {
   "cell_type": "markdown",
   "metadata": {},
   "source": [
    "### float к int "
   ]
  },
  {
   "cell_type": "code",
   "execution_count": 35,
   "metadata": {},
   "outputs": [],
   "source": [
    "calls['duration'] = calls['duration'].astype('int')"
   ]
  },
  {
   "cell_type": "code",
   "execution_count": 36,
   "metadata": {},
   "outputs": [],
   "source": [
    "internet['mb_used'] = internet['mb_used'].astype('int')"
   ]
  },
  {
   "cell_type": "markdown",
   "metadata": {},
   "source": [
    "### str к date\n",
    "    users - 'churn_date' и 'reg_date'\n",
    "    calls - 'call_date'\n",
    "    internet - 'session_date'\n",
    "    message - 'message_date' "
   ]
  },
  {
   "cell_type": "code",
   "execution_count": 37,
   "metadata": {},
   "outputs": [],
   "source": [
    "def str_to_date(data, column):\n",
    "    data[column] = pd.to_datetime(data[column], format='%Y-%m-%dT%H:%M:%S')"
   ]
  },
  {
   "cell_type": "code",
   "execution_count": 38,
   "metadata": {},
   "outputs": [],
   "source": [
    "str_to_date(users, 'churn_date')\n",
    "str_to_date(users, 'reg_date')\n",
    "str_to_date(calls, 'call_date')\n",
    "str_to_date(internet, 'session_date')\n",
    "str_to_date(messages, 'message_date')"
   ]
  },
  {
   "cell_type": "markdown",
   "metadata": {},
   "source": [
    "<a name=\"data_add\"></a>\n",
    "## 2.3 Добавление данных"
   ]
  },
  {
   "cell_type": "markdown",
   "metadata": {},
   "source": [
    "### Количество сделанных звонков и израсходованных минут разговора по месяцам"
   ]
  },
  {
   "cell_type": "code",
   "execution_count": 39,
   "metadata": {},
   "outputs": [
    {
     "data": {
      "text/html": [
       "<div>\n",
       "<style scoped>\n",
       "    .dataframe tbody tr th:only-of-type {\n",
       "        vertical-align: middle;\n",
       "    }\n",
       "\n",
       "    .dataframe tbody tr th {\n",
       "        vertical-align: top;\n",
       "    }\n",
       "\n",
       "    .dataframe thead th {\n",
       "        text-align: right;\n",
       "    }\n",
       "</style>\n",
       "<table border=\"1\" class=\"dataframe\">\n",
       "  <thead>\n",
       "    <tr style=\"text-align: right;\">\n",
       "      <th></th>\n",
       "      <th>id</th>\n",
       "      <th>call_date</th>\n",
       "      <th>duration</th>\n",
       "      <th>user_id</th>\n",
       "      <th>month</th>\n",
       "    </tr>\n",
       "  </thead>\n",
       "  <tbody>\n",
       "    <tr>\n",
       "      <th>159696</th>\n",
       "      <td>1488_10</td>\n",
       "      <td>2018-11-17</td>\n",
       "      <td>3</td>\n",
       "      <td>1488</td>\n",
       "      <td>11</td>\n",
       "    </tr>\n",
       "    <tr>\n",
       "      <th>145452</th>\n",
       "      <td>1453_104</td>\n",
       "      <td>2018-10-03</td>\n",
       "      <td>12</td>\n",
       "      <td>1453</td>\n",
       "      <td>10</td>\n",
       "    </tr>\n",
       "    <tr>\n",
       "      <th>52168</th>\n",
       "      <td>1168_101</td>\n",
       "      <td>2018-03-13</td>\n",
       "      <td>13</td>\n",
       "      <td>1168</td>\n",
       "      <td>3</td>\n",
       "    </tr>\n",
       "  </tbody>\n",
       "</table>\n",
       "</div>"
      ],
      "text/plain": [
       "              id  call_date  duration  user_id  month\n",
       "159696   1488_10 2018-11-17         3     1488     11\n",
       "145452  1453_104 2018-10-03        12     1453     10\n",
       "52168   1168_101 2018-03-13        13     1168      3"
      ]
     },
     "execution_count": 39,
     "metadata": {},
     "output_type": "execute_result"
    }
   ],
   "source": [
    "calls['month'] = calls['call_date'].dt.month\n",
    "calls.sample(3)"
   ]
  },
  {
   "cell_type": "code",
   "execution_count": 40,
   "metadata": {},
   "outputs": [
    {
     "data": {
      "text/html": [
       "<div>\n",
       "<style scoped>\n",
       "    .dataframe tbody tr th:only-of-type {\n",
       "        vertical-align: middle;\n",
       "    }\n",
       "\n",
       "    .dataframe tbody tr th {\n",
       "        vertical-align: top;\n",
       "    }\n",
       "\n",
       "    .dataframe thead th {\n",
       "        text-align: right;\n",
       "    }\n",
       "</style>\n",
       "<table border=\"1\" class=\"dataframe\">\n",
       "  <thead>\n",
       "    <tr style=\"text-align: right;\">\n",
       "      <th></th>\n",
       "      <th></th>\n",
       "      <th>count</th>\n",
       "      <th>sum</th>\n",
       "    </tr>\n",
       "    <tr>\n",
       "      <th>user_id</th>\n",
       "      <th>month</th>\n",
       "      <th></th>\n",
       "      <th></th>\n",
       "    </tr>\n",
       "  </thead>\n",
       "  <tbody>\n",
       "    <tr>\n",
       "      <th rowspan=\"5\" valign=\"top\">1000</th>\n",
       "      <th>5</th>\n",
       "      <td>17</td>\n",
       "      <td>159</td>\n",
       "    </tr>\n",
       "    <tr>\n",
       "      <th>6</th>\n",
       "      <td>28</td>\n",
       "      <td>172</td>\n",
       "    </tr>\n",
       "    <tr>\n",
       "      <th>7</th>\n",
       "      <td>41</td>\n",
       "      <td>340</td>\n",
       "    </tr>\n",
       "    <tr>\n",
       "      <th>8</th>\n",
       "      <td>42</td>\n",
       "      <td>408</td>\n",
       "    </tr>\n",
       "    <tr>\n",
       "      <th>9</th>\n",
       "      <td>46</td>\n",
       "      <td>466</td>\n",
       "    </tr>\n",
       "    <tr>\n",
       "      <th>...</th>\n",
       "      <th>...</th>\n",
       "      <td>...</td>\n",
       "      <td>...</td>\n",
       "    </tr>\n",
       "    <tr>\n",
       "      <th>1498</th>\n",
       "      <th>10</th>\n",
       "      <td>30</td>\n",
       "      <td>247</td>\n",
       "    </tr>\n",
       "    <tr>\n",
       "      <th rowspan=\"4\" valign=\"top\">1499</th>\n",
       "      <th>9</th>\n",
       "      <td>8</td>\n",
       "      <td>70</td>\n",
       "    </tr>\n",
       "    <tr>\n",
       "      <th>10</th>\n",
       "      <td>44</td>\n",
       "      <td>449</td>\n",
       "    </tr>\n",
       "    <tr>\n",
       "      <th>11</th>\n",
       "      <td>62</td>\n",
       "      <td>612</td>\n",
       "    </tr>\n",
       "    <tr>\n",
       "      <th>12</th>\n",
       "      <td>56</td>\n",
       "      <td>492</td>\n",
       "    </tr>\n",
       "  </tbody>\n",
       "</table>\n",
       "<p>3168 rows × 2 columns</p>\n",
       "</div>"
      ],
      "text/plain": [
       "               count  sum\n",
       "user_id month            \n",
       "1000    5         17  159\n",
       "        6         28  172\n",
       "        7         41  340\n",
       "        8         42  408\n",
       "        9         46  466\n",
       "...              ...  ...\n",
       "1498    10        30  247\n",
       "1499    9          8   70\n",
       "        10        44  449\n",
       "        11        62  612\n",
       "        12        56  492\n",
       "\n",
       "[3168 rows x 2 columns]"
      ]
     },
     "execution_count": 40,
     "metadata": {},
     "output_type": "execute_result"
    }
   ],
   "source": [
    "calls_gr = calls.groupby(['user_id', 'month'])['duration']\\\n",
    "                .agg(['count','sum'])\n",
    "calls_gr"
   ]
  },
  {
   "cell_type": "markdown",
   "metadata": {},
   "source": [
    "### Количество отправленных сообщений по месяцам"
   ]
  },
  {
   "cell_type": "code",
   "execution_count": 41,
   "metadata": {},
   "outputs": [
    {
     "data": {
      "text/html": [
       "<div>\n",
       "<style scoped>\n",
       "    .dataframe tbody tr th:only-of-type {\n",
       "        vertical-align: middle;\n",
       "    }\n",
       "\n",
       "    .dataframe tbody tr th {\n",
       "        vertical-align: top;\n",
       "    }\n",
       "\n",
       "    .dataframe thead th {\n",
       "        text-align: right;\n",
       "    }\n",
       "</style>\n",
       "<table border=\"1\" class=\"dataframe\">\n",
       "  <thead>\n",
       "    <tr style=\"text-align: right;\">\n",
       "      <th></th>\n",
       "      <th>id</th>\n",
       "      <th>message_date</th>\n",
       "      <th>user_id</th>\n",
       "      <th>month</th>\n",
       "    </tr>\n",
       "  </thead>\n",
       "  <tbody>\n",
       "    <tr>\n",
       "      <th>86365</th>\n",
       "      <td>1357_158</td>\n",
       "      <td>2018-09-07</td>\n",
       "      <td>1357</td>\n",
       "      <td>9</td>\n",
       "    </tr>\n",
       "    <tr>\n",
       "      <th>89140</th>\n",
       "      <td>1373_152</td>\n",
       "      <td>2018-05-20</td>\n",
       "      <td>1373</td>\n",
       "      <td>5</td>\n",
       "    </tr>\n",
       "    <tr>\n",
       "      <th>63493</th>\n",
       "      <td>1277_170</td>\n",
       "      <td>2018-11-19</td>\n",
       "      <td>1277</td>\n",
       "      <td>11</td>\n",
       "    </tr>\n",
       "  </tbody>\n",
       "</table>\n",
       "</div>"
      ],
      "text/plain": [
       "             id message_date  user_id  month\n",
       "86365  1357_158   2018-09-07     1357      9\n",
       "89140  1373_152   2018-05-20     1373      5\n",
       "63493  1277_170   2018-11-19     1277     11"
      ]
     },
     "execution_count": 41,
     "metadata": {},
     "output_type": "execute_result"
    }
   ],
   "source": [
    "messages['month'] = messages['message_date'].dt.month\n",
    "messages.sample(3)"
   ]
  },
  {
   "cell_type": "code",
   "execution_count": 42,
   "metadata": {},
   "outputs": [
    {
     "data": {
      "text/html": [
       "<div>\n",
       "<style scoped>\n",
       "    .dataframe tbody tr th:only-of-type {\n",
       "        vertical-align: middle;\n",
       "    }\n",
       "\n",
       "    .dataframe tbody tr th {\n",
       "        vertical-align: top;\n",
       "    }\n",
       "\n",
       "    .dataframe thead th {\n",
       "        text-align: right;\n",
       "    }\n",
       "</style>\n",
       "<table border=\"1\" class=\"dataframe\">\n",
       "  <thead>\n",
       "    <tr style=\"text-align: right;\">\n",
       "      <th></th>\n",
       "      <th></th>\n",
       "      <th>count</th>\n",
       "    </tr>\n",
       "    <tr>\n",
       "      <th>user_id</th>\n",
       "      <th>month</th>\n",
       "      <th></th>\n",
       "    </tr>\n",
       "  </thead>\n",
       "  <tbody>\n",
       "    <tr>\n",
       "      <th rowspan=\"5\" valign=\"top\">1000</th>\n",
       "      <th>5</th>\n",
       "      <td>22</td>\n",
       "    </tr>\n",
       "    <tr>\n",
       "      <th>6</th>\n",
       "      <td>60</td>\n",
       "    </tr>\n",
       "    <tr>\n",
       "      <th>7</th>\n",
       "      <td>75</td>\n",
       "    </tr>\n",
       "    <tr>\n",
       "      <th>8</th>\n",
       "      <td>81</td>\n",
       "    </tr>\n",
       "    <tr>\n",
       "      <th>9</th>\n",
       "      <td>57</td>\n",
       "    </tr>\n",
       "    <tr>\n",
       "      <th>...</th>\n",
       "      <th>...</th>\n",
       "      <td>...</td>\n",
       "    </tr>\n",
       "    <tr>\n",
       "      <th>1498</th>\n",
       "      <th>10</th>\n",
       "      <td>42</td>\n",
       "    </tr>\n",
       "    <tr>\n",
       "      <th rowspan=\"4\" valign=\"top\">1499</th>\n",
       "      <th>9</th>\n",
       "      <td>11</td>\n",
       "    </tr>\n",
       "    <tr>\n",
       "      <th>10</th>\n",
       "      <td>48</td>\n",
       "    </tr>\n",
       "    <tr>\n",
       "      <th>11</th>\n",
       "      <td>59</td>\n",
       "    </tr>\n",
       "    <tr>\n",
       "      <th>12</th>\n",
       "      <td>66</td>\n",
       "    </tr>\n",
       "  </tbody>\n",
       "</table>\n",
       "<p>2717 rows × 1 columns</p>\n",
       "</div>"
      ],
      "text/plain": [
       "               count\n",
       "user_id month       \n",
       "1000    5         22\n",
       "        6         60\n",
       "        7         75\n",
       "        8         81\n",
       "        9         57\n",
       "...              ...\n",
       "1498    10        42\n",
       "1499    9         11\n",
       "        10        48\n",
       "        11        59\n",
       "        12        66\n",
       "\n",
       "[2717 rows x 1 columns]"
      ]
     },
     "execution_count": 42,
     "metadata": {},
     "output_type": "execute_result"
    }
   ],
   "source": [
    "messages_gr = messages.groupby(['user_id', 'month'])['user_id']\\\n",
    "                      .agg(['count'])\n",
    "messages_gr"
   ]
  },
  {
   "cell_type": "markdown",
   "metadata": {},
   "source": [
    "### Объем израсходованного интернет-трафика по месяцам"
   ]
  },
  {
   "cell_type": "code",
   "execution_count": 43,
   "metadata": {},
   "outputs": [
    {
     "data": {
      "text/html": [
       "<div>\n",
       "<style scoped>\n",
       "    .dataframe tbody tr th:only-of-type {\n",
       "        vertical-align: middle;\n",
       "    }\n",
       "\n",
       "    .dataframe tbody tr th {\n",
       "        vertical-align: top;\n",
       "    }\n",
       "\n",
       "    .dataframe thead th {\n",
       "        text-align: right;\n",
       "    }\n",
       "</style>\n",
       "<table border=\"1\" class=\"dataframe\">\n",
       "  <thead>\n",
       "    <tr style=\"text-align: right;\">\n",
       "      <th></th>\n",
       "      <th>Unnamed: 0</th>\n",
       "      <th>id</th>\n",
       "      <th>mb_used</th>\n",
       "      <th>session_date</th>\n",
       "      <th>user_id</th>\n",
       "      <th>month</th>\n",
       "    </tr>\n",
       "  </thead>\n",
       "  <tbody>\n",
       "    <tr>\n",
       "      <th>72969</th>\n",
       "      <td>84455</td>\n",
       "      <td>1287_10</td>\n",
       "      <td>662</td>\n",
       "      <td>2018-11-18</td>\n",
       "      <td>1287</td>\n",
       "      <td>11</td>\n",
       "    </tr>\n",
       "    <tr>\n",
       "      <th>23989</th>\n",
       "      <td>27884</td>\n",
       "      <td>1098_58</td>\n",
       "      <td>183</td>\n",
       "      <td>2018-07-19</td>\n",
       "      <td>1098</td>\n",
       "      <td>7</td>\n",
       "    </tr>\n",
       "    <tr>\n",
       "      <th>32630</th>\n",
       "      <td>37887</td>\n",
       "      <td>1133_54</td>\n",
       "      <td>277</td>\n",
       "      <td>2018-11-17</td>\n",
       "      <td>1133</td>\n",
       "      <td>11</td>\n",
       "    </tr>\n",
       "  </tbody>\n",
       "</table>\n",
       "</div>"
      ],
      "text/plain": [
       "       Unnamed: 0       id  mb_used session_date  user_id  month\n",
       "72969       84455  1287_10      662   2018-11-18     1287     11\n",
       "23989       27884  1098_58      183   2018-07-19     1098      7\n",
       "32630       37887  1133_54      277   2018-11-17     1133     11"
      ]
     },
     "execution_count": 43,
     "metadata": {},
     "output_type": "execute_result"
    }
   ],
   "source": [
    "internet['month'] = internet['session_date'].dt.month\n",
    "internet.sample(3)"
   ]
  },
  {
   "cell_type": "code",
   "execution_count": 44,
   "metadata": {},
   "outputs": [
    {
     "data": {
      "text/html": [
       "<div>\n",
       "<style scoped>\n",
       "    .dataframe tbody tr th:only-of-type {\n",
       "        vertical-align: middle;\n",
       "    }\n",
       "\n",
       "    .dataframe tbody tr th {\n",
       "        vertical-align: top;\n",
       "    }\n",
       "\n",
       "    .dataframe thead th {\n",
       "        text-align: right;\n",
       "    }\n",
       "</style>\n",
       "<table border=\"1\" class=\"dataframe\">\n",
       "  <thead>\n",
       "    <tr style=\"text-align: right;\">\n",
       "      <th></th>\n",
       "      <th></th>\n",
       "      <th>sum</th>\n",
       "    </tr>\n",
       "    <tr>\n",
       "      <th>user_id</th>\n",
       "      <th>month</th>\n",
       "      <th></th>\n",
       "    </tr>\n",
       "  </thead>\n",
       "  <tbody>\n",
       "    <tr>\n",
       "      <th rowspan=\"5\" valign=\"top\">1000</th>\n",
       "      <th>5</th>\n",
       "      <td>2256</td>\n",
       "    </tr>\n",
       "    <tr>\n",
       "      <th>6</th>\n",
       "      <td>23257</td>\n",
       "    </tr>\n",
       "    <tr>\n",
       "      <th>7</th>\n",
       "      <td>14016</td>\n",
       "    </tr>\n",
       "    <tr>\n",
       "      <th>8</th>\n",
       "      <td>14070</td>\n",
       "    </tr>\n",
       "    <tr>\n",
       "      <th>9</th>\n",
       "      <td>14581</td>\n",
       "    </tr>\n",
       "    <tr>\n",
       "      <th>...</th>\n",
       "      <th>...</th>\n",
       "      <td>...</td>\n",
       "    </tr>\n",
       "    <tr>\n",
       "      <th>1498</th>\n",
       "      <th>10</th>\n",
       "      <td>20604</td>\n",
       "    </tr>\n",
       "    <tr>\n",
       "      <th rowspan=\"4\" valign=\"top\">1499</th>\n",
       "      <th>9</th>\n",
       "      <td>1848</td>\n",
       "    </tr>\n",
       "    <tr>\n",
       "      <th>10</th>\n",
       "      <td>17809</td>\n",
       "    </tr>\n",
       "    <tr>\n",
       "      <th>11</th>\n",
       "      <td>17984</td>\n",
       "    </tr>\n",
       "    <tr>\n",
       "      <th>12</th>\n",
       "      <td>13077</td>\n",
       "    </tr>\n",
       "  </tbody>\n",
       "</table>\n",
       "<p>3201 rows × 1 columns</p>\n",
       "</div>"
      ],
      "text/plain": [
       "                 sum\n",
       "user_id month       \n",
       "1000    5       2256\n",
       "        6      23257\n",
       "        7      14016\n",
       "        8      14070\n",
       "        9      14581\n",
       "...              ...\n",
       "1498    10     20604\n",
       "1499    9       1848\n",
       "        10     17809\n",
       "        11     17984\n",
       "        12     13077\n",
       "\n",
       "[3201 rows x 1 columns]"
      ]
     },
     "execution_count": 44,
     "metadata": {},
     "output_type": "execute_result"
    }
   ],
   "source": [
    "internet_gr = internet.groupby(['user_id', 'month'])['mb_used']\\\n",
    "                      .agg(['sum'])\n",
    "internet_gr"
   ]
  },
  {
   "cell_type": "markdown",
   "metadata": {},
   "source": [
    "### Расчет помесячной выручки каждого пользователя"
   ]
  },
  {
   "cell_type": "markdown",
   "metadata": {},
   "source": [
    "Объединим данные сводных таблиц:"
   ]
  },
  {
   "cell_type": "code",
   "execution_count": 45,
   "metadata": {},
   "outputs": [
    {
     "data": {
      "text/html": [
       "<div>\n",
       "<style scoped>\n",
       "    .dataframe tbody tr th:only-of-type {\n",
       "        vertical-align: middle;\n",
       "    }\n",
       "\n",
       "    .dataframe tbody tr th {\n",
       "        vertical-align: top;\n",
       "    }\n",
       "\n",
       "    .dataframe thead th {\n",
       "        text-align: right;\n",
       "    }\n",
       "</style>\n",
       "<table border=\"1\" class=\"dataframe\">\n",
       "  <thead>\n",
       "    <tr style=\"text-align: right;\">\n",
       "      <th></th>\n",
       "      <th>user_id</th>\n",
       "      <th>month</th>\n",
       "      <th>count_x</th>\n",
       "      <th>sum_x</th>\n",
       "      <th>sum_y</th>\n",
       "      <th>count_y</th>\n",
       "    </tr>\n",
       "  </thead>\n",
       "  <tbody>\n",
       "    <tr>\n",
       "      <th>count</th>\n",
       "      <td>3,214.00</td>\n",
       "      <td>3,214.00</td>\n",
       "      <td>3,168.00</td>\n",
       "      <td>3,168.00</td>\n",
       "      <td>3,201.00</td>\n",
       "      <td>2,717.00</td>\n",
       "    </tr>\n",
       "    <tr>\n",
       "      <th>mean</th>\n",
       "      <td>1,251.59</td>\n",
       "      <td>8.32</td>\n",
       "      <td>51.45</td>\n",
       "      <td>457.80</td>\n",
       "      <td>17,297.55</td>\n",
       "      <td>45.28</td>\n",
       "    </tr>\n",
       "    <tr>\n",
       "      <th>std</th>\n",
       "      <td>144.66</td>\n",
       "      <td>2.91</td>\n",
       "      <td>26.44</td>\n",
       "      <td>237.42</td>\n",
       "      <td>7,513.50</td>\n",
       "      <td>35.05</td>\n",
       "    </tr>\n",
       "    <tr>\n",
       "      <th>min</th>\n",
       "      <td>1,000.00</td>\n",
       "      <td>1.00</td>\n",
       "      <td>1.00</td>\n",
       "      <td>1.00</td>\n",
       "      <td>202.00</td>\n",
       "      <td>1.00</td>\n",
       "    </tr>\n",
       "    <tr>\n",
       "      <th>25%</th>\n",
       "      <td>1,125.00</td>\n",
       "      <td>6.00</td>\n",
       "      <td>33.00</td>\n",
       "      <td>290.75</td>\n",
       "      <td>12,567.00</td>\n",
       "      <td>19.00</td>\n",
       "    </tr>\n",
       "    <tr>\n",
       "      <th>50%</th>\n",
       "      <td>1,253.00</td>\n",
       "      <td>9.00</td>\n",
       "      <td>50.00</td>\n",
       "      <td>447.50</td>\n",
       "      <td>16,986.00</td>\n",
       "      <td>38.00</td>\n",
       "    </tr>\n",
       "    <tr>\n",
       "      <th>75%</th>\n",
       "      <td>1,378.75</td>\n",
       "      <td>11.00</td>\n",
       "      <td>67.00</td>\n",
       "      <td>592.25</td>\n",
       "      <td>21,458.00</td>\n",
       "      <td>63.00</td>\n",
       "    </tr>\n",
       "    <tr>\n",
       "      <th>max</th>\n",
       "      <td>1,499.00</td>\n",
       "      <td>12.00</td>\n",
       "      <td>190.00</td>\n",
       "      <td>1,673.00</td>\n",
       "      <td>49,789.00</td>\n",
       "      <td>224.00</td>\n",
       "    </tr>\n",
       "  </tbody>\n",
       "</table>\n",
       "</div>"
      ],
      "text/plain": [
       "       user_id    month  count_x    sum_x     sum_y  count_y\n",
       "count 3,214.00 3,214.00 3,168.00 3,168.00  3,201.00 2,717.00\n",
       "mean  1,251.59     8.32    51.45   457.80 17,297.55    45.28\n",
       "std     144.66     2.91    26.44   237.42  7,513.50    35.05\n",
       "min   1,000.00     1.00     1.00     1.00    202.00     1.00\n",
       "25%   1,125.00     6.00    33.00   290.75 12,567.00    19.00\n",
       "50%   1,253.00     9.00    50.00   447.50 16,986.00    38.00\n",
       "75%   1,378.75    11.00    67.00   592.25 21,458.00    63.00\n",
       "max   1,499.00    12.00   190.00 1,673.00 49,789.00   224.00"
      ]
     },
     "execution_count": 45,
     "metadata": {},
     "output_type": "execute_result"
    }
   ],
   "source": [
    "call_int_gr = calls_gr.merge(internet_gr, on=['user_id', 'month'], how='outer')\n",
    "all_gr = call_int_gr.merge(messages_gr, on=['user_id', 'month'], how='outer')\n",
    "all_gr.reset_index(inplace=True)\n",
    "all_gr.describe()"
   ]
  },
  {
   "cell_type": "markdown",
   "metadata": {},
   "source": [
    "Добавим информацию о пользователях и тарифах сформировав таким образом конечный датафрейм:"
   ]
  },
  {
   "cell_type": "code",
   "execution_count": 46,
   "metadata": {},
   "outputs": [
    {
     "data": {
      "text/html": [
       "<div>\n",
       "<style scoped>\n",
       "    .dataframe tbody tr th:only-of-type {\n",
       "        vertical-align: middle;\n",
       "    }\n",
       "\n",
       "    .dataframe tbody tr th {\n",
       "        vertical-align: top;\n",
       "    }\n",
       "\n",
       "    .dataframe thead th {\n",
       "        text-align: right;\n",
       "    }\n",
       "</style>\n",
       "<table border=\"1\" class=\"dataframe\">\n",
       "  <thead>\n",
       "    <tr style=\"text-align: right;\">\n",
       "      <th></th>\n",
       "      <th>user_id</th>\n",
       "      <th>month</th>\n",
       "      <th>count_x</th>\n",
       "      <th>sum_x</th>\n",
       "      <th>sum_y</th>\n",
       "      <th>count_y</th>\n",
       "      <th>age</th>\n",
       "      <th>churn_date</th>\n",
       "      <th>city</th>\n",
       "      <th>first_name</th>\n",
       "      <th>...</th>\n",
       "      <th>reg_date</th>\n",
       "      <th>tariff</th>\n",
       "      <th>messages_included</th>\n",
       "      <th>mb_per_month_included</th>\n",
       "      <th>minutes_included</th>\n",
       "      <th>rub_monthly_fee</th>\n",
       "      <th>rub_per_gb</th>\n",
       "      <th>rub_per_message</th>\n",
       "      <th>rub_per_minute</th>\n",
       "      <th>tariff_name</th>\n",
       "    </tr>\n",
       "  </thead>\n",
       "  <tbody>\n",
       "    <tr>\n",
       "      <th>0</th>\n",
       "      <td>1000</td>\n",
       "      <td>5</td>\n",
       "      <td>17.00</td>\n",
       "      <td>159.00</td>\n",
       "      <td>2,256.00</td>\n",
       "      <td>22.00</td>\n",
       "      <td>52</td>\n",
       "      <td>2018-12-31</td>\n",
       "      <td>Краснодар</td>\n",
       "      <td>Рафаил</td>\n",
       "      <td>...</td>\n",
       "      <td>2018-05-25</td>\n",
       "      <td>ultra</td>\n",
       "      <td>1000</td>\n",
       "      <td>30720</td>\n",
       "      <td>3000</td>\n",
       "      <td>1950</td>\n",
       "      <td>150</td>\n",
       "      <td>1</td>\n",
       "      <td>1</td>\n",
       "      <td>ultra</td>\n",
       "    </tr>\n",
       "    <tr>\n",
       "      <th>1</th>\n",
       "      <td>1000</td>\n",
       "      <td>6</td>\n",
       "      <td>28.00</td>\n",
       "      <td>172.00</td>\n",
       "      <td>23,257.00</td>\n",
       "      <td>60.00</td>\n",
       "      <td>52</td>\n",
       "      <td>2018-12-31</td>\n",
       "      <td>Краснодар</td>\n",
       "      <td>Рафаил</td>\n",
       "      <td>...</td>\n",
       "      <td>2018-05-25</td>\n",
       "      <td>ultra</td>\n",
       "      <td>1000</td>\n",
       "      <td>30720</td>\n",
       "      <td>3000</td>\n",
       "      <td>1950</td>\n",
       "      <td>150</td>\n",
       "      <td>1</td>\n",
       "      <td>1</td>\n",
       "      <td>ultra</td>\n",
       "    </tr>\n",
       "    <tr>\n",
       "      <th>2</th>\n",
       "      <td>1000</td>\n",
       "      <td>7</td>\n",
       "      <td>41.00</td>\n",
       "      <td>340.00</td>\n",
       "      <td>14,016.00</td>\n",
       "      <td>75.00</td>\n",
       "      <td>52</td>\n",
       "      <td>2018-12-31</td>\n",
       "      <td>Краснодар</td>\n",
       "      <td>Рафаил</td>\n",
       "      <td>...</td>\n",
       "      <td>2018-05-25</td>\n",
       "      <td>ultra</td>\n",
       "      <td>1000</td>\n",
       "      <td>30720</td>\n",
       "      <td>3000</td>\n",
       "      <td>1950</td>\n",
       "      <td>150</td>\n",
       "      <td>1</td>\n",
       "      <td>1</td>\n",
       "      <td>ultra</td>\n",
       "    </tr>\n",
       "    <tr>\n",
       "      <th>3</th>\n",
       "      <td>1000</td>\n",
       "      <td>8</td>\n",
       "      <td>42.00</td>\n",
       "      <td>408.00</td>\n",
       "      <td>14,070.00</td>\n",
       "      <td>81.00</td>\n",
       "      <td>52</td>\n",
       "      <td>2018-12-31</td>\n",
       "      <td>Краснодар</td>\n",
       "      <td>Рафаил</td>\n",
       "      <td>...</td>\n",
       "      <td>2018-05-25</td>\n",
       "      <td>ultra</td>\n",
       "      <td>1000</td>\n",
       "      <td>30720</td>\n",
       "      <td>3000</td>\n",
       "      <td>1950</td>\n",
       "      <td>150</td>\n",
       "      <td>1</td>\n",
       "      <td>1</td>\n",
       "      <td>ultra</td>\n",
       "    </tr>\n",
       "    <tr>\n",
       "      <th>4</th>\n",
       "      <td>1000</td>\n",
       "      <td>9</td>\n",
       "      <td>46.00</td>\n",
       "      <td>466.00</td>\n",
       "      <td>14,581.00</td>\n",
       "      <td>57.00</td>\n",
       "      <td>52</td>\n",
       "      <td>2018-12-31</td>\n",
       "      <td>Краснодар</td>\n",
       "      <td>Рафаил</td>\n",
       "      <td>...</td>\n",
       "      <td>2018-05-25</td>\n",
       "      <td>ultra</td>\n",
       "      <td>1000</td>\n",
       "      <td>30720</td>\n",
       "      <td>3000</td>\n",
       "      <td>1950</td>\n",
       "      <td>150</td>\n",
       "      <td>1</td>\n",
       "      <td>1</td>\n",
       "      <td>ultra</td>\n",
       "    </tr>\n",
       "    <tr>\n",
       "      <th>...</th>\n",
       "      <td>...</td>\n",
       "      <td>...</td>\n",
       "      <td>...</td>\n",
       "      <td>...</td>\n",
       "      <td>...</td>\n",
       "      <td>...</td>\n",
       "      <td>...</td>\n",
       "      <td>...</td>\n",
       "      <td>...</td>\n",
       "      <td>...</td>\n",
       "      <td>...</td>\n",
       "      <td>...</td>\n",
       "      <td>...</td>\n",
       "      <td>...</td>\n",
       "      <td>...</td>\n",
       "      <td>...</td>\n",
       "      <td>...</td>\n",
       "      <td>...</td>\n",
       "      <td>...</td>\n",
       "      <td>...</td>\n",
       "      <td>...</td>\n",
       "    </tr>\n",
       "    <tr>\n",
       "      <th>3209</th>\n",
       "      <td>1489</td>\n",
       "      <td>8</td>\n",
       "      <td>nan</td>\n",
       "      <td>nan</td>\n",
       "      <td>11,066.00</td>\n",
       "      <td>17.00</td>\n",
       "      <td>35</td>\n",
       "      <td>2018-12-31</td>\n",
       "      <td>Санкт-Петербург</td>\n",
       "      <td>Павел</td>\n",
       "      <td>...</td>\n",
       "      <td>2018-08-15</td>\n",
       "      <td>smart</td>\n",
       "      <td>50</td>\n",
       "      <td>15360</td>\n",
       "      <td>500</td>\n",
       "      <td>550</td>\n",
       "      <td>200</td>\n",
       "      <td>3</td>\n",
       "      <td>3</td>\n",
       "      <td>smart</td>\n",
       "    </tr>\n",
       "    <tr>\n",
       "      <th>3210</th>\n",
       "      <td>1489</td>\n",
       "      <td>9</td>\n",
       "      <td>nan</td>\n",
       "      <td>nan</td>\n",
       "      <td>17,232.00</td>\n",
       "      <td>32.00</td>\n",
       "      <td>35</td>\n",
       "      <td>2018-12-31</td>\n",
       "      <td>Санкт-Петербург</td>\n",
       "      <td>Павел</td>\n",
       "      <td>...</td>\n",
       "      <td>2018-08-15</td>\n",
       "      <td>smart</td>\n",
       "      <td>50</td>\n",
       "      <td>15360</td>\n",
       "      <td>500</td>\n",
       "      <td>550</td>\n",
       "      <td>200</td>\n",
       "      <td>3</td>\n",
       "      <td>3</td>\n",
       "      <td>smart</td>\n",
       "    </tr>\n",
       "    <tr>\n",
       "      <th>3211</th>\n",
       "      <td>1489</td>\n",
       "      <td>10</td>\n",
       "      <td>nan</td>\n",
       "      <td>nan</td>\n",
       "      <td>19,588.00</td>\n",
       "      <td>21.00</td>\n",
       "      <td>35</td>\n",
       "      <td>2018-12-31</td>\n",
       "      <td>Санкт-Петербург</td>\n",
       "      <td>Павел</td>\n",
       "      <td>...</td>\n",
       "      <td>2018-08-15</td>\n",
       "      <td>smart</td>\n",
       "      <td>50</td>\n",
       "      <td>15360</td>\n",
       "      <td>500</td>\n",
       "      <td>550</td>\n",
       "      <td>200</td>\n",
       "      <td>3</td>\n",
       "      <td>3</td>\n",
       "      <td>smart</td>\n",
       "    </tr>\n",
       "    <tr>\n",
       "      <th>3212</th>\n",
       "      <td>1489</td>\n",
       "      <td>11</td>\n",
       "      <td>nan</td>\n",
       "      <td>nan</td>\n",
       "      <td>17,516.00</td>\n",
       "      <td>20.00</td>\n",
       "      <td>35</td>\n",
       "      <td>2018-12-31</td>\n",
       "      <td>Санкт-Петербург</td>\n",
       "      <td>Павел</td>\n",
       "      <td>...</td>\n",
       "      <td>2018-08-15</td>\n",
       "      <td>smart</td>\n",
       "      <td>50</td>\n",
       "      <td>15360</td>\n",
       "      <td>500</td>\n",
       "      <td>550</td>\n",
       "      <td>200</td>\n",
       "      <td>3</td>\n",
       "      <td>3</td>\n",
       "      <td>smart</td>\n",
       "    </tr>\n",
       "    <tr>\n",
       "      <th>3213</th>\n",
       "      <td>1489</td>\n",
       "      <td>12</td>\n",
       "      <td>nan</td>\n",
       "      <td>nan</td>\n",
       "      <td>17,341.00</td>\n",
       "      <td>35.00</td>\n",
       "      <td>35</td>\n",
       "      <td>2018-12-31</td>\n",
       "      <td>Санкт-Петербург</td>\n",
       "      <td>Павел</td>\n",
       "      <td>...</td>\n",
       "      <td>2018-08-15</td>\n",
       "      <td>smart</td>\n",
       "      <td>50</td>\n",
       "      <td>15360</td>\n",
       "      <td>500</td>\n",
       "      <td>550</td>\n",
       "      <td>200</td>\n",
       "      <td>3</td>\n",
       "      <td>3</td>\n",
       "      <td>smart</td>\n",
       "    </tr>\n",
       "  </tbody>\n",
       "</table>\n",
       "<p>3214 rows × 21 columns</p>\n",
       "</div>"
      ],
      "text/plain": [
       "      user_id  month  count_x  sum_x     sum_y  count_y  age churn_date  \\\n",
       "0        1000      5    17.00 159.00  2,256.00    22.00   52 2018-12-31   \n",
       "1        1000      6    28.00 172.00 23,257.00    60.00   52 2018-12-31   \n",
       "2        1000      7    41.00 340.00 14,016.00    75.00   52 2018-12-31   \n",
       "3        1000      8    42.00 408.00 14,070.00    81.00   52 2018-12-31   \n",
       "4        1000      9    46.00 466.00 14,581.00    57.00   52 2018-12-31   \n",
       "...       ...    ...      ...    ...       ...      ...  ...        ...   \n",
       "3209     1489      8      nan    nan 11,066.00    17.00   35 2018-12-31   \n",
       "3210     1489      9      nan    nan 17,232.00    32.00   35 2018-12-31   \n",
       "3211     1489     10      nan    nan 19,588.00    21.00   35 2018-12-31   \n",
       "3212     1489     11      nan    nan 17,516.00    20.00   35 2018-12-31   \n",
       "3213     1489     12      nan    nan 17,341.00    35.00   35 2018-12-31   \n",
       "\n",
       "                 city first_name  ...   reg_date tariff messages_included  \\\n",
       "0           Краснодар     Рафаил  ... 2018-05-25  ultra              1000   \n",
       "1           Краснодар     Рафаил  ... 2018-05-25  ultra              1000   \n",
       "2           Краснодар     Рафаил  ... 2018-05-25  ultra              1000   \n",
       "3           Краснодар     Рафаил  ... 2018-05-25  ultra              1000   \n",
       "4           Краснодар     Рафаил  ... 2018-05-25  ultra              1000   \n",
       "...               ...        ...  ...        ...    ...               ...   \n",
       "3209  Санкт-Петербург      Павел  ... 2018-08-15  smart                50   \n",
       "3210  Санкт-Петербург      Павел  ... 2018-08-15  smart                50   \n",
       "3211  Санкт-Петербург      Павел  ... 2018-08-15  smart                50   \n",
       "3212  Санкт-Петербург      Павел  ... 2018-08-15  smart                50   \n",
       "3213  Санкт-Петербург      Павел  ... 2018-08-15  smart                50   \n",
       "\n",
       "      mb_per_month_included  minutes_included  rub_monthly_fee  rub_per_gb  \\\n",
       "0                     30720              3000             1950         150   \n",
       "1                     30720              3000             1950         150   \n",
       "2                     30720              3000             1950         150   \n",
       "3                     30720              3000             1950         150   \n",
       "4                     30720              3000             1950         150   \n",
       "...                     ...               ...              ...         ...   \n",
       "3209                  15360               500              550         200   \n",
       "3210                  15360               500              550         200   \n",
       "3211                  15360               500              550         200   \n",
       "3212                  15360               500              550         200   \n",
       "3213                  15360               500              550         200   \n",
       "\n",
       "      rub_per_message  rub_per_minute  tariff_name  \n",
       "0                   1               1        ultra  \n",
       "1                   1               1        ultra  \n",
       "2                   1               1        ultra  \n",
       "3                   1               1        ultra  \n",
       "4                   1               1        ultra  \n",
       "...               ...             ...          ...  \n",
       "3209                3               3        smart  \n",
       "3210                3               3        smart  \n",
       "3211                3               3        smart  \n",
       "3212                3               3        smart  \n",
       "3213                3               3        smart  \n",
       "\n",
       "[3214 rows x 21 columns]"
      ]
     },
     "execution_count": 46,
     "metadata": {},
     "output_type": "execute_result"
    }
   ],
   "source": [
    "all_gr_user = all_gr.merge(users, on='user_id', how='left')\n",
    "df = all_gr_user.merge(tariffs, left_on='tariff', right_on='tariff_name', how='left')\n",
    "df"
   ]
  },
  {
   "cell_type": "code",
   "execution_count": 47,
   "metadata": {},
   "outputs": [
    {
     "name": "stdout",
     "output_type": "stream",
     "text": [
      "<class 'pandas.core.frame.DataFrame'>\n",
      "Int64Index: 3214 entries, 0 to 3213\n",
      "Data columns (total 21 columns):\n",
      " #   Column                 Non-Null Count  Dtype         \n",
      "---  ------                 --------------  -----         \n",
      " 0   user_id                3214 non-null   int64         \n",
      " 1   month                  3214 non-null   int64         \n",
      " 2   count_x                3168 non-null   float64       \n",
      " 3   sum_x                  3168 non-null   float64       \n",
      " 4   sum_y                  3201 non-null   float64       \n",
      " 5   count_y                2717 non-null   float64       \n",
      " 6   age                    3214 non-null   int64         \n",
      " 7   churn_date             3214 non-null   datetime64[ns]\n",
      " 8   city                   3214 non-null   object        \n",
      " 9   first_name             3214 non-null   object        \n",
      " 10  last_name              3214 non-null   object        \n",
      " 11  reg_date               3214 non-null   datetime64[ns]\n",
      " 12  tariff                 3214 non-null   object        \n",
      " 13  messages_included      3214 non-null   int64         \n",
      " 14  mb_per_month_included  3214 non-null   int64         \n",
      " 15  minutes_included       3214 non-null   int64         \n",
      " 16  rub_monthly_fee        3214 non-null   int64         \n",
      " 17  rub_per_gb             3214 non-null   int64         \n",
      " 18  rub_per_message        3214 non-null   int64         \n",
      " 19  rub_per_minute         3214 non-null   int64         \n",
      " 20  tariff_name            3214 non-null   object        \n",
      "dtypes: datetime64[ns](2), float64(4), int64(10), object(5)\n",
      "memory usage: 552.4+ KB\n"
     ]
    }
   ],
   "source": [
    "df.info()"
   ]
  },
  {
   "cell_type": "markdown",
   "metadata": {},
   "source": [
    "#### Слегка приберемся в шапке, пропусках и типах данных:"
   ]
  },
  {
   "cell_type": "code",
   "execution_count": 48,
   "metadata": {},
   "outputs": [
    {
     "name": "stdout",
     "output_type": "stream",
     "text": [
      "<class 'pandas.core.frame.DataFrame'>\n",
      "Int64Index: 3214 entries, 0 to 3213\n",
      "Data columns (total 21 columns):\n",
      " #   Column                 Non-Null Count  Dtype         \n",
      "---  ------                 --------------  -----         \n",
      " 0   user_id                3214 non-null   int64         \n",
      " 1   month                  3214 non-null   int64         \n",
      " 2   minutes_count          3214 non-null   int64         \n",
      " 3   minutes                3214 non-null   int64         \n",
      " 4   trafic                 3214 non-null   int64         \n",
      " 5   messages               3214 non-null   int64         \n",
      " 6   age                    3214 non-null   int64         \n",
      " 7   churn_date             3214 non-null   datetime64[ns]\n",
      " 8   city                   3214 non-null   object        \n",
      " 9   first_name             3214 non-null   object        \n",
      " 10  last_name              3214 non-null   object        \n",
      " 11  reg_date               3214 non-null   datetime64[ns]\n",
      " 12  tariff                 3214 non-null   object        \n",
      " 13  messages_included      3214 non-null   int64         \n",
      " 14  mb_per_month_included  3214 non-null   int64         \n",
      " 15  minutes_included       3214 non-null   int64         \n",
      " 16  rub_monthly_fee        3214 non-null   int64         \n",
      " 17  rub_per_gb             3214 non-null   int64         \n",
      " 18  rub_per_message        3214 non-null   int64         \n",
      " 19  rub_per_minute         3214 non-null   int64         \n",
      " 20  tariff_name            3214 non-null   object        \n",
      "dtypes: datetime64[ns](2), int64(14), object(5)\n",
      "memory usage: 552.4+ KB\n"
     ]
    }
   ],
   "source": [
    "df.columns = ['user_id', 'month', 'minutes_count', 'minutes', 'trafic', 'messages', 'age',\n",
    "       'churn_date', 'city', 'first_name', 'last_name', 'reg_date', 'tariff',\n",
    "       'messages_included', 'mb_per_month_included', 'minutes_included',\n",
    "       'rub_monthly_fee', 'rub_per_gb', 'rub_per_message', 'rub_per_minute',\n",
    "       'tariff_name']\n",
    "\n",
    "df = df.fillna(0)\n",
    "for column in['minutes_count', 'minutes', 'trafic', 'messages']:\n",
    "    df[column] = df[column].astype('int')\n",
    "\n",
    "df.info()"
   ]
  },
  {
   "cell_type": "markdown",
   "metadata": {},
   "source": [
    "#### Проверим на \"косых\" цифрах исходные и полученный датафреймы:"
   ]
  },
  {
   "cell_type": "code",
   "execution_count": 49,
   "metadata": {},
   "outputs": [
    {
     "data": {
      "text/plain": [
       "True"
      ]
     },
     "execution_count": 49,
     "metadata": {},
     "output_type": "execute_result"
    }
   ],
   "source": [
    "calls.duration.sum() == df.minutes.sum()"
   ]
  },
  {
   "cell_type": "code",
   "execution_count": 50,
   "metadata": {},
   "outputs": [
    {
     "data": {
      "text/plain": [
       "True"
      ]
     },
     "execution_count": 50,
     "metadata": {},
     "output_type": "execute_result"
    }
   ],
   "source": [
    "internet.mb_used.sum()== df.trafic.sum()"
   ]
  },
  {
   "cell_type": "code",
   "execution_count": 51,
   "metadata": {},
   "outputs": [
    {
     "data": {
      "text/plain": [
       "True"
      ]
     },
     "execution_count": 51,
     "metadata": {},
     "output_type": "execute_result"
    }
   ],
   "source": [
    "messages.message_date.count() == df.messages.sum()"
   ]
  },
  {
   "cell_type": "markdown",
   "metadata": {},
   "source": [
    "#### Проведенные с исходными данными манипуляции корректны, перейдем к расчету выручки:"
   ]
  },
  {
   "cell_type": "code",
   "execution_count": 52,
   "metadata": {},
   "outputs": [],
   "source": [
    "def revenue(minutes, minutes_included, rub_per_minute,\\\n",
    "            trafic, mb_per_month_included, rub_per_gb,\\\n",
    "            messages, messages_included, rub_per_message,\\\n",
    "            churn_date, month, reg_date, rub_monthly_fee):\n",
    "    if (minutes - minutes_included)> 0:\n",
    "        minutes_rev = (minutes - minutes_included)*rub_per_minute\n",
    "    else: minutes_rev = 0\n",
    "    if (trafic - mb_per_month_included)> 0:\n",
    "        trafic_rev = (trafic - mb_per_month_included)/1024*rub_per_gb\n",
    "    else: trafic_rev = 0\n",
    "    if (messages - messages_included)> 0:\n",
    "        messages_rev = (messages - messages_included)*rub_per_message\n",
    "    else: messages_rev = 0\n",
    "    if reg_date.month <= month <=churn_date.month:\n",
    "        reven = minutes_rev + trafic_rev + messages_rev + rub_monthly_fee\n",
    "    else: reven = 0\n",
    "    \n",
    "    return reven"
   ]
  },
  {
   "cell_type": "markdown",
   "metadata": {},
   "source": [
    "*Проверим работоспособность))) ....*"
   ]
  },
  {
   "cell_type": "code",
   "execution_count": 53,
   "metadata": {},
   "outputs": [
    {
     "data": {
      "text/plain": [
       "1100"
      ]
     },
     "execution_count": 53,
     "metadata": {},
     "output_type": "execute_result"
    }
   ],
   "source": [
    "a = pd.to_datetime('2018-10-16', format='%Y-%m-%d')\n",
    "b = pd.to_datetime('2018-6-30', format='%Y-%m-%d')\n",
    "revenue(100, 90, 10, 2024, 3024, 1, 80, 90, 0.5, a, 9, b, 1000)"
   ]
  },
  {
   "cell_type": "code",
   "execution_count": 54,
   "metadata": {},
   "outputs": [],
   "source": [
    "for i in range(len(df)):\n",
    "    df.loc[i, 'reven'] = revenue(df.loc[i, 'minutes'], df.loc[i, 'minutes_included'], df.loc[i, 'rub_per_minute'],\\\n",
    "            df.loc[i, 'trafic'], df.loc[i, 'mb_per_month_included'], df.loc[i, 'rub_per_gb'],\\\n",
    "            df.loc[i, 'messages'], df.loc[i, 'messages_included'], df.loc[i, 'rub_per_message'],\\\n",
    "            df.loc[i, 'churn_date'], df.loc[i, 'month'], df.loc[i, 'reg_date'],\\\n",
    "            df.loc[i, 'rub_monthly_fee'])\n",
    "    "
   ]
  },
  {
   "cell_type": "code",
   "execution_count": 55,
   "metadata": {},
   "outputs": [
    {
     "data": {
      "text/plain": [
       "count   3,214.00\n",
       "mean    1,486.86\n",
       "std       783.96\n",
       "min       550.00\n",
       "25%       694.00\n",
       "50%     1,563.18\n",
       "75%     1,950.00\n",
       "max     6,711.02\n",
       "Name: reven, dtype: float64"
      ]
     },
     "execution_count": 55,
     "metadata": {},
     "output_type": "execute_result"
    }
   ],
   "source": [
    "df['reven'].describe()"
   ]
  },
  {
   "cell_type": "code",
   "execution_count": 56,
   "metadata": {},
   "outputs": [
    {
     "data": {
      "image/png": "[encoded data removed]",
      "text/plain": [
       "<Figure size 432x288 with 2 Axes>"
      ]
     },
     "metadata": {
      "needs_background": "light"
     },
     "output_type": "display_data"
    }
   ],
   "source": [
    "f, (ax_box, ax_hist) = plt.subplots(2, sharex=True, gridspec_kw={\"height_ratios\": (.15, .85)})\n",
    "sns.boxplot(df[\"reven\"], ax=ax_box)\n",
    "sns.distplot(df[\"reven\"], ax=ax_hist, hist=True, kde=True)\n",
    "ax_box.set(xlabel='')\n",
    "plt.show()"
   ]
  },
  {
   "cell_type": "code",
   "execution_count": 57,
   "metadata": {},
   "outputs": [
    {
     "data": {
      "text/plain": [
       "4778757.982421875"
      ]
     },
     "execution_count": 57,
     "metadata": {},
     "output_type": "execute_result"
    }
   ],
   "source": [
    "df['reven'].sum()"
   ]
  },
  {
   "cell_type": "markdown",
   "metadata": {},
   "source": [
    "#### Пока все выглядит очень жизнеутверждающе: два пика на абонентских платах, ну и \"болтуны\"  в зоне выбросов для порядка.\n",
    "\n",
    "### Вывод:\n",
    "Данные готовы к анализу, приступим..."
   ]
  },
  {
   "cell_type": "markdown",
   "metadata": {},
   "source": [
    "[к содержанию...](#title)"
   ]
  },
  {
   "cell_type": "markdown",
   "metadata": {},
   "source": [
    "<a name=\"analitika\"></a>\n",
    "# 3. Анализ данных\n",
    "**Проанализируем следующие параметры**:\n",
    "- количество израсходованных минут \n",
    "- количество отправленных сообщений\n",
    "- объем израсходованного интернет-трафика по месяцам\n",
    "- выручки каждого пользователя\n",
    "\n",
    "**Будем оценивать**:\n",
    "- количественные показатели\n",
    "- среднее, дисперсию и стандартное отклонение\n"
   ]
  },
  {
   "cell_type": "markdown",
   "metadata": {},
   "source": [
    "Подготовим функцию которая опишет нам требуемые столбцы, \n",
    "в принципе вся эта информация уже известна нам из *describe()*, но сделаем это для тренировки..."
   ]
  },
  {
   "cell_type": "code",
   "execution_count": 58,
   "metadata": {},
   "outputs": [],
   "source": [
    "def m_v_st(column):\n",
    "    print('---------------------')\n",
    "    print(column)\n",
    "    print('---------------------')\n",
    "    print('Smart')\n",
    "    print('Среднее: {:.2f}'.format(df.query('tariff == \"smart\"')[column].mean()))\n",
    "    print('Дисперсия: {:.2f}'.format(np.var(df.query('tariff == \"smart\"')[column])))\n",
    "    print('Стандартное отклонение: {:.2f}'.format(np.sqrt(np.var(df.query('tariff == \"smart\"')[column]))))\n",
    "    print('Ultra')\n",
    "    print('Среднее: {:.2f}'.format(df.query('tariff == \"ultra\"')[column].mean()))\n",
    "    print('Дисперсия: {:.2f}'.format(np.var(df.query('tariff == \"ultra\"')[column])))\n",
    "    print('Стандартное отклонение: {:.2f}'.format(np.sqrt(np.var(df.query('tariff == \"ultra\"')[column]))))\n",
    "      "
   ]
  },
  {
   "cell_type": "markdown",
   "metadata": {},
   "source": [
    "### Количество израсходованных минут разговора по месяцам"
   ]
  },
  {
   "cell_type": "markdown",
   "metadata": {},
   "source": [
    "Проведем краткий анализ и опишем **распределение количества израсходованных минут разговора**, как этого требует ТЗ: построим гистограмму, определим среднее, дисперсию и стандартное отклонение, опишем распределение.\n",
    "В предварительных выводах будем фиксировать 2 момента:\n",
    "\n",
    "1. Оценивать статистические параметры распределеня величины в рамках года.\n",
    "2. Оценивать средние значения параметра для одного пользователя в месяц."
   ]
  },
  {
   "cell_type": "code",
   "execution_count": 59,
   "metadata": {},
   "outputs": [
    {
     "data": {
      "text/html": [
       "<div>\n",
       "<style scoped>\n",
       "    .dataframe tbody tr th:only-of-type {\n",
       "        vertical-align: middle;\n",
       "    }\n",
       "\n",
       "    .dataframe tbody tr th {\n",
       "        vertical-align: top;\n",
       "    }\n",
       "\n",
       "    .dataframe thead th {\n",
       "        text-align: right;\n",
       "    }\n",
       "</style>\n",
       "<table border=\"1\" class=\"dataframe\">\n",
       "  <thead>\n",
       "    <tr style=\"text-align: right;\">\n",
       "      <th></th>\n",
       "      <th>count</th>\n",
       "      <th>mean</th>\n",
       "      <th>std</th>\n",
       "      <th>min</th>\n",
       "      <th>25%</th>\n",
       "      <th>50%</th>\n",
       "      <th>75%</th>\n",
       "      <th>max</th>\n",
       "    </tr>\n",
       "    <tr>\n",
       "      <th>tariff</th>\n",
       "      <th></th>\n",
       "      <th></th>\n",
       "      <th></th>\n",
       "      <th></th>\n",
       "      <th></th>\n",
       "      <th></th>\n",
       "      <th></th>\n",
       "      <th></th>\n",
       "    </tr>\n",
       "  </thead>\n",
       "  <tbody>\n",
       "    <tr>\n",
       "      <th>smart</th>\n",
       "      <td>2,229.00</td>\n",
       "      <td>417.93</td>\n",
       "      <td>190.31</td>\n",
       "      <td>0.00</td>\n",
       "      <td>282.00</td>\n",
       "      <td>422.00</td>\n",
       "      <td>545.00</td>\n",
       "      <td>1,435.00</td>\n",
       "    </tr>\n",
       "    <tr>\n",
       "      <th>ultra</th>\n",
       "      <td>985.00</td>\n",
       "      <td>526.62</td>\n",
       "      <td>317.61</td>\n",
       "      <td>0.00</td>\n",
       "      <td>284.00</td>\n",
       "      <td>518.00</td>\n",
       "      <td>752.00</td>\n",
       "      <td>1,673.00</td>\n",
       "    </tr>\n",
       "  </tbody>\n",
       "</table>\n",
       "</div>"
      ],
      "text/plain": [
       "          count   mean    std  min    25%    50%    75%      max\n",
       "tariff                                                          \n",
       "smart  2,229.00 417.93 190.31 0.00 282.00 422.00 545.00 1,435.00\n",
       "ultra    985.00 526.62 317.61 0.00 284.00 518.00 752.00 1,673.00"
      ]
     },
     "execution_count": 59,
     "metadata": {},
     "output_type": "execute_result"
    }
   ],
   "source": [
    "df.groupby('tariff')['minutes'].describe()"
   ]
  },
  {
   "cell_type": "code",
   "execution_count": 60,
   "metadata": {},
   "outputs": [
    {
     "data": {
      "image/png": "[encoded data removed]",
      "text/plain": [
       "<Figure size 720x432 with 3 Axes>"
      ]
     },
     "metadata": {
      "needs_background": "light"
     },
     "output_type": "display_data"
    }
   ],
   "source": [
    "f, (ax1_box, ax2_box, ax_hist) =\\\n",
    "plt.subplots(3, figsize=(10, 6), sharex=True,\\\n",
    "             gridspec_kw={\"height_ratios\": (.15, .15, .70)})\n",
    "\n",
    "sns.boxplot(df.query('tariff == \"smart\"')[\"minutes\"], ax=ax1_box)\n",
    "sns.boxplot(df.query('tariff == \"ultra\"')[\"minutes\"], ax=ax2_box,\\\n",
    "            color='orange')\n",
    "sns.distplot(df.query('tariff == \"smart\"')[\"minutes\"],\\\n",
    "             ax=ax_hist, hist=True, kde=True, label='Smart')\n",
    "sns.distplot(df.query('tariff == \"ultra\"')[\"minutes\"],\\\n",
    "             ax=ax_hist, hist=True, kde=True, label='Ultra', color='orange')\n",
    "\n",
    "ax1_box.set(xlabel='')\n",
    "ax1_box.set(title='Распределение значения времени разговора в месяц по тарифам (минуты)')\n",
    "ax2_box.set(xlabel='')\n",
    "ax_hist.legend()\n",
    "plt.show()"
   ]
  },
  {
   "cell_type": "code",
   "execution_count": 61,
   "metadata": {},
   "outputs": [
    {
     "name": "stdout",
     "output_type": "stream",
     "text": [
      "---------------------\n",
      "minutes\n",
      "---------------------\n",
      "Smart\n",
      "Среднее: 417.93\n",
      "Дисперсия: 36203.07\n",
      "Стандартное отклонение: 190.27\n",
      "Ultra\n",
      "Среднее: 526.62\n",
      "Дисперсия: 100771.22\n",
      "Стандартное отклонение: 317.44\n"
     ]
    }
   ],
   "source": [
    "m_v_st('minutes')"
   ]
  },
  {
   "cell_type": "markdown",
   "metadata": {},
   "source": [
    "#### Оценим картину в разрезе 12 месяцев:"
   ]
  },
  {
   "cell_type": "markdown",
   "metadata": {},
   "source": [
    "Красивый совмещенный график..."
   ]
  },
  {
   "cell_type": "code",
   "execution_count": 62,
   "metadata": {},
   "outputs": [
    {
     "data": {
      "image/png": "[encoded data removed]",
      "text/plain": [
       "<Figure size 432x288 with 1 Axes>"
      ]
     },
     "metadata": {
      "needs_background": "light"
     },
     "output_type": "display_data"
    }
   ],
   "source": [
    "\n",
    "df.query('tariff == \"ultra\"').groupby('month')['minutes'].mean()\\\n",
    "  .plot(kind='bar', color='orange', alpha=0.75)\n",
    "df.query('tariff == \"smart\"').groupby('month')['minutes'].mean()\\\n",
    "  .plot(kind='bar')\n",
    "plt.title('Распределение времени по тарифам и месяцам', fontsize=14)\n",
    "plt.ylabel('минуты в месяц')\n",
    "plt.legend(['Ultra', 'Smart'])\n",
    "plt.show()"
   ]
  },
  {
   "cell_type": "markdown",
   "metadata": {},
   "source": [
    "... и не много сухих цифр)))\n",
    "#### Smart:"
   ]
  },
  {
   "cell_type": "code",
   "execution_count": 63,
   "metadata": {},
   "outputs": [
    {
     "data": {
      "text/plain": [
       "count    12.00\n",
       "mean    386.76\n",
       "std      72.26\n",
       "min     203.85\n",
       "25%     382.30\n",
       "50%     402.00\n",
       "75%     426.75\n",
       "max     478.56\n",
       "Name: minutes, dtype: float64"
      ]
     },
     "execution_count": 63,
     "metadata": {},
     "output_type": "execute_result"
    }
   ],
   "source": [
    "df.query('tariff == \"smart\"').groupby('month')['minutes'].mean().describe()"
   ]
  },
  {
   "cell_type": "markdown",
   "metadata": {},
   "source": [
    "#### Ultra:"
   ]
  },
  {
   "cell_type": "code",
   "execution_count": 64,
   "metadata": {},
   "outputs": [
    {
     "data": {
      "text/plain": [
       "count    12.00\n",
       "mean    495.93\n",
       "std      77.45\n",
       "min     297.12\n",
       "25%     474.28\n",
       "50%     510.55\n",
       "75%     542.48\n",
       "max     592.81\n",
       "Name: minutes, dtype: float64"
      ]
     },
     "execution_count": 64,
     "metadata": {},
     "output_type": "execute_result"
    }
   ],
   "source": [
    "df.query('tariff == \"ultra\"').groupby('month')['minutes'].mean().describe()"
   ]
  },
  {
   "cell_type": "markdown",
   "metadata": {},
   "source": [
    "#### Вывод\n",
    "1. Оба распределения являются нормальными. Оба практически не имеют скошенности (среднее и медиана лежат рядом). Распределение на тарифе \"ultra\" имеет большее стандартное отклонение, что хорошо видно из графиков.\n",
    "2. Среднее время разговора одного пользователя в месяц для \"ultra\" - 496 минут, для \"smart\" - 389. Минивальное время разговоров 203, максимальное 593 минуты\n",
    "\n"
   ]
  },
  {
   "cell_type": "markdown",
   "metadata": {},
   "source": [
    "### Количество отправленных сообщений по месяцам"
   ]
  },
  {
   "cell_type": "markdown",
   "metadata": {},
   "source": [
    "Проведем краткий анализ и опишем **распределение количества сообщений**: построим гистограмму, определим среднее, дисперсию и стандартное отклонение, опишем распределение."
   ]
  },
  {
   "cell_type": "code",
   "execution_count": 65,
   "metadata": {},
   "outputs": [
    {
     "data": {
      "text/html": [
       "<div>\n",
       "<style scoped>\n",
       "    .dataframe tbody tr th:only-of-type {\n",
       "        vertical-align: middle;\n",
       "    }\n",
       "\n",
       "    .dataframe tbody tr th {\n",
       "        vertical-align: top;\n",
       "    }\n",
       "\n",
       "    .dataframe thead th {\n",
       "        text-align: right;\n",
       "    }\n",
       "</style>\n",
       "<table border=\"1\" class=\"dataframe\">\n",
       "  <thead>\n",
       "    <tr style=\"text-align: right;\">\n",
       "      <th></th>\n",
       "      <th>count</th>\n",
       "      <th>mean</th>\n",
       "      <th>std</th>\n",
       "      <th>min</th>\n",
       "      <th>25%</th>\n",
       "      <th>50%</th>\n",
       "      <th>75%</th>\n",
       "      <th>max</th>\n",
       "    </tr>\n",
       "    <tr>\n",
       "      <th>tariff</th>\n",
       "      <th></th>\n",
       "      <th></th>\n",
       "      <th></th>\n",
       "      <th></th>\n",
       "      <th></th>\n",
       "      <th></th>\n",
       "      <th></th>\n",
       "      <th></th>\n",
       "    </tr>\n",
       "  </thead>\n",
       "  <tbody>\n",
       "    <tr>\n",
       "      <th>smart</th>\n",
       "      <td>2,229.00</td>\n",
       "      <td>33.38</td>\n",
       "      <td>28.23</td>\n",
       "      <td>0.00</td>\n",
       "      <td>10.00</td>\n",
       "      <td>28.00</td>\n",
       "      <td>51.00</td>\n",
       "      <td>143.00</td>\n",
       "    </tr>\n",
       "    <tr>\n",
       "      <th>ultra</th>\n",
       "      <td>985.00</td>\n",
       "      <td>49.36</td>\n",
       "      <td>47.80</td>\n",
       "      <td>0.00</td>\n",
       "      <td>6.00</td>\n",
       "      <td>38.00</td>\n",
       "      <td>79.00</td>\n",
       "      <td>224.00</td>\n",
       "    </tr>\n",
       "  </tbody>\n",
       "</table>\n",
       "</div>"
      ],
      "text/plain": [
       "          count  mean   std  min   25%   50%   75%    max\n",
       "tariff                                                   \n",
       "smart  2,229.00 33.38 28.23 0.00 10.00 28.00 51.00 143.00\n",
       "ultra    985.00 49.36 47.80 0.00  6.00 38.00 79.00 224.00"
      ]
     },
     "execution_count": 65,
     "metadata": {},
     "output_type": "execute_result"
    }
   ],
   "source": [
    "df.groupby('tariff')['messages'].describe()"
   ]
  },
  {
   "cell_type": "code",
   "execution_count": 66,
   "metadata": {},
   "outputs": [
    {
     "data": {
      "image/png": "[encoded data removed]",
      "text/plain": [
       "<Figure size 720x432 with 3 Axes>"
      ]
     },
     "metadata": {
      "needs_background": "light"
     },
     "output_type": "display_data"
    }
   ],
   "source": [
    "f, (ax1_box, ax2_box, ax_hist) =\\\n",
    "plt.subplots(3, figsize=(10, 6), sharex=True,\\\n",
    "             gridspec_kw={\"height_ratios\": (.15, .15, .70)})\n",
    "\n",
    "sns.boxplot(df.query('tariff == \"smart\"')['messages'], ax=ax1_box)\n",
    "sns.boxplot(df.query('tariff == \"ultra\"')['messages'], ax=ax2_box,\\\n",
    "            color='orange')\n",
    "sns.distplot(df.query('tariff == \"smart\"')['messages'],\\\n",
    "             ax=ax_hist, hist=True, kde=True, label='Smart')\n",
    "sns.distplot(df.query('tariff == \"ultra\"')['messages'],\\\n",
    "             ax=ax_hist, hist=True, kde=True, label='Ultra', color='orange')\n",
    "\n",
    "ax1_box.set(xlabel='')\n",
    "ax1_box.set(title='Распределение количества сообщений в месяц по тарифам (шт.)')\n",
    "ax2_box.set(xlabel='')\n",
    "ax_hist.legend()\n",
    "plt.show()"
   ]
  },
  {
   "cell_type": "code",
   "execution_count": 67,
   "metadata": {},
   "outputs": [
    {
     "name": "stdout",
     "output_type": "stream",
     "text": [
      "---------------------\n",
      "messages\n",
      "---------------------\n",
      "Smart\n",
      "Среднее: 33.38\n",
      "Дисперсия: 796.46\n",
      "Стандартное отклонение: 28.22\n",
      "Ultra\n",
      "Среднее: 49.36\n",
      "Дисперсия: 2282.95\n",
      "Стандартное отклонение: 47.78\n"
     ]
    }
   ],
   "source": [
    "m_v_st('messages')"
   ]
  },
  {
   "cell_type": "markdown",
   "metadata": {},
   "source": [
    "#### Оценим картину в разрезе 12 месяцев:"
   ]
  },
  {
   "cell_type": "markdown",
   "metadata": {},
   "source": [
    "График..."
   ]
  },
  {
   "cell_type": "code",
   "execution_count": 68,
   "metadata": {},
   "outputs": [
    {
     "data": {
      "image/png": "[encoded data removed]",
      "text/plain": [
       "<Figure size 432x288 with 1 Axes>"
      ]
     },
     "metadata": {
      "needs_background": "light"
     },
     "output_type": "display_data"
    }
   ],
   "source": [
    "df.query('tariff == \"ultra\"').groupby('month')['messages'].mean()\\\n",
    "  .plot(kind='bar', color='orange', alpha=0.75)\n",
    "df.query('tariff == \"smart\"').groupby('month')['messages'].mean()\\\n",
    "  .plot(kind='bar')\n",
    "plt.title('Распределение количества сообщений по тарифам и месяцам', fontsize=14)\n",
    "plt.ylabel('шт. в месяц')\n",
    "plt.legend(['Ultra', 'Smart'])\n",
    "plt.show()"
   ]
  },
  {
   "cell_type": "markdown",
   "metadata": {},
   "source": [
    "... цифры\n",
    "#### Smart:"
   ]
  },
  {
   "cell_type": "code",
   "execution_count": 69,
   "metadata": {},
   "outputs": [
    {
     "data": {
      "text/plain": [
       "count   12.00\n",
       "mean    31.41\n",
       "std      5.10\n",
       "min     18.24\n",
       "25%     31.58\n",
       "50%     33.64\n",
       "75%     33.77\n",
       "max     35.99\n",
       "Name: messages, dtype: float64"
      ]
     },
     "execution_count": 69,
     "metadata": {},
     "output_type": "execute_result"
    }
   ],
   "source": [
    "df.query('tariff == \"smart\"').groupby('month')['messages'].mean().describe()"
   ]
  },
  {
   "cell_type": "markdown",
   "metadata": {},
   "source": [
    "#### Ultra:"
   ]
  },
  {
   "cell_type": "code",
   "execution_count": 70,
   "metadata": {},
   "outputs": [
    {
     "data": {
      "text/plain": [
       "count   12.00\n",
       "mean    43.71\n",
       "std     12.32\n",
       "min     21.96\n",
       "25%     33.41\n",
       "50%     45.08\n",
       "75%     53.16\n",
       "max     60.61\n",
       "Name: messages, dtype: float64"
      ]
     },
     "execution_count": 70,
     "metadata": {},
     "output_type": "execute_result"
    }
   ],
   "source": [
    "df.query('tariff == \"ultra\"').groupby('month')['messages'].mean().describe()"
   ]
  },
  {
   "cell_type": "markdown",
   "metadata": {},
   "source": [
    "#### Вывод\n",
    "1. Оба распределения являются нормальными. Оба скошены в право. Данные менее однородны по сравнению с временем разговоров и трафиком. \n",
    "2. Среднее количество сообщений одного пользователя в месяц для \"ultra\" - 44, для \"smart\" - 31.\n",
    "\n"
   ]
  },
  {
   "cell_type": "markdown",
   "metadata": {},
   "source": [
    "### Объем израсходованного интернет-трафика по месяцам"
   ]
  },
  {
   "cell_type": "markdown",
   "metadata": {},
   "source": [
    "Проведем краткий анализ и опишем **распределение интернет трафика**: построим гистограмму, определим среднее, дисперсию и стандартное отклонение, опишем распределение."
   ]
  },
  {
   "cell_type": "code",
   "execution_count": 71,
   "metadata": {},
   "outputs": [
    {
     "data": {
      "text/html": [
       "<div>\n",
       "<style scoped>\n",
       "    .dataframe tbody tr th:only-of-type {\n",
       "        vertical-align: middle;\n",
       "    }\n",
       "\n",
       "    .dataframe tbody tr th {\n",
       "        vertical-align: top;\n",
       "    }\n",
       "\n",
       "    .dataframe thead th {\n",
       "        text-align: right;\n",
       "    }\n",
       "</style>\n",
       "<table border=\"1\" class=\"dataframe\">\n",
       "  <thead>\n",
       "    <tr style=\"text-align: right;\">\n",
       "      <th></th>\n",
       "      <th>count</th>\n",
       "      <th>mean</th>\n",
       "      <th>std</th>\n",
       "      <th>min</th>\n",
       "      <th>25%</th>\n",
       "      <th>50%</th>\n",
       "      <th>75%</th>\n",
       "      <th>max</th>\n",
       "    </tr>\n",
       "    <tr>\n",
       "      <th>tariff</th>\n",
       "      <th></th>\n",
       "      <th></th>\n",
       "      <th></th>\n",
       "      <th></th>\n",
       "      <th></th>\n",
       "      <th></th>\n",
       "      <th></th>\n",
       "      <th></th>\n",
       "    </tr>\n",
       "  </thead>\n",
       "  <tbody>\n",
       "    <tr>\n",
       "      <th>smart</th>\n",
       "      <td>2,229.00</td>\n",
       "      <td>16,229.19</td>\n",
       "      <td>5,877.58</td>\n",
       "      <td>0.00</td>\n",
       "      <td>12,658.00</td>\n",
       "      <td>16,531.00</td>\n",
       "      <td>20,068.00</td>\n",
       "      <td>38,610.00</td>\n",
       "    </tr>\n",
       "    <tr>\n",
       "      <th>ultra</th>\n",
       "      <td>985.00</td>\n",
       "      <td>19,486.90</td>\n",
       "      <td>10,096.32</td>\n",
       "      <td>0.00</td>\n",
       "      <td>11,785.00</td>\n",
       "      <td>19,324.00</td>\n",
       "      <td>26,863.00</td>\n",
       "      <td>49,789.00</td>\n",
       "    </tr>\n",
       "  </tbody>\n",
       "</table>\n",
       "</div>"
      ],
      "text/plain": [
       "          count      mean       std  min       25%       50%       75%  \\\n",
       "tariff                                                                   \n",
       "smart  2,229.00 16,229.19  5,877.58 0.00 12,658.00 16,531.00 20,068.00   \n",
       "ultra    985.00 19,486.90 10,096.32 0.00 11,785.00 19,324.00 26,863.00   \n",
       "\n",
       "             max  \n",
       "tariff            \n",
       "smart  38,610.00  \n",
       "ultra  49,789.00  "
      ]
     },
     "execution_count": 71,
     "metadata": {},
     "output_type": "execute_result"
    }
   ],
   "source": [
    "df.groupby('tariff')['trafic'].describe()"
   ]
  },
  {
   "cell_type": "code",
   "execution_count": 72,
   "metadata": {},
   "outputs": [
    {
     "data": {
      "image/png": "[encoded data removed]",
      "text/plain": [
       "<Figure size 720x432 with 3 Axes>"
      ]
     },
     "metadata": {
      "needs_background": "light"
     },
     "output_type": "display_data"
    }
   ],
   "source": [
    "f, (ax1_box, ax2_box, ax_hist) =\\\n",
    "plt.subplots(3, figsize=(10, 6), sharex=True,\\\n",
    "             gridspec_kw={\"height_ratios\": (.15, .15, .70)})\n",
    "\n",
    "sns.boxplot(df.query('tariff == \"smart\"')['trafic'], ax=ax1_box)\n",
    "sns.boxplot(df.query('tariff == \"ultra\"')['trafic'], ax=ax2_box,\\\n",
    "            color='orange')\n",
    "sns.distplot(df.query('tariff == \"smart\"')['trafic'],\\\n",
    "             ax=ax_hist, hist=True, kde=True, label='Smart')\n",
    "sns.distplot(df.query('tariff == \"ultra\"')['trafic'],\\\n",
    "             ax=ax_hist, hist=True, kde=True, label='Ultra', color='orange')\n",
    "\n",
    "ax1_box.set(xlabel='')\n",
    "ax1_box.set(title='Распределение интернет трафика в месяц по тарифам (шт.)')\n",
    "ax2_box.set(xlabel='')\n",
    "ax_hist.legend()\n",
    "plt.show()"
   ]
  },
  {
   "cell_type": "code",
   "execution_count": 73,
   "metadata": {},
   "outputs": [
    {
     "name": "stdout",
     "output_type": "stream",
     "text": [
      "---------------------\n",
      "trafic\n",
      "---------------------\n",
      "Smart\n",
      "Среднее: 16229.19\n",
      "Дисперсия: 34530412.74\n",
      "Стандартное отклонение: 5876.26\n",
      "Ultra\n",
      "Среднее: 19486.90\n",
      "Дисперсия: 101832133.11\n",
      "Стандартное отклонение: 10091.19\n"
     ]
    }
   ],
   "source": [
    "m_v_st('trafic')"
   ]
  },
  {
   "cell_type": "markdown",
   "metadata": {},
   "source": [
    "#### Оценим картину в разрезе 12 месяцев:"
   ]
  },
  {
   "cell_type": "markdown",
   "metadata": {},
   "source": [
    "График..."
   ]
  },
  {
   "cell_type": "code",
   "execution_count": 74,
   "metadata": {},
   "outputs": [
    {
     "data": {
      "image/png": "[encoded data removed]",
      "text/plain": [
       "<Figure size 432x288 with 1 Axes>"
      ]
     },
     "metadata": {
      "needs_background": "light"
     },
     "output_type": "display_data"
    }
   ],
   "source": [
    "df.query('tariff == \"ultra\"').groupby('month')['trafic'].mean()\\\n",
    "  .plot(kind='bar', color='orange', alpha=0.75)\n",
    "df.query('tariff == \"smart\"').groupby('month')['trafic'].mean()\\\n",
    "  .plot(kind='bar')\n",
    "plt.title('Распределение интернет-трафика по тарифам и месяцам', fontsize=14)\n",
    "plt.ylabel('Мбайт в месяц')\n",
    "plt.legend(['Ultra', 'Smart'])\n",
    "plt.show()"
   ]
  },
  {
   "cell_type": "markdown",
   "metadata": {},
   "source": [
    "... цифры\n",
    "#### Smart:"
   ]
  },
  {
   "cell_type": "code",
   "execution_count": 75,
   "metadata": {},
   "outputs": [
    {
     "data": {
      "text/plain": [
       "count       12.00\n",
       "mean    15,077.69\n",
       "std      2,674.74\n",
       "min      8,524.44\n",
       "25%     14,712.76\n",
       "50%     15,819.98\n",
       "75%     16,668.77\n",
       "max     18,136.83\n",
       "Name: trafic, dtype: float64"
      ]
     },
     "execution_count": 75,
     "metadata": {},
     "output_type": "execute_result"
    }
   ],
   "source": [
    "df.query('tariff == \"smart\"').groupby('month')['trafic'].mean().describe()"
   ]
  },
  {
   "cell_type": "markdown",
   "metadata": {},
   "source": [
    "#### Ultra:"
   ]
  },
  {
   "cell_type": "code",
   "execution_count": 76,
   "metadata": {},
   "outputs": [
    {
     "data": {
      "text/plain": [
       "count       12.00\n",
       "mean    18,222.78\n",
       "std      2,988.58\n",
       "min     11,786.96\n",
       "25%     17,374.93\n",
       "50%     19,301.70\n",
       "75%     19,869.95\n",
       "max     21,813.59\n",
       "Name: trafic, dtype: float64"
      ]
     },
     "execution_count": 76,
     "metadata": {},
     "output_type": "execute_result"
    }
   ],
   "source": [
    "df.query('tariff == \"ultra\"').groupby('month')['trafic'].mean().describe()"
   ]
  },
  {
   "cell_type": "markdown",
   "metadata": {},
   "source": [
    "#### Вывод\n",
    "1. Оба распределения являются нормальными. Оба практически не имеют скошенности (среднее и медиана лежат рядом). Распределение на тарифе \"ultra\" имеет большее стандартное отклонение, что хорошо видно из графиков. \n",
    "2. Средний трафик одного пользователя в месяц для \"ultra\" - 18Гб, для \"smart\" - 15Гб. Минивальный среднемесячный трафик 8.5Гб, максимальное 21.5Гб\n",
    "\n"
   ]
  },
  {
   "cell_type": "markdown",
   "metadata": {},
   "source": [
    "### Расчет помесячной выручки каждого пользователя"
   ]
  },
  {
   "cell_type": "markdown",
   "metadata": {},
   "source": [
    "Проведем краткий анализ и опишем **распределение количества сообщений**: построим гистограмму, определим среднее, дисперсию и стандартное отклонение, опишем распределение."
   ]
  },
  {
   "cell_type": "code",
   "execution_count": 77,
   "metadata": {
    "scrolled": true
   },
   "outputs": [
    {
     "data": {
      "text/html": [
       "<div>\n",
       "<style scoped>\n",
       "    .dataframe tbody tr th:only-of-type {\n",
       "        vertical-align: middle;\n",
       "    }\n",
       "\n",
       "    .dataframe tbody tr th {\n",
       "        vertical-align: top;\n",
       "    }\n",
       "\n",
       "    .dataframe thead th {\n",
       "        text-align: right;\n",
       "    }\n",
       "</style>\n",
       "<table border=\"1\" class=\"dataframe\">\n",
       "  <thead>\n",
       "    <tr style=\"text-align: right;\">\n",
       "      <th></th>\n",
       "      <th>count</th>\n",
       "      <th>mean</th>\n",
       "      <th>std</th>\n",
       "      <th>min</th>\n",
       "      <th>25%</th>\n",
       "      <th>50%</th>\n",
       "      <th>75%</th>\n",
       "      <th>max</th>\n",
       "    </tr>\n",
       "    <tr>\n",
       "      <th>tariff</th>\n",
       "      <th></th>\n",
       "      <th></th>\n",
       "      <th></th>\n",
       "      <th></th>\n",
       "      <th></th>\n",
       "      <th></th>\n",
       "      <th></th>\n",
       "      <th></th>\n",
       "    </tr>\n",
       "  </thead>\n",
       "  <tbody>\n",
       "    <tr>\n",
       "      <th>smart</th>\n",
       "      <td>2,229.00</td>\n",
       "      <td>1,233.35</td>\n",
       "      <td>787.69</td>\n",
       "      <td>550.00</td>\n",
       "      <td>550.00</td>\n",
       "      <td>959.90</td>\n",
       "      <td>1,668.12</td>\n",
       "      <td>6,711.02</td>\n",
       "    </tr>\n",
       "    <tr>\n",
       "      <th>ultra</th>\n",
       "      <td>985.00</td>\n",
       "      <td>2,060.53</td>\n",
       "      <td>356.31</td>\n",
       "      <td>1,950.00</td>\n",
       "      <td>1,950.00</td>\n",
       "      <td>1,950.00</td>\n",
       "      <td>1,950.00</td>\n",
       "      <td>4,743.31</td>\n",
       "    </tr>\n",
       "  </tbody>\n",
       "</table>\n",
       "</div>"
      ],
      "text/plain": [
       "          count     mean    std      min      25%      50%      75%      max\n",
       "tariff                                                                      \n",
       "smart  2,229.00 1,233.35 787.69   550.00   550.00   959.90 1,668.12 6,711.02\n",
       "ultra    985.00 2,060.53 356.31 1,950.00 1,950.00 1,950.00 1,950.00 4,743.31"
      ]
     },
     "execution_count": 77,
     "metadata": {},
     "output_type": "execute_result"
    }
   ],
   "source": [
    "df.groupby('tariff')['reven'].describe()"
   ]
  },
  {
   "cell_type": "code",
   "execution_count": 78,
   "metadata": {},
   "outputs": [
    {
     "name": "stderr",
     "output_type": "stream",
     "text": [
      "/home/den3d/anaconda3/lib/python3.8/site-packages/seaborn/distributions.py:369: UserWarning: Default bandwidth for data is 0; skipping density estimation.\n",
      "  warnings.warn(msg, UserWarning)\n"
     ]
    },
    {
     "data": {
      "image/png": "[encoded data removed]",
      "text/plain": [
       "<Figure size 720x432 with 3 Axes>"
      ]
     },
     "metadata": {
      "needs_background": "light"
     },
     "output_type": "display_data"
    }
   ],
   "source": [
    "f, (ax1_box, ax2_box, ax_hist) =\\\n",
    "plt.subplots(3, figsize=(10, 6), sharex=True,\\\n",
    "             gridspec_kw={\"height_ratios\": (.15, .15, .70)})\n",
    "\n",
    "sns.boxplot(df.query('tariff == \"smart\"')['reven'], ax=ax1_box)\n",
    "sns.boxplot(df.query('tariff == \"ultra\"')['reven'], ax=ax2_box,\\\n",
    "            color='orange')\n",
    "sns.distplot(df.query('tariff == \"smart\"')['reven'],\\\n",
    "             ax=ax_hist, hist=True, kde=True, label='Smart')\n",
    "sns.distplot(df.query('reven > 0 & tariff == \"ultra\"')['reven'],\\\n",
    "             ax=ax_hist, hist=True, kde=True, label='Ultra', color='orange')\n",
    "\n",
    "ax1_box.set(xlabel='')\n",
    "ax1_box.set(title='Распределение выручки в месяц по тарифам (шт.)')\n",
    "ax2_box.set(xlabel='')\n",
    "ax_hist.legend()\n",
    "plt.show()"
   ]
  },
  {
   "cell_type": "code",
   "execution_count": 79,
   "metadata": {},
   "outputs": [
    {
     "data": {
      "text/plain": [
       "43"
      ]
     },
     "execution_count": 79,
     "metadata": {},
     "output_type": "execute_result"
    }
   ],
   "source": [
    "len(df.query('tariff == \"ultra\" & reven > 1950').groupby('user_id')['reven'].mean())"
   ]
  },
  {
   "cell_type": "markdown",
   "metadata": {},
   "source": [
    "Всего 43 пользователя тарифа Ultra превышают рамки абонентской платы, это 4,4%"
   ]
  },
  {
   "cell_type": "code",
   "execution_count": 80,
   "metadata": {},
   "outputs": [
    {
     "data": {
      "text/plain": [
       "333"
      ]
     },
     "execution_count": 80,
     "metadata": {},
     "output_type": "execute_result"
    }
   ],
   "source": [
    "len(df.query('tariff == \"smart\" & reven > 550').groupby('user_id')['reven'].mean())"
   ]
  },
  {
   "cell_type": "markdown",
   "metadata": {},
   "source": [
    "На Smart картина совсем иная - 333 пользователя тарифа  превышают рамки абонентской платы, это 14,9%"
   ]
  },
  {
   "cell_type": "code",
   "execution_count": 81,
   "metadata": {
    "scrolled": true
   },
   "outputs": [
    {
     "name": "stdout",
     "output_type": "stream",
     "text": [
      "---------------------\n",
      "reven\n",
      "---------------------\n",
      "Smart\n",
      "Среднее: 1233.35\n",
      "Дисперсия: 620174.25\n",
      "Стандартное отклонение: 787.51\n",
      "Ultra\n",
      "Среднее: 2060.53\n",
      "Дисперсия: 126824.40\n",
      "Стандартное отклонение: 356.12\n"
     ]
    }
   ],
   "source": [
    "m_v_st('reven')"
   ]
  },
  {
   "cell_type": "markdown",
   "metadata": {},
   "source": [
    "#### Оценим картину в разрезе 12 месяцев:"
   ]
  },
  {
   "cell_type": "markdown",
   "metadata": {},
   "source": [
    "Красивый совмещенный график..."
   ]
  },
  {
   "cell_type": "code",
   "execution_count": 82,
   "metadata": {},
   "outputs": [
    {
     "data": {
      "image/png": "[encoded data removed]",
      "text/plain": [
       "<Figure size 432x288 with 1 Axes>"
      ]
     },
     "metadata": {
      "needs_background": "light"
     },
     "output_type": "display_data"
    }
   ],
   "source": [
    "df.query('tariff == \"ultra\"').groupby('month')['reven'].mean()\\\n",
    "  .plot(kind='bar', color='orange', alpha=0.75)\n",
    "df.query('tariff == \"smart\"').groupby('month')['reven'].mean()\\\n",
    "  .plot(kind='bar')\n",
    "plt.title('Распределение выручки по тарифам и месяцам', fontsize=14)\n",
    "plt.ylabel('руб. в месяц')\n",
    "plt.legend(['Ultra', 'Smart'])\n",
    "plt.show()"
   ]
  },
  {
   "cell_type": "markdown",
   "metadata": {},
   "source": [
    "... и не много сухих цифр)))\n",
    "#### Smart:"
   ]
  },
  {
   "cell_type": "code",
   "execution_count": 83,
   "metadata": {},
   "outputs": [
    {
     "data": {
      "text/plain": [
       "count      12.00\n",
       "mean    1,130.32\n",
       "std       223.77\n",
       "min       702.56\n",
       "25%     1,069.37\n",
       "50%     1,158.82\n",
       "75%     1,264.71\n",
       "max     1,505.87\n",
       "Name: reven, dtype: float64"
      ]
     },
     "execution_count": 83,
     "metadata": {},
     "output_type": "execute_result"
    }
   ],
   "source": [
    "df.query('tariff == \"smart\"').groupby('month')['reven'].mean().describe()"
   ]
  },
  {
   "cell_type": "code",
   "execution_count": 84,
   "metadata": {
    "scrolled": true
   },
   "outputs": [
    {
     "data": {
      "text/plain": [
       "2749135.9609375"
      ]
     },
     "execution_count": 84,
     "metadata": {},
     "output_type": "execute_result"
    }
   ],
   "source": [
    "df.query('tariff == \"smart\"')['reven'].sum()"
   ]
  },
  {
   "cell_type": "markdown",
   "metadata": {},
   "source": [
    "#### Ultra:"
   ]
  },
  {
   "cell_type": "code",
   "execution_count": 85,
   "metadata": {},
   "outputs": [
    {
     "data": {
      "text/plain": [
       "count      12.00\n",
       "mean    2,038.92\n",
       "std        53.82\n",
       "min     1,950.00\n",
       "25%     2,001.99\n",
       "50%     2,043.51\n",
       "75%     2,073.56\n",
       "max     2,126.25\n",
       "Name: reven, dtype: float64"
      ]
     },
     "execution_count": 85,
     "metadata": {},
     "output_type": "execute_result"
    }
   ],
   "source": [
    "df.query('tariff == \"ultra\"').groupby('month')['reven'].mean().describe()"
   ]
  },
  {
   "cell_type": "code",
   "execution_count": 86,
   "metadata": {},
   "outputs": [
    {
     "data": {
      "text/plain": [
       "2029622.021484375"
      ]
     },
     "execution_count": 86,
     "metadata": {},
     "output_type": "execute_result"
    }
   ],
   "source": [
    "df.query('tariff == \"ultra\"')['reven'].sum()"
   ]
  },
  {
   "cell_type": "markdown",
   "metadata": {},
   "source": [
    "## Вывод\n",
    "\n",
    "**Среднестатистический пользователь тарифа \"smart\" за месяц:**\n",
    "- выговаривает **389 минут** (500 верхняя граница пакета)\n",
    "- тратит **15 Гб** трафика (15 верхняя граница пакета)\n",
    "- пишет **31 смс** (50 верхняя граница)\n",
    "- платит оператору **1 130 рублей**\n",
    "\n",
    "\n",
    "**Среднестатистический пользователь тарифа \"ultra\" за месяц:**\n",
    "- выговаривает **496 минут** (3000 верхняя граница пакета)\n",
    "- тратит **18 Гб** трафика (30 верхняя граница пакета)\n",
    "- пишет **44 смс** (1000 верхняя граница)\n",
    "- платит оператору **2 039 рублей**\n",
    "\n",
    "Так же установлено, что всего **4,4% пользователей \"ultra\" не укладывается в рамки своего тарифа**, в то время как на **\"smart\" картина совсем иная и почти 15% пользователей выходят за его рамки**.\n",
    "\n",
    "\n",
    "\n",
    "**Что касается распределения самих исследуемых величин** (минуты разговора, сообщения, трафик):\n",
    "1. Параметры имеют **нормальное распределение**.\n",
    "2. **Минуты разговора и трафик имеют симметричное распределение**.\n",
    "3. Их распределение **на тарифе \"ultra\"** имеет **большее стандартное отклонение**, что хорошо видно из графиков.\n",
    "4. **Данные о сообщениях** менее однородны по сравнению с временем разговоров и трафиком, а так же распределение на обоих тарифах **скошены в право**.\n"
   ]
  },
  {
   "cell_type": "markdown",
   "metadata": {},
   "source": [
    "[к содержанию...](#title)"
   ]
  },
  {
   "cell_type": "markdown",
   "metadata": {},
   "source": [
    "<a name=\"gipoteza\"></a>\n",
    "# 4. Проверка гипотез"
   ]
  },
  {
   "cell_type": "markdown",
   "metadata": {},
   "source": [
    "<a name=\"gipoteza01\"></a>\n",
    "## Гипотеза \"Тарифы\""
   ]
  },
  {
   "cell_type": "markdown",
   "metadata": {},
   "source": [
    "**Собственно сама гипотеза**: \"*средняя выручка пользователей тарифов \"Ultra\" и \"Smart\" различается*\"\n",
    "\n",
    "Тогда:\n",
    "\n",
    "**Н0**: \"*средняя выручка пользователей тарифов \"Ultra\" и \"Smart\" равна*\"\n",
    "\n",
    "**Н1**: \"*средняя выручка пользователей тарифов \"Ultra\" и \"Smart\" различается*\"\n",
    "\n",
    "Примем значение alpha 5%"
   ]
  },
  {
   "cell_type": "code",
   "execution_count": 87,
   "metadata": {},
   "outputs": [],
   "source": [
    "df_ultra = df.query('tariff == \"ultra\"')\n",
    "df_smart = df.query('tariff == \"smart\"')\n",
    "\n",
    "result_1 = st.ttest_ind(df_ultra['reven'], df_smart['reven'])"
   ]
  },
  {
   "cell_type": "code",
   "execution_count": 88,
   "metadata": {},
   "outputs": [
    {
     "data": {
      "text/plain": [
       "1.0"
      ]
     },
     "execution_count": 88,
     "metadata": {},
     "output_type": "execute_result"
    }
   ],
   "source": [
    "1 - result_1.pvalue"
   ]
  },
  {
   "cell_type": "markdown",
   "metadata": {},
   "source": [
    "#### Гипотеза Н1 подтверждена с вероятностью 100%, т.е.:\n",
    "\n",
    "**\"Средняя выручка пользователей тарифов \"Ultra\" и \"Smart\" различается\"**"
   ]
  },
  {
   "cell_type": "markdown",
   "metadata": {},
   "source": [
    "[к содержанию...](#title)"
   ]
  },
  {
   "cell_type": "markdown",
   "metadata": {},
   "source": [
    "<a name=\"gipoteza02\"></a>\n",
    "## Гипотеза \"Россия не Москва\""
   ]
  },
  {
   "cell_type": "markdown",
   "metadata": {},
   "source": [
    "**Гипотеза**: \"*средняя выручка пользователей из Москвы отличается от выручки пользователей из других регионов*\"\n",
    "\n",
    "Тогда:\n",
    "\n",
    "**Н0**: \"*средняя выручка пользователей из Москвы равна выручки пользователей из других регионов*\"\n",
    "\n",
    "**Н1**: \"*средняя выручка пользователей из Москвы отличается от выручки пользователей из других регионов*\"\n",
    "\n",
    "Примем значение alpha 5.\n",
    "\n",
    "Учитывая что проверяемая гипотеза сформулирована как альтернативная, её вероятность будет определяться как (1 - р)."
   ]
  },
  {
   "cell_type": "code",
   "execution_count": 89,
   "metadata": {},
   "outputs": [],
   "source": [
    "df_moscow = df.query('city == \"Москва\"')\n",
    "df_region = df.query('city != \"Москва\"')"
   ]
  },
  {
   "cell_type": "markdown",
   "metadata": {},
   "source": [
    "Воспользуемся **стат.тестом Левене** для сравнения дисперсий полученных выше выборок:"
   ]
  },
  {
   "cell_type": "code",
   "execution_count": 90,
   "metadata": {},
   "outputs": [
    {
     "data": {
      "text/plain": [
       "0.02146589284693293"
      ]
     },
     "execution_count": 90,
     "metadata": {},
     "output_type": "execute_result"
    }
   ],
   "source": [
    "stat, p = levene(df_moscow.reven, df_region.reven)\n",
    "p"
   ]
  },
  {
   "cell_type": "markdown",
   "metadata": {},
   "source": [
    "**малое значение р говорит о том, что выборки не имеют равных дисперсий**\n",
    "\n",
    "для сравнения проведем прямой расчет дисперсий:"
   ]
  },
  {
   "cell_type": "code",
   "execution_count": 91,
   "metadata": {},
   "outputs": [
    {
     "data": {
      "text/plain": [
       "[547242.7498927516, 630503.854634667]"
      ]
     },
     "execution_count": 91,
     "metadata": {},
     "output_type": "execute_result"
    }
   ],
   "source": [
    "[np.var(x, ddof=1) for x in [df_moscow.reven, df_region.reven]]"
   ]
  },
  {
   "cell_type": "markdown",
   "metadata": {},
   "source": [
    "**Значения дисперсий отличаются на 13% -> используем *equal_var=False* в st.ttest_ind** и  выполняем t-тест Уэлча, который не предполагает равенства популяционных дисперсий"
   ]
  },
  {
   "cell_type": "code",
   "execution_count": 92,
   "metadata": {},
   "outputs": [],
   "source": [
    "result_2 = st.ttest_ind(df_moscow.reven, df_region.reven, equal_var=False)"
   ]
  },
  {
   "cell_type": "code",
   "execution_count": 93,
   "metadata": {},
   "outputs": [
    {
     "data": {
      "text/plain": [
       "0.5450224353528976"
      ]
     },
     "execution_count": 93,
     "metadata": {},
     "output_type": "execute_result"
    }
   ],
   "source": [
    "1 - result_2.pvalue"
   ]
  },
  {
   "cell_type": "markdown",
   "metadata": {},
   "source": [
    "#### Гипотеза Н1 не подтверждена, вероятность описанного события всего 54% (при допустимом пороге 95), т.е.:\n",
    "\n",
    "**\"Cредняя выручка пользователей из Москвы не обязательно отличается от выручки пользователей из других регионов.**"
   ]
  },
  {
   "cell_type": "markdown",
   "metadata": {},
   "source": [
    "[к содержанию...](#title)"
   ]
  },
  {
   "cell_type": "markdown",
   "metadata": {},
   "source": [
    "<a name=\"general\"></a>\n",
    "# 5. Общий вывод"
   ]
  },
  {
   "cell_type": "markdown",
   "metadata": {},
   "source": [
    "### И так ответим сразу на главный вопрос исследования: \n",
    "\n",
    "\"*Какой тариф приносит больше денег?*\"\n",
    "\n",
    "**smart - 2,75 млн.руб.**\n",
    "\n",
    "**ultra - 2,03 млн.руб.**\n",
    "\n",
    "### Но вернемся к потребностям пользователей и распределению наших параметров:\n",
    "\n",
    "\n",
    "**Среднестатистический пользователь тарифа \"smart\" за месяц:**\n",
    "- выговаривает **389 минут** (500 верхняя граница пакета)\n",
    "- тратит **15 Гб** трафика (15 верхняя граница пакета)\n",
    "- пишет **31 смс** (50 верхняя граница)\n",
    "- платит оператору **1 130 рублей**\n",
    "\n",
    "\n",
    "**Среднестатистический пользователь тарифа \"ultra\" за месяц:**\n",
    "- выговаривает **496 минут** (3000 верхняя граница пакета)\n",
    "- тратит **18 Гб** трафика (30 верхняя граница пакета)\n",
    "- пишет **44 смс** (1000 верхняя граница)\n",
    "- платит оператору **2 039 рублей**\n",
    "\n",
    "Так же установлено, что всего **4,4% пользователей \"ultra\" не укладывается в рамки своего тарифа**, в то время как на **\"smart\" картина совсем иная и почти 15% пользователей выходят за его рамки**.\n",
    "\n",
    "\n",
    "\n",
    "**Что касается распределения самих исследуемых величин** (минуты разговора, сообщения, трафик):\n",
    "1. Параметры имеют **нормальное распределение**.\n",
    "2. **Минуты разговора и трафик имеют симметричное распределение**.\n",
    "3. Их распределение **на тарифе \"ultra\"** имеет **большее стандартное отклонение**, что хорошо видно из графиков.\n",
    "4. **Данные о сообщениях** менее однородны по сравнению с временем разговоров и трафиком, а так же распределение на обоих тарифах **скошены в право**.\n",
    "\n",
    "### Так же отметим, что:\n",
    "1. **Первая гипотеза** о том, что *Средняя выручка пользователей тарифов \"Ultra\" и \"Smart\" различается* **подтверждена** с вероятностью 100%.\n",
    "2. А вот **вторая гипотеза**: \"Cредняя выручка пользователей из Москвы отличается от выручки пользователей из других регионов - **не подтверждена**.\n",
    "\n",
    "\n",
    "\n",
    "\n"
   ]
  },
  {
   "cell_type": "markdown",
   "metadata": {},
   "source": [
    "[к содержанию...](#title)"
   ]
  }
 ],
 "metadata": {
  "kernelspec": {
   "display_name": "Python 3",
   "language": "python",
   "name": "python3"
  },
  "language_info": {
   "codemirror_mode": {
    "name": "ipython",
    "version": 3
   },
   "file_extension": ".py",
   "mimetype": "text/x-python",
   "name": "python",
   "nbconvert_exporter": "python",
   "pygments_lexer": "ipython3",
   "version": "3.8.3"
  }
 },
 "nbformat": 4,
 "nbformat_minor": 4
}
