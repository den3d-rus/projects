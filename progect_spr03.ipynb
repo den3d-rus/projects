{
 "cells": [
  {
   "cell_type": "markdown",
   "metadata": {},
   "source": [
    "# Исследование объявлений о продаже квартир\n",
    "\n",
    "\n",
    "ПРОЕКТНАЯ РАБОТА - СПРИНТ 3"
   ]
  },
  {
   "cell_type": "markdown",
   "metadata": {},
   "source": [
    "<a name=\"title\"></a>\n",
    "### Содержание\n",
    "\n",
    "[Описание проекта](#info)\n",
    "1. [Открытие данных](#start)\n",
    "2. [Предобработка данных](#preprocessing)\n",
    "    * [Обработка пропусков](#null)\n",
    "    * [Замена типа данных](#data_type)\n",
    "3. [Подготовка таблицы](#tabl)\n",
    "4. [Аналитика](#analitika)\n",
    "    * [Параметры и гистограммы](#param)\n",
    "    * [Задание: \"Время продажи квартиры\"](#time)\n",
    "    * [Задание: \"Редкие и выбивающиеся значения\"](#del_param)\n",
    "    * [Задание: \"Факторы и стоимости квартиры\"](#factor)\n",
    "    * [Задание: \"Средняя цена квадратного метра\"](#sq_meter)\n",
    "    * [Задание: \"Центр\"](#centre)\n",
    "5. [Общий вывод](#general)"
   ]
  },
  {
   "cell_type": "markdown",
   "metadata": {},
   "source": [
    "<a name=\"info\"></a>\n",
    "## Описание проекта\n",
    "В нашем распоряжении данные сервиса Яндекс.Недвижимость — архив\n",
    "объявлений о продаже квартир в Санкт-Петербурге и соседних\n",
    "населённых пунктах за несколько лет. \n",
    "\n",
    "**Цель** - научиться определять рыночную стоимость объектов недвижимости.\n",
    "\n",
    "**Задача** - установить параметры. \n",
    "\n",
    "Это позволит построить автоматизированную\n",
    "систему: она отследит аномалии и мошенническую деятельность.\n",
    "\n",
    "\n",
    "**Данные предоставлены в формате csv, выборка содержит 23,7 тысячи записей.**\n",
    "\n",
    "По каждой квартире на продажу доступны два вида данных. Первые\n",
    "вписаны пользователем, вторые — получены автоматически на основе\n",
    "картографических данных. Например, расстояние до центра, аэропорта,\n",
    "ближайшего парка и водоёма."
   ]
  },
  {
   "cell_type": "markdown",
   "metadata": {},
   "source": [
    "[к содержанию...](#title)"
   ]
  },
  {
   "cell_type": "markdown",
   "metadata": {},
   "source": [
    "<a name=\"start\"></a>\n",
    "## 1. Открытие данных"
   ]
  },
  {
   "cell_type": "code",
   "execution_count": 1,
   "metadata": {},
   "outputs": [],
   "source": [
    "import pandas as pd\n",
    "import seaborn as sns\n",
    "import matplotlib.pyplot as plt"
   ]
  },
  {
   "cell_type": "code",
   "execution_count": 2,
   "metadata": {},
   "outputs": [
    {
     "name": "stdout",
     "output_type": "stream",
     "text": [
      "<class 'pandas.core.frame.DataFrame'>\n",
      "RangeIndex: 23699 entries, 0 to 23698\n",
      "Data columns (total 22 columns):\n",
      " #   Column                Non-Null Count  Dtype  \n",
      "---  ------                --------------  -----  \n",
      " 0   total_images          23699 non-null  int64  \n",
      " 1   last_price            23699 non-null  float64\n",
      " 2   total_area            23699 non-null  float64\n",
      " 3   first_day_exposition  23699 non-null  object \n",
      " 4   rooms                 23699 non-null  int64  \n",
      " 5   ceiling_height        14504 non-null  float64\n",
      " 6   floors_total          23613 non-null  float64\n",
      " 7   living_area           21796 non-null  float64\n",
      " 8   floor                 23699 non-null  int64  \n",
      " 9   is_apartment          2775 non-null   object \n",
      " 10  studio                23699 non-null  bool   \n",
      " 11  open_plan             23699 non-null  bool   \n",
      " 12  kitchen_area          21421 non-null  float64\n",
      " 13  balcony               12180 non-null  float64\n",
      " 14  locality_name         23650 non-null  object \n",
      " 15  airports_nearest      18157 non-null  float64\n",
      " 16  cityCenters_nearest   18180 non-null  float64\n",
      " 17  parks_around3000      18181 non-null  float64\n",
      " 18  parks_nearest         8079 non-null   float64\n",
      " 19  ponds_around3000      18181 non-null  float64\n",
      " 20  ponds_nearest         9110 non-null   float64\n",
      " 21  days_exposition       20518 non-null  float64\n",
      "dtypes: bool(2), float64(14), int64(3), object(3)\n",
      "memory usage: 3.7+ MB\n"
     ]
    },
    {
     "data": {
      "text/html": [
       "<div>\n",
       "<style scoped>\n",
       "    .dataframe tbody tr th:only-of-type {\n",
       "        vertical-align: middle;\n",
       "    }\n",
       "\n",
       "    .dataframe tbody tr th {\n",
       "        vertical-align: top;\n",
       "    }\n",
       "\n",
       "    .dataframe thead th {\n",
       "        text-align: right;\n",
       "    }\n",
       "</style>\n",
       "<table border=\"1\" class=\"dataframe\">\n",
       "  <thead>\n",
       "    <tr style=\"text-align: right;\">\n",
       "      <th></th>\n",
       "      <th>total_images</th>\n",
       "      <th>last_price</th>\n",
       "      <th>total_area</th>\n",
       "      <th>first_day_exposition</th>\n",
       "      <th>rooms</th>\n",
       "      <th>ceiling_height</th>\n",
       "      <th>floors_total</th>\n",
       "      <th>living_area</th>\n",
       "      <th>floor</th>\n",
       "      <th>is_apartment</th>\n",
       "      <th>...</th>\n",
       "      <th>kitchen_area</th>\n",
       "      <th>balcony</th>\n",
       "      <th>locality_name</th>\n",
       "      <th>airports_nearest</th>\n",
       "      <th>cityCenters_nearest</th>\n",
       "      <th>parks_around3000</th>\n",
       "      <th>parks_nearest</th>\n",
       "      <th>ponds_around3000</th>\n",
       "      <th>ponds_nearest</th>\n",
       "      <th>days_exposition</th>\n",
       "    </tr>\n",
       "  </thead>\n",
       "  <tbody>\n",
       "    <tr>\n",
       "      <th>0</th>\n",
       "      <td>20</td>\n",
       "      <td>13000000.0</td>\n",
       "      <td>108.0</td>\n",
       "      <td>2019-03-07T00:00:00</td>\n",
       "      <td>3</td>\n",
       "      <td>2.70</td>\n",
       "      <td>16.0</td>\n",
       "      <td>51.0</td>\n",
       "      <td>8</td>\n",
       "      <td>NaN</td>\n",
       "      <td>...</td>\n",
       "      <td>25.0</td>\n",
       "      <td>NaN</td>\n",
       "      <td>Санкт-Петербург</td>\n",
       "      <td>18863.0</td>\n",
       "      <td>16028.0</td>\n",
       "      <td>1.0</td>\n",
       "      <td>482.0</td>\n",
       "      <td>2.0</td>\n",
       "      <td>755.0</td>\n",
       "      <td>NaN</td>\n",
       "    </tr>\n",
       "    <tr>\n",
       "      <th>1</th>\n",
       "      <td>7</td>\n",
       "      <td>3350000.0</td>\n",
       "      <td>40.4</td>\n",
       "      <td>2018-12-04T00:00:00</td>\n",
       "      <td>1</td>\n",
       "      <td>NaN</td>\n",
       "      <td>11.0</td>\n",
       "      <td>18.6</td>\n",
       "      <td>1</td>\n",
       "      <td>NaN</td>\n",
       "      <td>...</td>\n",
       "      <td>11.0</td>\n",
       "      <td>2.0</td>\n",
       "      <td>посёлок Шушары</td>\n",
       "      <td>12817.0</td>\n",
       "      <td>18603.0</td>\n",
       "      <td>0.0</td>\n",
       "      <td>NaN</td>\n",
       "      <td>0.0</td>\n",
       "      <td>NaN</td>\n",
       "      <td>81.0</td>\n",
       "    </tr>\n",
       "    <tr>\n",
       "      <th>2</th>\n",
       "      <td>10</td>\n",
       "      <td>5196000.0</td>\n",
       "      <td>56.0</td>\n",
       "      <td>2015-08-20T00:00:00</td>\n",
       "      <td>2</td>\n",
       "      <td>NaN</td>\n",
       "      <td>5.0</td>\n",
       "      <td>34.3</td>\n",
       "      <td>4</td>\n",
       "      <td>NaN</td>\n",
       "      <td>...</td>\n",
       "      <td>8.3</td>\n",
       "      <td>0.0</td>\n",
       "      <td>Санкт-Петербург</td>\n",
       "      <td>21741.0</td>\n",
       "      <td>13933.0</td>\n",
       "      <td>1.0</td>\n",
       "      <td>90.0</td>\n",
       "      <td>2.0</td>\n",
       "      <td>574.0</td>\n",
       "      <td>558.0</td>\n",
       "    </tr>\n",
       "    <tr>\n",
       "      <th>3</th>\n",
       "      <td>0</td>\n",
       "      <td>64900000.0</td>\n",
       "      <td>159.0</td>\n",
       "      <td>2015-07-24T00:00:00</td>\n",
       "      <td>3</td>\n",
       "      <td>NaN</td>\n",
       "      <td>14.0</td>\n",
       "      <td>NaN</td>\n",
       "      <td>9</td>\n",
       "      <td>NaN</td>\n",
       "      <td>...</td>\n",
       "      <td>NaN</td>\n",
       "      <td>0.0</td>\n",
       "      <td>Санкт-Петербург</td>\n",
       "      <td>28098.0</td>\n",
       "      <td>6800.0</td>\n",
       "      <td>2.0</td>\n",
       "      <td>84.0</td>\n",
       "      <td>3.0</td>\n",
       "      <td>234.0</td>\n",
       "      <td>424.0</td>\n",
       "    </tr>\n",
       "    <tr>\n",
       "      <th>4</th>\n",
       "      <td>2</td>\n",
       "      <td>10000000.0</td>\n",
       "      <td>100.0</td>\n",
       "      <td>2018-06-19T00:00:00</td>\n",
       "      <td>2</td>\n",
       "      <td>3.03</td>\n",
       "      <td>14.0</td>\n",
       "      <td>32.0</td>\n",
       "      <td>13</td>\n",
       "      <td>NaN</td>\n",
       "      <td>...</td>\n",
       "      <td>41.0</td>\n",
       "      <td>NaN</td>\n",
       "      <td>Санкт-Петербург</td>\n",
       "      <td>31856.0</td>\n",
       "      <td>8098.0</td>\n",
       "      <td>2.0</td>\n",
       "      <td>112.0</td>\n",
       "      <td>1.0</td>\n",
       "      <td>48.0</td>\n",
       "      <td>121.0</td>\n",
       "    </tr>\n",
       "  </tbody>\n",
       "</table>\n",
       "<p>5 rows × 22 columns</p>\n",
       "</div>"
      ],
      "text/plain": [
       "   total_images  last_price  total_area first_day_exposition  rooms  \\\n",
       "0            20  13000000.0       108.0  2019-03-07T00:00:00      3   \n",
       "1             7   3350000.0        40.4  2018-12-04T00:00:00      1   \n",
       "2            10   5196000.0        56.0  2015-08-20T00:00:00      2   \n",
       "3             0  64900000.0       159.0  2015-07-24T00:00:00      3   \n",
       "4             2  10000000.0       100.0  2018-06-19T00:00:00      2   \n",
       "\n",
       "   ceiling_height  floors_total  living_area  floor is_apartment  ...  \\\n",
       "0            2.70          16.0         51.0      8          NaN  ...   \n",
       "1             NaN          11.0         18.6      1          NaN  ...   \n",
       "2             NaN           5.0         34.3      4          NaN  ...   \n",
       "3             NaN          14.0          NaN      9          NaN  ...   \n",
       "4            3.03          14.0         32.0     13          NaN  ...   \n",
       "\n",
       "   kitchen_area  balcony    locality_name  airports_nearest  \\\n",
       "0          25.0      NaN  Санкт-Петербург           18863.0   \n",
       "1          11.0      2.0   посёлок Шушары           12817.0   \n",
       "2           8.3      0.0  Санкт-Петербург           21741.0   \n",
       "3           NaN      0.0  Санкт-Петербург           28098.0   \n",
       "4          41.0      NaN  Санкт-Петербург           31856.0   \n",
       "\n",
       "  cityCenters_nearest  parks_around3000  parks_nearest  ponds_around3000  \\\n",
       "0             16028.0               1.0          482.0               2.0   \n",
       "1             18603.0               0.0            NaN               0.0   \n",
       "2             13933.0               1.0           90.0               2.0   \n",
       "3              6800.0               2.0           84.0               3.0   \n",
       "4              8098.0               2.0          112.0               1.0   \n",
       "\n",
       "   ponds_nearest  days_exposition  \n",
       "0          755.0              NaN  \n",
       "1            NaN             81.0  \n",
       "2          574.0            558.0  \n",
       "3          234.0            424.0  \n",
       "4           48.0            121.0  \n",
       "\n",
       "[5 rows x 22 columns]"
      ]
     },
     "execution_count": 2,
     "metadata": {},
     "output_type": "execute_result"
    }
   ],
   "source": [
    "df = pd.read_csv('datasets/real_estate_data.csv', sep='\\t')\n",
    "df.info()\n",
    "df.head()"
   ]
  },
  {
   "cell_type": "markdown",
   "metadata": {},
   "source": [
    "[к содержанию...](#title)"
   ]
  },
  {
   "cell_type": "markdown",
   "metadata": {},
   "source": [
    "  <a name=\"preprocessing\"></a>\n",
    "  ## 2. Предобработка данных"
   ]
  },
  {
   "cell_type": "markdown",
   "metadata": {},
   "source": [
    "<a name=\"null\"></a>\n",
    "## 2.1 Обработка пропусков"
   ]
  },
  {
   "cell_type": "markdown",
   "metadata": {},
   "source": [
    "Начнем с порядка в названии столбцов:"
   ]
  },
  {
   "cell_type": "code",
   "execution_count": 3,
   "metadata": {},
   "outputs": [],
   "source": [
    "df.set_axis(['total_images', 'last_price', 'total_area', 'first_day_exposition',\n",
    "       'rooms', 'ceiling_height', 'floors_total', 'living_area', 'floor',\n",
    "       'is_apartment', 'studio', 'open_plan', 'kitchen_area', 'balcony',\n",
    "       'locality_name', 'airports_nearest', 'city_centers_nearest',\n",
    "       'parks_around3000', 'parks_nearest', 'ponds_around3000',\n",
    "       'ponds_nearest', 'days_exposition'], axis = 'columns', inplace = True)"
   ]
  },
  {
   "cell_type": "markdown",
   "metadata": {},
   "source": [
    "### days_exposition\n",
    "\n",
    "Первоначальное предположение, что столбец 'days_exposition' логично заменить медианой и сохранить таким образом порядка 3 тысяч записей, привело к серьезным искажениям в дальнейшем анализе. \n",
    "\n",
    "Возможная причина пропусков - это то, что объявление еще находится в размещение, конечно это необходимо подтвердить с технарями, но на текущий момент, **верным решением будет удалить строки с пропущенными значениями**, так как незакрытая сделка не может гарантировать нам реальной рыночной цены. "
   ]
  },
  {
   "cell_type": "code",
   "execution_count": 4,
   "metadata": {},
   "outputs": [
    {
     "name": "stdout",
     "output_type": "stream",
     "text": [
      "<class 'pandas.core.frame.DataFrame'>\n",
      "Int64Index: 20518 entries, 1 to 23697\n",
      "Data columns (total 22 columns):\n",
      " #   Column                Non-Null Count  Dtype  \n",
      "---  ------                --------------  -----  \n",
      " 0   total_images          20518 non-null  int64  \n",
      " 1   last_price            20518 non-null  float64\n",
      " 2   total_area            20518 non-null  float64\n",
      " 3   first_day_exposition  20518 non-null  object \n",
      " 4   rooms                 20518 non-null  int64  \n",
      " 5   ceiling_height        12051 non-null  float64\n",
      " 6   floors_total          20441 non-null  float64\n",
      " 7   living_area           18813 non-null  float64\n",
      " 8   floor                 20518 non-null  int64  \n",
      " 9   is_apartment          2500 non-null   object \n",
      " 10  studio                20518 non-null  bool   \n",
      " 11  open_plan             20518 non-null  bool   \n",
      " 12  kitchen_area          18443 non-null  float64\n",
      " 13  balcony               11109 non-null  float64\n",
      " 14  locality_name         20470 non-null  object \n",
      " 15  airports_nearest      15843 non-null  float64\n",
      " 16  city_centers_nearest  15865 non-null  float64\n",
      " 17  parks_around3000      15865 non-null  float64\n",
      " 18  parks_nearest         6934 non-null   float64\n",
      " 19  ponds_around3000      15865 non-null  float64\n",
      " 20  ponds_nearest         7894 non-null   float64\n",
      " 21  days_exposition       20518 non-null  float64\n",
      "dtypes: bool(2), float64(14), int64(3), object(3)\n",
      "memory usage: 3.3+ MB\n"
     ]
    }
   ],
   "source": [
    "df.dropna(subset = ['days_exposition'], inplace = True)\n",
    "df.info()"
   ]
  },
  {
   "cell_type": "markdown",
   "metadata": {},
   "source": [
    "### ceiling_height"
   ]
  },
  {
   "cell_type": "code",
   "execution_count": 5,
   "metadata": {},
   "outputs": [
    {
     "data": {
      "text/plain": [
       "count    12051.000000\n",
       "mean         2.761805\n",
       "std          1.263803\n",
       "min          1.000000\n",
       "25%          2.520000\n",
       "50%          2.650000\n",
       "75%          2.800000\n",
       "max        100.000000\n",
       "Name: ceiling_height, dtype: float64"
      ]
     },
     "execution_count": 5,
     "metadata": {},
     "output_type": "execute_result"
    }
   ],
   "source": [
    "df['ceiling_height'].describe()"
   ]
  },
  {
   "cell_type": "markdown",
   "metadata": {},
   "source": [
    "Посмотрим глазками что у нас за чудеса питерской архитектуры с высотой потолков менее 2.1 (минимально допустимая высота по СНиП) и более 5 метров (для второго света в два этажа), а главное поймем их количество:"
   ]
  },
  {
   "cell_type": "code",
   "execution_count": 6,
   "metadata": {},
   "outputs": [
    {
     "data": {
      "text/html": [
       "<div>\n",
       "<style scoped>\n",
       "    .dataframe tbody tr th:only-of-type {\n",
       "        vertical-align: middle;\n",
       "    }\n",
       "\n",
       "    .dataframe tbody tr th {\n",
       "        vertical-align: top;\n",
       "    }\n",
       "\n",
       "    .dataframe thead th {\n",
       "        text-align: right;\n",
       "    }\n",
       "</style>\n",
       "<table border=\"1\" class=\"dataframe\">\n",
       "  <thead>\n",
       "    <tr style=\"text-align: right;\">\n",
       "      <th></th>\n",
       "      <th>total_images</th>\n",
       "      <th>last_price</th>\n",
       "      <th>total_area</th>\n",
       "      <th>first_day_exposition</th>\n",
       "      <th>rooms</th>\n",
       "      <th>ceiling_height</th>\n",
       "      <th>floors_total</th>\n",
       "      <th>living_area</th>\n",
       "      <th>floor</th>\n",
       "      <th>is_apartment</th>\n",
       "      <th>...</th>\n",
       "      <th>kitchen_area</th>\n",
       "      <th>balcony</th>\n",
       "      <th>locality_name</th>\n",
       "      <th>airports_nearest</th>\n",
       "      <th>city_centers_nearest</th>\n",
       "      <th>parks_around3000</th>\n",
       "      <th>parks_nearest</th>\n",
       "      <th>ponds_around3000</th>\n",
       "      <th>ponds_nearest</th>\n",
       "      <th>days_exposition</th>\n",
       "    </tr>\n",
       "  </thead>\n",
       "  <tbody>\n",
       "    <tr>\n",
       "      <th>355</th>\n",
       "      <td>17</td>\n",
       "      <td>3600000.0</td>\n",
       "      <td>55.20</td>\n",
       "      <td>2018-07-12T00:00:00</td>\n",
       "      <td>2</td>\n",
       "      <td>25.00</td>\n",
       "      <td>5.0</td>\n",
       "      <td>32.0</td>\n",
       "      <td>2</td>\n",
       "      <td>False</td>\n",
       "      <td>...</td>\n",
       "      <td>NaN</td>\n",
       "      <td>2.0</td>\n",
       "      <td>Гатчина</td>\n",
       "      <td>NaN</td>\n",
       "      <td>NaN</td>\n",
       "      <td>NaN</td>\n",
       "      <td>NaN</td>\n",
       "      <td>NaN</td>\n",
       "      <td>NaN</td>\n",
       "      <td>259.0</td>\n",
       "    </tr>\n",
       "    <tr>\n",
       "      <th>464</th>\n",
       "      <td>15</td>\n",
       "      <td>66571000.0</td>\n",
       "      <td>280.30</td>\n",
       "      <td>2015-06-11T00:00:00</td>\n",
       "      <td>6</td>\n",
       "      <td>5.20</td>\n",
       "      <td>8.0</td>\n",
       "      <td>159.5</td>\n",
       "      <td>7</td>\n",
       "      <td>NaN</td>\n",
       "      <td>...</td>\n",
       "      <td>21.10</td>\n",
       "      <td>0.0</td>\n",
       "      <td>Санкт-Петербург</td>\n",
       "      <td>26316.0</td>\n",
       "      <td>6655.0</td>\n",
       "      <td>3.0</td>\n",
       "      <td>187.0</td>\n",
       "      <td>1.0</td>\n",
       "      <td>616.0</td>\n",
       "      <td>578.0</td>\n",
       "    </tr>\n",
       "    <tr>\n",
       "      <th>552</th>\n",
       "      <td>11</td>\n",
       "      <td>2999000.0</td>\n",
       "      <td>33.50</td>\n",
       "      <td>2017-03-30T00:00:00</td>\n",
       "      <td>1</td>\n",
       "      <td>2.00</td>\n",
       "      <td>15.0</td>\n",
       "      <td>17.5</td>\n",
       "      <td>6</td>\n",
       "      <td>NaN</td>\n",
       "      <td>...</td>\n",
       "      <td>6.50</td>\n",
       "      <td>NaN</td>\n",
       "      <td>Санкт-Петербург</td>\n",
       "      <td>33972.0</td>\n",
       "      <td>11746.0</td>\n",
       "      <td>1.0</td>\n",
       "      <td>520.0</td>\n",
       "      <td>1.0</td>\n",
       "      <td>949.0</td>\n",
       "      <td>270.0</td>\n",
       "    </tr>\n",
       "    <tr>\n",
       "      <th>1388</th>\n",
       "      <td>20</td>\n",
       "      <td>59800000.0</td>\n",
       "      <td>399.00</td>\n",
       "      <td>2015-01-21T00:00:00</td>\n",
       "      <td>5</td>\n",
       "      <td>5.60</td>\n",
       "      <td>6.0</td>\n",
       "      <td>NaN</td>\n",
       "      <td>6</td>\n",
       "      <td>NaN</td>\n",
       "      <td>...</td>\n",
       "      <td>NaN</td>\n",
       "      <td>0.0</td>\n",
       "      <td>Санкт-Петербург</td>\n",
       "      <td>26204.0</td>\n",
       "      <td>6934.0</td>\n",
       "      <td>2.0</td>\n",
       "      <td>149.0</td>\n",
       "      <td>2.0</td>\n",
       "      <td>577.0</td>\n",
       "      <td>719.0</td>\n",
       "    </tr>\n",
       "    <tr>\n",
       "      <th>3474</th>\n",
       "      <td>3</td>\n",
       "      <td>1400000.0</td>\n",
       "      <td>30.00</td>\n",
       "      <td>2018-03-16T00:00:00</td>\n",
       "      <td>1</td>\n",
       "      <td>8.00</td>\n",
       "      <td>5.0</td>\n",
       "      <td>15.3</td>\n",
       "      <td>2</td>\n",
       "      <td>False</td>\n",
       "      <td>...</td>\n",
       "      <td>7.30</td>\n",
       "      <td>NaN</td>\n",
       "      <td>деревня Нурма</td>\n",
       "      <td>NaN</td>\n",
       "      <td>NaN</td>\n",
       "      <td>NaN</td>\n",
       "      <td>NaN</td>\n",
       "      <td>NaN</td>\n",
       "      <td>NaN</td>\n",
       "      <td>125.0</td>\n",
       "    </tr>\n",
       "    <tr>\n",
       "      <th>4212</th>\n",
       "      <td>1</td>\n",
       "      <td>2120000.0</td>\n",
       "      <td>35.43</td>\n",
       "      <td>2017-12-18T00:00:00</td>\n",
       "      <td>1</td>\n",
       "      <td>2.00</td>\n",
       "      <td>18.0</td>\n",
       "      <td>16.6</td>\n",
       "      <td>9</td>\n",
       "      <td>NaN</td>\n",
       "      <td>...</td>\n",
       "      <td>8.80</td>\n",
       "      <td>2.0</td>\n",
       "      <td>Тосно</td>\n",
       "      <td>NaN</td>\n",
       "      <td>NaN</td>\n",
       "      <td>NaN</td>\n",
       "      <td>NaN</td>\n",
       "      <td>NaN</td>\n",
       "      <td>NaN</td>\n",
       "      <td>36.0</td>\n",
       "    </tr>\n",
       "    <tr>\n",
       "      <th>4643</th>\n",
       "      <td>0</td>\n",
       "      <td>4300000.0</td>\n",
       "      <td>45.00</td>\n",
       "      <td>2018-02-01T00:00:00</td>\n",
       "      <td>2</td>\n",
       "      <td>25.00</td>\n",
       "      <td>9.0</td>\n",
       "      <td>30.0</td>\n",
       "      <td>2</td>\n",
       "      <td>NaN</td>\n",
       "      <td>...</td>\n",
       "      <td>7.00</td>\n",
       "      <td>1.0</td>\n",
       "      <td>Санкт-Петербург</td>\n",
       "      <td>12016.0</td>\n",
       "      <td>13256.0</td>\n",
       "      <td>1.0</td>\n",
       "      <td>658.0</td>\n",
       "      <td>1.0</td>\n",
       "      <td>331.0</td>\n",
       "      <td>181.0</td>\n",
       "    </tr>\n",
       "    <tr>\n",
       "      <th>4876</th>\n",
       "      <td>7</td>\n",
       "      <td>3000000.0</td>\n",
       "      <td>25.00</td>\n",
       "      <td>2017-09-27T00:00:00</td>\n",
       "      <td>0</td>\n",
       "      <td>27.00</td>\n",
       "      <td>25.0</td>\n",
       "      <td>17.0</td>\n",
       "      <td>17</td>\n",
       "      <td>NaN</td>\n",
       "      <td>...</td>\n",
       "      <td>NaN</td>\n",
       "      <td>2.0</td>\n",
       "      <td>посёлок Мурино</td>\n",
       "      <td>NaN</td>\n",
       "      <td>NaN</td>\n",
       "      <td>NaN</td>\n",
       "      <td>NaN</td>\n",
       "      <td>NaN</td>\n",
       "      <td>NaN</td>\n",
       "      <td>28.0</td>\n",
       "    </tr>\n",
       "    <tr>\n",
       "      <th>5076</th>\n",
       "      <td>0</td>\n",
       "      <td>3850000.0</td>\n",
       "      <td>30.50</td>\n",
       "      <td>2018-10-03T00:00:00</td>\n",
       "      <td>1</td>\n",
       "      <td>24.00</td>\n",
       "      <td>5.0</td>\n",
       "      <td>19.5</td>\n",
       "      <td>1</td>\n",
       "      <td>True</td>\n",
       "      <td>...</td>\n",
       "      <td>5.50</td>\n",
       "      <td>NaN</td>\n",
       "      <td>Санкт-Петербург</td>\n",
       "      <td>29686.0</td>\n",
       "      <td>8389.0</td>\n",
       "      <td>3.0</td>\n",
       "      <td>397.0</td>\n",
       "      <td>1.0</td>\n",
       "      <td>578.0</td>\n",
       "      <td>7.0</td>\n",
       "    </tr>\n",
       "    <tr>\n",
       "      <th>5246</th>\n",
       "      <td>0</td>\n",
       "      <td>2500000.0</td>\n",
       "      <td>54.00</td>\n",
       "      <td>2017-10-13T00:00:00</td>\n",
       "      <td>2</td>\n",
       "      <td>27.00</td>\n",
       "      <td>5.0</td>\n",
       "      <td>30.0</td>\n",
       "      <td>3</td>\n",
       "      <td>NaN</td>\n",
       "      <td>...</td>\n",
       "      <td>9.00</td>\n",
       "      <td>2.0</td>\n",
       "      <td>деревня Мины</td>\n",
       "      <td>NaN</td>\n",
       "      <td>NaN</td>\n",
       "      <td>NaN</td>\n",
       "      <td>NaN</td>\n",
       "      <td>NaN</td>\n",
       "      <td>NaN</td>\n",
       "      <td>540.0</td>\n",
       "    </tr>\n",
       "    <tr>\n",
       "      <th>5669</th>\n",
       "      <td>4</td>\n",
       "      <td>4400000.0</td>\n",
       "      <td>50.00</td>\n",
       "      <td>2017-08-08T00:00:00</td>\n",
       "      <td>2</td>\n",
       "      <td>26.00</td>\n",
       "      <td>9.0</td>\n",
       "      <td>21.3</td>\n",
       "      <td>3</td>\n",
       "      <td>NaN</td>\n",
       "      <td>...</td>\n",
       "      <td>7.00</td>\n",
       "      <td>2.0</td>\n",
       "      <td>Санкт-Петербург</td>\n",
       "      <td>28981.0</td>\n",
       "      <td>10912.0</td>\n",
       "      <td>1.0</td>\n",
       "      <td>305.0</td>\n",
       "      <td>0.0</td>\n",
       "      <td>NaN</td>\n",
       "      <td>267.0</td>\n",
       "    </tr>\n",
       "    <tr>\n",
       "      <th>5712</th>\n",
       "      <td>5</td>\n",
       "      <td>1500000.0</td>\n",
       "      <td>42.80</td>\n",
       "      <td>2017-08-14T00:00:00</td>\n",
       "      <td>2</td>\n",
       "      <td>1.20</td>\n",
       "      <td>2.0</td>\n",
       "      <td>27.5</td>\n",
       "      <td>1</td>\n",
       "      <td>NaN</td>\n",
       "      <td>...</td>\n",
       "      <td>5.20</td>\n",
       "      <td>NaN</td>\n",
       "      <td>городской посёлок Мга</td>\n",
       "      <td>NaN</td>\n",
       "      <td>NaN</td>\n",
       "      <td>NaN</td>\n",
       "      <td>NaN</td>\n",
       "      <td>NaN</td>\n",
       "      <td>NaN</td>\n",
       "      <td>248.0</td>\n",
       "    </tr>\n",
       "    <tr>\n",
       "      <th>5807</th>\n",
       "      <td>17</td>\n",
       "      <td>8150000.0</td>\n",
       "      <td>80.00</td>\n",
       "      <td>2019-01-09T00:00:00</td>\n",
       "      <td>2</td>\n",
       "      <td>27.00</td>\n",
       "      <td>36.0</td>\n",
       "      <td>41.0</td>\n",
       "      <td>13</td>\n",
       "      <td>NaN</td>\n",
       "      <td>...</td>\n",
       "      <td>12.00</td>\n",
       "      <td>5.0</td>\n",
       "      <td>Санкт-Петербург</td>\n",
       "      <td>18732.0</td>\n",
       "      <td>20444.0</td>\n",
       "      <td>0.0</td>\n",
       "      <td>NaN</td>\n",
       "      <td>3.0</td>\n",
       "      <td>80.0</td>\n",
       "      <td>38.0</td>\n",
       "    </tr>\n",
       "    <tr>\n",
       "      <th>5850</th>\n",
       "      <td>9</td>\n",
       "      <td>1650000.0</td>\n",
       "      <td>35.50</td>\n",
       "      <td>2018-05-29T00:00:00</td>\n",
       "      <td>1</td>\n",
       "      <td>2.00</td>\n",
       "      <td>5.0</td>\n",
       "      <td>NaN</td>\n",
       "      <td>5</td>\n",
       "      <td>NaN</td>\n",
       "      <td>...</td>\n",
       "      <td>NaN</td>\n",
       "      <td>NaN</td>\n",
       "      <td>Луга</td>\n",
       "      <td>NaN</td>\n",
       "      <td>NaN</td>\n",
       "      <td>NaN</td>\n",
       "      <td>NaN</td>\n",
       "      <td>NaN</td>\n",
       "      <td>NaN</td>\n",
       "      <td>100.0</td>\n",
       "    </tr>\n",
       "    <tr>\n",
       "      <th>5863</th>\n",
       "      <td>20</td>\n",
       "      <td>5650000.0</td>\n",
       "      <td>45.00</td>\n",
       "      <td>2018-08-15T00:00:00</td>\n",
       "      <td>1</td>\n",
       "      <td>8.30</td>\n",
       "      <td>16.0</td>\n",
       "      <td>19.3</td>\n",
       "      <td>14</td>\n",
       "      <td>NaN</td>\n",
       "      <td>...</td>\n",
       "      <td>8.30</td>\n",
       "      <td>1.0</td>\n",
       "      <td>Санкт-Петербург</td>\n",
       "      <td>13069.0</td>\n",
       "      <td>10763.0</td>\n",
       "      <td>0.0</td>\n",
       "      <td>NaN</td>\n",
       "      <td>1.0</td>\n",
       "      <td>613.0</td>\n",
       "      <td>14.0</td>\n",
       "    </tr>\n",
       "    <tr>\n",
       "      <th>10773</th>\n",
       "      <td>8</td>\n",
       "      <td>3800000.0</td>\n",
       "      <td>58.00</td>\n",
       "      <td>2017-10-13T00:00:00</td>\n",
       "      <td>2</td>\n",
       "      <td>27.00</td>\n",
       "      <td>10.0</td>\n",
       "      <td>30.1</td>\n",
       "      <td>3</td>\n",
       "      <td>False</td>\n",
       "      <td>...</td>\n",
       "      <td>8.10</td>\n",
       "      <td>2.0</td>\n",
       "      <td>посёлок Мурино</td>\n",
       "      <td>NaN</td>\n",
       "      <td>NaN</td>\n",
       "      <td>NaN</td>\n",
       "      <td>NaN</td>\n",
       "      <td>NaN</td>\n",
       "      <td>NaN</td>\n",
       "      <td>71.0</td>\n",
       "    </tr>\n",
       "    <tr>\n",
       "      <th>11285</th>\n",
       "      <td>0</td>\n",
       "      <td>1950000.0</td>\n",
       "      <td>37.00</td>\n",
       "      <td>2019-03-20T00:00:00</td>\n",
       "      <td>1</td>\n",
       "      <td>25.00</td>\n",
       "      <td>5.0</td>\n",
       "      <td>17.0</td>\n",
       "      <td>4</td>\n",
       "      <td>False</td>\n",
       "      <td>...</td>\n",
       "      <td>9.00</td>\n",
       "      <td>2.0</td>\n",
       "      <td>Луга</td>\n",
       "      <td>NaN</td>\n",
       "      <td>NaN</td>\n",
       "      <td>NaN</td>\n",
       "      <td>NaN</td>\n",
       "      <td>NaN</td>\n",
       "      <td>NaN</td>\n",
       "      <td>18.0</td>\n",
       "    </tr>\n",
       "    <tr>\n",
       "      <th>11352</th>\n",
       "      <td>4</td>\n",
       "      <td>3300000.0</td>\n",
       "      <td>36.00</td>\n",
       "      <td>2017-06-18T00:00:00</td>\n",
       "      <td>1</td>\n",
       "      <td>2.00</td>\n",
       "      <td>17.0</td>\n",
       "      <td>15.2</td>\n",
       "      <td>12</td>\n",
       "      <td>NaN</td>\n",
       "      <td>...</td>\n",
       "      <td>10.10</td>\n",
       "      <td>0.0</td>\n",
       "      <td>посёлок Металлострой</td>\n",
       "      <td>25268.0</td>\n",
       "      <td>26980.0</td>\n",
       "      <td>0.0</td>\n",
       "      <td>NaN</td>\n",
       "      <td>0.0</td>\n",
       "      <td>NaN</td>\n",
       "      <td>53.0</td>\n",
       "    </tr>\n",
       "    <tr>\n",
       "      <th>12628</th>\n",
       "      <td>14</td>\n",
       "      <td>3900000.0</td>\n",
       "      <td>50.00</td>\n",
       "      <td>2018-03-29T00:00:00</td>\n",
       "      <td>1</td>\n",
       "      <td>5.30</td>\n",
       "      <td>5.0</td>\n",
       "      <td>NaN</td>\n",
       "      <td>5</td>\n",
       "      <td>NaN</td>\n",
       "      <td>...</td>\n",
       "      <td>NaN</td>\n",
       "      <td>NaN</td>\n",
       "      <td>Санкт-Петербург</td>\n",
       "      <td>19644.0</td>\n",
       "      <td>3918.0</td>\n",
       "      <td>1.0</td>\n",
       "      <td>505.0</td>\n",
       "      <td>1.0</td>\n",
       "      <td>92.0</td>\n",
       "      <td>8.0</td>\n",
       "    </tr>\n",
       "    <tr>\n",
       "      <th>14382</th>\n",
       "      <td>9</td>\n",
       "      <td>1700000.0</td>\n",
       "      <td>35.00</td>\n",
       "      <td>2015-12-04T00:00:00</td>\n",
       "      <td>1</td>\n",
       "      <td>25.00</td>\n",
       "      <td>5.0</td>\n",
       "      <td>20.0</td>\n",
       "      <td>2</td>\n",
       "      <td>False</td>\n",
       "      <td>...</td>\n",
       "      <td>8.00</td>\n",
       "      <td>1.0</td>\n",
       "      <td>поселок Новый Свет</td>\n",
       "      <td>NaN</td>\n",
       "      <td>NaN</td>\n",
       "      <td>NaN</td>\n",
       "      <td>NaN</td>\n",
       "      <td>NaN</td>\n",
       "      <td>NaN</td>\n",
       "      <td>206.0</td>\n",
       "    </tr>\n",
       "    <tr>\n",
       "      <th>15061</th>\n",
       "      <td>19</td>\n",
       "      <td>5600000.0</td>\n",
       "      <td>56.40</td>\n",
       "      <td>2018-05-11T00:00:00</td>\n",
       "      <td>2</td>\n",
       "      <td>14.00</td>\n",
       "      <td>14.0</td>\n",
       "      <td>32.4</td>\n",
       "      <td>5</td>\n",
       "      <td>NaN</td>\n",
       "      <td>...</td>\n",
       "      <td>9.10</td>\n",
       "      <td>2.0</td>\n",
       "      <td>Санкт-Петербург</td>\n",
       "      <td>14814.0</td>\n",
       "      <td>13610.0</td>\n",
       "      <td>0.0</td>\n",
       "      <td>NaN</td>\n",
       "      <td>0.0</td>\n",
       "      <td>NaN</td>\n",
       "      <td>315.0</td>\n",
       "    </tr>\n",
       "    <tr>\n",
       "      <th>15743</th>\n",
       "      <td>14</td>\n",
       "      <td>5600000.0</td>\n",
       "      <td>67.00</td>\n",
       "      <td>2016-11-11T00:00:00</td>\n",
       "      <td>3</td>\n",
       "      <td>8.00</td>\n",
       "      <td>16.0</td>\n",
       "      <td>41.0</td>\n",
       "      <td>1</td>\n",
       "      <td>NaN</td>\n",
       "      <td>...</td>\n",
       "      <td>8.00</td>\n",
       "      <td>NaN</td>\n",
       "      <td>Санкт-Петербург</td>\n",
       "      <td>32691.0</td>\n",
       "      <td>11035.0</td>\n",
       "      <td>1.0</td>\n",
       "      <td>723.0</td>\n",
       "      <td>0.0</td>\n",
       "      <td>NaN</td>\n",
       "      <td>474.0</td>\n",
       "    </tr>\n",
       "    <tr>\n",
       "      <th>16884</th>\n",
       "      <td>0</td>\n",
       "      <td>1500000.0</td>\n",
       "      <td>33.00</td>\n",
       "      <td>2018-10-03T00:00:00</td>\n",
       "      <td>1</td>\n",
       "      <td>2.00</td>\n",
       "      <td>5.0</td>\n",
       "      <td>20.0</td>\n",
       "      <td>5</td>\n",
       "      <td>False</td>\n",
       "      <td>...</td>\n",
       "      <td>6.00</td>\n",
       "      <td>NaN</td>\n",
       "      <td>Выборг</td>\n",
       "      <td>NaN</td>\n",
       "      <td>NaN</td>\n",
       "      <td>NaN</td>\n",
       "      <td>NaN</td>\n",
       "      <td>NaN</td>\n",
       "      <td>NaN</td>\n",
       "      <td>6.0</td>\n",
       "    </tr>\n",
       "    <tr>\n",
       "      <th>16934</th>\n",
       "      <td>5</td>\n",
       "      <td>4100000.0</td>\n",
       "      <td>40.00</td>\n",
       "      <td>2017-10-17T00:00:00</td>\n",
       "      <td>1</td>\n",
       "      <td>1.75</td>\n",
       "      <td>37.0</td>\n",
       "      <td>17.4</td>\n",
       "      <td>5</td>\n",
       "      <td>NaN</td>\n",
       "      <td>...</td>\n",
       "      <td>8.34</td>\n",
       "      <td>NaN</td>\n",
       "      <td>Санкт-Петербург</td>\n",
       "      <td>18732.0</td>\n",
       "      <td>20444.0</td>\n",
       "      <td>0.0</td>\n",
       "      <td>NaN</td>\n",
       "      <td>3.0</td>\n",
       "      <td>80.0</td>\n",
       "      <td>71.0</td>\n",
       "    </tr>\n",
       "    <tr>\n",
       "      <th>17442</th>\n",
       "      <td>0</td>\n",
       "      <td>5350000.0</td>\n",
       "      <td>54.00</td>\n",
       "      <td>2015-06-16T00:00:00</td>\n",
       "      <td>2</td>\n",
       "      <td>8.00</td>\n",
       "      <td>5.0</td>\n",
       "      <td>29.0</td>\n",
       "      <td>2</td>\n",
       "      <td>NaN</td>\n",
       "      <td>...</td>\n",
       "      <td>NaN</td>\n",
       "      <td>1.0</td>\n",
       "      <td>Красное Село</td>\n",
       "      <td>24638.0</td>\n",
       "      <td>28062.0</td>\n",
       "      <td>0.0</td>\n",
       "      <td>NaN</td>\n",
       "      <td>0.0</td>\n",
       "      <td>NaN</td>\n",
       "      <td>469.0</td>\n",
       "    </tr>\n",
       "    <tr>\n",
       "      <th>17857</th>\n",
       "      <td>1</td>\n",
       "      <td>3900000.0</td>\n",
       "      <td>56.00</td>\n",
       "      <td>2017-12-22T00:00:00</td>\n",
       "      <td>3</td>\n",
       "      <td>27.00</td>\n",
       "      <td>5.0</td>\n",
       "      <td>33.0</td>\n",
       "      <td>4</td>\n",
       "      <td>False</td>\n",
       "      <td>...</td>\n",
       "      <td>NaN</td>\n",
       "      <td>NaN</td>\n",
       "      <td>Санкт-Петербург</td>\n",
       "      <td>41030.0</td>\n",
       "      <td>15543.0</td>\n",
       "      <td>0.0</td>\n",
       "      <td>NaN</td>\n",
       "      <td>0.0</td>\n",
       "      <td>NaN</td>\n",
       "      <td>73.0</td>\n",
       "    </tr>\n",
       "    <tr>\n",
       "      <th>18545</th>\n",
       "      <td>6</td>\n",
       "      <td>3750000.0</td>\n",
       "      <td>43.00</td>\n",
       "      <td>2019-03-18T00:00:00</td>\n",
       "      <td>2</td>\n",
       "      <td>25.00</td>\n",
       "      <td>5.0</td>\n",
       "      <td>29.0</td>\n",
       "      <td>3</td>\n",
       "      <td>False</td>\n",
       "      <td>...</td>\n",
       "      <td>NaN</td>\n",
       "      <td>NaN</td>\n",
       "      <td>Санкт-Петербург</td>\n",
       "      <td>27054.0</td>\n",
       "      <td>8033.0</td>\n",
       "      <td>1.0</td>\n",
       "      <td>540.0</td>\n",
       "      <td>0.0</td>\n",
       "      <td>NaN</td>\n",
       "      <td>12.0</td>\n",
       "    </tr>\n",
       "    <tr>\n",
       "      <th>19098</th>\n",
       "      <td>7</td>\n",
       "      <td>2700000.0</td>\n",
       "      <td>56.00</td>\n",
       "      <td>2018-02-04T00:00:00</td>\n",
       "      <td>3</td>\n",
       "      <td>2.00</td>\n",
       "      <td>5.0</td>\n",
       "      <td>46.0</td>\n",
       "      <td>1</td>\n",
       "      <td>NaN</td>\n",
       "      <td>...</td>\n",
       "      <td>6.00</td>\n",
       "      <td>NaN</td>\n",
       "      <td>Выборг</td>\n",
       "      <td>NaN</td>\n",
       "      <td>NaN</td>\n",
       "      <td>NaN</td>\n",
       "      <td>NaN</td>\n",
       "      <td>NaN</td>\n",
       "      <td>NaN</td>\n",
       "      <td>282.0</td>\n",
       "    </tr>\n",
       "    <tr>\n",
       "      <th>19329</th>\n",
       "      <td>5</td>\n",
       "      <td>1700000.0</td>\n",
       "      <td>40.00</td>\n",
       "      <td>2018-07-15T00:00:00</td>\n",
       "      <td>2</td>\n",
       "      <td>2.00</td>\n",
       "      <td>9.0</td>\n",
       "      <td>NaN</td>\n",
       "      <td>8</td>\n",
       "      <td>NaN</td>\n",
       "      <td>...</td>\n",
       "      <td>NaN</td>\n",
       "      <td>NaN</td>\n",
       "      <td>Сосновый Бор</td>\n",
       "      <td>NaN</td>\n",
       "      <td>NaN</td>\n",
       "      <td>NaN</td>\n",
       "      <td>NaN</td>\n",
       "      <td>NaN</td>\n",
       "      <td>NaN</td>\n",
       "      <td>45.0</td>\n",
       "    </tr>\n",
       "    <tr>\n",
       "      <th>20264</th>\n",
       "      <td>17</td>\n",
       "      <td>119000000.0</td>\n",
       "      <td>187.60</td>\n",
       "      <td>2017-07-10T00:00:00</td>\n",
       "      <td>4</td>\n",
       "      <td>6.00</td>\n",
       "      <td>7.0</td>\n",
       "      <td>147.0</td>\n",
       "      <td>7</td>\n",
       "      <td>NaN</td>\n",
       "      <td>...</td>\n",
       "      <td>15.60</td>\n",
       "      <td>NaN</td>\n",
       "      <td>Санкт-Петербург</td>\n",
       "      <td>26902.0</td>\n",
       "      <td>5605.0</td>\n",
       "      <td>3.0</td>\n",
       "      <td>484.0</td>\n",
       "      <td>1.0</td>\n",
       "      <td>305.0</td>\n",
       "      <td>259.0</td>\n",
       "    </tr>\n",
       "    <tr>\n",
       "      <th>20478</th>\n",
       "      <td>11</td>\n",
       "      <td>8000000.0</td>\n",
       "      <td>45.00</td>\n",
       "      <td>2017-07-18T00:00:00</td>\n",
       "      <td>1</td>\n",
       "      <td>27.00</td>\n",
       "      <td>4.0</td>\n",
       "      <td>22.0</td>\n",
       "      <td>2</td>\n",
       "      <td>NaN</td>\n",
       "      <td>...</td>\n",
       "      <td>10.00</td>\n",
       "      <td>1.0</td>\n",
       "      <td>Санкт-Петербург</td>\n",
       "      <td>18975.0</td>\n",
       "      <td>3246.0</td>\n",
       "      <td>0.0</td>\n",
       "      <td>NaN</td>\n",
       "      <td>3.0</td>\n",
       "      <td>449.0</td>\n",
       "      <td>429.0</td>\n",
       "    </tr>\n",
       "    <tr>\n",
       "      <th>20507</th>\n",
       "      <td>12</td>\n",
       "      <td>5950000.0</td>\n",
       "      <td>60.00</td>\n",
       "      <td>2018-02-19T00:00:00</td>\n",
       "      <td>2</td>\n",
       "      <td>22.60</td>\n",
       "      <td>14.0</td>\n",
       "      <td>35.0</td>\n",
       "      <td>11</td>\n",
       "      <td>NaN</td>\n",
       "      <td>...</td>\n",
       "      <td>13.00</td>\n",
       "      <td>1.0</td>\n",
       "      <td>Санкт-Петербург</td>\n",
       "      <td>27028.0</td>\n",
       "      <td>12570.0</td>\n",
       "      <td>0.0</td>\n",
       "      <td>NaN</td>\n",
       "      <td>0.0</td>\n",
       "      <td>NaN</td>\n",
       "      <td>40.0</td>\n",
       "    </tr>\n",
       "    <tr>\n",
       "      <th>20520</th>\n",
       "      <td>9</td>\n",
       "      <td>3600000.0</td>\n",
       "      <td>38.00</td>\n",
       "      <td>2018-07-05T00:00:00</td>\n",
       "      <td>1</td>\n",
       "      <td>2.00</td>\n",
       "      <td>12.0</td>\n",
       "      <td>15.0</td>\n",
       "      <td>9</td>\n",
       "      <td>NaN</td>\n",
       "      <td>...</td>\n",
       "      <td>11.80</td>\n",
       "      <td>1.0</td>\n",
       "      <td>Кудрово</td>\n",
       "      <td>NaN</td>\n",
       "      <td>NaN</td>\n",
       "      <td>NaN</td>\n",
       "      <td>NaN</td>\n",
       "      <td>NaN</td>\n",
       "      <td>NaN</td>\n",
       "      <td>62.0</td>\n",
       "    </tr>\n",
       "    <tr>\n",
       "      <th>21227</th>\n",
       "      <td>0</td>\n",
       "      <td>8200000.0</td>\n",
       "      <td>71.00</td>\n",
       "      <td>2017-07-21T00:00:00</td>\n",
       "      <td>0</td>\n",
       "      <td>5.80</td>\n",
       "      <td>5.0</td>\n",
       "      <td>68.0</td>\n",
       "      <td>5</td>\n",
       "      <td>NaN</td>\n",
       "      <td>...</td>\n",
       "      <td>NaN</td>\n",
       "      <td>0.0</td>\n",
       "      <td>Санкт-Петербург</td>\n",
       "      <td>20170.0</td>\n",
       "      <td>1261.0</td>\n",
       "      <td>2.0</td>\n",
       "      <td>295.0</td>\n",
       "      <td>3.0</td>\n",
       "      <td>366.0</td>\n",
       "      <td>30.0</td>\n",
       "    </tr>\n",
       "    <tr>\n",
       "      <th>21377</th>\n",
       "      <td>19</td>\n",
       "      <td>4900000.0</td>\n",
       "      <td>42.00</td>\n",
       "      <td>2017-04-18T00:00:00</td>\n",
       "      <td>1</td>\n",
       "      <td>27.50</td>\n",
       "      <td>24.0</td>\n",
       "      <td>37.7</td>\n",
       "      <td>19</td>\n",
       "      <td>False</td>\n",
       "      <td>...</td>\n",
       "      <td>11.00</td>\n",
       "      <td>2.0</td>\n",
       "      <td>Санкт-Петербург</td>\n",
       "      <td>42742.0</td>\n",
       "      <td>9760.0</td>\n",
       "      <td>0.0</td>\n",
       "      <td>NaN</td>\n",
       "      <td>0.0</td>\n",
       "      <td>NaN</td>\n",
       "      <td>61.0</td>\n",
       "    </tr>\n",
       "    <tr>\n",
       "      <th>22309</th>\n",
       "      <td>20</td>\n",
       "      <td>5300000.0</td>\n",
       "      <td>45.00</td>\n",
       "      <td>2017-09-30T00:00:00</td>\n",
       "      <td>1</td>\n",
       "      <td>10.30</td>\n",
       "      <td>16.0</td>\n",
       "      <td>15.5</td>\n",
       "      <td>15</td>\n",
       "      <td>NaN</td>\n",
       "      <td>...</td>\n",
       "      <td>NaN</td>\n",
       "      <td>NaN</td>\n",
       "      <td>Санкт-Петербург</td>\n",
       "      <td>36353.0</td>\n",
       "      <td>11936.0</td>\n",
       "      <td>2.0</td>\n",
       "      <td>440.0</td>\n",
       "      <td>2.0</td>\n",
       "      <td>450.0</td>\n",
       "      <td>136.0</td>\n",
       "    </tr>\n",
       "    <tr>\n",
       "      <th>22590</th>\n",
       "      <td>16</td>\n",
       "      <td>6000000.0</td>\n",
       "      <td>55.00</td>\n",
       "      <td>2018-10-31T00:00:00</td>\n",
       "      <td>2</td>\n",
       "      <td>1.00</td>\n",
       "      <td>12.0</td>\n",
       "      <td>32.4</td>\n",
       "      <td>7</td>\n",
       "      <td>NaN</td>\n",
       "      <td>...</td>\n",
       "      <td>10.00</td>\n",
       "      <td>NaN</td>\n",
       "      <td>Санкт-Петербург</td>\n",
       "      <td>33053.0</td>\n",
       "      <td>14217.0</td>\n",
       "      <td>2.0</td>\n",
       "      <td>293.0</td>\n",
       "      <td>2.0</td>\n",
       "      <td>289.0</td>\n",
       "      <td>13.0</td>\n",
       "    </tr>\n",
       "    <tr>\n",
       "      <th>22869</th>\n",
       "      <td>0</td>\n",
       "      <td>15000000.0</td>\n",
       "      <td>25.00</td>\n",
       "      <td>2018-07-25T00:00:00</td>\n",
       "      <td>1</td>\n",
       "      <td>100.00</td>\n",
       "      <td>5.0</td>\n",
       "      <td>14.0</td>\n",
       "      <td>5</td>\n",
       "      <td>True</td>\n",
       "      <td>...</td>\n",
       "      <td>11.00</td>\n",
       "      <td>5.0</td>\n",
       "      <td>Санкт-Петербург</td>\n",
       "      <td>34963.0</td>\n",
       "      <td>8283.0</td>\n",
       "      <td>1.0</td>\n",
       "      <td>223.0</td>\n",
       "      <td>3.0</td>\n",
       "      <td>30.0</td>\n",
       "      <td>19.0</td>\n",
       "    </tr>\n",
       "    <tr>\n",
       "      <th>22938</th>\n",
       "      <td>14</td>\n",
       "      <td>4000000.0</td>\n",
       "      <td>98.00</td>\n",
       "      <td>2018-03-15T00:00:00</td>\n",
       "      <td>4</td>\n",
       "      <td>27.00</td>\n",
       "      <td>2.0</td>\n",
       "      <td>73.0</td>\n",
       "      <td>2</td>\n",
       "      <td>True</td>\n",
       "      <td>...</td>\n",
       "      <td>9.00</td>\n",
       "      <td>1.0</td>\n",
       "      <td>деревня Нижняя</td>\n",
       "      <td>NaN</td>\n",
       "      <td>NaN</td>\n",
       "      <td>NaN</td>\n",
       "      <td>NaN</td>\n",
       "      <td>NaN</td>\n",
       "      <td>NaN</td>\n",
       "      <td>27.0</td>\n",
       "    </tr>\n",
       "  </tbody>\n",
       "</table>\n",
       "<p>39 rows × 22 columns</p>\n",
       "</div>"
      ],
      "text/plain": [
       "       total_images   last_price  total_area first_day_exposition  rooms  \\\n",
       "355              17    3600000.0       55.20  2018-07-12T00:00:00      2   \n",
       "464              15   66571000.0      280.30  2015-06-11T00:00:00      6   \n",
       "552              11    2999000.0       33.50  2017-03-30T00:00:00      1   \n",
       "1388             20   59800000.0      399.00  2015-01-21T00:00:00      5   \n",
       "3474              3    1400000.0       30.00  2018-03-16T00:00:00      1   \n",
       "4212              1    2120000.0       35.43  2017-12-18T00:00:00      1   \n",
       "4643              0    4300000.0       45.00  2018-02-01T00:00:00      2   \n",
       "4876              7    3000000.0       25.00  2017-09-27T00:00:00      0   \n",
       "5076              0    3850000.0       30.50  2018-10-03T00:00:00      1   \n",
       "5246              0    2500000.0       54.00  2017-10-13T00:00:00      2   \n",
       "5669              4    4400000.0       50.00  2017-08-08T00:00:00      2   \n",
       "5712              5    1500000.0       42.80  2017-08-14T00:00:00      2   \n",
       "5807             17    8150000.0       80.00  2019-01-09T00:00:00      2   \n",
       "5850              9    1650000.0       35.50  2018-05-29T00:00:00      1   \n",
       "5863             20    5650000.0       45.00  2018-08-15T00:00:00      1   \n",
       "10773             8    3800000.0       58.00  2017-10-13T00:00:00      2   \n",
       "11285             0    1950000.0       37.00  2019-03-20T00:00:00      1   \n",
       "11352             4    3300000.0       36.00  2017-06-18T00:00:00      1   \n",
       "12628            14    3900000.0       50.00  2018-03-29T00:00:00      1   \n",
       "14382             9    1700000.0       35.00  2015-12-04T00:00:00      1   \n",
       "15061            19    5600000.0       56.40  2018-05-11T00:00:00      2   \n",
       "15743            14    5600000.0       67.00  2016-11-11T00:00:00      3   \n",
       "16884             0    1500000.0       33.00  2018-10-03T00:00:00      1   \n",
       "16934             5    4100000.0       40.00  2017-10-17T00:00:00      1   \n",
       "17442             0    5350000.0       54.00  2015-06-16T00:00:00      2   \n",
       "17857             1    3900000.0       56.00  2017-12-22T00:00:00      3   \n",
       "18545             6    3750000.0       43.00  2019-03-18T00:00:00      2   \n",
       "19098             7    2700000.0       56.00  2018-02-04T00:00:00      3   \n",
       "19329             5    1700000.0       40.00  2018-07-15T00:00:00      2   \n",
       "20264            17  119000000.0      187.60  2017-07-10T00:00:00      4   \n",
       "20478            11    8000000.0       45.00  2017-07-18T00:00:00      1   \n",
       "20507            12    5950000.0       60.00  2018-02-19T00:00:00      2   \n",
       "20520             9    3600000.0       38.00  2018-07-05T00:00:00      1   \n",
       "21227             0    8200000.0       71.00  2017-07-21T00:00:00      0   \n",
       "21377            19    4900000.0       42.00  2017-04-18T00:00:00      1   \n",
       "22309            20    5300000.0       45.00  2017-09-30T00:00:00      1   \n",
       "22590            16    6000000.0       55.00  2018-10-31T00:00:00      2   \n",
       "22869             0   15000000.0       25.00  2018-07-25T00:00:00      1   \n",
       "22938            14    4000000.0       98.00  2018-03-15T00:00:00      4   \n",
       "\n",
       "       ceiling_height  floors_total  living_area  floor is_apartment  ...  \\\n",
       "355             25.00           5.0         32.0      2        False  ...   \n",
       "464              5.20           8.0        159.5      7          NaN  ...   \n",
       "552              2.00          15.0         17.5      6          NaN  ...   \n",
       "1388             5.60           6.0          NaN      6          NaN  ...   \n",
       "3474             8.00           5.0         15.3      2        False  ...   \n",
       "4212             2.00          18.0         16.6      9          NaN  ...   \n",
       "4643            25.00           9.0         30.0      2          NaN  ...   \n",
       "4876            27.00          25.0         17.0     17          NaN  ...   \n",
       "5076            24.00           5.0         19.5      1         True  ...   \n",
       "5246            27.00           5.0         30.0      3          NaN  ...   \n",
       "5669            26.00           9.0         21.3      3          NaN  ...   \n",
       "5712             1.20           2.0         27.5      1          NaN  ...   \n",
       "5807            27.00          36.0         41.0     13          NaN  ...   \n",
       "5850             2.00           5.0          NaN      5          NaN  ...   \n",
       "5863             8.30          16.0         19.3     14          NaN  ...   \n",
       "10773           27.00          10.0         30.1      3        False  ...   \n",
       "11285           25.00           5.0         17.0      4        False  ...   \n",
       "11352            2.00          17.0         15.2     12          NaN  ...   \n",
       "12628            5.30           5.0          NaN      5          NaN  ...   \n",
       "14382           25.00           5.0         20.0      2        False  ...   \n",
       "15061           14.00          14.0         32.4      5          NaN  ...   \n",
       "15743            8.00          16.0         41.0      1          NaN  ...   \n",
       "16884            2.00           5.0         20.0      5        False  ...   \n",
       "16934            1.75          37.0         17.4      5          NaN  ...   \n",
       "17442            8.00           5.0         29.0      2          NaN  ...   \n",
       "17857           27.00           5.0         33.0      4        False  ...   \n",
       "18545           25.00           5.0         29.0      3        False  ...   \n",
       "19098            2.00           5.0         46.0      1          NaN  ...   \n",
       "19329            2.00           9.0          NaN      8          NaN  ...   \n",
       "20264            6.00           7.0        147.0      7          NaN  ...   \n",
       "20478           27.00           4.0         22.0      2          NaN  ...   \n",
       "20507           22.60          14.0         35.0     11          NaN  ...   \n",
       "20520            2.00          12.0         15.0      9          NaN  ...   \n",
       "21227            5.80           5.0         68.0      5          NaN  ...   \n",
       "21377           27.50          24.0         37.7     19        False  ...   \n",
       "22309           10.30          16.0         15.5     15          NaN  ...   \n",
       "22590            1.00          12.0         32.4      7          NaN  ...   \n",
       "22869          100.00           5.0         14.0      5         True  ...   \n",
       "22938           27.00           2.0         73.0      2         True  ...   \n",
       "\n",
       "       kitchen_area  balcony          locality_name  airports_nearest  \\\n",
       "355             NaN      2.0                Гатчина               NaN   \n",
       "464           21.10      0.0        Санкт-Петербург           26316.0   \n",
       "552            6.50      NaN        Санкт-Петербург           33972.0   \n",
       "1388            NaN      0.0        Санкт-Петербург           26204.0   \n",
       "3474           7.30      NaN          деревня Нурма               NaN   \n",
       "4212           8.80      2.0                  Тосно               NaN   \n",
       "4643           7.00      1.0        Санкт-Петербург           12016.0   \n",
       "4876            NaN      2.0         посёлок Мурино               NaN   \n",
       "5076           5.50      NaN        Санкт-Петербург           29686.0   \n",
       "5246           9.00      2.0           деревня Мины               NaN   \n",
       "5669           7.00      2.0        Санкт-Петербург           28981.0   \n",
       "5712           5.20      NaN  городской посёлок Мга               NaN   \n",
       "5807          12.00      5.0        Санкт-Петербург           18732.0   \n",
       "5850            NaN      NaN                   Луга               NaN   \n",
       "5863           8.30      1.0        Санкт-Петербург           13069.0   \n",
       "10773          8.10      2.0         посёлок Мурино               NaN   \n",
       "11285          9.00      2.0                   Луга               NaN   \n",
       "11352         10.10      0.0   посёлок Металлострой           25268.0   \n",
       "12628           NaN      NaN        Санкт-Петербург           19644.0   \n",
       "14382          8.00      1.0     поселок Новый Свет               NaN   \n",
       "15061          9.10      2.0        Санкт-Петербург           14814.0   \n",
       "15743          8.00      NaN        Санкт-Петербург           32691.0   \n",
       "16884          6.00      NaN                 Выборг               NaN   \n",
       "16934          8.34      NaN        Санкт-Петербург           18732.0   \n",
       "17442           NaN      1.0           Красное Село           24638.0   \n",
       "17857           NaN      NaN        Санкт-Петербург           41030.0   \n",
       "18545           NaN      NaN        Санкт-Петербург           27054.0   \n",
       "19098          6.00      NaN                 Выборг               NaN   \n",
       "19329           NaN      NaN           Сосновый Бор               NaN   \n",
       "20264         15.60      NaN        Санкт-Петербург           26902.0   \n",
       "20478         10.00      1.0        Санкт-Петербург           18975.0   \n",
       "20507         13.00      1.0        Санкт-Петербург           27028.0   \n",
       "20520         11.80      1.0                Кудрово               NaN   \n",
       "21227           NaN      0.0        Санкт-Петербург           20170.0   \n",
       "21377         11.00      2.0        Санкт-Петербург           42742.0   \n",
       "22309           NaN      NaN        Санкт-Петербург           36353.0   \n",
       "22590         10.00      NaN        Санкт-Петербург           33053.0   \n",
       "22869         11.00      5.0        Санкт-Петербург           34963.0   \n",
       "22938          9.00      1.0         деревня Нижняя               NaN   \n",
       "\n",
       "      city_centers_nearest  parks_around3000  parks_nearest  ponds_around3000  \\\n",
       "355                    NaN               NaN            NaN               NaN   \n",
       "464                 6655.0               3.0          187.0               1.0   \n",
       "552                11746.0               1.0          520.0               1.0   \n",
       "1388                6934.0               2.0          149.0               2.0   \n",
       "3474                   NaN               NaN            NaN               NaN   \n",
       "4212                   NaN               NaN            NaN               NaN   \n",
       "4643               13256.0               1.0          658.0               1.0   \n",
       "4876                   NaN               NaN            NaN               NaN   \n",
       "5076                8389.0               3.0          397.0               1.0   \n",
       "5246                   NaN               NaN            NaN               NaN   \n",
       "5669               10912.0               1.0          305.0               0.0   \n",
       "5712                   NaN               NaN            NaN               NaN   \n",
       "5807               20444.0               0.0            NaN               3.0   \n",
       "5850                   NaN               NaN            NaN               NaN   \n",
       "5863               10763.0               0.0            NaN               1.0   \n",
       "10773                  NaN               NaN            NaN               NaN   \n",
       "11285                  NaN               NaN            NaN               NaN   \n",
       "11352              26980.0               0.0            NaN               0.0   \n",
       "12628               3918.0               1.0          505.0               1.0   \n",
       "14382                  NaN               NaN            NaN               NaN   \n",
       "15061              13610.0               0.0            NaN               0.0   \n",
       "15743              11035.0               1.0          723.0               0.0   \n",
       "16884                  NaN               NaN            NaN               NaN   \n",
       "16934              20444.0               0.0            NaN               3.0   \n",
       "17442              28062.0               0.0            NaN               0.0   \n",
       "17857              15543.0               0.0            NaN               0.0   \n",
       "18545               8033.0               1.0          540.0               0.0   \n",
       "19098                  NaN               NaN            NaN               NaN   \n",
       "19329                  NaN               NaN            NaN               NaN   \n",
       "20264               5605.0               3.0          484.0               1.0   \n",
       "20478               3246.0               0.0            NaN               3.0   \n",
       "20507              12570.0               0.0            NaN               0.0   \n",
       "20520                  NaN               NaN            NaN               NaN   \n",
       "21227               1261.0               2.0          295.0               3.0   \n",
       "21377               9760.0               0.0            NaN               0.0   \n",
       "22309              11936.0               2.0          440.0               2.0   \n",
       "22590              14217.0               2.0          293.0               2.0   \n",
       "22869               8283.0               1.0          223.0               3.0   \n",
       "22938                  NaN               NaN            NaN               NaN   \n",
       "\n",
       "       ponds_nearest  days_exposition  \n",
       "355              NaN            259.0  \n",
       "464            616.0            578.0  \n",
       "552            949.0            270.0  \n",
       "1388           577.0            719.0  \n",
       "3474             NaN            125.0  \n",
       "4212             NaN             36.0  \n",
       "4643           331.0            181.0  \n",
       "4876             NaN             28.0  \n",
       "5076           578.0              7.0  \n",
       "5246             NaN            540.0  \n",
       "5669             NaN            267.0  \n",
       "5712             NaN            248.0  \n",
       "5807            80.0             38.0  \n",
       "5850             NaN            100.0  \n",
       "5863           613.0             14.0  \n",
       "10773            NaN             71.0  \n",
       "11285            NaN             18.0  \n",
       "11352            NaN             53.0  \n",
       "12628           92.0              8.0  \n",
       "14382            NaN            206.0  \n",
       "15061            NaN            315.0  \n",
       "15743            NaN            474.0  \n",
       "16884            NaN              6.0  \n",
       "16934           80.0             71.0  \n",
       "17442            NaN            469.0  \n",
       "17857            NaN             73.0  \n",
       "18545            NaN             12.0  \n",
       "19098            NaN            282.0  \n",
       "19329            NaN             45.0  \n",
       "20264          305.0            259.0  \n",
       "20478          449.0            429.0  \n",
       "20507            NaN             40.0  \n",
       "20520            NaN             62.0  \n",
       "21227          366.0             30.0  \n",
       "21377            NaN             61.0  \n",
       "22309          450.0            136.0  \n",
       "22590          289.0             13.0  \n",
       "22869           30.0             19.0  \n",
       "22938            NaN             27.0  \n",
       "\n",
       "[39 rows x 22 columns]"
      ]
     },
     "execution_count": 6,
     "metadata": {},
     "output_type": "execute_result"
    }
   ],
   "source": [
    "df[(df['ceiling_height'] < 2.1) | (df['ceiling_height'] > 5)]"
   ]
  },
  {
   "cell_type": "markdown",
   "metadata": {},
   "source": [
    "Удаляем данные строки как явно ошибочные и незначительные в общем объеме. Скорее всего значения от 24 до 32 метров можно было бы принять за ошибку ввода и разделив на 10 получить адекватные значения высоты, но мы не можем быть в этом уверены и опять же их количество незначительно.\n",
    "\n",
    "Чтобы не потерять пропуски нужно не забыть перед фильтрацией заменить их медианным значением... Индексы сбросим позже.\n",
    "\n",
    "В дальнейшем при проведении анализа логичнее будет использовать категории: стандартный, высокий и основная масса попадет как раз в стандартный для высоты потолков диапазон до 2,7 метра."
   ]
  },
  {
   "cell_type": "code",
   "execution_count": 7,
   "metadata": {},
   "outputs": [
    {
     "data": {
      "text/plain": [
       "count    20479.000000\n",
       "mean         2.690635\n",
       "std          0.205390\n",
       "min          2.200000\n",
       "25%          2.600000\n",
       "50%          2.650000\n",
       "75%          2.700000\n",
       "max          5.000000\n",
       "Name: ceiling_height, dtype: float64"
      ]
     },
     "execution_count": 7,
     "metadata": {},
     "output_type": "execute_result"
    }
   ],
   "source": [
    "df['ceiling_height'] = df['ceiling_height'].fillna(df['ceiling_height'].median())\n",
    "df = df.query('2.1 <= ceiling_height <= 5')\n",
    "\n",
    "df['ceiling_height'].describe()"
   ]
  },
  {
   "cell_type": "code",
   "execution_count": 8,
   "metadata": {},
   "outputs": [
    {
     "data": {
      "text/plain": [
       "<matplotlib.axes._subplots.AxesSubplot at 0x7f410fb335e0>"
      ]
     },
     "execution_count": 8,
     "metadata": {},
     "output_type": "execute_result"
    },
    {
     "data": {
      "image/png": "[encoded data removed]",
      "text/plain": [
       "<Figure size 432x288 with 1 Axes>"
      ]
     },
     "metadata": {
      "needs_background": "light"
     },
     "output_type": "display_data"
    }
   ],
   "source": [
    "df['ceiling_height'].hist(bins=20)"
   ]
  },
  {
   "cell_type": "markdown",
   "metadata": {},
   "source": [
    "### locality_name, floors_total\n",
    "\n",
    "Замена пропусков в данных столбцах невозможна. Их сохранение вызовет проблемы в дальнейших расчетах и анализе, поэтому данные строки будут удалены."
   ]
  },
  {
   "cell_type": "code",
   "execution_count": 9,
   "metadata": {},
   "outputs": [],
   "source": [
    "df.dropna(subset = ['locality_name', 'floors_total'], inplace = True)"
   ]
  },
  {
   "cell_type": "markdown",
   "metadata": {},
   "source": [
    "### living_area, kitchen_area\n",
    "\n",
    "Учитывая большое количество пропусков в данных столбцах (living_area - 1666, kitchen_area - 2012), их удаление нецелесообразно.\n",
    "\n",
    "Расчет площади кухни предлагаем провести исходя из общей площади и коэффициента (kitchen_area/total_area),\n",
    "\n",
    "а для расчета недостающей жилой площади взять отношение жилой площади и количества комнат в строках без пропусков"
   ]
  },
  {
   "cell_type": "code",
   "execution_count": 10,
   "metadata": {},
   "outputs": [
    {
     "data": {
      "text/plain": [
       "2012"
      ]
     },
     "execution_count": 10,
     "metadata": {},
     "output_type": "execute_result"
    }
   ],
   "source": [
    "df['kitchen_area'].isna().sum()"
   ]
  },
  {
   "cell_type": "code",
   "execution_count": 11,
   "metadata": {},
   "outputs": [
    {
     "data": {
      "text/plain": [
       "1666"
      ]
     },
     "execution_count": 11,
     "metadata": {},
     "output_type": "execute_result"
    }
   ],
   "source": [
    "df['living_area'].isna().sum()"
   ]
  },
  {
   "cell_type": "code",
   "execution_count": 12,
   "metadata": {},
   "outputs": [],
   "source": [
    "df['k_kitchen_area'] = df['kitchen_area'] / df['total_area']"
   ]
  },
  {
   "cell_type": "code",
   "execution_count": 13,
   "metadata": {},
   "outputs": [],
   "source": [
    "df['kitchen_area'] = df['kitchen_area'].fillna(df['total_area']*df['k_kitchen_area'].median())"
   ]
  },
  {
   "cell_type": "code",
   "execution_count": 14,
   "metadata": {},
   "outputs": [],
   "source": [
    "df['k_rooms'] = df['living_area'] / df['rooms']"
   ]
  },
  {
   "cell_type": "code",
   "execution_count": 15,
   "metadata": {},
   "outputs": [],
   "source": [
    "df['living_area'] = df['living_area'].fillna(df['rooms']*df['k_rooms'].median())"
   ]
  },
  {
   "cell_type": "markdown",
   "metadata": {},
   "source": [
    "### airports_nearest, city_centers_nearest, parks_nearest, ponds_nearest\n",
    "\n",
    "Обнулить пропуски в данных столбцах будет некорректно, так как \"0\" скажет нам о максимальной близости к объекту... Поэтому вариант первый - удалить строки, но жалко, выкинем большой объем, вариант два - заменить в идеале на бесконечность или в нашем случае хотя бы на 100 км. При необходимости мы сможем всегда отфильтровать их."
   ]
  },
  {
   "cell_type": "code",
   "execution_count": 16,
   "metadata": {},
   "outputs": [
    {
     "data": {
      "text/html": [
       "<div>\n",
       "<style scoped>\n",
       "    .dataframe tbody tr th:only-of-type {\n",
       "        vertical-align: middle;\n",
       "    }\n",
       "\n",
       "    .dataframe tbody tr th {\n",
       "        vertical-align: top;\n",
       "    }\n",
       "\n",
       "    .dataframe thead th {\n",
       "        text-align: right;\n",
       "    }\n",
       "</style>\n",
       "<table border=\"1\" class=\"dataframe\">\n",
       "  <thead>\n",
       "    <tr style=\"text-align: right;\">\n",
       "      <th></th>\n",
       "      <th>total_images</th>\n",
       "      <th>last_price</th>\n",
       "      <th>total_area</th>\n",
       "      <th>first_day_exposition</th>\n",
       "      <th>rooms</th>\n",
       "      <th>ceiling_height</th>\n",
       "      <th>floors_total</th>\n",
       "      <th>living_area</th>\n",
       "      <th>floor</th>\n",
       "      <th>is_apartment</th>\n",
       "      <th>...</th>\n",
       "      <th>locality_name</th>\n",
       "      <th>airports_nearest</th>\n",
       "      <th>city_centers_nearest</th>\n",
       "      <th>parks_around3000</th>\n",
       "      <th>parks_nearest</th>\n",
       "      <th>ponds_around3000</th>\n",
       "      <th>ponds_nearest</th>\n",
       "      <th>days_exposition</th>\n",
       "      <th>k_kitchen_area</th>\n",
       "      <th>k_rooms</th>\n",
       "    </tr>\n",
       "  </thead>\n",
       "  <tbody>\n",
       "    <tr>\n",
       "      <th>1</th>\n",
       "      <td>7</td>\n",
       "      <td>3350000.0</td>\n",
       "      <td>40.40</td>\n",
       "      <td>2018-12-04T00:00:00</td>\n",
       "      <td>1</td>\n",
       "      <td>2.65</td>\n",
       "      <td>11.0</td>\n",
       "      <td>18.60</td>\n",
       "      <td>1</td>\n",
       "      <td>NaN</td>\n",
       "      <td>...</td>\n",
       "      <td>посёлок Шушары</td>\n",
       "      <td>12817.0</td>\n",
       "      <td>18603.0</td>\n",
       "      <td>0.0</td>\n",
       "      <td>NaN</td>\n",
       "      <td>0.0</td>\n",
       "      <td>NaN</td>\n",
       "      <td>81.0</td>\n",
       "      <td>0.272277</td>\n",
       "      <td>18.600000</td>\n",
       "    </tr>\n",
       "    <tr>\n",
       "      <th>5</th>\n",
       "      <td>10</td>\n",
       "      <td>2890000.0</td>\n",
       "      <td>30.40</td>\n",
       "      <td>2018-09-10T00:00:00</td>\n",
       "      <td>1</td>\n",
       "      <td>2.65</td>\n",
       "      <td>12.0</td>\n",
       "      <td>14.40</td>\n",
       "      <td>5</td>\n",
       "      <td>NaN</td>\n",
       "      <td>...</td>\n",
       "      <td>городской посёлок Янино-1</td>\n",
       "      <td>NaN</td>\n",
       "      <td>NaN</td>\n",
       "      <td>NaN</td>\n",
       "      <td>NaN</td>\n",
       "      <td>NaN</td>\n",
       "      <td>NaN</td>\n",
       "      <td>55.0</td>\n",
       "      <td>0.299342</td>\n",
       "      <td>14.400000</td>\n",
       "    </tr>\n",
       "    <tr>\n",
       "      <th>6</th>\n",
       "      <td>6</td>\n",
       "      <td>3700000.0</td>\n",
       "      <td>37.30</td>\n",
       "      <td>2017-11-02T00:00:00</td>\n",
       "      <td>1</td>\n",
       "      <td>2.65</td>\n",
       "      <td>26.0</td>\n",
       "      <td>10.60</td>\n",
       "      <td>6</td>\n",
       "      <td>NaN</td>\n",
       "      <td>...</td>\n",
       "      <td>посёлок Парголово</td>\n",
       "      <td>52996.0</td>\n",
       "      <td>19143.0</td>\n",
       "      <td>0.0</td>\n",
       "      <td>NaN</td>\n",
       "      <td>0.0</td>\n",
       "      <td>NaN</td>\n",
       "      <td>155.0</td>\n",
       "      <td>0.386059</td>\n",
       "      <td>10.600000</td>\n",
       "    </tr>\n",
       "    <tr>\n",
       "      <th>8</th>\n",
       "      <td>20</td>\n",
       "      <td>2900000.0</td>\n",
       "      <td>33.16</td>\n",
       "      <td>2018-05-23T00:00:00</td>\n",
       "      <td>1</td>\n",
       "      <td>2.65</td>\n",
       "      <td>27.0</td>\n",
       "      <td>15.43</td>\n",
       "      <td>26</td>\n",
       "      <td>NaN</td>\n",
       "      <td>...</td>\n",
       "      <td>посёлок Мурино</td>\n",
       "      <td>NaN</td>\n",
       "      <td>NaN</td>\n",
       "      <td>NaN</td>\n",
       "      <td>NaN</td>\n",
       "      <td>NaN</td>\n",
       "      <td>NaN</td>\n",
       "      <td>189.0</td>\n",
       "      <td>0.265682</td>\n",
       "      <td>15.430000</td>\n",
       "    </tr>\n",
       "    <tr>\n",
       "      <th>9</th>\n",
       "      <td>18</td>\n",
       "      <td>5400000.0</td>\n",
       "      <td>61.00</td>\n",
       "      <td>2017-02-26T00:00:00</td>\n",
       "      <td>3</td>\n",
       "      <td>2.50</td>\n",
       "      <td>9.0</td>\n",
       "      <td>43.60</td>\n",
       "      <td>7</td>\n",
       "      <td>NaN</td>\n",
       "      <td>...</td>\n",
       "      <td>Санкт-Петербург</td>\n",
       "      <td>50898.0</td>\n",
       "      <td>15008.0</td>\n",
       "      <td>0.0</td>\n",
       "      <td>NaN</td>\n",
       "      <td>0.0</td>\n",
       "      <td>NaN</td>\n",
       "      <td>289.0</td>\n",
       "      <td>0.106557</td>\n",
       "      <td>14.533333</td>\n",
       "    </tr>\n",
       "    <tr>\n",
       "      <th>...</th>\n",
       "      <td>...</td>\n",
       "      <td>...</td>\n",
       "      <td>...</td>\n",
       "      <td>...</td>\n",
       "      <td>...</td>\n",
       "      <td>...</td>\n",
       "      <td>...</td>\n",
       "      <td>...</td>\n",
       "      <td>...</td>\n",
       "      <td>...</td>\n",
       "      <td>...</td>\n",
       "      <td>...</td>\n",
       "      <td>...</td>\n",
       "      <td>...</td>\n",
       "      <td>...</td>\n",
       "      <td>...</td>\n",
       "      <td>...</td>\n",
       "      <td>...</td>\n",
       "      <td>...</td>\n",
       "      <td>...</td>\n",
       "      <td>...</td>\n",
       "    </tr>\n",
       "    <tr>\n",
       "      <th>23687</th>\n",
       "      <td>6</td>\n",
       "      <td>3200000.0</td>\n",
       "      <td>39.00</td>\n",
       "      <td>2017-12-16T00:00:00</td>\n",
       "      <td>1</td>\n",
       "      <td>2.65</td>\n",
       "      <td>9.0</td>\n",
       "      <td>20.00</td>\n",
       "      <td>6</td>\n",
       "      <td>NaN</td>\n",
       "      <td>...</td>\n",
       "      <td>Санкт-Петербург</td>\n",
       "      <td>40837.0</td>\n",
       "      <td>16704.0</td>\n",
       "      <td>0.0</td>\n",
       "      <td>NaN</td>\n",
       "      <td>0.0</td>\n",
       "      <td>NaN</td>\n",
       "      <td>38.0</td>\n",
       "      <td>0.282051</td>\n",
       "      <td>20.000000</td>\n",
       "    </tr>\n",
       "    <tr>\n",
       "      <th>23688</th>\n",
       "      <td>19</td>\n",
       "      <td>9200000.0</td>\n",
       "      <td>101.00</td>\n",
       "      <td>2019-04-01T00:00:00</td>\n",
       "      <td>3</td>\n",
       "      <td>3.05</td>\n",
       "      <td>15.0</td>\n",
       "      <td>63.00</td>\n",
       "      <td>12</td>\n",
       "      <td>NaN</td>\n",
       "      <td>...</td>\n",
       "      <td>Санкт-Петербург</td>\n",
       "      <td>15632.0</td>\n",
       "      <td>14428.0</td>\n",
       "      <td>0.0</td>\n",
       "      <td>NaN</td>\n",
       "      <td>0.0</td>\n",
       "      <td>NaN</td>\n",
       "      <td>23.0</td>\n",
       "      <td>0.148515</td>\n",
       "      <td>21.000000</td>\n",
       "    </tr>\n",
       "    <tr>\n",
       "      <th>23690</th>\n",
       "      <td>3</td>\n",
       "      <td>5500000.0</td>\n",
       "      <td>52.00</td>\n",
       "      <td>2018-07-19T00:00:00</td>\n",
       "      <td>2</td>\n",
       "      <td>2.65</td>\n",
       "      <td>5.0</td>\n",
       "      <td>31.00</td>\n",
       "      <td>2</td>\n",
       "      <td>NaN</td>\n",
       "      <td>...</td>\n",
       "      <td>Санкт-Петербург</td>\n",
       "      <td>20151.0</td>\n",
       "      <td>6263.0</td>\n",
       "      <td>1.0</td>\n",
       "      <td>300.0</td>\n",
       "      <td>0.0</td>\n",
       "      <td>NaN</td>\n",
       "      <td>15.0</td>\n",
       "      <td>0.115385</td>\n",
       "      <td>15.500000</td>\n",
       "    </tr>\n",
       "    <tr>\n",
       "      <th>23692</th>\n",
       "      <td>2</td>\n",
       "      <td>1350000.0</td>\n",
       "      <td>30.00</td>\n",
       "      <td>2017-07-07T00:00:00</td>\n",
       "      <td>1</td>\n",
       "      <td>2.65</td>\n",
       "      <td>5.0</td>\n",
       "      <td>17.50</td>\n",
       "      <td>4</td>\n",
       "      <td>NaN</td>\n",
       "      <td>...</td>\n",
       "      <td>Тихвин</td>\n",
       "      <td>NaN</td>\n",
       "      <td>NaN</td>\n",
       "      <td>NaN</td>\n",
       "      <td>NaN</td>\n",
       "      <td>NaN</td>\n",
       "      <td>NaN</td>\n",
       "      <td>413.0</td>\n",
       "      <td>0.200000</td>\n",
       "      <td>17.500000</td>\n",
       "    </tr>\n",
       "    <tr>\n",
       "      <th>23695</th>\n",
       "      <td>14</td>\n",
       "      <td>3100000.0</td>\n",
       "      <td>59.00</td>\n",
       "      <td>2018-01-15T00:00:00</td>\n",
       "      <td>3</td>\n",
       "      <td>2.65</td>\n",
       "      <td>5.0</td>\n",
       "      <td>38.00</td>\n",
       "      <td>4</td>\n",
       "      <td>NaN</td>\n",
       "      <td>...</td>\n",
       "      <td>Тосно</td>\n",
       "      <td>NaN</td>\n",
       "      <td>NaN</td>\n",
       "      <td>NaN</td>\n",
       "      <td>NaN</td>\n",
       "      <td>NaN</td>\n",
       "      <td>NaN</td>\n",
       "      <td>45.0</td>\n",
       "      <td>0.144068</td>\n",
       "      <td>12.666667</td>\n",
       "    </tr>\n",
       "  </tbody>\n",
       "</table>\n",
       "<p>12548 rows × 24 columns</p>\n",
       "</div>"
      ],
      "text/plain": [
       "       total_images  last_price  total_area first_day_exposition  rooms  \\\n",
       "1                 7   3350000.0       40.40  2018-12-04T00:00:00      1   \n",
       "5                10   2890000.0       30.40  2018-09-10T00:00:00      1   \n",
       "6                 6   3700000.0       37.30  2017-11-02T00:00:00      1   \n",
       "8                20   2900000.0       33.16  2018-05-23T00:00:00      1   \n",
       "9                18   5400000.0       61.00  2017-02-26T00:00:00      3   \n",
       "...             ...         ...         ...                  ...    ...   \n",
       "23687             6   3200000.0       39.00  2017-12-16T00:00:00      1   \n",
       "23688            19   9200000.0      101.00  2019-04-01T00:00:00      3   \n",
       "23690             3   5500000.0       52.00  2018-07-19T00:00:00      2   \n",
       "23692             2   1350000.0       30.00  2017-07-07T00:00:00      1   \n",
       "23695            14   3100000.0       59.00  2018-01-15T00:00:00      3   \n",
       "\n",
       "       ceiling_height  floors_total  living_area  floor is_apartment  ...  \\\n",
       "1                2.65          11.0        18.60      1          NaN  ...   \n",
       "5                2.65          12.0        14.40      5          NaN  ...   \n",
       "6                2.65          26.0        10.60      6          NaN  ...   \n",
       "8                2.65          27.0        15.43     26          NaN  ...   \n",
       "9                2.50           9.0        43.60      7          NaN  ...   \n",
       "...               ...           ...          ...    ...          ...  ...   \n",
       "23687            2.65           9.0        20.00      6          NaN  ...   \n",
       "23688            3.05          15.0        63.00     12          NaN  ...   \n",
       "23690            2.65           5.0        31.00      2          NaN  ...   \n",
       "23692            2.65           5.0        17.50      4          NaN  ...   \n",
       "23695            2.65           5.0        38.00      4          NaN  ...   \n",
       "\n",
       "                   locality_name  airports_nearest  city_centers_nearest  \\\n",
       "1                 посёлок Шушары           12817.0               18603.0   \n",
       "5      городской посёлок Янино-1               NaN                   NaN   \n",
       "6              посёлок Парголово           52996.0               19143.0   \n",
       "8                 посёлок Мурино               NaN                   NaN   \n",
       "9                Санкт-Петербург           50898.0               15008.0   \n",
       "...                          ...               ...                   ...   \n",
       "23687            Санкт-Петербург           40837.0               16704.0   \n",
       "23688            Санкт-Петербург           15632.0               14428.0   \n",
       "23690            Санкт-Петербург           20151.0                6263.0   \n",
       "23692                     Тихвин               NaN                   NaN   \n",
       "23695                      Тосно               NaN                   NaN   \n",
       "\n",
       "       parks_around3000 parks_nearest  ponds_around3000  ponds_nearest  \\\n",
       "1                   0.0           NaN               0.0            NaN   \n",
       "5                   NaN           NaN               NaN            NaN   \n",
       "6                   0.0           NaN               0.0            NaN   \n",
       "8                   NaN           NaN               NaN            NaN   \n",
       "9                   0.0           NaN               0.0            NaN   \n",
       "...                 ...           ...               ...            ...   \n",
       "23687               0.0           NaN               0.0            NaN   \n",
       "23688               0.0           NaN               0.0            NaN   \n",
       "23690               1.0         300.0               0.0            NaN   \n",
       "23692               NaN           NaN               NaN            NaN   \n",
       "23695               NaN           NaN               NaN            NaN   \n",
       "\n",
       "       days_exposition  k_kitchen_area    k_rooms  \n",
       "1                 81.0        0.272277  18.600000  \n",
       "5                 55.0        0.299342  14.400000  \n",
       "6                155.0        0.386059  10.600000  \n",
       "8                189.0        0.265682  15.430000  \n",
       "9                289.0        0.106557  14.533333  \n",
       "...                ...             ...        ...  \n",
       "23687             38.0        0.282051  20.000000  \n",
       "23688             23.0        0.148515  21.000000  \n",
       "23690             15.0        0.115385  15.500000  \n",
       "23692            413.0        0.200000  17.500000  \n",
       "23695             45.0        0.144068  12.666667  \n",
       "\n",
       "[12548 rows x 24 columns]"
      ]
     },
     "execution_count": 16,
     "metadata": {},
     "output_type": "execute_result"
    }
   ],
   "source": [
    "df[df['ponds_nearest'].isna()]"
   ]
  },
  {
   "cell_type": "code",
   "execution_count": 17,
   "metadata": {},
   "outputs": [
    {
     "data": {
      "text/html": [
       "<div>\n",
       "<style scoped>\n",
       "    .dataframe tbody tr th:only-of-type {\n",
       "        vertical-align: middle;\n",
       "    }\n",
       "\n",
       "    .dataframe tbody tr th {\n",
       "        vertical-align: top;\n",
       "    }\n",
       "\n",
       "    .dataframe thead th {\n",
       "        text-align: right;\n",
       "    }\n",
       "</style>\n",
       "<table border=\"1\" class=\"dataframe\">\n",
       "  <thead>\n",
       "    <tr style=\"text-align: right;\">\n",
       "      <th></th>\n",
       "      <th>total_images</th>\n",
       "      <th>last_price</th>\n",
       "      <th>total_area</th>\n",
       "      <th>first_day_exposition</th>\n",
       "      <th>rooms</th>\n",
       "      <th>ceiling_height</th>\n",
       "      <th>floors_total</th>\n",
       "      <th>living_area</th>\n",
       "      <th>floor</th>\n",
       "      <th>is_apartment</th>\n",
       "      <th>...</th>\n",
       "      <th>locality_name</th>\n",
       "      <th>airports_nearest</th>\n",
       "      <th>city_centers_nearest</th>\n",
       "      <th>parks_around3000</th>\n",
       "      <th>parks_nearest</th>\n",
       "      <th>ponds_around3000</th>\n",
       "      <th>ponds_nearest</th>\n",
       "      <th>days_exposition</th>\n",
       "      <th>k_kitchen_area</th>\n",
       "      <th>k_rooms</th>\n",
       "    </tr>\n",
       "  </thead>\n",
       "  <tbody>\n",
       "  </tbody>\n",
       "</table>\n",
       "<p>0 rows × 24 columns</p>\n",
       "</div>"
      ],
      "text/plain": [
       "Empty DataFrame\n",
       "Columns: [total_images, last_price, total_area, first_day_exposition, rooms, ceiling_height, floors_total, living_area, floor, is_apartment, studio, open_plan, kitchen_area, balcony, locality_name, airports_nearest, city_centers_nearest, parks_around3000, parks_nearest, ponds_around3000, ponds_nearest, days_exposition, k_kitchen_area, k_rooms]\n",
       "Index: []\n",
       "\n",
       "[0 rows x 24 columns]"
      ]
     },
     "execution_count": 17,
     "metadata": {},
     "output_type": "execute_result"
    }
   ],
   "source": [
    "df[(df.parks_nearest.isna()) & (df.parks_around3000 > 0)]"
   ]
  },
  {
   "cell_type": "code",
   "execution_count": 18,
   "metadata": {},
   "outputs": [
    {
     "data": {
      "text/html": [
       "<div>\n",
       "<style scoped>\n",
       "    .dataframe tbody tr th:only-of-type {\n",
       "        vertical-align: middle;\n",
       "    }\n",
       "\n",
       "    .dataframe tbody tr th {\n",
       "        vertical-align: top;\n",
       "    }\n",
       "\n",
       "    .dataframe thead th {\n",
       "        text-align: right;\n",
       "    }\n",
       "</style>\n",
       "<table border=\"1\" class=\"dataframe\">\n",
       "  <thead>\n",
       "    <tr style=\"text-align: right;\">\n",
       "      <th></th>\n",
       "      <th>total_images</th>\n",
       "      <th>last_price</th>\n",
       "      <th>total_area</th>\n",
       "      <th>first_day_exposition</th>\n",
       "      <th>rooms</th>\n",
       "      <th>ceiling_height</th>\n",
       "      <th>floors_total</th>\n",
       "      <th>living_area</th>\n",
       "      <th>floor</th>\n",
       "      <th>is_apartment</th>\n",
       "      <th>...</th>\n",
       "      <th>locality_name</th>\n",
       "      <th>airports_nearest</th>\n",
       "      <th>city_centers_nearest</th>\n",
       "      <th>parks_around3000</th>\n",
       "      <th>parks_nearest</th>\n",
       "      <th>ponds_around3000</th>\n",
       "      <th>ponds_nearest</th>\n",
       "      <th>days_exposition</th>\n",
       "      <th>k_kitchen_area</th>\n",
       "      <th>k_rooms</th>\n",
       "    </tr>\n",
       "  </thead>\n",
       "  <tbody>\n",
       "  </tbody>\n",
       "</table>\n",
       "<p>0 rows × 24 columns</p>\n",
       "</div>"
      ],
      "text/plain": [
       "Empty DataFrame\n",
       "Columns: [total_images, last_price, total_area, first_day_exposition, rooms, ceiling_height, floors_total, living_area, floor, is_apartment, studio, open_plan, kitchen_area, balcony, locality_name, airports_nearest, city_centers_nearest, parks_around3000, parks_nearest, ponds_around3000, ponds_nearest, days_exposition, k_kitchen_area, k_rooms]\n",
       "Index: []\n",
       "\n",
       "[0 rows x 24 columns]"
      ]
     },
     "execution_count": 18,
     "metadata": {},
     "output_type": "execute_result"
    }
   ],
   "source": [
    "df[(df.ponds_nearest.isna()) & (df.ponds_around3000 > 0)]"
   ]
  },
  {
   "cell_type": "code",
   "execution_count": 19,
   "metadata": {},
   "outputs": [],
   "source": [
    "for column in ['airports_nearest', \n",
    "               'city_centers_nearest',\n",
    "               'parks_nearest', \n",
    "               'ponds_nearest']:\n",
    "    df[column] = df[column].fillna(100000)"
   ]
  },
  {
   "cell_type": "markdown",
   "metadata": {},
   "source": [
    "### 'is_apartment, balcony, parks_around3000,  ponds_around3000\n",
    "\n",
    "В отличии от расстояний в данных столбцах ноль вместо пропусков как раз таки логичен и обоснован, но на всякий случай проверим условие не пересекается ли пропуск в 'parks_around3000' и 'ponds_around3000' со значением меньшим 3000 метров в соседнем столбце. Если нет то смело зануляем..."
   ]
  },
  {
   "cell_type": "code",
   "execution_count": 20,
   "metadata": {},
   "outputs": [
    {
     "data": {
      "text/html": [
       "<div>\n",
       "<style scoped>\n",
       "    .dataframe tbody tr th:only-of-type {\n",
       "        vertical-align: middle;\n",
       "    }\n",
       "\n",
       "    .dataframe tbody tr th {\n",
       "        vertical-align: top;\n",
       "    }\n",
       "\n",
       "    .dataframe thead th {\n",
       "        text-align: right;\n",
       "    }\n",
       "</style>\n",
       "<table border=\"1\" class=\"dataframe\">\n",
       "  <thead>\n",
       "    <tr style=\"text-align: right;\">\n",
       "      <th></th>\n",
       "      <th>total_images</th>\n",
       "      <th>last_price</th>\n",
       "      <th>total_area</th>\n",
       "      <th>first_day_exposition</th>\n",
       "      <th>rooms</th>\n",
       "      <th>ceiling_height</th>\n",
       "      <th>floors_total</th>\n",
       "      <th>living_area</th>\n",
       "      <th>floor</th>\n",
       "      <th>is_apartment</th>\n",
       "      <th>...</th>\n",
       "      <th>locality_name</th>\n",
       "      <th>airports_nearest</th>\n",
       "      <th>city_centers_nearest</th>\n",
       "      <th>parks_around3000</th>\n",
       "      <th>parks_nearest</th>\n",
       "      <th>ponds_around3000</th>\n",
       "      <th>ponds_nearest</th>\n",
       "      <th>days_exposition</th>\n",
       "      <th>k_kitchen_area</th>\n",
       "      <th>k_rooms</th>\n",
       "    </tr>\n",
       "  </thead>\n",
       "  <tbody>\n",
       "  </tbody>\n",
       "</table>\n",
       "<p>0 rows × 24 columns</p>\n",
       "</div>"
      ],
      "text/plain": [
       "Empty DataFrame\n",
       "Columns: [total_images, last_price, total_area, first_day_exposition, rooms, ceiling_height, floors_total, living_area, floor, is_apartment, studio, open_plan, kitchen_area, balcony, locality_name, airports_nearest, city_centers_nearest, parks_around3000, parks_nearest, ponds_around3000, ponds_nearest, days_exposition, k_kitchen_area, k_rooms]\n",
       "Index: []\n",
       "\n",
       "[0 rows x 24 columns]"
      ]
     },
     "execution_count": 20,
     "metadata": {},
     "output_type": "execute_result"
    }
   ],
   "source": [
    "df[(df.parks_nearest <= 3000) & (df.parks_around3000.isna())]"
   ]
  },
  {
   "cell_type": "code",
   "execution_count": 21,
   "metadata": {},
   "outputs": [
    {
     "data": {
      "text/html": [
       "<div>\n",
       "<style scoped>\n",
       "    .dataframe tbody tr th:only-of-type {\n",
       "        vertical-align: middle;\n",
       "    }\n",
       "\n",
       "    .dataframe tbody tr th {\n",
       "        vertical-align: top;\n",
       "    }\n",
       "\n",
       "    .dataframe thead th {\n",
       "        text-align: right;\n",
       "    }\n",
       "</style>\n",
       "<table border=\"1\" class=\"dataframe\">\n",
       "  <thead>\n",
       "    <tr style=\"text-align: right;\">\n",
       "      <th></th>\n",
       "      <th>total_images</th>\n",
       "      <th>last_price</th>\n",
       "      <th>total_area</th>\n",
       "      <th>first_day_exposition</th>\n",
       "      <th>rooms</th>\n",
       "      <th>ceiling_height</th>\n",
       "      <th>floors_total</th>\n",
       "      <th>living_area</th>\n",
       "      <th>floor</th>\n",
       "      <th>is_apartment</th>\n",
       "      <th>...</th>\n",
       "      <th>locality_name</th>\n",
       "      <th>airports_nearest</th>\n",
       "      <th>city_centers_nearest</th>\n",
       "      <th>parks_around3000</th>\n",
       "      <th>parks_nearest</th>\n",
       "      <th>ponds_around3000</th>\n",
       "      <th>ponds_nearest</th>\n",
       "      <th>days_exposition</th>\n",
       "      <th>k_kitchen_area</th>\n",
       "      <th>k_rooms</th>\n",
       "    </tr>\n",
       "  </thead>\n",
       "  <tbody>\n",
       "  </tbody>\n",
       "</table>\n",
       "<p>0 rows × 24 columns</p>\n",
       "</div>"
      ],
      "text/plain": [
       "Empty DataFrame\n",
       "Columns: [total_images, last_price, total_area, first_day_exposition, rooms, ceiling_height, floors_total, living_area, floor, is_apartment, studio, open_plan, kitchen_area, balcony, locality_name, airports_nearest, city_centers_nearest, parks_around3000, parks_nearest, ponds_around3000, ponds_nearest, days_exposition, k_kitchen_area, k_rooms]\n",
       "Index: []\n",
       "\n",
       "[0 rows x 24 columns]"
      ]
     },
     "execution_count": 21,
     "metadata": {},
     "output_type": "execute_result"
    }
   ],
   "source": [
    "df[(df.ponds_nearest <= 3000) & (df.ponds_around3000.isna())]"
   ]
  },
  {
   "cell_type": "code",
   "execution_count": 22,
   "metadata": {},
   "outputs": [],
   "source": [
    "for column in ['is_apartment', 'balcony', 'parks_around3000', 'ponds_around3000']:\n",
    "    df[column] = df[column].fillna(0)"
   ]
  },
  {
   "cell_type": "markdown",
   "metadata": {},
   "source": [
    "[к содержанию...](#title)"
   ]
  },
  {
   "cell_type": "markdown",
   "metadata": {},
   "source": [
    "<a name=\"data_type\"></a>\n",
    "## 2.2 Замена типа данных"
   ]
  },
  {
   "cell_type": "markdown",
   "metadata": {},
   "source": [
    "### first_day_exposition\n",
    "Для облегчения дальнейшей обработки переведем столбец 'first_day_exposition' к типу **datetime**"
   ]
  },
  {
   "cell_type": "code",
   "execution_count": 23,
   "metadata": {},
   "outputs": [],
   "source": [
    "df['first_day_exposition'] = pd.to_datetime(df['first_day_exposition'], format='%Y-%m-%dT%H:%M:%S')"
   ]
  },
  {
   "cell_type": "markdown",
   "metadata": {},
   "source": [
    "### float к int\n",
    "Переведем следующие столбцы с типом float к типу int:"
   ]
  },
  {
   "cell_type": "code",
   "execution_count": 24,
   "metadata": {},
   "outputs": [],
   "source": [
    "bed_type_columns = ['last_price', 'floors_total', 'balcony', 'airports_nearest',\n",
    "                    'city_centers_nearest', 'parks_around3000',\n",
    "                    'parks_nearest', 'ponds_around3000',\n",
    "                    'ponds_nearest', 'days_exposition']"
   ]
  },
  {
   "cell_type": "code",
   "execution_count": 25,
   "metadata": {},
   "outputs": [],
   "source": [
    "for column in bed_type_columns:\n",
    "    df[column] = df[column].astype('int')"
   ]
  },
  {
   "cell_type": "markdown",
   "metadata": {},
   "source": [
    "### object к bool"
   ]
  },
  {
   "cell_type": "code",
   "execution_count": 26,
   "metadata": {},
   "outputs": [],
   "source": [
    "df['is_apartment'] = df['is_apartment'].astype('bool')"
   ]
  },
  {
   "cell_type": "markdown",
   "metadata": {},
   "source": [
    "## Оценим результат:"
   ]
  },
  {
   "cell_type": "code",
   "execution_count": 27,
   "metadata": {},
   "outputs": [
    {
     "data": {
      "text/plain": [
       "0"
      ]
     },
     "execution_count": 27,
     "metadata": {},
     "output_type": "execute_result"
    }
   ],
   "source": [
    "df.duplicated().sum()"
   ]
  },
  {
   "cell_type": "code",
   "execution_count": 28,
   "metadata": {},
   "outputs": [
    {
     "data": {
      "text/html": [
       "<div>\n",
       "<style scoped>\n",
       "    .dataframe tbody tr th:only-of-type {\n",
       "        vertical-align: middle;\n",
       "    }\n",
       "\n",
       "    .dataframe tbody tr th {\n",
       "        vertical-align: top;\n",
       "    }\n",
       "\n",
       "    .dataframe thead th {\n",
       "        text-align: right;\n",
       "    }\n",
       "</style>\n",
       "<table border=\"1\" class=\"dataframe\">\n",
       "  <thead>\n",
       "    <tr style=\"text-align: right;\">\n",
       "      <th></th>\n",
       "      <th>total_images</th>\n",
       "      <th>last_price</th>\n",
       "      <th>total_area</th>\n",
       "      <th>rooms</th>\n",
       "      <th>ceiling_height</th>\n",
       "      <th>floors_total</th>\n",
       "      <th>living_area</th>\n",
       "      <th>floor</th>\n",
       "      <th>kitchen_area</th>\n",
       "      <th>balcony</th>\n",
       "      <th>airports_nearest</th>\n",
       "      <th>city_centers_nearest</th>\n",
       "      <th>parks_around3000</th>\n",
       "      <th>parks_nearest</th>\n",
       "      <th>ponds_around3000</th>\n",
       "      <th>ponds_nearest</th>\n",
       "      <th>days_exposition</th>\n",
       "      <th>k_kitchen_area</th>\n",
       "      <th>k_rooms</th>\n",
       "    </tr>\n",
       "  </thead>\n",
       "  <tbody>\n",
       "    <tr>\n",
       "      <th>count</th>\n",
       "      <td>20355.000000</td>\n",
       "      <td>2.035500e+04</td>\n",
       "      <td>20355.000000</td>\n",
       "      <td>20355.000000</td>\n",
       "      <td>20355.000000</td>\n",
       "      <td>20355.000000</td>\n",
       "      <td>20355.000000</td>\n",
       "      <td>20355.000000</td>\n",
       "      <td>20355.000000</td>\n",
       "      <td>20355.000000</td>\n",
       "      <td>20355.000000</td>\n",
       "      <td>20355.000000</td>\n",
       "      <td>20355.000000</td>\n",
       "      <td>20355.000000</td>\n",
       "      <td>20355.000000</td>\n",
       "      <td>20355.000000</td>\n",
       "      <td>20355.000000</td>\n",
       "      <td>18343.000000</td>\n",
       "      <td>18689.0</td>\n",
       "    </tr>\n",
       "    <tr>\n",
       "      <th>mean</th>\n",
       "      <td>9.633161</td>\n",
       "      <td>6.256058e+06</td>\n",
       "      <td>58.820770</td>\n",
       "      <td>2.024761</td>\n",
       "      <td>2.690616</td>\n",
       "      <td>10.863817</td>\n",
       "      <td>33.445725</td>\n",
       "      <td>5.973766</td>\n",
       "      <td>10.345025</td>\n",
       "      <td>0.593810</td>\n",
       "      <td>45079.930926</td>\n",
       "      <td>33757.877622</td>\n",
       "      <td>0.463719</td>\n",
       "      <td>66400.128077</td>\n",
       "      <td>0.586834</td>\n",
       "      <td>61845.535200</td>\n",
       "      <td>180.763989</td>\n",
       "      <td>0.189230</td>\n",
       "      <td>inf</td>\n",
       "    </tr>\n",
       "    <tr>\n",
       "      <th>std</th>\n",
       "      <td>5.655924</td>\n",
       "      <td>1.085476e+07</td>\n",
       "      <td>33.958494</td>\n",
       "      <td>1.054744</td>\n",
       "      <td>0.205605</td>\n",
       "      <td>6.646200</td>\n",
       "      <td>20.947996</td>\n",
       "      <td>4.932182</td>\n",
       "      <td>5.774308</td>\n",
       "      <td>0.949641</td>\n",
       "      <td>31880.781521</td>\n",
       "      <td>36686.120197</td>\n",
       "      <td>0.744504</td>\n",
       "      <td>47060.465371</td>\n",
       "      <td>0.878803</td>\n",
       "      <td>48373.102039</td>\n",
       "      <td>219.793773</td>\n",
       "      <td>0.072619</td>\n",
       "      <td>NaN</td>\n",
       "    </tr>\n",
       "    <tr>\n",
       "      <th>min</th>\n",
       "      <td>0.000000</td>\n",
       "      <td>1.219000e+04</td>\n",
       "      <td>12.000000</td>\n",
       "      <td>0.000000</td>\n",
       "      <td>2.200000</td>\n",
       "      <td>1.000000</td>\n",
       "      <td>0.000000</td>\n",
       "      <td>1.000000</td>\n",
       "      <td>2.000000</td>\n",
       "      <td>0.000000</td>\n",
       "      <td>0.000000</td>\n",
       "      <td>208.000000</td>\n",
       "      <td>0.000000</td>\n",
       "      <td>1.000000</td>\n",
       "      <td>0.000000</td>\n",
       "      <td>13.000000</td>\n",
       "      <td>1.000000</td>\n",
       "      <td>0.025381</td>\n",
       "      <td>1.0</td>\n",
       "    </tr>\n",
       "    <tr>\n",
       "      <th>25%</th>\n",
       "      <td>6.000000</td>\n",
       "      <td>3.400000e+06</td>\n",
       "      <td>39.525000</td>\n",
       "      <td>1.000000</td>\n",
       "      <td>2.600000</td>\n",
       "      <td>5.000000</td>\n",
       "      <td>18.000000</td>\n",
       "      <td>2.000000</td>\n",
       "      <td>7.000000</td>\n",
       "      <td>0.000000</td>\n",
       "      <td>20937.000000</td>\n",
       "      <td>11004.000000</td>\n",
       "      <td>0.000000</td>\n",
       "      <td>607.000000</td>\n",
       "      <td>0.000000</td>\n",
       "      <td>640.000000</td>\n",
       "      <td>45.000000</td>\n",
       "      <td>0.135185</td>\n",
       "      <td>14.5</td>\n",
       "    </tr>\n",
       "    <tr>\n",
       "      <th>50%</th>\n",
       "      <td>9.000000</td>\n",
       "      <td>4.500000e+06</td>\n",
       "      <td>50.800000</td>\n",
       "      <td>2.000000</td>\n",
       "      <td>2.650000</td>\n",
       "      <td>9.000000</td>\n",
       "      <td>30.000000</td>\n",
       "      <td>4.000000</td>\n",
       "      <td>9.000000</td>\n",
       "      <td>0.000000</td>\n",
       "      <td>33531.000000</td>\n",
       "      <td>14978.000000</td>\n",
       "      <td>0.000000</td>\n",
       "      <td>100000.000000</td>\n",
       "      <td>0.000000</td>\n",
       "      <td>100000.000000</td>\n",
       "      <td>95.000000</td>\n",
       "      <td>0.175000</td>\n",
       "      <td>16.0</td>\n",
       "    </tr>\n",
       "    <tr>\n",
       "      <th>75%</th>\n",
       "      <td>14.000000</td>\n",
       "      <td>6.500000e+06</td>\n",
       "      <td>67.800000</td>\n",
       "      <td>3.000000</td>\n",
       "      <td>2.700000</td>\n",
       "      <td>16.000000</td>\n",
       "      <td>42.000000</td>\n",
       "      <td>8.000000</td>\n",
       "      <td>11.800000</td>\n",
       "      <td>1.000000</td>\n",
       "      <td>53520.000000</td>\n",
       "      <td>34156.000000</td>\n",
       "      <td>1.000000</td>\n",
       "      <td>100000.000000</td>\n",
       "      <td>1.000000</td>\n",
       "      <td>100000.000000</td>\n",
       "      <td>231.000000</td>\n",
       "      <td>0.234375</td>\n",
       "      <td>18.0</td>\n",
       "    </tr>\n",
       "    <tr>\n",
       "      <th>max</th>\n",
       "      <td>50.000000</td>\n",
       "      <td>7.630000e+08</td>\n",
       "      <td>900.000000</td>\n",
       "      <td>19.000000</td>\n",
       "      <td>5.000000</td>\n",
       "      <td>60.000000</td>\n",
       "      <td>409.700000</td>\n",
       "      <td>33.000000</td>\n",
       "      <td>112.000000</td>\n",
       "      <td>5.000000</td>\n",
       "      <td>100000.000000</td>\n",
       "      <td>100000.000000</td>\n",
       "      <td>3.000000</td>\n",
       "      <td>100000.000000</td>\n",
       "      <td>3.000000</td>\n",
       "      <td>100000.000000</td>\n",
       "      <td>1580.000000</td>\n",
       "      <td>0.787879</td>\n",
       "      <td>inf</td>\n",
       "    </tr>\n",
       "  </tbody>\n",
       "</table>\n",
       "</div>"
      ],
      "text/plain": [
       "       total_images    last_price    total_area         rooms  ceiling_height  \\\n",
       "count  20355.000000  2.035500e+04  20355.000000  20355.000000    20355.000000   \n",
       "mean       9.633161  6.256058e+06     58.820770      2.024761        2.690616   \n",
       "std        5.655924  1.085476e+07     33.958494      1.054744        0.205605   \n",
       "min        0.000000  1.219000e+04     12.000000      0.000000        2.200000   \n",
       "25%        6.000000  3.400000e+06     39.525000      1.000000        2.600000   \n",
       "50%        9.000000  4.500000e+06     50.800000      2.000000        2.650000   \n",
       "75%       14.000000  6.500000e+06     67.800000      3.000000        2.700000   \n",
       "max       50.000000  7.630000e+08    900.000000     19.000000        5.000000   \n",
       "\n",
       "       floors_total   living_area         floor  kitchen_area       balcony  \\\n",
       "count  20355.000000  20355.000000  20355.000000  20355.000000  20355.000000   \n",
       "mean      10.863817     33.445725      5.973766     10.345025      0.593810   \n",
       "std        6.646200     20.947996      4.932182      5.774308      0.949641   \n",
       "min        1.000000      0.000000      1.000000      2.000000      0.000000   \n",
       "25%        5.000000     18.000000      2.000000      7.000000      0.000000   \n",
       "50%        9.000000     30.000000      4.000000      9.000000      0.000000   \n",
       "75%       16.000000     42.000000      8.000000     11.800000      1.000000   \n",
       "max       60.000000    409.700000     33.000000    112.000000      5.000000   \n",
       "\n",
       "       airports_nearest  city_centers_nearest  parks_around3000  \\\n",
       "count      20355.000000          20355.000000      20355.000000   \n",
       "mean       45079.930926          33757.877622          0.463719   \n",
       "std        31880.781521          36686.120197          0.744504   \n",
       "min            0.000000            208.000000          0.000000   \n",
       "25%        20937.000000          11004.000000          0.000000   \n",
       "50%        33531.000000          14978.000000          0.000000   \n",
       "75%        53520.000000          34156.000000          1.000000   \n",
       "max       100000.000000         100000.000000          3.000000   \n",
       "\n",
       "       parks_nearest  ponds_around3000  ponds_nearest  days_exposition  \\\n",
       "count   20355.000000      20355.000000   20355.000000     20355.000000   \n",
       "mean    66400.128077          0.586834   61845.535200       180.763989   \n",
       "std     47060.465371          0.878803   48373.102039       219.793773   \n",
       "min         1.000000          0.000000      13.000000         1.000000   \n",
       "25%       607.000000          0.000000     640.000000        45.000000   \n",
       "50%    100000.000000          0.000000  100000.000000        95.000000   \n",
       "75%    100000.000000          1.000000  100000.000000       231.000000   \n",
       "max    100000.000000          3.000000  100000.000000      1580.000000   \n",
       "\n",
       "       k_kitchen_area  k_rooms  \n",
       "count    18343.000000  18689.0  \n",
       "mean         0.189230      inf  \n",
       "std          0.072619      NaN  \n",
       "min          0.025381      1.0  \n",
       "25%          0.135185     14.5  \n",
       "50%          0.175000     16.0  \n",
       "75%          0.234375     18.0  \n",
       "max          0.787879      inf  "
      ]
     },
     "execution_count": 28,
     "metadata": {},
     "output_type": "execute_result"
    }
   ],
   "source": [
    "df = df.reset_index(drop=True)\n",
    "df.describe()"
   ]
  },
  {
   "cell_type": "code",
   "execution_count": 29,
   "metadata": {},
   "outputs": [
    {
     "name": "stdout",
     "output_type": "stream",
     "text": [
      "<class 'pandas.core.frame.DataFrame'>\n",
      "RangeIndex: 20355 entries, 0 to 20354\n",
      "Data columns (total 24 columns):\n",
      " #   Column                Non-Null Count  Dtype         \n",
      "---  ------                --------------  -----         \n",
      " 0   total_images          20355 non-null  int64         \n",
      " 1   last_price            20355 non-null  int64         \n",
      " 2   total_area            20355 non-null  float64       \n",
      " 3   first_day_exposition  20355 non-null  datetime64[ns]\n",
      " 4   rooms                 20355 non-null  int64         \n",
      " 5   ceiling_height        20355 non-null  float64       \n",
      " 6   floors_total          20355 non-null  int64         \n",
      " 7   living_area           20355 non-null  float64       \n",
      " 8   floor                 20355 non-null  int64         \n",
      " 9   is_apartment          20355 non-null  bool          \n",
      " 10  studio                20355 non-null  bool          \n",
      " 11  open_plan             20355 non-null  bool          \n",
      " 12  kitchen_area          20355 non-null  float64       \n",
      " 13  balcony               20355 non-null  int64         \n",
      " 14  locality_name         20355 non-null  object        \n",
      " 15  airports_nearest      20355 non-null  int64         \n",
      " 16  city_centers_nearest  20355 non-null  int64         \n",
      " 17  parks_around3000      20355 non-null  int64         \n",
      " 18  parks_nearest         20355 non-null  int64         \n",
      " 19  ponds_around3000      20355 non-null  int64         \n",
      " 20  ponds_nearest         20355 non-null  int64         \n",
      " 21  days_exposition       20355 non-null  int64         \n",
      " 22  k_kitchen_area        18343 non-null  float64       \n",
      " 23  k_rooms               18689 non-null  float64       \n",
      "dtypes: bool(3), datetime64[ns](1), float64(6), int64(13), object(1)\n",
      "memory usage: 3.3+ MB\n"
     ]
    }
   ],
   "source": [
    "df.info()"
   ]
  },
  {
   "cell_type": "markdown",
   "metadata": {},
   "source": [
    "[к содержанию...](#title)"
   ]
  },
  {
   "cell_type": "markdown",
   "metadata": {},
   "source": [
    "<a name=\"tabl\"></a>\n",
    "## 3. Подготовка таблицы"
   ]
  },
  {
   "cell_type": "markdown",
   "metadata": {},
   "source": [
    "### Цена квадратного метра"
   ]
  },
  {
   "cell_type": "code",
   "execution_count": 30,
   "metadata": {},
   "outputs": [],
   "source": [
    "df['sq_price'] = df['last_price'] / df['total_area']\n",
    "df['sq_price'] = df['sq_price'].astype('int')"
   ]
  },
  {
   "cell_type": "markdown",
   "metadata": {},
   "source": [
    "### День недели, месяц и год публикации"
   ]
  },
  {
   "cell_type": "code",
   "execution_count": 31,
   "metadata": {},
   "outputs": [],
   "source": [
    "df['weekday_exposition'] = df['first_day_exposition'].dt.weekday\n",
    "df['month_exposition'] = df['first_day_exposition'].dt.month\n",
    "df['year_exposition'] = df['first_day_exposition'].dt.year"
   ]
  },
  {
   "cell_type": "markdown",
   "metadata": {},
   "source": [
    "### Этаж (категория)"
   ]
  },
  {
   "cell_type": "code",
   "execution_count": 32,
   "metadata": {},
   "outputs": [],
   "source": [
    "for i in range(len(df)):\n",
    "    floor = df.loc[i, 'floor']\n",
    "    total = df.loc[i, 'floors_total']\n",
    "    if floor == 1:\n",
    "        type = 'first'\n",
    "    if 1 < floor < total:\n",
    "        type = 'other'\n",
    "    if floor == total:\n",
    "        type = 'last'\n",
    "    df.loc[i, 'floor_type'] = type"
   ]
  },
  {
   "cell_type": "markdown",
   "metadata": {},
   "source": [
    "### Соотношение площадей"
   ]
  },
  {
   "cell_type": "code",
   "execution_count": 33,
   "metadata": {},
   "outputs": [],
   "source": [
    "df['k_living_area '] = df['living_area'] / df['total_area']\n",
    "df['k_kitchen_area'] = df['kitchen_area'] / df['total_area']"
   ]
  },
  {
   "cell_type": "code",
   "execution_count": 34,
   "metadata": {},
   "outputs": [
    {
     "name": "stdout",
     "output_type": "stream",
     "text": [
      "<class 'pandas.core.frame.DataFrame'>\n",
      "RangeIndex: 20355 entries, 0 to 20354\n",
      "Data columns (total 30 columns):\n",
      " #   Column                Non-Null Count  Dtype         \n",
      "---  ------                --------------  -----         \n",
      " 0   total_images          20355 non-null  int64         \n",
      " 1   last_price            20355 non-null  int64         \n",
      " 2   total_area            20355 non-null  float64       \n",
      " 3   first_day_exposition  20355 non-null  datetime64[ns]\n",
      " 4   rooms                 20355 non-null  int64         \n",
      " 5   ceiling_height        20355 non-null  float64       \n",
      " 6   floors_total          20355 non-null  int64         \n",
      " 7   living_area           20355 non-null  float64       \n",
      " 8   floor                 20355 non-null  int64         \n",
      " 9   is_apartment          20355 non-null  bool          \n",
      " 10  studio                20355 non-null  bool          \n",
      " 11  open_plan             20355 non-null  bool          \n",
      " 12  kitchen_area          20355 non-null  float64       \n",
      " 13  balcony               20355 non-null  int64         \n",
      " 14  locality_name         20355 non-null  object        \n",
      " 15  airports_nearest      20355 non-null  int64         \n",
      " 16  city_centers_nearest  20355 non-null  int64         \n",
      " 17  parks_around3000      20355 non-null  int64         \n",
      " 18  parks_nearest         20355 non-null  int64         \n",
      " 19  ponds_around3000      20355 non-null  int64         \n",
      " 20  ponds_nearest         20355 non-null  int64         \n",
      " 21  days_exposition       20355 non-null  int64         \n",
      " 22  k_kitchen_area        20355 non-null  float64       \n",
      " 23  k_rooms               18689 non-null  float64       \n",
      " 24  sq_price              20355 non-null  int64         \n",
      " 25  weekday_exposition    20355 non-null  int64         \n",
      " 26  month_exposition      20355 non-null  int64         \n",
      " 27  year_exposition       20355 non-null  int64         \n",
      " 28  floor_type            20355 non-null  object        \n",
      " 29  k_living_area         20355 non-null  float64       \n",
      "dtypes: bool(3), datetime64[ns](1), float64(7), int64(17), object(2)\n",
      "memory usage: 4.3+ MB\n"
     ]
    }
   ],
   "source": [
    "df.info()"
   ]
  },
  {
   "cell_type": "markdown",
   "metadata": {},
   "source": [
    "### Цена в миллионах рублей\n",
    "Для удобства продублируем столбец 'last_price' в миллионах рублей - 'price_mln'"
   ]
  },
  {
   "cell_type": "code",
   "execution_count": 35,
   "metadata": {},
   "outputs": [],
   "source": [
    "df['price_mln'] = df['last_price'] / 1000000"
   ]
  },
  {
   "cell_type": "markdown",
   "metadata": {},
   "source": [
    "[к содержанию...](#title)"
   ]
  },
  {
   "cell_type": "markdown",
   "metadata": {},
   "source": [
    "<a name=\"analitika\"></a>\n",
    "## 4. Аналитика\n",
    "\n",
    "Проведем анализ заданных параметров на предмет их реалистичности, для этого сделаем выводы на основании их распределений, гистограмм и здравого смысла."
   ]
  },
  {
   "cell_type": "markdown",
   "metadata": {},
   "source": [
    "<a name=\"param\"></a>\n",
    "### 4.1 Параметры и гистограммы"
   ]
  },
  {
   "cell_type": "markdown",
   "metadata": {},
   "source": [
    "Подготовим функцию принимающую на вход название столбца и возвращающую бокс, гистограмму и описание распределения:"
   ]
  },
  {
   "cell_type": "code",
   "execution_count": 36,
   "metadata": {},
   "outputs": [],
   "source": [
    "def p_h(column):\n",
    "    print(df[column].describe())\n",
    "    f, (ax_box, ax_hist) = plt.subplots(2, sharex=True, gridspec_kw={\"height_ratios\": (.15, .85)})\n",
    "    sns.boxplot(df[column], ax=ax_box)\n",
    "    sns.distplot(df[column], ax=ax_hist, hist=True, kde=False)\n",
    "    ax_box.set(xlabel='')\n",
    "    plt.show()\n",
    "   "
   ]
  },
  {
   "cell_type": "markdown",
   "metadata": {},
   "source": [
    "#### Площадь"
   ]
  },
  {
   "cell_type": "code",
   "execution_count": 37,
   "metadata": {},
   "outputs": [
    {
     "name": "stdout",
     "output_type": "stream",
     "text": [
      "count    20355.000000\n",
      "mean        58.820770\n",
      "std         33.958494\n",
      "min         12.000000\n",
      "25%         39.525000\n",
      "50%         50.800000\n",
      "75%         67.800000\n",
      "max        900.000000\n",
      "Name: total_area, dtype: float64\n"
     ]
    },
    {
     "data": {
      "image/png": "[encoded data removed]",
      "text/plain": [
       "<Figure size 432x288 with 2 Axes>"
      ]
     },
     "metadata": {
      "needs_background": "light"
     },
     "output_type": "display_data"
    }
   ],
   "source": [
    "p_h('total_area')"
   ]
  },
  {
   "cell_type": "markdown",
   "metadata": {},
   "source": [
    "\"Осмотрим\" объекты площадью свыше 400 кв.м."
   ]
  },
  {
   "cell_type": "code",
   "execution_count": 38,
   "metadata": {},
   "outputs": [
    {
     "data": {
      "text/html": [
       "<div>\n",
       "<style scoped>\n",
       "    .dataframe tbody tr th:only-of-type {\n",
       "        vertical-align: middle;\n",
       "    }\n",
       "\n",
       "    .dataframe tbody tr th {\n",
       "        vertical-align: top;\n",
       "    }\n",
       "\n",
       "    .dataframe thead th {\n",
       "        text-align: right;\n",
       "    }\n",
       "</style>\n",
       "<table border=\"1\" class=\"dataframe\">\n",
       "  <thead>\n",
       "    <tr style=\"text-align: right;\">\n",
       "      <th></th>\n",
       "      <th>total_images</th>\n",
       "      <th>last_price</th>\n",
       "      <th>total_area</th>\n",
       "      <th>first_day_exposition</th>\n",
       "      <th>rooms</th>\n",
       "      <th>ceiling_height</th>\n",
       "      <th>floors_total</th>\n",
       "      <th>living_area</th>\n",
       "      <th>floor</th>\n",
       "      <th>is_apartment</th>\n",
       "      <th>...</th>\n",
       "      <th>days_exposition</th>\n",
       "      <th>k_kitchen_area</th>\n",
       "      <th>k_rooms</th>\n",
       "      <th>sq_price</th>\n",
       "      <th>weekday_exposition</th>\n",
       "      <th>month_exposition</th>\n",
       "      <th>year_exposition</th>\n",
       "      <th>floor_type</th>\n",
       "      <th>k_living_area</th>\n",
       "      <th>price_mln</th>\n",
       "    </tr>\n",
       "  </thead>\n",
       "  <tbody>\n",
       "    <tr>\n",
       "      <th>558</th>\n",
       "      <td>3</td>\n",
       "      <td>49950000</td>\n",
       "      <td>483.9</td>\n",
       "      <td>2017-10-04</td>\n",
       "      <td>7</td>\n",
       "      <td>3.20</td>\n",
       "      <td>6</td>\n",
       "      <td>312.5</td>\n",
       "      <td>4</td>\n",
       "      <td>False</td>\n",
       "      <td>...</td>\n",
       "      <td>391</td>\n",
       "      <td>0.054557</td>\n",
       "      <td>44.642857</td>\n",
       "      <td>103223</td>\n",
       "      <td>2</td>\n",
       "      <td>10</td>\n",
       "      <td>2017</td>\n",
       "      <td>other</td>\n",
       "      <td>0.645795</td>\n",
       "      <td>49.950000</td>\n",
       "    </tr>\n",
       "    <tr>\n",
       "      <th>4592</th>\n",
       "      <td>20</td>\n",
       "      <td>65000000</td>\n",
       "      <td>590.0</td>\n",
       "      <td>2019-02-14</td>\n",
       "      <td>15</td>\n",
       "      <td>3.50</td>\n",
       "      <td>6</td>\n",
       "      <td>409.0</td>\n",
       "      <td>3</td>\n",
       "      <td>False</td>\n",
       "      <td>...</td>\n",
       "      <td>14</td>\n",
       "      <td>0.169492</td>\n",
       "      <td>27.266667</td>\n",
       "      <td>110169</td>\n",
       "      <td>3</td>\n",
       "      <td>2</td>\n",
       "      <td>2019</td>\n",
       "      <td>other</td>\n",
       "      <td>0.693220</td>\n",
       "      <td>65.000000</td>\n",
       "    </tr>\n",
       "    <tr>\n",
       "      <th>5046</th>\n",
       "      <td>3</td>\n",
       "      <td>230000000</td>\n",
       "      <td>500.0</td>\n",
       "      <td>2017-05-31</td>\n",
       "      <td>6</td>\n",
       "      <td>2.65</td>\n",
       "      <td>7</td>\n",
       "      <td>96.0</td>\n",
       "      <td>7</td>\n",
       "      <td>False</td>\n",
       "      <td>...</td>\n",
       "      <td>50</td>\n",
       "      <td>0.080000</td>\n",
       "      <td>NaN</td>\n",
       "      <td>460000</td>\n",
       "      <td>2</td>\n",
       "      <td>5</td>\n",
       "      <td>2017</td>\n",
       "      <td>last</td>\n",
       "      <td>0.192000</td>\n",
       "      <td>230.000000</td>\n",
       "    </tr>\n",
       "    <tr>\n",
       "      <th>5318</th>\n",
       "      <td>8</td>\n",
       "      <td>34000000</td>\n",
       "      <td>470.3</td>\n",
       "      <td>2018-01-14</td>\n",
       "      <td>4</td>\n",
       "      <td>2.65</td>\n",
       "      <td>3</td>\n",
       "      <td>248.7</td>\n",
       "      <td>3</td>\n",
       "      <td>False</td>\n",
       "      <td>...</td>\n",
       "      <td>179</td>\n",
       "      <td>0.085052</td>\n",
       "      <td>62.175000</td>\n",
       "      <td>72294</td>\n",
       "      <td>6</td>\n",
       "      <td>1</td>\n",
       "      <td>2018</td>\n",
       "      <td>last</td>\n",
       "      <td>0.528811</td>\n",
       "      <td>34.000000</td>\n",
       "    </tr>\n",
       "    <tr>\n",
       "      <th>5670</th>\n",
       "      <td>20</td>\n",
       "      <td>99000000</td>\n",
       "      <td>488.0</td>\n",
       "      <td>2017-04-09</td>\n",
       "      <td>5</td>\n",
       "      <td>2.95</td>\n",
       "      <td>20</td>\n",
       "      <td>216.0</td>\n",
       "      <td>17</td>\n",
       "      <td>False</td>\n",
       "      <td>...</td>\n",
       "      <td>351</td>\n",
       "      <td>0.102459</td>\n",
       "      <td>43.200000</td>\n",
       "      <td>202868</td>\n",
       "      <td>6</td>\n",
       "      <td>4</td>\n",
       "      <td>2017</td>\n",
       "      <td>other</td>\n",
       "      <td>0.442623</td>\n",
       "      <td>99.000000</td>\n",
       "    </tr>\n",
       "    <tr>\n",
       "      <th>6892</th>\n",
       "      <td>20</td>\n",
       "      <td>84000000</td>\n",
       "      <td>507.0</td>\n",
       "      <td>2015-12-17</td>\n",
       "      <td>5</td>\n",
       "      <td>4.45</td>\n",
       "      <td>7</td>\n",
       "      <td>301.5</td>\n",
       "      <td>7</td>\n",
       "      <td>True</td>\n",
       "      <td>...</td>\n",
       "      <td>1078</td>\n",
       "      <td>0.089744</td>\n",
       "      <td>60.300000</td>\n",
       "      <td>165680</td>\n",
       "      <td>3</td>\n",
       "      <td>12</td>\n",
       "      <td>2015</td>\n",
       "      <td>last</td>\n",
       "      <td>0.594675</td>\n",
       "      <td>84.000000</td>\n",
       "    </tr>\n",
       "    <tr>\n",
       "      <th>8444</th>\n",
       "      <td>1</td>\n",
       "      <td>43185328</td>\n",
       "      <td>494.1</td>\n",
       "      <td>2017-05-12</td>\n",
       "      <td>1</td>\n",
       "      <td>2.85</td>\n",
       "      <td>12</td>\n",
       "      <td>16.0</td>\n",
       "      <td>3</td>\n",
       "      <td>False</td>\n",
       "      <td>...</td>\n",
       "      <td>5</td>\n",
       "      <td>0.175000</td>\n",
       "      <td>NaN</td>\n",
       "      <td>87401</td>\n",
       "      <td>4</td>\n",
       "      <td>5</td>\n",
       "      <td>2017</td>\n",
       "      <td>other</td>\n",
       "      <td>0.032382</td>\n",
       "      <td>43.185328</td>\n",
       "    </tr>\n",
       "    <tr>\n",
       "      <th>10648</th>\n",
       "      <td>20</td>\n",
       "      <td>91500000</td>\n",
       "      <td>495.0</td>\n",
       "      <td>2017-06-19</td>\n",
       "      <td>7</td>\n",
       "      <td>4.65</td>\n",
       "      <td>7</td>\n",
       "      <td>347.5</td>\n",
       "      <td>7</td>\n",
       "      <td>False</td>\n",
       "      <td>...</td>\n",
       "      <td>14</td>\n",
       "      <td>0.050505</td>\n",
       "      <td>49.642857</td>\n",
       "      <td>184848</td>\n",
       "      <td>0</td>\n",
       "      <td>6</td>\n",
       "      <td>2017</td>\n",
       "      <td>last</td>\n",
       "      <td>0.702020</td>\n",
       "      <td>91.500000</td>\n",
       "    </tr>\n",
       "    <tr>\n",
       "      <th>11809</th>\n",
       "      <td>7</td>\n",
       "      <td>240000000</td>\n",
       "      <td>410.0</td>\n",
       "      <td>2017-04-01</td>\n",
       "      <td>6</td>\n",
       "      <td>3.40</td>\n",
       "      <td>7</td>\n",
       "      <td>218.0</td>\n",
       "      <td>7</td>\n",
       "      <td>False</td>\n",
       "      <td>...</td>\n",
       "      <td>199</td>\n",
       "      <td>0.097561</td>\n",
       "      <td>36.333333</td>\n",
       "      <td>585365</td>\n",
       "      <td>5</td>\n",
       "      <td>4</td>\n",
       "      <td>2017</td>\n",
       "      <td>last</td>\n",
       "      <td>0.531707</td>\n",
       "      <td>240.000000</td>\n",
       "    </tr>\n",
       "    <tr>\n",
       "      <th>12104</th>\n",
       "      <td>8</td>\n",
       "      <td>51000000</td>\n",
       "      <td>402.0</td>\n",
       "      <td>2017-02-07</td>\n",
       "      <td>6</td>\n",
       "      <td>3.15</td>\n",
       "      <td>8</td>\n",
       "      <td>300.0</td>\n",
       "      <td>6</td>\n",
       "      <td>False</td>\n",
       "      <td>...</td>\n",
       "      <td>32</td>\n",
       "      <td>0.139303</td>\n",
       "      <td>50.000000</td>\n",
       "      <td>126865</td>\n",
       "      <td>1</td>\n",
       "      <td>2</td>\n",
       "      <td>2017</td>\n",
       "      <td>other</td>\n",
       "      <td>0.746269</td>\n",
       "      <td>51.000000</td>\n",
       "    </tr>\n",
       "    <tr>\n",
       "      <th>12635</th>\n",
       "      <td>15</td>\n",
       "      <td>401300000</td>\n",
       "      <td>401.0</td>\n",
       "      <td>2016-02-20</td>\n",
       "      <td>5</td>\n",
       "      <td>2.65</td>\n",
       "      <td>9</td>\n",
       "      <td>204.0</td>\n",
       "      <td>9</td>\n",
       "      <td>False</td>\n",
       "      <td>...</td>\n",
       "      <td>393</td>\n",
       "      <td>0.059850</td>\n",
       "      <td>40.800000</td>\n",
       "      <td>1000748</td>\n",
       "      <td>5</td>\n",
       "      <td>2</td>\n",
       "      <td>2016</td>\n",
       "      <td>last</td>\n",
       "      <td>0.508728</td>\n",
       "      <td>401.300000</td>\n",
       "    </tr>\n",
       "    <tr>\n",
       "      <th>12886</th>\n",
       "      <td>19</td>\n",
       "      <td>45000000</td>\n",
       "      <td>413.5</td>\n",
       "      <td>2018-09-20</td>\n",
       "      <td>7</td>\n",
       "      <td>2.65</td>\n",
       "      <td>20</td>\n",
       "      <td>74.2</td>\n",
       "      <td>18</td>\n",
       "      <td>False</td>\n",
       "      <td>...</td>\n",
       "      <td>182</td>\n",
       "      <td>0.033615</td>\n",
       "      <td>10.600000</td>\n",
       "      <td>108827</td>\n",
       "      <td>3</td>\n",
       "      <td>9</td>\n",
       "      <td>2018</td>\n",
       "      <td>other</td>\n",
       "      <td>0.179444</td>\n",
       "      <td>45.000000</td>\n",
       "    </tr>\n",
       "    <tr>\n",
       "      <th>12909</th>\n",
       "      <td>8</td>\n",
       "      <td>150000000</td>\n",
       "      <td>500.0</td>\n",
       "      <td>2016-01-13</td>\n",
       "      <td>4</td>\n",
       "      <td>3.20</td>\n",
       "      <td>7</td>\n",
       "      <td>64.0</td>\n",
       "      <td>7</td>\n",
       "      <td>False</td>\n",
       "      <td>...</td>\n",
       "      <td>303</td>\n",
       "      <td>0.175000</td>\n",
       "      <td>NaN</td>\n",
       "      <td>300000</td>\n",
       "      <td>2</td>\n",
       "      <td>1</td>\n",
       "      <td>2016</td>\n",
       "      <td>last</td>\n",
       "      <td>0.128000</td>\n",
       "      <td>150.000000</td>\n",
       "    </tr>\n",
       "    <tr>\n",
       "      <th>13453</th>\n",
       "      <td>20</td>\n",
       "      <td>300000000</td>\n",
       "      <td>618.0</td>\n",
       "      <td>2017-12-18</td>\n",
       "      <td>7</td>\n",
       "      <td>3.40</td>\n",
       "      <td>7</td>\n",
       "      <td>258.0</td>\n",
       "      <td>5</td>\n",
       "      <td>False</td>\n",
       "      <td>...</td>\n",
       "      <td>111</td>\n",
       "      <td>0.113269</td>\n",
       "      <td>36.857143</td>\n",
       "      <td>485436</td>\n",
       "      <td>0</td>\n",
       "      <td>12</td>\n",
       "      <td>2017</td>\n",
       "      <td>other</td>\n",
       "      <td>0.417476</td>\n",
       "      <td>300.000000</td>\n",
       "    </tr>\n",
       "    <tr>\n",
       "      <th>16810</th>\n",
       "      <td>8</td>\n",
       "      <td>420000000</td>\n",
       "      <td>900.0</td>\n",
       "      <td>2017-12-06</td>\n",
       "      <td>12</td>\n",
       "      <td>2.80</td>\n",
       "      <td>25</td>\n",
       "      <td>409.7</td>\n",
       "      <td>25</td>\n",
       "      <td>False</td>\n",
       "      <td>...</td>\n",
       "      <td>106</td>\n",
       "      <td>0.124444</td>\n",
       "      <td>34.141667</td>\n",
       "      <td>466666</td>\n",
       "      <td>2</td>\n",
       "      <td>12</td>\n",
       "      <td>2017</td>\n",
       "      <td>last</td>\n",
       "      <td>0.455222</td>\n",
       "      <td>420.000000</td>\n",
       "    </tr>\n",
       "    <tr>\n",
       "      <th>17425</th>\n",
       "      <td>12</td>\n",
       "      <td>20000000</td>\n",
       "      <td>460.8</td>\n",
       "      <td>2019-03-20</td>\n",
       "      <td>6</td>\n",
       "      <td>3.10</td>\n",
       "      <td>3</td>\n",
       "      <td>279.6</td>\n",
       "      <td>1</td>\n",
       "      <td>False</td>\n",
       "      <td>...</td>\n",
       "      <td>21</td>\n",
       "      <td>0.120443</td>\n",
       "      <td>46.600000</td>\n",
       "      <td>43402</td>\n",
       "      <td>2</td>\n",
       "      <td>3</td>\n",
       "      <td>2019</td>\n",
       "      <td>first</td>\n",
       "      <td>0.606771</td>\n",
       "      <td>20.000000</td>\n",
       "    </tr>\n",
       "    <tr>\n",
       "      <th>18858</th>\n",
       "      <td>19</td>\n",
       "      <td>130000000</td>\n",
       "      <td>431.0</td>\n",
       "      <td>2017-10-02</td>\n",
       "      <td>7</td>\n",
       "      <td>3.70</td>\n",
       "      <td>8</td>\n",
       "      <td>220.0</td>\n",
       "      <td>5</td>\n",
       "      <td>False</td>\n",
       "      <td>...</td>\n",
       "      <td>161</td>\n",
       "      <td>0.046404</td>\n",
       "      <td>31.428571</td>\n",
       "      <td>301624</td>\n",
       "      <td>0</td>\n",
       "      <td>10</td>\n",
       "      <td>2017</td>\n",
       "      <td>other</td>\n",
       "      <td>0.510441</td>\n",
       "      <td>130.000000</td>\n",
       "    </tr>\n",
       "    <tr>\n",
       "      <th>19316</th>\n",
       "      <td>7</td>\n",
       "      <td>91075000</td>\n",
       "      <td>491.0</td>\n",
       "      <td>2017-05-27</td>\n",
       "      <td>5</td>\n",
       "      <td>4.20</td>\n",
       "      <td>9</td>\n",
       "      <td>274.0</td>\n",
       "      <td>9</td>\n",
       "      <td>False</td>\n",
       "      <td>...</td>\n",
       "      <td>115</td>\n",
       "      <td>0.091650</td>\n",
       "      <td>54.800000</td>\n",
       "      <td>185488</td>\n",
       "      <td>5</td>\n",
       "      <td>5</td>\n",
       "      <td>2017</td>\n",
       "      <td>last</td>\n",
       "      <td>0.558045</td>\n",
       "      <td>91.075000</td>\n",
       "    </tr>\n",
       "  </tbody>\n",
       "</table>\n",
       "<p>18 rows × 31 columns</p>\n",
       "</div>"
      ],
      "text/plain": [
       "       total_images  last_price  total_area first_day_exposition  rooms  \\\n",
       "558               3    49950000       483.9           2017-10-04      7   \n",
       "4592             20    65000000       590.0           2019-02-14     15   \n",
       "5046              3   230000000       500.0           2017-05-31      6   \n",
       "5318              8    34000000       470.3           2018-01-14      4   \n",
       "5670             20    99000000       488.0           2017-04-09      5   \n",
       "6892             20    84000000       507.0           2015-12-17      5   \n",
       "8444              1    43185328       494.1           2017-05-12      1   \n",
       "10648            20    91500000       495.0           2017-06-19      7   \n",
       "11809             7   240000000       410.0           2017-04-01      6   \n",
       "12104             8    51000000       402.0           2017-02-07      6   \n",
       "12635            15   401300000       401.0           2016-02-20      5   \n",
       "12886            19    45000000       413.5           2018-09-20      7   \n",
       "12909             8   150000000       500.0           2016-01-13      4   \n",
       "13453            20   300000000       618.0           2017-12-18      7   \n",
       "16810             8   420000000       900.0           2017-12-06     12   \n",
       "17425            12    20000000       460.8           2019-03-20      6   \n",
       "18858            19   130000000       431.0           2017-10-02      7   \n",
       "19316             7    91075000       491.0           2017-05-27      5   \n",
       "\n",
       "       ceiling_height  floors_total  living_area  floor  is_apartment  ...  \\\n",
       "558              3.20             6        312.5      4         False  ...   \n",
       "4592             3.50             6        409.0      3         False  ...   \n",
       "5046             2.65             7         96.0      7         False  ...   \n",
       "5318             2.65             3        248.7      3         False  ...   \n",
       "5670             2.95            20        216.0     17         False  ...   \n",
       "6892             4.45             7        301.5      7          True  ...   \n",
       "8444             2.85            12         16.0      3         False  ...   \n",
       "10648            4.65             7        347.5      7         False  ...   \n",
       "11809            3.40             7        218.0      7         False  ...   \n",
       "12104            3.15             8        300.0      6         False  ...   \n",
       "12635            2.65             9        204.0      9         False  ...   \n",
       "12886            2.65            20         74.2     18         False  ...   \n",
       "12909            3.20             7         64.0      7         False  ...   \n",
       "13453            3.40             7        258.0      5         False  ...   \n",
       "16810            2.80            25        409.7     25         False  ...   \n",
       "17425            3.10             3        279.6      1         False  ...   \n",
       "18858            3.70             8        220.0      5         False  ...   \n",
       "19316            4.20             9        274.0      9         False  ...   \n",
       "\n",
       "       days_exposition  k_kitchen_area    k_rooms  sq_price  \\\n",
       "558                391        0.054557  44.642857    103223   \n",
       "4592                14        0.169492  27.266667    110169   \n",
       "5046                50        0.080000        NaN    460000   \n",
       "5318               179        0.085052  62.175000     72294   \n",
       "5670               351        0.102459  43.200000    202868   \n",
       "6892              1078        0.089744  60.300000    165680   \n",
       "8444                 5        0.175000        NaN     87401   \n",
       "10648               14        0.050505  49.642857    184848   \n",
       "11809              199        0.097561  36.333333    585365   \n",
       "12104               32        0.139303  50.000000    126865   \n",
       "12635              393        0.059850  40.800000   1000748   \n",
       "12886              182        0.033615  10.600000    108827   \n",
       "12909              303        0.175000        NaN    300000   \n",
       "13453              111        0.113269  36.857143    485436   \n",
       "16810              106        0.124444  34.141667    466666   \n",
       "17425               21        0.120443  46.600000     43402   \n",
       "18858              161        0.046404  31.428571    301624   \n",
       "19316              115        0.091650  54.800000    185488   \n",
       "\n",
       "      weekday_exposition  month_exposition  year_exposition  floor_type  \\\n",
       "558                    2                10             2017       other   \n",
       "4592                   3                 2             2019       other   \n",
       "5046                   2                 5             2017        last   \n",
       "5318                   6                 1             2018        last   \n",
       "5670                   6                 4             2017       other   \n",
       "6892                   3                12             2015        last   \n",
       "8444                   4                 5             2017       other   \n",
       "10648                  0                 6             2017        last   \n",
       "11809                  5                 4             2017        last   \n",
       "12104                  1                 2             2017       other   \n",
       "12635                  5                 2             2016        last   \n",
       "12886                  3                 9             2018       other   \n",
       "12909                  2                 1             2016        last   \n",
       "13453                  0                12             2017       other   \n",
       "16810                  2                12             2017        last   \n",
       "17425                  2                 3             2019       first   \n",
       "18858                  0                10             2017       other   \n",
       "19316                  5                 5             2017        last   \n",
       "\n",
       "       k_living_area    price_mln  \n",
       "558          0.645795   49.950000  \n",
       "4592         0.693220   65.000000  \n",
       "5046         0.192000  230.000000  \n",
       "5318         0.528811   34.000000  \n",
       "5670         0.442623   99.000000  \n",
       "6892         0.594675   84.000000  \n",
       "8444         0.032382   43.185328  \n",
       "10648        0.702020   91.500000  \n",
       "11809        0.531707  240.000000  \n",
       "12104        0.746269   51.000000  \n",
       "12635        0.508728  401.300000  \n",
       "12886        0.179444   45.000000  \n",
       "12909        0.128000  150.000000  \n",
       "13453        0.417476  300.000000  \n",
       "16810        0.455222  420.000000  \n",
       "17425        0.606771   20.000000  \n",
       "18858        0.510441  130.000000  \n",
       "19316        0.558045   91.075000  \n",
       "\n",
       "[18 rows x 31 columns]"
      ]
     },
     "execution_count": 38,
     "metadata": {},
     "output_type": "execute_result"
    }
   ],
   "source": [
    "df.query('total_area > 400')"
   ]
  },
  {
   "cell_type": "markdown",
   "metadata": {},
   "source": [
    "### Вывод:\n",
    "**Аномалий не обнаружено, распределение логично**.\n",
    "\n",
    "**Сверхнизкие** *(доля в квартире)* и **сверхвысокие** *(12 комнатная квартира с бассейном на 400 кв.м)* значения данного параметра **имеют место быть в сфере недвижимости**."
   ]
  },
  {
   "cell_type": "markdown",
   "metadata": {},
   "source": [
    "#### Цена"
   ]
  },
  {
   "cell_type": "code",
   "execution_count": 39,
   "metadata": {},
   "outputs": [
    {
     "name": "stdout",
     "output_type": "stream",
     "text": [
      "count    2.035500e+04\n",
      "mean     6.256058e+06\n",
      "std      1.085476e+07\n",
      "min      1.219000e+04\n",
      "25%      3.400000e+06\n",
      "50%      4.500000e+06\n",
      "75%      6.500000e+06\n",
      "max      7.630000e+08\n",
      "Name: last_price, dtype: float64\n"
     ]
    },
    {
     "data": {
      "image/png": "[encoded data removed]",
      "text/plain": [
       "<Figure size 432x288 with 2 Axes>"
      ]
     },
     "metadata": {
      "needs_background": "light"
     },
     "output_type": "display_data"
    }
   ],
   "source": [
    "p_h('last_price')"
   ]
  },
  {
   "cell_type": "markdown",
   "metadata": {},
   "source": [
    "Оценим распределения попадающие в зону верхних выбросов."
   ]
  },
  {
   "cell_type": "code",
   "execution_count": 40,
   "metadata": {},
   "outputs": [],
   "source": [
    "#df.query('last_price > ((6.5-3.47)*1.5+6.5)').describe()"
   ]
  },
  {
   "cell_type": "markdown",
   "metadata": {},
   "source": [
    "### Вывод:\n",
    "**Аномалий не обнаружено, распределение логично**. \n",
    "\n",
    "Осмотр строк с экстремальными значениями поводов для размышления не дает. Рассуждения аналогичны параметру \"Площадь\"."
   ]
  },
  {
   "cell_type": "markdown",
   "metadata": {},
   "source": [
    "#### Число комнат"
   ]
  },
  {
   "cell_type": "code",
   "execution_count": 41,
   "metadata": {},
   "outputs": [
    {
     "name": "stdout",
     "output_type": "stream",
     "text": [
      "count    20355.000000\n",
      "mean         2.024761\n",
      "std          1.054744\n",
      "min          0.000000\n",
      "25%          1.000000\n",
      "50%          2.000000\n",
      "75%          3.000000\n",
      "max         19.000000\n",
      "Name: rooms, dtype: float64\n"
     ]
    },
    {
     "data": {
      "image/png": "[encoded data removed]",
      "text/plain": [
       "<Figure size 432x288 with 2 Axes>"
      ]
     },
     "metadata": {
      "needs_background": "light"
     },
     "output_type": "display_data"
    }
   ],
   "source": [
    "p_h('rooms')"
   ]
  },
  {
   "cell_type": "code",
   "execution_count": 42,
   "metadata": {},
   "outputs": [
    {
     "data": {
      "text/html": [
       "<div>\n",
       "<style scoped>\n",
       "    .dataframe tbody tr th:only-of-type {\n",
       "        vertical-align: middle;\n",
       "    }\n",
       "\n",
       "    .dataframe tbody tr th {\n",
       "        vertical-align: top;\n",
       "    }\n",
       "\n",
       "    .dataframe thead th {\n",
       "        text-align: right;\n",
       "    }\n",
       "</style>\n",
       "<table border=\"1\" class=\"dataframe\">\n",
       "  <thead>\n",
       "    <tr style=\"text-align: right;\">\n",
       "      <th></th>\n",
       "      <th>total_images</th>\n",
       "      <th>last_price</th>\n",
       "      <th>total_area</th>\n",
       "      <th>first_day_exposition</th>\n",
       "      <th>rooms</th>\n",
       "      <th>ceiling_height</th>\n",
       "      <th>floors_total</th>\n",
       "      <th>living_area</th>\n",
       "      <th>floor</th>\n",
       "      <th>is_apartment</th>\n",
       "      <th>...</th>\n",
       "      <th>days_exposition</th>\n",
       "      <th>k_kitchen_area</th>\n",
       "      <th>k_rooms</th>\n",
       "      <th>sq_price</th>\n",
       "      <th>weekday_exposition</th>\n",
       "      <th>month_exposition</th>\n",
       "      <th>year_exposition</th>\n",
       "      <th>floor_type</th>\n",
       "      <th>k_living_area</th>\n",
       "      <th>price_mln</th>\n",
       "    </tr>\n",
       "  </thead>\n",
       "  <tbody>\n",
       "    <tr>\n",
       "      <th>123</th>\n",
       "      <td>1</td>\n",
       "      <td>2450000</td>\n",
       "      <td>27.00</td>\n",
       "      <td>2017-03-30</td>\n",
       "      <td>0</td>\n",
       "      <td>2.65</td>\n",
       "      <td>24</td>\n",
       "      <td>15.50</td>\n",
       "      <td>2</td>\n",
       "      <td>False</td>\n",
       "      <td>...</td>\n",
       "      <td>181</td>\n",
       "      <td>0.175</td>\n",
       "      <td>inf</td>\n",
       "      <td>90740</td>\n",
       "      <td>3</td>\n",
       "      <td>3</td>\n",
       "      <td>2017</td>\n",
       "      <td>other</td>\n",
       "      <td>0.574074</td>\n",
       "      <td>2.450</td>\n",
       "    </tr>\n",
       "    <tr>\n",
       "      <th>289</th>\n",
       "      <td>4</td>\n",
       "      <td>2320000</td>\n",
       "      <td>25.00</td>\n",
       "      <td>2017-09-27</td>\n",
       "      <td>0</td>\n",
       "      <td>2.65</td>\n",
       "      <td>14</td>\n",
       "      <td>17.00</td>\n",
       "      <td>1</td>\n",
       "      <td>False</td>\n",
       "      <td>...</td>\n",
       "      <td>45</td>\n",
       "      <td>0.175</td>\n",
       "      <td>inf</td>\n",
       "      <td>92800</td>\n",
       "      <td>2</td>\n",
       "      <td>9</td>\n",
       "      <td>2017</td>\n",
       "      <td>first</td>\n",
       "      <td>0.680000</td>\n",
       "      <td>2.320</td>\n",
       "    </tr>\n",
       "    <tr>\n",
       "      <th>370</th>\n",
       "      <td>8</td>\n",
       "      <td>2480000</td>\n",
       "      <td>27.11</td>\n",
       "      <td>2018-03-12</td>\n",
       "      <td>0</td>\n",
       "      <td>2.65</td>\n",
       "      <td>17</td>\n",
       "      <td>24.75</td>\n",
       "      <td>4</td>\n",
       "      <td>False</td>\n",
       "      <td>...</td>\n",
       "      <td>64</td>\n",
       "      <td>0.175</td>\n",
       "      <td>inf</td>\n",
       "      <td>91479</td>\n",
       "      <td>0</td>\n",
       "      <td>3</td>\n",
       "      <td>2018</td>\n",
       "      <td>other</td>\n",
       "      <td>0.912947</td>\n",
       "      <td>2.480</td>\n",
       "    </tr>\n",
       "    <tr>\n",
       "      <th>430</th>\n",
       "      <td>0</td>\n",
       "      <td>3375000</td>\n",
       "      <td>34.40</td>\n",
       "      <td>2017-03-28</td>\n",
       "      <td>0</td>\n",
       "      <td>2.65</td>\n",
       "      <td>26</td>\n",
       "      <td>24.30</td>\n",
       "      <td>19</td>\n",
       "      <td>False</td>\n",
       "      <td>...</td>\n",
       "      <td>430</td>\n",
       "      <td>0.175</td>\n",
       "      <td>inf</td>\n",
       "      <td>98110</td>\n",
       "      <td>1</td>\n",
       "      <td>3</td>\n",
       "      <td>2017</td>\n",
       "      <td>other</td>\n",
       "      <td>0.706395</td>\n",
       "      <td>3.375</td>\n",
       "    </tr>\n",
       "    <tr>\n",
       "      <th>515</th>\n",
       "      <td>2</td>\n",
       "      <td>1850000</td>\n",
       "      <td>25.00</td>\n",
       "      <td>2019-02-20</td>\n",
       "      <td>0</td>\n",
       "      <td>2.65</td>\n",
       "      <td>10</td>\n",
       "      <td>0.00</td>\n",
       "      <td>7</td>\n",
       "      <td>False</td>\n",
       "      <td>...</td>\n",
       "      <td>29</td>\n",
       "      <td>0.175</td>\n",
       "      <td>NaN</td>\n",
       "      <td>74000</td>\n",
       "      <td>2</td>\n",
       "      <td>2</td>\n",
       "      <td>2019</td>\n",
       "      <td>other</td>\n",
       "      <td>0.000000</td>\n",
       "      <td>1.850</td>\n",
       "    </tr>\n",
       "    <tr>\n",
       "      <th>...</th>\n",
       "      <td>...</td>\n",
       "      <td>...</td>\n",
       "      <td>...</td>\n",
       "      <td>...</td>\n",
       "      <td>...</td>\n",
       "      <td>...</td>\n",
       "      <td>...</td>\n",
       "      <td>...</td>\n",
       "      <td>...</td>\n",
       "      <td>...</td>\n",
       "      <td>...</td>\n",
       "      <td>...</td>\n",
       "      <td>...</td>\n",
       "      <td>...</td>\n",
       "      <td>...</td>\n",
       "      <td>...</td>\n",
       "      <td>...</td>\n",
       "      <td>...</td>\n",
       "      <td>...</td>\n",
       "      <td>...</td>\n",
       "      <td>...</td>\n",
       "    </tr>\n",
       "    <tr>\n",
       "      <th>19936</th>\n",
       "      <td>7</td>\n",
       "      <td>3200000</td>\n",
       "      <td>26.00</td>\n",
       "      <td>2017-09-01</td>\n",
       "      <td>0</td>\n",
       "      <td>2.65</td>\n",
       "      <td>25</td>\n",
       "      <td>18.00</td>\n",
       "      <td>16</td>\n",
       "      <td>False</td>\n",
       "      <td>...</td>\n",
       "      <td>14</td>\n",
       "      <td>0.175</td>\n",
       "      <td>inf</td>\n",
       "      <td>123076</td>\n",
       "      <td>4</td>\n",
       "      <td>9</td>\n",
       "      <td>2017</td>\n",
       "      <td>other</td>\n",
       "      <td>0.692308</td>\n",
       "      <td>3.200</td>\n",
       "    </tr>\n",
       "    <tr>\n",
       "      <th>20136</th>\n",
       "      <td>0</td>\n",
       "      <td>2500000</td>\n",
       "      <td>27.70</td>\n",
       "      <td>2017-09-28</td>\n",
       "      <td>0</td>\n",
       "      <td>2.65</td>\n",
       "      <td>24</td>\n",
       "      <td>18.00</td>\n",
       "      <td>4</td>\n",
       "      <td>False</td>\n",
       "      <td>...</td>\n",
       "      <td>4</td>\n",
       "      <td>0.175</td>\n",
       "      <td>inf</td>\n",
       "      <td>90252</td>\n",
       "      <td>3</td>\n",
       "      <td>9</td>\n",
       "      <td>2017</td>\n",
       "      <td>other</td>\n",
       "      <td>0.649819</td>\n",
       "      <td>2.500</td>\n",
       "    </tr>\n",
       "    <tr>\n",
       "      <th>20232</th>\n",
       "      <td>15</td>\n",
       "      <td>3350000</td>\n",
       "      <td>26.00</td>\n",
       "      <td>2018-09-07</td>\n",
       "      <td>0</td>\n",
       "      <td>2.65</td>\n",
       "      <td>19</td>\n",
       "      <td>0.00</td>\n",
       "      <td>8</td>\n",
       "      <td>False</td>\n",
       "      <td>...</td>\n",
       "      <td>31</td>\n",
       "      <td>0.175</td>\n",
       "      <td>NaN</td>\n",
       "      <td>128846</td>\n",
       "      <td>4</td>\n",
       "      <td>9</td>\n",
       "      <td>2018</td>\n",
       "      <td>other</td>\n",
       "      <td>0.000000</td>\n",
       "      <td>3.350</td>\n",
       "    </tr>\n",
       "    <tr>\n",
       "      <th>20265</th>\n",
       "      <td>10</td>\n",
       "      <td>1450000</td>\n",
       "      <td>29.00</td>\n",
       "      <td>2017-11-11</td>\n",
       "      <td>0</td>\n",
       "      <td>2.65</td>\n",
       "      <td>9</td>\n",
       "      <td>18.00</td>\n",
       "      <td>8</td>\n",
       "      <td>False</td>\n",
       "      <td>...</td>\n",
       "      <td>82</td>\n",
       "      <td>0.175</td>\n",
       "      <td>inf</td>\n",
       "      <td>50000</td>\n",
       "      <td>5</td>\n",
       "      <td>11</td>\n",
       "      <td>2017</td>\n",
       "      <td>other</td>\n",
       "      <td>0.620690</td>\n",
       "      <td>1.450</td>\n",
       "    </tr>\n",
       "    <tr>\n",
       "      <th>20308</th>\n",
       "      <td>8</td>\n",
       "      <td>2350000</td>\n",
       "      <td>26.00</td>\n",
       "      <td>2018-06-26</td>\n",
       "      <td>0</td>\n",
       "      <td>2.65</td>\n",
       "      <td>25</td>\n",
       "      <td>17.00</td>\n",
       "      <td>4</td>\n",
       "      <td>False</td>\n",
       "      <td>...</td>\n",
       "      <td>207</td>\n",
       "      <td>0.175</td>\n",
       "      <td>inf</td>\n",
       "      <td>90384</td>\n",
       "      <td>1</td>\n",
       "      <td>6</td>\n",
       "      <td>2018</td>\n",
       "      <td>other</td>\n",
       "      <td>0.653846</td>\n",
       "      <td>2.350</td>\n",
       "    </tr>\n",
       "  </tbody>\n",
       "</table>\n",
       "<p>178 rows × 31 columns</p>\n",
       "</div>"
      ],
      "text/plain": [
       "       total_images  last_price  total_area first_day_exposition  rooms  \\\n",
       "123               1     2450000       27.00           2017-03-30      0   \n",
       "289               4     2320000       25.00           2017-09-27      0   \n",
       "370               8     2480000       27.11           2018-03-12      0   \n",
       "430               0     3375000       34.40           2017-03-28      0   \n",
       "515               2     1850000       25.00           2019-02-20      0   \n",
       "...             ...         ...         ...                  ...    ...   \n",
       "19936             7     3200000       26.00           2017-09-01      0   \n",
       "20136             0     2500000       27.70           2017-09-28      0   \n",
       "20232            15     3350000       26.00           2018-09-07      0   \n",
       "20265            10     1450000       29.00           2017-11-11      0   \n",
       "20308             8     2350000       26.00           2018-06-26      0   \n",
       "\n",
       "       ceiling_height  floors_total  living_area  floor  is_apartment  ...  \\\n",
       "123              2.65            24        15.50      2         False  ...   \n",
       "289              2.65            14        17.00      1         False  ...   \n",
       "370              2.65            17        24.75      4         False  ...   \n",
       "430              2.65            26        24.30     19         False  ...   \n",
       "515              2.65            10         0.00      7         False  ...   \n",
       "...               ...           ...          ...    ...           ...  ...   \n",
       "19936            2.65            25        18.00     16         False  ...   \n",
       "20136            2.65            24        18.00      4         False  ...   \n",
       "20232            2.65            19         0.00      8         False  ...   \n",
       "20265            2.65             9        18.00      8         False  ...   \n",
       "20308            2.65            25        17.00      4         False  ...   \n",
       "\n",
       "       days_exposition  k_kitchen_area  k_rooms  sq_price weekday_exposition  \\\n",
       "123                181           0.175      inf     90740                  3   \n",
       "289                 45           0.175      inf     92800                  2   \n",
       "370                 64           0.175      inf     91479                  0   \n",
       "430                430           0.175      inf     98110                  1   \n",
       "515                 29           0.175      NaN     74000                  2   \n",
       "...                ...             ...      ...       ...                ...   \n",
       "19936               14           0.175      inf    123076                  4   \n",
       "20136                4           0.175      inf     90252                  3   \n",
       "20232               31           0.175      NaN    128846                  4   \n",
       "20265               82           0.175      inf     50000                  5   \n",
       "20308              207           0.175      inf     90384                  1   \n",
       "\n",
       "       month_exposition  year_exposition  floor_type  k_living_area   \\\n",
       "123                   3             2017       other        0.574074   \n",
       "289                   9             2017       first        0.680000   \n",
       "370                   3             2018       other        0.912947   \n",
       "430                   3             2017       other        0.706395   \n",
       "515                   2             2019       other        0.000000   \n",
       "...                 ...              ...         ...             ...   \n",
       "19936                 9             2017       other        0.692308   \n",
       "20136                 9             2017       other        0.649819   \n",
       "20232                 9             2018       other        0.000000   \n",
       "20265                11             2017       other        0.620690   \n",
       "20308                 6             2018       other        0.653846   \n",
       "\n",
       "       price_mln  \n",
       "123        2.450  \n",
       "289        2.320  \n",
       "370        2.480  \n",
       "430        3.375  \n",
       "515        1.850  \n",
       "...          ...  \n",
       "19936      3.200  \n",
       "20136      2.500  \n",
       "20232      3.350  \n",
       "20265      1.450  \n",
       "20308      2.350  \n",
       "\n",
       "[178 rows x 31 columns]"
      ]
     },
     "execution_count": 42,
     "metadata": {},
     "output_type": "execute_result"
    }
   ],
   "source": [
    "df.query('rooms == 0')"
   ]
  },
  {
   "cell_type": "code",
   "execution_count": 43,
   "metadata": {},
   "outputs": [],
   "source": [
    "df['rooms'].where(df['rooms']!=0, 1, inplace=True)"
   ]
  },
  {
   "cell_type": "markdown",
   "metadata": {},
   "source": [
    "# Вывод:\n",
    "**178 нулевых значений заменены на 1, распределение логично**. \n",
    "\n",
    "Осмотр строк с экстремальными значениями поводов для размышления не дает. Рассуждения аналогичны параметру \"Площадь\"."
   ]
  },
  {
   "cell_type": "markdown",
   "metadata": {},
   "source": [
    "#### Высота потолков"
   ]
  },
  {
   "cell_type": "code",
   "execution_count": 44,
   "metadata": {},
   "outputs": [
    {
     "name": "stdout",
     "output_type": "stream",
     "text": [
      "count    20355.000000\n",
      "mean         2.690616\n",
      "std          0.205605\n",
      "min          2.200000\n",
      "25%          2.600000\n",
      "50%          2.650000\n",
      "75%          2.700000\n",
      "max          5.000000\n",
      "Name: ceiling_height, dtype: float64\n"
     ]
    },
    {
     "data": {
      "image/png": "[encoded data removed]",
      "text/plain": [
       "<Figure size 432x288 with 2 Axes>"
      ]
     },
     "metadata": {
      "needs_background": "light"
     },
     "output_type": "display_data"
    }
   ],
   "source": [
    "p_h('ceiling_height')"
   ]
  },
  {
   "cell_type": "markdown",
   "metadata": {},
   "source": [
    "**Пик на 2.65 мы устроили сами, заменив пропуски.**\n",
    "В принципе это не влияет на общую картину, к тому же куда **интереснее посмотреть на данные в следующем виде:**"
   ]
  },
  {
   "cell_type": "code",
   "execution_count": 45,
   "metadata": {},
   "outputs": [],
   "source": [
    "df['potolok'] = pd.cut(df['ceiling_height'], (0,2.7,3,3.5,5))"
   ]
  },
  {
   "cell_type": "code",
   "execution_count": 46,
   "metadata": {},
   "outputs": [
    {
     "data": {
      "text/plain": [
       "<matplotlib.axes._subplots.AxesSubplot at 0x7f410cdea910>"
      ]
     },
     "execution_count": 46,
     "metadata": {},
     "output_type": "execute_result"
    },
    {
     "data": {
      "image/png": "[encoded data removed]",
      "text/plain": [
       "<Figure size 432x288 with 1 Axes>"
      ]
     },
     "metadata": {
      "needs_background": "light"
     },
     "output_type": "display_data"
    }
   ],
   "source": [
    "df.groupby('potolok')['price_mln'].median().plot(kind='bar')"
   ]
  },
  {
   "cell_type": "code",
   "execution_count": 47,
   "metadata": {},
   "outputs": [
    {
     "data": {
      "text/html": [
       "<div>\n",
       "<style scoped>\n",
       "    .dataframe tbody tr th:only-of-type {\n",
       "        vertical-align: middle;\n",
       "    }\n",
       "\n",
       "    .dataframe tbody tr th {\n",
       "        vertical-align: top;\n",
       "    }\n",
       "\n",
       "    .dataframe thead th {\n",
       "        text-align: right;\n",
       "    }\n",
       "</style>\n",
       "<table border=\"1\" class=\"dataframe\">\n",
       "  <thead>\n",
       "    <tr style=\"text-align: right;\">\n",
       "      <th></th>\n",
       "      <th>count</th>\n",
       "      <th>mean</th>\n",
       "    </tr>\n",
       "    <tr>\n",
       "      <th>potolok</th>\n",
       "      <th></th>\n",
       "      <th></th>\n",
       "    </tr>\n",
       "  </thead>\n",
       "  <tbody>\n",
       "    <tr>\n",
       "      <th>(0.0, 2.7]</th>\n",
       "      <td>16132</td>\n",
       "      <td>5.205146</td>\n",
       "    </tr>\n",
       "    <tr>\n",
       "      <th>(2.7, 3.0]</th>\n",
       "      <td>3072</td>\n",
       "      <td>8.141530</td>\n",
       "    </tr>\n",
       "    <tr>\n",
       "      <th>(3.0, 3.5]</th>\n",
       "      <td>944</td>\n",
       "      <td>14.692054</td>\n",
       "    </tr>\n",
       "    <tr>\n",
       "      <th>(3.5, 5.0]</th>\n",
       "      <td>207</td>\n",
       "      <td>21.703164</td>\n",
       "    </tr>\n",
       "  </tbody>\n",
       "</table>\n",
       "</div>"
      ],
      "text/plain": [
       "            count       mean\n",
       "potolok                     \n",
       "(0.0, 2.7]  16132   5.205146\n",
       "(2.7, 3.0]   3072   8.141530\n",
       "(3.0, 3.5]    944  14.692054\n",
       "(3.5, 5.0]    207  21.703164"
      ]
     },
     "execution_count": 47,
     "metadata": {},
     "output_type": "execute_result"
    }
   ],
   "source": [
    "df.groupby('potolok')['price_mln'].agg(['count', 'mean'])"
   ]
  },
  {
   "cell_type": "markdown",
   "metadata": {},
   "source": [
    "### Вывод:\n",
    "**Распределение логично**. \n",
    "\n",
    "Анализ и обработку данного параметра мы провели в начале исследования."
   ]
  },
  {
   "cell_type": "markdown",
   "metadata": {},
   "source": [
    "[к содержанию...](#title)"
   ]
  },
  {
   "cell_type": "markdown",
   "metadata": {},
   "source": [
    "<a name=\"time\"></a>\n",
    "### 4.2 Задание: \"Время продажи квартиры\""
   ]
  },
  {
   "cell_type": "code",
   "execution_count": 48,
   "metadata": {},
   "outputs": [
    {
     "data": {
      "text/plain": [
       "count    20355.000000\n",
       "mean       180.763989\n",
       "std        219.793773\n",
       "min          1.000000\n",
       "25%         45.000000\n",
       "50%         95.000000\n",
       "75%        231.000000\n",
       "max       1580.000000\n",
       "Name: days_exposition, dtype: float64"
      ]
     },
     "execution_count": 48,
     "metadata": {},
     "output_type": "execute_result"
    }
   ],
   "source": [
    "df['days_exposition'].describe()"
   ]
  },
  {
   "cell_type": "code",
   "execution_count": 49,
   "metadata": {},
   "outputs": [
    {
     "data": {
      "image/png": "[encoded data removed]",
      "text/plain": [
       "<Figure size 432x288 with 2 Axes>"
      ]
     },
     "metadata": {
      "needs_background": "light"
     },
     "output_type": "display_data"
    }
   ],
   "source": [
    "f, (ax_box, ax_hist) = plt.subplots(2, sharex=True, gridspec_kw={\"height_ratios\": (.15, .85)})\n",
    "sns.boxplot(df[\"days_exposition\"], ax=ax_box)\n",
    "sns.distplot(df[\"days_exposition\"], ax=ax_hist, hist=True, kde=True)\n",
    "ax_box.set(xlabel='')\n",
    "plt.show()"
   ]
  },
  {
   "cell_type": "markdown",
   "metadata": {},
   "source": [
    "### Вывод:\n",
    "0. **Распределение \"Времени размещения\"** соответствует **распределению Пуассона** на всем диапазоне значений (даже в максимальных точках). Относить максимальные значения к выбросам и исключать их из анализа будет некорректно, хотя и очень хочется. \n",
    "1. **Среднее** значение \"Времени размещения\" составляет **181 день**.\n",
    "2. **Медиана** \"Времени размещения\" равна **95 дней**. *(в данном случае наиболее информативна)*\n",
    "3. **Обычным временем продажи** будем считать *межквартильный размах*, т.е. **диапазон 1.5 - 8 месяцев**. Исходя из этого **быстрой продажей** можно считать продажу в **первые 45 дней**, а **долгой - свыше 231 дней**.\n",
    "\n",
    "Так же в ходе анализа **установлено влияние** на данный показатель **географии** размещения объекта. Но в рамках имеющихся данных однозначные выводы сделать нельзя. \n",
    "\n",
    "Например: **пгт Форносово** может реально оказаться **\"золотым\" местом** где недвижимость разлетается как горячие пирожки. А вот **поселок Лисий нос** *(— конечная точка маршрута главного героя повести Даниила Хармса «Старуха»)* может и не пользоваться на рынке недвижимости популярностью.\n"
   ]
  },
  {
   "cell_type": "code",
   "execution_count": 50,
   "metadata": {},
   "outputs": [
    {
     "data": {
      "text/plain": [
       "locality_name\n",
       "поселок Севастьяново                 1069.0\n",
       "деревня Рабитицы                     1007.0\n",
       "посёлок Молодёжное                    786.0\n",
       "поселок Коробицыно                    750.0\n",
       "посёлок Лисий Нос                     717.5\n",
       "                                      ...  \n",
       "коттеджный поселок Счастье              7.0\n",
       "садовое товарищество Садко              7.0\n",
       "поселок Володарское                     5.0\n",
       "поселок Заводской                       5.0\n",
       "посёлок городского типа Форносово       3.0\n",
       "Name: days_exposition, Length: 328, dtype: float64"
      ]
     },
     "execution_count": 50,
     "metadata": {},
     "output_type": "execute_result"
    }
   ],
   "source": [
    "df.groupby('locality_name')['days_exposition'].mean().sort_values(ascending=False)"
   ]
  },
  {
   "cell_type": "markdown",
   "metadata": {},
   "source": [
    "[к содержанию...](#title)"
   ]
  },
  {
   "cell_type": "markdown",
   "metadata": {},
   "source": [
    "<a name=\"del_param\"></a>\n",
    "## 4.3 Задание: \"Редкие и выбивающиеся значения\"\n",
    "\n",
    "Проанализировав параметры:\n",
    "- Площадь\n",
    "2. Цена\n",
    "3. Количество комнат\n",
    "4. Высота потолков \n",
    "5. Время продажи квартиры\n",
    "\n",
    "можно сделать следующие **выводы**:\n",
    "\n",
    "**1. Однозначной корректировке подлежат только значения в столбце \"высота потолков\".** Удаляем значения **менее 2.1** *(минимум по СНиП)* **и более 5 метров** *(для второго света в студии)*. \n",
    "\n",
    "Удаляем данные строки как явно ошибочные и незначительные в общем объеме (менее 50 строк). Скорее всего значения от 24 до 32 метров можно было бы принять за ошибку ввода и разделив на 10 получить адекватные значения высоты, но мы не можем быть в этом уверены, а их количество менее 10.\n",
    "\n",
    "Чтобы не потерять пропуски нужно не забыть перед фильтрацией заменить их медианным значением.\n",
    "\n",
    "-------------------------------------------------------------------------------------------------------------\n",
    "\n",
    "**2. Значение параметров Цена, Количество комнат, Высота потолков** корректировки не подлежат.\n",
    "**Их распределения логичны и имеют место быть в сфере недвижимости**.\n",
    "\n",
    "Например: для \"Площади\" - **Сверхнизкие** *(доля в квартире)* и **сверхвысокие** *(12 комнатная квартира с бассейном на 400 кв.м)* \n",
    "\n",
    "--------------\n",
    "**3. Распределение \"Времени размещения\"** соответствует **распределению Пуассона** на всем диапазоне значений (даже в максимальных точках). Относить максимальные значения к выбросам и исключать их из анализа будет некорректно. \n",
    "\n",
    "Так же в ходе анализа **установлено влияние** на данный показатель **географии** размещения объекта. Но в рамках имеющихся данных однозначные выводы сделать нельзя. \n",
    "\n",
    "Например: **пгт Форносово** может реально оказаться **\"золотым\" местом** где недвижимость разлетается как горячие пирожки. А вот **поселок Лисий нос** *(— конечная точка маршрута главного героя повести Даниила Хармса «Старуха»)* может и не пользоваться на рынке недвижимости популярностью.\n"
   ]
  },
  {
   "cell_type": "markdown",
   "metadata": {},
   "source": [
    "[к содержанию...](#title)"
   ]
  },
  {
   "cell_type": "markdown",
   "metadata": {},
   "source": [
    "<a name=\"factor\"></a>\n",
    "## 4.4 Задание: \"Факторы стоимости квартиры"
   ]
  },
  {
   "cell_type": "markdown",
   "metadata": {},
   "source": [
    "Проведем предварительный анализ определив наиболее весомые зависимости, который затем рассмотрим подробнее.\n",
    "\n",
    "Подготовим списки столбцов и сформируем датафреймы для них. Выделим временнЫе параметры в отдельный список."
   ]
  },
  {
   "cell_type": "code",
   "execution_count": 51,
   "metadata": {},
   "outputs": [],
   "source": [
    "#df.columns"
   ]
  },
  {
   "cell_type": "code",
   "execution_count": 52,
   "metadata": {},
   "outputs": [
    {
     "data": {
      "text/html": [
       "<div>\n",
       "<style scoped>\n",
       "    .dataframe tbody tr th:only-of-type {\n",
       "        vertical-align: middle;\n",
       "    }\n",
       "\n",
       "    .dataframe tbody tr th {\n",
       "        vertical-align: top;\n",
       "    }\n",
       "\n",
       "    .dataframe thead th {\n",
       "        text-align: right;\n",
       "    }\n",
       "</style>\n",
       "<table border=\"1\" class=\"dataframe\">\n",
       "  <thead>\n",
       "    <tr style=\"text-align: right;\">\n",
       "      <th></th>\n",
       "      <th>last_price</th>\n",
       "      <th>total_area</th>\n",
       "      <th>rooms</th>\n",
       "      <th>ceiling_height</th>\n",
       "      <th>balcony</th>\n",
       "      <th>locality_name</th>\n",
       "      <th>airports_nearest</th>\n",
       "      <th>city_centers_nearest</th>\n",
       "      <th>parks_around3000</th>\n",
       "      <th>ponds_around3000</th>\n",
       "      <th>sq_price</th>\n",
       "      <th>floor_type</th>\n",
       "      <th>k_living_area</th>\n",
       "      <th>k_kitchen_area</th>\n",
       "    </tr>\n",
       "  </thead>\n",
       "  <tbody>\n",
       "    <tr>\n",
       "      <th>0</th>\n",
       "      <td>3350000</td>\n",
       "      <td>40.4</td>\n",
       "      <td>1</td>\n",
       "      <td>2.65</td>\n",
       "      <td>2</td>\n",
       "      <td>посёлок Шушары</td>\n",
       "      <td>12817</td>\n",
       "      <td>18603</td>\n",
       "      <td>0</td>\n",
       "      <td>0</td>\n",
       "      <td>82920</td>\n",
       "      <td>first</td>\n",
       "      <td>0.460396</td>\n",
       "      <td>0.272277</td>\n",
       "    </tr>\n",
       "    <tr>\n",
       "      <th>1</th>\n",
       "      <td>5196000</td>\n",
       "      <td>56.0</td>\n",
       "      <td>2</td>\n",
       "      <td>2.65</td>\n",
       "      <td>0</td>\n",
       "      <td>Санкт-Петербург</td>\n",
       "      <td>21741</td>\n",
       "      <td>13933</td>\n",
       "      <td>1</td>\n",
       "      <td>2</td>\n",
       "      <td>92785</td>\n",
       "      <td>other</td>\n",
       "      <td>0.612500</td>\n",
       "      <td>0.148214</td>\n",
       "    </tr>\n",
       "    <tr>\n",
       "      <th>2</th>\n",
       "      <td>64900000</td>\n",
       "      <td>159.0</td>\n",
       "      <td>3</td>\n",
       "      <td>2.65</td>\n",
       "      <td>0</td>\n",
       "      <td>Санкт-Петербург</td>\n",
       "      <td>28098</td>\n",
       "      <td>6800</td>\n",
       "      <td>2</td>\n",
       "      <td>3</td>\n",
       "      <td>408176</td>\n",
       "      <td>other</td>\n",
       "      <td>0.301887</td>\n",
       "      <td>0.175000</td>\n",
       "    </tr>\n",
       "    <tr>\n",
       "      <th>3</th>\n",
       "      <td>10000000</td>\n",
       "      <td>100.0</td>\n",
       "      <td>2</td>\n",
       "      <td>3.03</td>\n",
       "      <td>0</td>\n",
       "      <td>Санкт-Петербург</td>\n",
       "      <td>31856</td>\n",
       "      <td>8098</td>\n",
       "      <td>2</td>\n",
       "      <td>1</td>\n",
       "      <td>100000</td>\n",
       "      <td>other</td>\n",
       "      <td>0.320000</td>\n",
       "      <td>0.410000</td>\n",
       "    </tr>\n",
       "    <tr>\n",
       "      <th>4</th>\n",
       "      <td>2890000</td>\n",
       "      <td>30.4</td>\n",
       "      <td>1</td>\n",
       "      <td>2.65</td>\n",
       "      <td>0</td>\n",
       "      <td>городской посёлок Янино-1</td>\n",
       "      <td>100000</td>\n",
       "      <td>100000</td>\n",
       "      <td>0</td>\n",
       "      <td>0</td>\n",
       "      <td>95065</td>\n",
       "      <td>other</td>\n",
       "      <td>0.473684</td>\n",
       "      <td>0.299342</td>\n",
       "    </tr>\n",
       "  </tbody>\n",
       "</table>\n",
       "</div>"
      ],
      "text/plain": [
       "   last_price  total_area  rooms  ceiling_height  balcony  \\\n",
       "0     3350000        40.4      1            2.65        2   \n",
       "1     5196000        56.0      2            2.65        0   \n",
       "2    64900000       159.0      3            2.65        0   \n",
       "3    10000000       100.0      2            3.03        0   \n",
       "4     2890000        30.4      1            2.65        0   \n",
       "\n",
       "               locality_name  airports_nearest  city_centers_nearest  \\\n",
       "0             посёлок Шушары             12817                 18603   \n",
       "1            Санкт-Петербург             21741                 13933   \n",
       "2            Санкт-Петербург             28098                  6800   \n",
       "3            Санкт-Петербург             31856                  8098   \n",
       "4  городской посёлок Янино-1            100000                100000   \n",
       "\n",
       "   parks_around3000  ponds_around3000  sq_price floor_type  k_living_area   \\\n",
       "0                 0                 0     82920      first        0.460396   \n",
       "1                 1                 2     92785      other        0.612500   \n",
       "2                 2                 3    408176      other        0.301887   \n",
       "3                 2                 1    100000      other        0.320000   \n",
       "4                 0                 0     95065      other        0.473684   \n",
       "\n",
       "   k_kitchen_area  \n",
       "0        0.272277  \n",
       "1        0.148214  \n",
       "2        0.175000  \n",
       "3        0.410000  \n",
       "4        0.299342  "
      ]
     },
     "execution_count": 52,
     "metadata": {},
     "output_type": "execute_result"
    }
   ],
   "source": [
    "work_columns_1 = ['last_price', 'total_area', 'rooms', 'ceiling_height', 'balcony', 'locality_name', 'airports_nearest', 'city_centers_nearest',\n",
    "                'parks_around3000', 'ponds_around3000', 'sq_price', 'floor_type', 'k_living_area ', 'k_kitchen_area']\n",
    "work_columns_2 = ['last_price', 'sq_price', 'days_exposition', 'weekday_exposition',\n",
    "       'month_exposition', 'year_exposition']\n",
    "\n",
    "data_1 = df[work_columns_1]\n",
    "data_2 = df[work_columns_2]\n",
    "data_1.head()"
   ]
  },
  {
   "cell_type": "code",
   "execution_count": 53,
   "metadata": {},
   "outputs": [
    {
     "data": {
      "text/html": [
       "<div>\n",
       "<style scoped>\n",
       "    .dataframe tbody tr th:only-of-type {\n",
       "        vertical-align: middle;\n",
       "    }\n",
       "\n",
       "    .dataframe tbody tr th {\n",
       "        vertical-align: top;\n",
       "    }\n",
       "\n",
       "    .dataframe thead th {\n",
       "        text-align: right;\n",
       "    }\n",
       "</style>\n",
       "<table border=\"1\" class=\"dataframe\">\n",
       "  <thead>\n",
       "    <tr style=\"text-align: right;\">\n",
       "      <th></th>\n",
       "      <th>last_price</th>\n",
       "      <th>total_area</th>\n",
       "      <th>rooms</th>\n",
       "      <th>ceiling_height</th>\n",
       "      <th>balcony</th>\n",
       "      <th>airports_nearest</th>\n",
       "      <th>city_centers_nearest</th>\n",
       "      <th>parks_around3000</th>\n",
       "      <th>ponds_around3000</th>\n",
       "      <th>sq_price</th>\n",
       "      <th>k_living_area</th>\n",
       "      <th>k_kitchen_area</th>\n",
       "    </tr>\n",
       "  </thead>\n",
       "  <tbody>\n",
       "    <tr>\n",
       "      <th>last_price</th>\n",
       "      <td>1.000000</td>\n",
       "      <td>0.642119</td>\n",
       "      <td>0.354950</td>\n",
       "      <td>0.267279</td>\n",
       "      <td>0.013684</td>\n",
       "      <td>-0.154242</td>\n",
       "      <td>-0.194304</td>\n",
       "      <td>0.179178</td>\n",
       "      <td>0.194927</td>\n",
       "      <td>0.737186</td>\n",
       "      <td>-0.027923</td>\n",
       "      <td>-0.074515</td>\n",
       "    </tr>\n",
       "    <tr>\n",
       "      <th>total_area</th>\n",
       "      <td>0.642119</td>\n",
       "      <td>1.000000</td>\n",
       "      <td>0.762457</td>\n",
       "      <td>0.388909</td>\n",
       "      <td>0.017122</td>\n",
       "      <td>-0.144229</td>\n",
       "      <td>-0.189162</td>\n",
       "      <td>0.193987</td>\n",
       "      <td>0.199424</td>\n",
       "      <td>0.305339</td>\n",
       "      <td>0.095712</td>\n",
       "      <td>-0.299693</td>\n",
       "    </tr>\n",
       "    <tr>\n",
       "      <th>rooms</th>\n",
       "      <td>0.354950</td>\n",
       "      <td>0.762457</td>\n",
       "      <td>1.000000</td>\n",
       "      <td>0.238879</td>\n",
       "      <td>-0.010277</td>\n",
       "      <td>-0.123327</td>\n",
       "      <td>-0.144186</td>\n",
       "      <td>0.153689</td>\n",
       "      <td>0.121513</td>\n",
       "      <td>0.054625</td>\n",
       "      <td>0.486990</td>\n",
       "      <td>-0.560900</td>\n",
       "    </tr>\n",
       "    <tr>\n",
       "      <th>ceiling_height</th>\n",
       "      <td>0.267279</td>\n",
       "      <td>0.388909</td>\n",
       "      <td>0.238879</td>\n",
       "      <td>1.000000</td>\n",
       "      <td>-0.040204</td>\n",
       "      <td>-0.139473</td>\n",
       "      <td>-0.177899</td>\n",
       "      <td>0.238839</td>\n",
       "      <td>0.213115</td>\n",
       "      <td>0.274943</td>\n",
       "      <td>-0.029038</td>\n",
       "      <td>0.004529</td>\n",
       "    </tr>\n",
       "    <tr>\n",
       "      <th>balcony</th>\n",
       "      <td>0.013684</td>\n",
       "      <td>0.017122</td>\n",
       "      <td>-0.010277</td>\n",
       "      <td>-0.040204</td>\n",
       "      <td>1.000000</td>\n",
       "      <td>0.024885</td>\n",
       "      <td>0.021097</td>\n",
       "      <td>-0.067612</td>\n",
       "      <td>-0.032559</td>\n",
       "      <td>0.029569</td>\n",
       "      <td>-0.071479</td>\n",
       "      <td>0.042191</td>\n",
       "    </tr>\n",
       "    <tr>\n",
       "      <th>airports_nearest</th>\n",
       "      <td>-0.154242</td>\n",
       "      <td>-0.144229</td>\n",
       "      <td>-0.123327</td>\n",
       "      <td>-0.139473</td>\n",
       "      <td>0.024885</td>\n",
       "      <td>1.000000</td>\n",
       "      <td>0.933221</td>\n",
       "      <td>-0.310576</td>\n",
       "      <td>-0.353204</td>\n",
       "      <td>-0.385762</td>\n",
       "      <td>-0.009360</td>\n",
       "      <td>0.048789</td>\n",
       "    </tr>\n",
       "    <tr>\n",
       "      <th>city_centers_nearest</th>\n",
       "      <td>-0.194304</td>\n",
       "      <td>-0.189162</td>\n",
       "      <td>-0.144186</td>\n",
       "      <td>-0.177899</td>\n",
       "      <td>0.021097</td>\n",
       "      <td>0.933221</td>\n",
       "      <td>1.000000</td>\n",
       "      <td>-0.358594</td>\n",
       "      <td>-0.366598</td>\n",
       "      <td>-0.450439</td>\n",
       "      <td>0.013304</td>\n",
       "      <td>0.040241</td>\n",
       "    </tr>\n",
       "    <tr>\n",
       "      <th>parks_around3000</th>\n",
       "      <td>0.179178</td>\n",
       "      <td>0.193987</td>\n",
       "      <td>0.153689</td>\n",
       "      <td>0.238839</td>\n",
       "      <td>-0.067612</td>\n",
       "      <td>-0.310576</td>\n",
       "      <td>-0.358594</td>\n",
       "      <td>1.000000</td>\n",
       "      <td>0.390467</td>\n",
       "      <td>0.276463</td>\n",
       "      <td>0.058030</td>\n",
       "      <td>-0.084369</td>\n",
       "    </tr>\n",
       "    <tr>\n",
       "      <th>ponds_around3000</th>\n",
       "      <td>0.194927</td>\n",
       "      <td>0.199424</td>\n",
       "      <td>0.121513</td>\n",
       "      <td>0.213115</td>\n",
       "      <td>-0.032559</td>\n",
       "      <td>-0.353204</td>\n",
       "      <td>-0.366598</td>\n",
       "      <td>0.390467</td>\n",
       "      <td>1.000000</td>\n",
       "      <td>0.294489</td>\n",
       "      <td>-0.028089</td>\n",
       "      <td>-0.022473</td>\n",
       "    </tr>\n",
       "    <tr>\n",
       "      <th>sq_price</th>\n",
       "      <td>0.737186</td>\n",
       "      <td>0.305339</td>\n",
       "      <td>0.054625</td>\n",
       "      <td>0.274943</td>\n",
       "      <td>0.029569</td>\n",
       "      <td>-0.385762</td>\n",
       "      <td>-0.450439</td>\n",
       "      <td>0.276463</td>\n",
       "      <td>0.294489</td>\n",
       "      <td>1.000000</td>\n",
       "      <td>-0.175777</td>\n",
       "      <td>0.147229</td>\n",
       "    </tr>\n",
       "    <tr>\n",
       "      <th>k_living_area</th>\n",
       "      <td>-0.027923</td>\n",
       "      <td>0.095712</td>\n",
       "      <td>0.486990</td>\n",
       "      <td>-0.029038</td>\n",
       "      <td>-0.071479</td>\n",
       "      <td>-0.009360</td>\n",
       "      <td>0.013304</td>\n",
       "      <td>0.058030</td>\n",
       "      <td>-0.028089</td>\n",
       "      <td>-0.175777</td>\n",
       "      <td>1.000000</td>\n",
       "      <td>-0.628053</td>\n",
       "    </tr>\n",
       "    <tr>\n",
       "      <th>k_kitchen_area</th>\n",
       "      <td>-0.074515</td>\n",
       "      <td>-0.299693</td>\n",
       "      <td>-0.560900</td>\n",
       "      <td>0.004529</td>\n",
       "      <td>0.042191</td>\n",
       "      <td>0.048789</td>\n",
       "      <td>0.040241</td>\n",
       "      <td>-0.084369</td>\n",
       "      <td>-0.022473</td>\n",
       "      <td>0.147229</td>\n",
       "      <td>-0.628053</td>\n",
       "      <td>1.000000</td>\n",
       "    </tr>\n",
       "  </tbody>\n",
       "</table>\n",
       "</div>"
      ],
      "text/plain": [
       "                      last_price  total_area     rooms  ceiling_height  \\\n",
       "last_price              1.000000    0.642119  0.354950        0.267279   \n",
       "total_area              0.642119    1.000000  0.762457        0.388909   \n",
       "rooms                   0.354950    0.762457  1.000000        0.238879   \n",
       "ceiling_height          0.267279    0.388909  0.238879        1.000000   \n",
       "balcony                 0.013684    0.017122 -0.010277       -0.040204   \n",
       "airports_nearest       -0.154242   -0.144229 -0.123327       -0.139473   \n",
       "city_centers_nearest   -0.194304   -0.189162 -0.144186       -0.177899   \n",
       "parks_around3000        0.179178    0.193987  0.153689        0.238839   \n",
       "ponds_around3000        0.194927    0.199424  0.121513        0.213115   \n",
       "sq_price                0.737186    0.305339  0.054625        0.274943   \n",
       "k_living_area          -0.027923    0.095712  0.486990       -0.029038   \n",
       "k_kitchen_area         -0.074515   -0.299693 -0.560900        0.004529   \n",
       "\n",
       "                       balcony  airports_nearest  city_centers_nearest  \\\n",
       "last_price            0.013684         -0.154242             -0.194304   \n",
       "total_area            0.017122         -0.144229             -0.189162   \n",
       "rooms                -0.010277         -0.123327             -0.144186   \n",
       "ceiling_height       -0.040204         -0.139473             -0.177899   \n",
       "balcony               1.000000          0.024885              0.021097   \n",
       "airports_nearest      0.024885          1.000000              0.933221   \n",
       "city_centers_nearest  0.021097          0.933221              1.000000   \n",
       "parks_around3000     -0.067612         -0.310576             -0.358594   \n",
       "ponds_around3000     -0.032559         -0.353204             -0.366598   \n",
       "sq_price              0.029569         -0.385762             -0.450439   \n",
       "k_living_area        -0.071479         -0.009360              0.013304   \n",
       "k_kitchen_area        0.042191          0.048789              0.040241   \n",
       "\n",
       "                      parks_around3000  ponds_around3000  sq_price  \\\n",
       "last_price                    0.179178          0.194927  0.737186   \n",
       "total_area                    0.193987          0.199424  0.305339   \n",
       "rooms                         0.153689          0.121513  0.054625   \n",
       "ceiling_height                0.238839          0.213115  0.274943   \n",
       "balcony                      -0.067612         -0.032559  0.029569   \n",
       "airports_nearest             -0.310576         -0.353204 -0.385762   \n",
       "city_centers_nearest         -0.358594         -0.366598 -0.450439   \n",
       "parks_around3000              1.000000          0.390467  0.276463   \n",
       "ponds_around3000              0.390467          1.000000  0.294489   \n",
       "sq_price                      0.276463          0.294489  1.000000   \n",
       "k_living_area                 0.058030         -0.028089 -0.175777   \n",
       "k_kitchen_area               -0.084369         -0.022473  0.147229   \n",
       "\n",
       "                      k_living_area   k_kitchen_area  \n",
       "last_price                 -0.027923       -0.074515  \n",
       "total_area                  0.095712       -0.299693  \n",
       "rooms                       0.486990       -0.560900  \n",
       "ceiling_height             -0.029038        0.004529  \n",
       "balcony                    -0.071479        0.042191  \n",
       "airports_nearest           -0.009360        0.048789  \n",
       "city_centers_nearest        0.013304        0.040241  \n",
       "parks_around3000            0.058030       -0.084369  \n",
       "ponds_around3000           -0.028089       -0.022473  \n",
       "sq_price                   -0.175777        0.147229  \n",
       "k_living_area               1.000000       -0.628053  \n",
       "k_kitchen_area             -0.628053        1.000000  "
      ]
     },
     "execution_count": 53,
     "metadata": {},
     "output_type": "execute_result"
    }
   ],
   "source": [
    "data_1.corr()"
   ]
  },
  {
   "cell_type": "markdown",
   "metadata": {},
   "source": [
    "#### Предварительные наблюдения:\n",
    "**Цена зависит от:** \n",
    "- sq_price(0.74)\n",
    "- total_area(0,64)\n",
    "- rooms(0.35)\n",
    "- ceiling_height(0.27)\n",
    "- ponds_around3000(0.19)\n",
    "- parks_around3000(0.18)\n",
    "- city_centers_nearest(-0.19)\n",
    "- airports_nearest(-0.15)\t\n",
    "\n",
    "Проверим не внесли ли мы погрешность в показатели *city_centers_nearest* и *airports_nearest*, заполнив пропуски значением 100км..."
   ]
  },
  {
   "cell_type": "code",
   "execution_count": 54,
   "metadata": {},
   "outputs": [
    {
     "data": {
      "text/html": [
       "<div>\n",
       "<style scoped>\n",
       "    .dataframe tbody tr th:only-of-type {\n",
       "        vertical-align: middle;\n",
       "    }\n",
       "\n",
       "    .dataframe tbody tr th {\n",
       "        vertical-align: top;\n",
       "    }\n",
       "\n",
       "    .dataframe thead th {\n",
       "        text-align: right;\n",
       "    }\n",
       "</style>\n",
       "<table border=\"1\" class=\"dataframe\">\n",
       "  <thead>\n",
       "    <tr style=\"text-align: right;\">\n",
       "      <th></th>\n",
       "      <th>last_price</th>\n",
       "      <th>airports_nearest</th>\n",
       "      <th>city_centers_nearest</th>\n",
       "    </tr>\n",
       "  </thead>\n",
       "  <tbody>\n",
       "    <tr>\n",
       "      <th>last_price</th>\n",
       "      <td>1.000000</td>\n",
       "      <td>-0.024606</td>\n",
       "      <td>-0.192258</td>\n",
       "    </tr>\n",
       "    <tr>\n",
       "      <th>airports_nearest</th>\n",
       "      <td>-0.024606</td>\n",
       "      <td>1.000000</td>\n",
       "      <td>0.272557</td>\n",
       "    </tr>\n",
       "    <tr>\n",
       "      <th>city_centers_nearest</th>\n",
       "      <td>-0.192258</td>\n",
       "      <td>0.272557</td>\n",
       "      <td>1.000000</td>\n",
       "    </tr>\n",
       "  </tbody>\n",
       "</table>\n",
       "</div>"
      ],
      "text/plain": [
       "                      last_price  airports_nearest  city_centers_nearest\n",
       "last_price              1.000000         -0.024606             -0.192258\n",
       "airports_nearest       -0.024606          1.000000              0.272557\n",
       "city_centers_nearest   -0.192258          0.272557              1.000000"
      ]
     },
     "execution_count": 54,
     "metadata": {},
     "output_type": "execute_result"
    }
   ],
   "source": [
    "work_data_3 = ['last_price', 'airports_nearest', 'city_centers_nearest']\n",
    "data_3 = df[work_data_3]\n",
    "#data_3 = data_3.query('city_centers_nearest !=100000') \n",
    "data_3 = data_3.query('airports_nearest !=100000')\n",
    "data_3.corr()"
   ]
  },
  {
   "cell_type": "markdown",
   "metadata": {},
   "source": [
    "На расстояние до центра мы не повлияли, а вот аэропорт серьезно \"пострадал\":\n",
    "- airports_nearest(-0.02) *- учтем это.* \n",
    "\n",
    "Интересно, что корреляции практически нет... Видимо плюсы доступности компенсируются минусами шумности)))\n",
    "\n"
   ]
  },
  {
   "cell_type": "markdown",
   "metadata": {},
   "source": [
    "### Рассмотрим подробнее наиболее влиящией на стоимость величины:"
   ]
  },
  {
   "cell_type": "markdown",
   "metadata": {},
   "source": [
    "### Цена квадратного метра"
   ]
  },
  {
   "cell_type": "code",
   "execution_count": 55,
   "metadata": {},
   "outputs": [
    {
     "data": {
      "image/png": "[encoded data removed]",
      "text/plain": [
       "<Figure size 432x288 with 1 Axes>"
      ]
     },
     "metadata": {
      "needs_background": "light"
     },
     "output_type": "display_data"
    }
   ],
   "source": [
    "df.plot(x='sq_price', y='price_mln', kind='scatter')\n",
    "plt.show()"
   ]
  },
  {
   "cell_type": "markdown",
   "metadata": {},
   "source": [
    "#### Вывод:\n",
    "Вполне ожидаемая корреляциия учитывая прямую связь этих параметров через площадь.\n",
    "\n",
    "Это мало интересно и не информативно, лучше выйдем за рамки задания и рассмотрим **зависимость цены квадратного метра от площади**:"
   ]
  },
  {
   "cell_type": "code",
   "execution_count": 56,
   "metadata": {
    "scrolled": true
   },
   "outputs": [
    {
     "data": {
      "image/png": "[encoded data removed]",
      "text/plain": [
       "<Figure size 432x288 with 1 Axes>"
      ]
     },
     "metadata": {
      "needs_background": "light"
     },
     "output_type": "display_data"
    }
   ],
   "source": [
    "df['total_area_gr'] = pd.cut(df['total_area'], [0, 50, 100, 200,1000])\n",
    "(\n",
    "df.groupby('total_area_gr')['sq_price']\n",
    "  .median()\n",
    "  .plot(kind='bar', grid=True)\n",
    ")\n",
    "(\n",
    "df.query('city_centers_nearest <= 9000').groupby('total_area_gr')['sq_price']\n",
    "  .median()\n",
    "  .plot(kind='bar', grid=True)\n",
    ")\n",
    "plt.show()"
   ]
  },
  {
   "cell_type": "markdown",
   "metadata": {},
   "source": [
    "Тоже обыденно, но зато информативно и красиво... \n",
    "\n",
    "**Квадратный метр в 3-4х комнатных квартирах всегда стОит чуть меньше двушек и однушек, а далее наблюдаем резкий рост обусловленный переходом в премиум сегмент.**"
   ]
  },
  {
   "cell_type": "markdown",
   "metadata": {},
   "source": [
    "## Площадь"
   ]
  },
  {
   "cell_type": "code",
   "execution_count": 57,
   "metadata": {},
   "outputs": [
    {
     "data": {
      "image/png": "[encoded data removed]",
      "text/plain": [
       "<Figure size 432x288 with 1 Axes>"
      ]
     },
     "metadata": {
      "needs_background": "light"
     },
     "output_type": "display_data"
    }
   ],
   "source": [
    "df.plot(x='total_area', y='price_mln', kind='scatter', xlim=[0, 400])\n",
    "plt.show()"
   ]
  },
  {
   "cell_type": "code",
   "execution_count": 58,
   "metadata": {},
   "outputs": [
    {
     "data": {
      "image/png": "[encoded data removed]",
      "text/plain": [
       "<Figure size 432x288 with 1 Axes>"
      ]
     },
     "metadata": {
      "needs_background": "light"
     },
     "output_type": "display_data"
    }
   ],
   "source": [
    "(\n",
    "df.groupby('total_area_gr')['price_mln']\n",
    "  .median()\n",
    "  .plot(kind='bar', grid=True)\n",
    ")\n",
    "plt.show()"
   ]
  },
  {
   "cell_type": "markdown",
   "metadata": {},
   "source": [
    "#### Вывод:\n",
    "\"Вот и выбирай, по пять, очень большие, но вчера, либо по три, маленькие, но сегодня, понял?\" (Михаил Жванецкий)\n",
    "\n",
    "((("
   ]
  },
  {
   "cell_type": "markdown",
   "metadata": {},
   "source": [
    "## Комнаты"
   ]
  },
  {
   "cell_type": "code",
   "execution_count": 59,
   "metadata": {
    "scrolled": true
   },
   "outputs": [
    {
     "data": {
      "image/png": "[encoded data removed]",
      "text/plain": [
       "<Figure size 432x288 with 1 Axes>"
      ]
     },
     "metadata": {
      "needs_background": "light"
     },
     "output_type": "display_data"
    }
   ],
   "source": [
    "df.plot(x='rooms', y='price_mln', kind='scatter')\n",
    "plt.show()"
   ]
  },
  {
   "cell_type": "code",
   "execution_count": 60,
   "metadata": {
    "scrolled": true
   },
   "outputs": [
    {
     "data": {
      "text/plain": [
       "rooms\n",
       "1       3.5500\n",
       "2       4.7000\n",
       "3       6.0500\n",
       "4       8.8000\n",
       "5      13.3000\n",
       "6      19.0000\n",
       "7      24.9000\n",
       "8      24.0000\n",
       "9      24.2500\n",
       "10     27.7500\n",
       "11     33.0000\n",
       "12    420.0000\n",
       "14     26.8295\n",
       "15     65.0000\n",
       "16     28.5000\n",
       "19     32.2500\n",
       "Name: price_mln, dtype: float64"
      ]
     },
     "execution_count": 60,
     "metadata": {},
     "output_type": "execute_result"
    }
   ],
   "source": [
    "df.groupby('rooms')['price_mln'].median()"
   ]
  },
  {
   "cell_type": "markdown",
   "metadata": {},
   "source": [
    "### Наиболее информативно будет перевести количество комнат из непрерывной величины к категории.\n",
    "\n",
    "**Рассмотрим группы 1, 2, 3, 4, 5, 5+ комнат:**"
   ]
  },
  {
   "cell_type": "code",
   "execution_count": 61,
   "metadata": {},
   "outputs": [
    {
     "data": {
      "image/png": "[encoded data removed]",
      "text/plain": [
       "<Figure size 432x288 with 1 Axes>"
      ]
     },
     "metadata": {
      "needs_background": "light"
     },
     "output_type": "display_data"
    }
   ],
   "source": [
    "df['rooms_kvl'] = pd.cut(df['rooms'], [0,1,2,3,4,5,100])\n",
    "(\n",
    "df.groupby('rooms_kvl')['price_mln']\n",
    "  .median()\n",
    "  .plot(kind='bar', grid=True)\n",
    ")\n",
    "plt.show()"
   ]
  },
  {
   "cell_type": "markdown",
   "metadata": {},
   "source": [
    "#### Вывод:\n",
    "Яркая выраженность данной зависимости обусловлена в первую очередь **ростом площади объектов по мере роста количества комнат и усиливается ростом цены квадратного метра по мере роста самой площади**.\n"
   ]
  },
  {
   "cell_type": "markdown",
   "metadata": {},
   "source": [
    "# Этажи"
   ]
  },
  {
   "cell_type": "code",
   "execution_count": 62,
   "metadata": {},
   "outputs": [
    {
     "data": {
      "image/png": "[encoded data removed]",
      "text/plain": [
       "<Figure size 432x288 with 1 Axes>"
      ]
     },
     "metadata": {
      "needs_background": "light"
     },
     "output_type": "display_data"
    }
   ],
   "source": [
    "(df.groupby('floor_type')['price_mln']\n",
    "   .median()\n",
    "   .plot(kind='bar', grid=True)\n",
    ")\n",
    "plt.show()"
   ]
  },
  {
   "cell_type": "code",
   "execution_count": 63,
   "metadata": {},
   "outputs": [
    {
     "data": {
      "text/plain": [
       "floor_type\n",
       "first    3.817262\n",
       "last     4.250000\n",
       "other    4.700000\n",
       "Name: price_mln, dtype: float64"
      ]
     },
     "execution_count": 63,
     "metadata": {},
     "output_type": "execute_result"
    }
   ],
   "source": [
    "df.groupby('floor_type')['price_mln'].median()"
   ]
  },
  {
   "cell_type": "markdown",
   "metadata": {},
   "source": [
    "#### Вывод:"
   ]
  },
  {
   "cell_type": "code",
   "execution_count": 64,
   "metadata": {},
   "outputs": [
    {
     "name": "stdout",
     "output_type": "stream",
     "text": [
      "Цена первого этажа ниже на -18%\n",
      "Цена последнего этажа ниже на -9%\n"
     ]
    }
   ],
   "source": [
    "print('Цена первого этажа ниже на {:.0%}'.format((390-475)/475))\n",
    "print('Цена последнего этажа ниже на {:.0%}'.format((430-475)/475))"
   ]
  },
  {
   "cell_type": "markdown",
   "metadata": {},
   "source": [
    "**Классическая картина - \"нехороших\" квартир**. Обычно в основные минусы первого и последнего этажа записывают безопасность, близость подвала и крыши. Фору последнему этажу дают освещенность, более свежий воздух и техэтаж в современных домах."
   ]
  },
  {
   "cell_type": "markdown",
   "metadata": {},
   "source": [
    "# Парки и пруды"
   ]
  },
  {
   "cell_type": "markdown",
   "metadata": {},
   "source": [
    "#### Пруды:"
   ]
  },
  {
   "cell_type": "code",
   "execution_count": 65,
   "metadata": {
    "scrolled": true
   },
   "outputs": [
    {
     "data": {
      "image/png": "[encoded data removed]",
      "text/plain": [
       "<Figure size 432x288 with 1 Axes>"
      ]
     },
     "metadata": {
      "needs_background": "light"
     },
     "output_type": "display_data"
    }
   ],
   "source": [
    "df.plot(x='ponds_around3000', y='price_mln', kind='scatter')\n",
    "plt.show()"
   ]
  },
  {
   "cell_type": "code",
   "execution_count": 66,
   "metadata": {},
   "outputs": [
    {
     "data": {
      "text/plain": [
       "ponds_around3000\n",
       "0    4.100000\n",
       "1    5.090000\n",
       "2    5.687111\n",
       "3    7.700000\n",
       "Name: price_mln, dtype: float64"
      ]
     },
     "execution_count": 66,
     "metadata": {},
     "output_type": "execute_result"
    }
   ],
   "source": [
    "df.groupby('ponds_around3000')['price_mln'].median()"
   ]
  },
  {
   "cell_type": "markdown",
   "metadata": {},
   "source": [
    "#### Парки:"
   ]
  },
  {
   "cell_type": "code",
   "execution_count": 67,
   "metadata": {
    "scrolled": true
   },
   "outputs": [
    {
     "data": {
      "image/png": "[encoded data removed]",
      "text/plain": [
       "<Figure size 432x288 with 1 Axes>"
      ]
     },
     "metadata": {
      "needs_background": "light"
     },
     "output_type": "display_data"
    }
   ],
   "source": [
    "df.plot(x='parks_around3000', y='price_mln', kind='scatter')\n",
    "plt.show()"
   ]
  },
  {
   "cell_type": "code",
   "execution_count": 68,
   "metadata": {},
   "outputs": [
    {
     "data": {
      "text/plain": [
       "parks_around3000\n",
       "0    4.1\n",
       "1    5.4\n",
       "2    5.9\n",
       "3    7.3\n",
       "Name: price_mln, dtype: float64"
      ]
     },
     "execution_count": 68,
     "metadata": {},
     "output_type": "execute_result"
    }
   ],
   "source": [
    "df.groupby('parks_around3000')['price_mln'].median()"
   ]
  },
  {
   "cell_type": "markdown",
   "metadata": {},
   "source": [
    "Фактическое влияние оказывает сам факт наличия водоема или парка (подъем на количестве \"3\" обусловлен ростом площади объектов, на цене квадратного метра рост не так значителен) \n",
    "\n",
    "**упростим ситуацию до \"да/нет\"**"
   ]
  },
  {
   "cell_type": "markdown",
   "metadata": {},
   "source": [
    "#### Пруды:"
   ]
  },
  {
   "cell_type": "code",
   "execution_count": 69,
   "metadata": {},
   "outputs": [
    {
     "data": {
      "image/png": "[encoded data removed]",
      "text/plain": [
       "<Figure size 432x288 with 1 Axes>"
      ]
     },
     "metadata": {
      "needs_background": "light"
     },
     "output_type": "display_data"
    }
   ],
   "source": [
    "df['ponds_around3000_yes'] = pd.cut(df['ponds_around3000'], [0,1,100])\n",
    "(\n",
    "df.groupby('ponds_around3000_yes')['price_mln']\n",
    "  .median()\n",
    "  .plot(kind='bar', grid=True)\n",
    ")\n",
    "plt.show()"
   ]
  },
  {
   "cell_type": "markdown",
   "metadata": {},
   "source": [
    "#### Парки:"
   ]
  },
  {
   "cell_type": "code",
   "execution_count": 70,
   "metadata": {},
   "outputs": [
    {
     "data": {
      "image/png": "[encoded data removed]",
      "text/plain": [
       "<Figure size 432x288 with 1 Axes>"
      ]
     },
     "metadata": {
      "needs_background": "light"
     },
     "output_type": "display_data"
    }
   ],
   "source": [
    "df['parks_around3000_yes'] = pd.cut(df['parks_around3000'], [0,1,100])\n",
    "(\n",
    "df.groupby('parks_around3000_yes')['price_mln']\n",
    "  .median()\n",
    "  .plot(kind='bar', grid=True)\n",
    ")\n",
    "plt.show()"
   ]
  },
  {
   "cell_type": "code",
   "execution_count": 71,
   "metadata": {},
   "outputs": [
    {
     "data": {
      "text/plain": [
       "ponds_around3000_yes\n",
       "(0, 1]      5.09\n",
       "(1, 100]    6.45\n",
       "Name: price_mln, dtype: float64"
      ]
     },
     "execution_count": 71,
     "metadata": {},
     "output_type": "execute_result"
    }
   ],
   "source": [
    "df.groupby('ponds_around3000_yes')['price_mln'].median()"
   ]
  },
  {
   "cell_type": "code",
   "execution_count": 72,
   "metadata": {},
   "outputs": [
    {
     "data": {
      "text/plain": [
       "parks_around3000_yes\n",
       "(0, 1]      5.400000\n",
       "(1, 100]    6.177621\n",
       "Name: price_mln, dtype: float64"
      ]
     },
     "execution_count": 72,
     "metadata": {},
     "output_type": "execute_result"
    }
   ],
   "source": [
    "df.groupby('parks_around3000_yes')['price_mln'].median()"
   ]
  },
  {
   "cell_type": "markdown",
   "metadata": {},
   "source": [
    "#### Вывод:"
   ]
  },
  {
   "cell_type": "code",
   "execution_count": 73,
   "metadata": {},
   "outputs": [
    {
     "name": "stdout",
     "output_type": "stream",
     "text": [
      "Наличие пруда в радиусе 3-х километров увеличивает стоимость квартира на 24%\n",
      "Наличие парка в радиусе 3-х километров увеличивает стоимость квартира на 14%\n"
     ]
    }
   ],
   "source": [
    "print('Наличие пруда в радиусе 3-х километров увеличивает стоимость квартира на {:.0%}'.format((6325-5100)/5100))\n",
    "print('Наличие парка в радиусе 3-х километров увеличивает стоимость квартира на {:.0%}'.format((6148-5400)/5400))"
   ]
  },
  {
   "cell_type": "markdown",
   "metadata": {},
   "source": [
    "### Высота потолков\n",
    "Мы уже рассматривали влияние данного параметра на цену. Еще раз посмотрим на график из раздела \"4.1 Параметры и гистограммы\""
   ]
  },
  {
   "cell_type": "code",
   "execution_count": 74,
   "metadata": {},
   "outputs": [
    {
     "data": {
      "text/plain": [
       "<matplotlib.axes._subplots.AxesSubplot at 0x7f410d826430>"
      ]
     },
     "execution_count": 74,
     "metadata": {},
     "output_type": "execute_result"
    },
    {
     "data": {
      "image/png": "[encoded data removed]",
      "text/plain": [
       "<Figure size 432x288 with 1 Axes>"
      ]
     },
     "metadata": {
      "needs_background": "light"
     },
     "output_type": "display_data"
    }
   ],
   "source": [
    "df.groupby('potolok')['price_mln'].median().plot(kind='bar')"
   ]
  },
  {
   "cell_type": "code",
   "execution_count": 75,
   "metadata": {},
   "outputs": [
    {
     "data": {
      "text/plain": [
       "potolok\n",
       "(0.0, 2.7]     4.2\n",
       "(2.7, 3.0]     6.1\n",
       "(3.0, 3.5]     9.3\n",
       "(3.5, 5.0]    12.0\n",
       "Name: price_mln, dtype: float64"
      ]
     },
     "execution_count": 75,
     "metadata": {},
     "output_type": "execute_result"
    }
   ],
   "source": [
    "df.groupby('potolok')['price_mln'].median()"
   ]
  },
  {
   "cell_type": "markdown",
   "metadata": {},
   "source": [
    "#### Вывод\n",
    "\n",
    "Высокие потолки характеризуют объекты относящиеся к верхним ценовым сегментам (качественные характеристики здесь превалируют над стоимостью) отсюда и такой значимый рост. \n",
    "Так же высокие потолки могут расцениваться как  преимуществом и в масс-сегменте, если высота позволяет организовать двухуровневое размещение."
   ]
  },
  {
   "cell_type": "markdown",
   "metadata": {},
   "source": [
    "### Расстояние до центра\n",
    "Мы уже рассматривали влияние данного параметра на цену. Еще раз посмотрим на график из раздела \"4.1 Параметры и гистограммы\""
   ]
  },
  {
   "cell_type": "code",
   "execution_count": 76,
   "metadata": {},
   "outputs": [
    {
     "data": {
      "image/png": "[encoded data removed]",
      "text/plain": [
       "<Figure size 432x288 with 1 Axes>"
      ]
     },
     "metadata": {
      "needs_background": "light"
     },
     "output_type": "display_data"
    }
   ],
   "source": [
    "df.plot(x='city_centers_nearest', y='price_mln', kind='scatter')\n",
    "plt.show()"
   ]
  },
  {
   "cell_type": "code",
   "execution_count": 77,
   "metadata": {},
   "outputs": [],
   "source": [
    "df['centre'] = pd.cut(df['city_centers_nearest'], \n",
    "                      [0,1000,2000,3000,4000,5000,6000,7000,8000,9000, 10000, 11000, 12000,\n",
    "                       13000, 14000, 15000, 20000, 30000, 40000, 50000, 1000000])"
   ]
  },
  {
   "cell_type": "code",
   "execution_count": 78,
   "metadata": {},
   "outputs": [
    {
     "data": {
      "image/png": "[encoded data removed]",
      "text/plain": [
       "<Figure size 432x288 with 1 Axes>"
      ]
     },
     "metadata": {
      "needs_background": "light"
     },
     "output_type": "display_data"
    }
   ],
   "source": [
    "(df.groupby('centre')['price_mln']\n",
    "   .median()\n",
    "   .plot(kind='bar', grid=True)\n",
    ")\n",
    "plt.show()"
   ]
  },
  {
   "cell_type": "markdown",
   "metadata": {},
   "source": [
    "### Вывод\n",
    "\n",
    "Зависимость цены от расстояния до центра имеет ярко выраженную обратную зависимость. Из графика видно что границы зоны называемой центром проходят на отрезке 8-9 километров. Данный вопрос более подробно представлен в [Задание: \"Центр\"](#centre)"
   ]
  },
  {
   "cell_type": "markdown",
   "metadata": {},
   "source": [
    "## Найдем зависимости от временных параметров:"
   ]
  },
  {
   "cell_type": "code",
   "execution_count": 79,
   "metadata": {},
   "outputs": [
    {
     "data": {
      "text/html": [
       "<div>\n",
       "<style scoped>\n",
       "    .dataframe tbody tr th:only-of-type {\n",
       "        vertical-align: middle;\n",
       "    }\n",
       "\n",
       "    .dataframe tbody tr th {\n",
       "        vertical-align: top;\n",
       "    }\n",
       "\n",
       "    .dataframe thead th {\n",
       "        text-align: right;\n",
       "    }\n",
       "</style>\n",
       "<table border=\"1\" class=\"dataframe\">\n",
       "  <thead>\n",
       "    <tr style=\"text-align: right;\">\n",
       "      <th></th>\n",
       "      <th>last_price</th>\n",
       "      <th>sq_price</th>\n",
       "      <th>days_exposition</th>\n",
       "      <th>weekday_exposition</th>\n",
       "      <th>month_exposition</th>\n",
       "      <th>year_exposition</th>\n",
       "    </tr>\n",
       "  </thead>\n",
       "  <tbody>\n",
       "    <tr>\n",
       "      <th>last_price</th>\n",
       "      <td>1.000000</td>\n",
       "      <td>0.737186</td>\n",
       "      <td>0.079924</td>\n",
       "      <td>0.005245</td>\n",
       "      <td>0.006000</td>\n",
       "      <td>-0.059657</td>\n",
       "    </tr>\n",
       "    <tr>\n",
       "      <th>sq_price</th>\n",
       "      <td>0.737186</td>\n",
       "      <td>1.000000</td>\n",
       "      <td>0.047222</td>\n",
       "      <td>0.001961</td>\n",
       "      <td>0.006880</td>\n",
       "      <td>-0.009748</td>\n",
       "    </tr>\n",
       "    <tr>\n",
       "      <th>days_exposition</th>\n",
       "      <td>0.079924</td>\n",
       "      <td>0.047222</td>\n",
       "      <td>1.000000</td>\n",
       "      <td>-0.025253</td>\n",
       "      <td>-0.030572</td>\n",
       "      <td>-0.612034</td>\n",
       "    </tr>\n",
       "    <tr>\n",
       "      <th>weekday_exposition</th>\n",
       "      <td>0.005245</td>\n",
       "      <td>0.001961</td>\n",
       "      <td>-0.025253</td>\n",
       "      <td>1.000000</td>\n",
       "      <td>0.010618</td>\n",
       "      <td>0.008322</td>\n",
       "    </tr>\n",
       "    <tr>\n",
       "      <th>month_exposition</th>\n",
       "      <td>0.006000</td>\n",
       "      <td>0.006880</td>\n",
       "      <td>-0.030572</td>\n",
       "      <td>0.010618</td>\n",
       "      <td>1.000000</td>\n",
       "      <td>-0.198950</td>\n",
       "    </tr>\n",
       "    <tr>\n",
       "      <th>year_exposition</th>\n",
       "      <td>-0.059657</td>\n",
       "      <td>-0.009748</td>\n",
       "      <td>-0.612034</td>\n",
       "      <td>0.008322</td>\n",
       "      <td>-0.198950</td>\n",
       "      <td>1.000000</td>\n",
       "    </tr>\n",
       "  </tbody>\n",
       "</table>\n",
       "</div>"
      ],
      "text/plain": [
       "                    last_price  sq_price  days_exposition  weekday_exposition  \\\n",
       "last_price            1.000000  0.737186         0.079924            0.005245   \n",
       "sq_price              0.737186  1.000000         0.047222            0.001961   \n",
       "days_exposition       0.079924  0.047222         1.000000           -0.025253   \n",
       "weekday_exposition    0.005245  0.001961        -0.025253            1.000000   \n",
       "month_exposition      0.006000  0.006880        -0.030572            0.010618   \n",
       "year_exposition      -0.059657 -0.009748        -0.612034            0.008322   \n",
       "\n",
       "                    month_exposition  year_exposition  \n",
       "last_price                  0.006000        -0.059657  \n",
       "sq_price                    0.006880        -0.009748  \n",
       "days_exposition            -0.030572        -0.612034  \n",
       "weekday_exposition          0.010618         0.008322  \n",
       "month_exposition            1.000000        -0.198950  \n",
       "year_exposition            -0.198950         1.000000  "
      ]
     },
     "execution_count": 79,
     "metadata": {},
     "output_type": "execute_result"
    }
   ],
   "source": [
    "data_2.corr()"
   ]
  },
  {
   "cell_type": "markdown",
   "metadata": {},
   "source": [
    "Данные корреляции неочевидны, рассмотрим их с помощью гистограмм"
   ]
  },
  {
   "cell_type": "code",
   "execution_count": 80,
   "metadata": {},
   "outputs": [
    {
     "data": {
      "text/plain": [
       "<matplotlib.axes._subplots.AxesSubplot at 0x7f410ce339d0>"
      ]
     },
     "execution_count": 80,
     "metadata": {},
     "output_type": "execute_result"
    },
    {
     "data": {
      "image/png": "[encoded data removed]",
      "text/plain": [
       "<Figure size 432x288 with 1 Axes>"
      ]
     },
     "metadata": {
      "needs_background": "light"
     },
     "output_type": "display_data"
    }
   ],
   "source": [
    "data_2.groupby('year_exposition')['last_price'].mean().plot(kind='bar')"
   ]
  },
  {
   "cell_type": "code",
   "execution_count": 81,
   "metadata": {
    "scrolled": true
   },
   "outputs": [
    {
     "data": {
      "text/plain": [
       "<matplotlib.axes._subplots.AxesSubplot at 0x7f410cf6c670>"
      ]
     },
     "execution_count": 81,
     "metadata": {},
     "output_type": "execute_result"
    },
    {
     "data": {
      "image/png": "[encoded data removed]",
      "text/plain": [
       "<Figure size 432x288 with 1 Axes>"
      ]
     },
     "metadata": {
      "needs_background": "light"
     },
     "output_type": "display_data"
    }
   ],
   "source": [
    "data_2.groupby('month_exposition')['last_price'].mean().plot(kind='bar')"
   ]
  },
  {
   "cell_type": "code",
   "execution_count": 82,
   "metadata": {},
   "outputs": [
    {
     "data": {
      "text/plain": [
       "<matplotlib.axes._subplots.AxesSubplot at 0x7f410d781430>"
      ]
     },
     "execution_count": 82,
     "metadata": {},
     "output_type": "execute_result"
    },
    {
     "data": {
      "image/png": "[encoded data removed]",
      "text/plain": [
       "<Figure size 432x288 with 1 Axes>"
      ]
     },
     "metadata": {
      "needs_background": "light"
     },
     "output_type": "display_data"
    }
   ],
   "source": [
    "data_2.groupby('weekday_exposition')['last_price'].mean().plot(kind='bar')"
   ]
  },
  {
   "cell_type": "markdown",
   "metadata": {},
   "source": [
    "### Вывод\n",
    "Цена не имеет ярко выраженной сезонности и не зависит от дня недели в который было размещено объявление.\n",
    "\n",
    "Цена квартиры зависит от года размещения. Зависимость соотноситься с глобальными рыночными тенденциями.\n"
   ]
  },
  {
   "cell_type": "markdown",
   "metadata": {},
   "source": [
    "[к содержанию...](#title)"
   ]
  },
  {
   "cell_type": "markdown",
   "metadata": {},
   "source": [
    "<a name=\"sq_meter\"></a>\n",
    "# 4.5 Задание \"Средняя цена квадратного метра\""
   ]
  },
  {
   "cell_type": "markdown",
   "metadata": {},
   "source": [
    "Согласно условиям задание сформируем ТОП-10 и проведем исследование:"
   ]
  },
  {
   "cell_type": "code",
   "execution_count": 83,
   "metadata": {},
   "outputs": [
    {
     "data": {
      "text/html": [
       "<div>\n",
       "<style scoped>\n",
       "    .dataframe tbody tr th:only-of-type {\n",
       "        vertical-align: middle;\n",
       "    }\n",
       "\n",
       "    .dataframe tbody tr th {\n",
       "        vertical-align: top;\n",
       "    }\n",
       "\n",
       "    .dataframe thead th {\n",
       "        text-align: right;\n",
       "    }\n",
       "</style>\n",
       "<table border=\"1\" class=\"dataframe\">\n",
       "  <thead>\n",
       "    <tr style=\"text-align: right;\">\n",
       "      <th></th>\n",
       "      <th>count</th>\n",
       "      <th>mean_sq_price</th>\n",
       "    </tr>\n",
       "    <tr>\n",
       "      <th>locality_name</th>\n",
       "      <th></th>\n",
       "      <th></th>\n",
       "    </tr>\n",
       "  </thead>\n",
       "  <tbody>\n",
       "    <tr>\n",
       "      <th>Санкт-Петербург</th>\n",
       "      <td>13555</td>\n",
       "      <td>112362.437920</td>\n",
       "    </tr>\n",
       "    <tr>\n",
       "      <th>Пушкин</th>\n",
       "      <td>307</td>\n",
       "      <td>102074.188925</td>\n",
       "    </tr>\n",
       "    <tr>\n",
       "      <th>деревня Кудрово</th>\n",
       "      <td>299</td>\n",
       "      <td>92473.086957</td>\n",
       "    </tr>\n",
       "    <tr>\n",
       "      <th>посёлок Парголово</th>\n",
       "      <td>302</td>\n",
       "      <td>89504.615894</td>\n",
       "    </tr>\n",
       "    <tr>\n",
       "      <th>посёлок Мурино</th>\n",
       "      <td>513</td>\n",
       "      <td>85711.118908</td>\n",
       "    </tr>\n",
       "    <tr>\n",
       "      <th>посёлок Шушары</th>\n",
       "      <td>407</td>\n",
       "      <td>77872.137592</td>\n",
       "    </tr>\n",
       "    <tr>\n",
       "      <th>Колпино</th>\n",
       "      <td>308</td>\n",
       "      <td>74864.931818</td>\n",
       "    </tr>\n",
       "    <tr>\n",
       "      <th>Всеволожск</th>\n",
       "      <td>339</td>\n",
       "      <td>68570.150442</td>\n",
       "    </tr>\n",
       "    <tr>\n",
       "      <th>Гатчина</th>\n",
       "      <td>267</td>\n",
       "      <td>67938.026217</td>\n",
       "    </tr>\n",
       "    <tr>\n",
       "      <th>Выборг</th>\n",
       "      <td>206</td>\n",
       "      <td>57183.669903</td>\n",
       "    </tr>\n",
       "  </tbody>\n",
       "</table>\n",
       "</div>"
      ],
      "text/plain": [
       "                   count  mean_sq_price\n",
       "locality_name                          \n",
       "Санкт-Петербург    13555  112362.437920\n",
       "Пушкин               307  102074.188925\n",
       "деревня Кудрово      299   92473.086957\n",
       "посёлок Парголово    302   89504.615894\n",
       "посёлок Мурино       513   85711.118908\n",
       "посёлок Шушары       407   77872.137592\n",
       "Колпино              308   74864.931818\n",
       "Всеволожск           339   68570.150442\n",
       "Гатчина              267   67938.026217\n",
       "Выборг               206   57183.669903"
      ]
     },
     "execution_count": 83,
     "metadata": {},
     "output_type": "execute_result"
    }
   ],
   "source": [
    "top10 = df.groupby('locality_name')['sq_price'].agg(['count', 'mean'])\n",
    "top10.columns = ['count', 'mean_sq_price']\n",
    "(\n",
    "top10.sort_values(by = 'count', ascending = False)\n",
    "     .head(10)\n",
    "     .sort_values(by = 'mean_sq_price', ascending = False)\n",
    ")"
   ]
  },
  {
   "cell_type": "code",
   "execution_count": 84,
   "metadata": {},
   "outputs": [
    {
     "data": {
      "image/png": "[encoded data removed]",
      "text/plain": [
       "<Figure size 432x288 with 1 Axes>"
      ]
     },
     "metadata": {
      "needs_background": "light"
     },
     "output_type": "display_data"
    }
   ],
   "source": [
    "(\n",
    "top10.sort_values(by = 'count', ascending = False)\n",
    "     .head(10)\n",
    "     .plot(y = 'mean_sq_price', kind = 'bar')\n",
    ")\n",
    "plt.show()"
   ]
  },
  {
   "cell_type": "markdown",
   "metadata": {},
   "source": [
    "#### Вывод\n",
    "**Наибольшая цена квадратного метра** ожидаемо принадлежит **Санкт-Петербургу** и составляет **112.36 тысяч рублей за 1 кв.м**.\n",
    "\n",
    "Последние место в ТОП-10 с **минимальной ценой**  удерживает **Выборг** - **57.18 тысяч рублей за 1 кв.м**."
   ]
  },
  {
   "cell_type": "markdown",
   "metadata": {},
   "source": [
    "[к содержанию...](#title)"
   ]
  },
  {
   "cell_type": "markdown",
   "metadata": {},
   "source": [
    "<a name=\"centre\"></a>\n",
    "# 4.6 Задание \"Центр\"\n",
    "### Где же Центр?\n",
    "Повысим эффективность кода, позволив себе слегка отклониться от легенды задания *(т.к. нет необходимости в создании новых столбцов и проведении дополнительных расчетов, к тому же у нас уже есть нарезанное на километры расстояние до центра.)*:\n"
   ]
  },
  {
   "cell_type": "code",
   "execution_count": 85,
   "metadata": {},
   "outputs": [
    {
     "data": {
      "image/png": "[encoded data removed]",
      "text/plain": [
       "<Figure size 432x288 with 1 Axes>"
      ]
     },
     "metadata": {
      "needs_background": "light"
     },
     "output_type": "display_data"
    }
   ],
   "source": [
    "(df.query('locality_name == \"Санкт-Петербург\"')\n",
    "   .groupby('centre')['price_mln']\n",
    "   .median()\n",
    "   .plot(kind='bar', grid=True, xlim=[0, 15])\n",
    ")\n",
    "plt.show()"
   ]
  },
  {
   "cell_type": "code",
   "execution_count": 86,
   "metadata": {},
   "outputs": [
    {
     "data": {
      "text/plain": [
       "<matplotlib.axes._subplots.AxesSubplot at 0x7f410d75db20>"
      ]
     },
     "execution_count": 86,
     "metadata": {},
     "output_type": "execute_result"
    },
    {
     "data": {
      "image/png": "[encoded data removed]",
      "text/plain": [
       "<Figure size 432x288 with 1 Axes>"
      ]
     },
     "metadata": {
      "needs_background": "light"
     },
     "output_type": "display_data"
    }
   ],
   "source": [
    "(df.query('locality_name == \"Санкт-Петербург\"')\n",
    ".plot(x='city_centers_nearest', \n",
    "      y='price_mln',\n",
    "      style='o',\n",
    "      grid=True, \n",
    "      xlim=[0, 10000],\n",
    "      ylim=[0, 100], alpha=0.3)\n",
    ")"
   ]
  },
  {
   "cell_type": "markdown",
   "metadata": {},
   "source": [
    "#### Вывод:\n",
    "границы центра проходят по отметки 9 км."
   ]
  },
  {
   "cell_type": "markdown",
   "metadata": {},
   "source": [
    "### Анализ объектов зоны \"Центр\":\n",
    "Проанализируем основные параметры и сравним их с общими выводами.\n",
    "\n",
    "Изучаем параметры: \n",
    "- площадь, цена, число комнат, высота потолков. \n",
    "\n",
    "и факторы стоимости:\n",
    "- число комнат, этаж, удалённость от центра, дата размещения объявления"
   ]
  },
  {
   "cell_type": "code",
   "execution_count": 87,
   "metadata": {},
   "outputs": [],
   "source": [
    "work_columns_cntr = ['price_mln', 'sq_price','total_area', 'rooms', 'ceiling_height',\n",
    "                     'locality_name', 'city_centers_nearest', 'floor_type', 'weekday_exposition',\n",
    "                     'month_exposition', 'year_exposition']"
   ]
  },
  {
   "cell_type": "code",
   "execution_count": 88,
   "metadata": {},
   "outputs": [
    {
     "data": {
      "text/html": [
       "<div>\n",
       "<style scoped>\n",
       "    .dataframe tbody tr th:only-of-type {\n",
       "        vertical-align: middle;\n",
       "    }\n",
       "\n",
       "    .dataframe tbody tr th {\n",
       "        vertical-align: top;\n",
       "    }\n",
       "\n",
       "    .dataframe thead th {\n",
       "        text-align: right;\n",
       "    }\n",
       "</style>\n",
       "<table border=\"1\" class=\"dataframe\">\n",
       "  <thead>\n",
       "    <tr style=\"text-align: right;\">\n",
       "      <th></th>\n",
       "      <th>price_mln</th>\n",
       "      <th>sq_price</th>\n",
       "      <th>total_area</th>\n",
       "      <th>rooms</th>\n",
       "      <th>ceiling_height</th>\n",
       "      <th>locality_name</th>\n",
       "      <th>city_centers_nearest</th>\n",
       "      <th>floor_type</th>\n",
       "      <th>weekday_exposition</th>\n",
       "      <th>month_exposition</th>\n",
       "      <th>year_exposition</th>\n",
       "    </tr>\n",
       "  </thead>\n",
       "  <tbody>\n",
       "    <tr>\n",
       "      <th>2</th>\n",
       "      <td>64.9</td>\n",
       "      <td>408176</td>\n",
       "      <td>159.0</td>\n",
       "      <td>3</td>\n",
       "      <td>2.65</td>\n",
       "      <td>Санкт-Петербург</td>\n",
       "      <td>6800</td>\n",
       "      <td>other</td>\n",
       "      <td>4</td>\n",
       "      <td>7</td>\n",
       "      <td>2015</td>\n",
       "    </tr>\n",
       "    <tr>\n",
       "      <th>3</th>\n",
       "      <td>10.0</td>\n",
       "      <td>100000</td>\n",
       "      <td>100.0</td>\n",
       "      <td>2</td>\n",
       "      <td>3.03</td>\n",
       "      <td>Санкт-Петербург</td>\n",
       "      <td>8098</td>\n",
       "      <td>other</td>\n",
       "      <td>1</td>\n",
       "      <td>6</td>\n",
       "      <td>2018</td>\n",
       "    </tr>\n",
       "    <tr>\n",
       "      <th>22</th>\n",
       "      <td>6.5</td>\n",
       "      <td>66872</td>\n",
       "      <td>97.2</td>\n",
       "      <td>2</td>\n",
       "      <td>2.65</td>\n",
       "      <td>Санкт-Петербург</td>\n",
       "      <td>2336</td>\n",
       "      <td>first</td>\n",
       "      <td>5</td>\n",
       "      <td>10</td>\n",
       "      <td>2015</td>\n",
       "    </tr>\n",
       "    <tr>\n",
       "      <th>33</th>\n",
       "      <td>15.5</td>\n",
       "      <td>104026</td>\n",
       "      <td>149.0</td>\n",
       "      <td>5</td>\n",
       "      <td>2.65</td>\n",
       "      <td>Санкт-Петербург</td>\n",
       "      <td>3502</td>\n",
       "      <td>other</td>\n",
       "      <td>0</td>\n",
       "      <td>6</td>\n",
       "      <td>2017</td>\n",
       "    </tr>\n",
       "    <tr>\n",
       "      <th>45</th>\n",
       "      <td>45.0</td>\n",
       "      <td>279503</td>\n",
       "      <td>161.0</td>\n",
       "      <td>3</td>\n",
       "      <td>3.20</td>\n",
       "      <td>Санкт-Петербург</td>\n",
       "      <td>6589</td>\n",
       "      <td>other</td>\n",
       "      <td>1</td>\n",
       "      <td>10</td>\n",
       "      <td>2017</td>\n",
       "    </tr>\n",
       "  </tbody>\n",
       "</table>\n",
       "</div>"
      ],
      "text/plain": [
       "    price_mln  sq_price  total_area  rooms  ceiling_height    locality_name  \\\n",
       "2        64.9    408176       159.0      3            2.65  Санкт-Петербург   \n",
       "3        10.0    100000       100.0      2            3.03  Санкт-Петербург   \n",
       "22        6.5     66872        97.2      2            2.65  Санкт-Петербург   \n",
       "33       15.5    104026       149.0      5            2.65  Санкт-Петербург   \n",
       "45       45.0    279503       161.0      3            3.20  Санкт-Петербург   \n",
       "\n",
       "    city_centers_nearest floor_type  weekday_exposition  month_exposition  \\\n",
       "2                   6800      other                   4                 7   \n",
       "3                   8098      other                   1                 6   \n",
       "22                  2336      first                   5                10   \n",
       "33                  3502      other                   0                 6   \n",
       "45                  6589      other                   1                10   \n",
       "\n",
       "    year_exposition  \n",
       "2              2015  \n",
       "3              2018  \n",
       "22             2015  \n",
       "33             2017  \n",
       "45             2017  "
      ]
     },
     "execution_count": 88,
     "metadata": {},
     "output_type": "execute_result"
    }
   ],
   "source": [
    "df_cntr = df[work_columns_cntr].query('city_centers_nearest <= 9000')\n",
    "df_cntr.head()"
   ]
  },
  {
   "cell_type": "code",
   "execution_count": 89,
   "metadata": {},
   "outputs": [
    {
     "data": {
      "text/html": [
       "<div>\n",
       "<style scoped>\n",
       "    .dataframe tbody tr th:only-of-type {\n",
       "        vertical-align: middle;\n",
       "    }\n",
       "\n",
       "    .dataframe tbody tr th {\n",
       "        vertical-align: top;\n",
       "    }\n",
       "\n",
       "    .dataframe thead th {\n",
       "        text-align: right;\n",
       "    }\n",
       "</style>\n",
       "<table border=\"1\" class=\"dataframe\">\n",
       "  <thead>\n",
       "    <tr style=\"text-align: right;\">\n",
       "      <th></th>\n",
       "      <th>price_mln</th>\n",
       "      <th>sq_price</th>\n",
       "      <th>total_area</th>\n",
       "      <th>rooms</th>\n",
       "      <th>ceiling_height</th>\n",
       "      <th>city_centers_nearest</th>\n",
       "      <th>weekday_exposition</th>\n",
       "      <th>month_exposition</th>\n",
       "      <th>year_exposition</th>\n",
       "    </tr>\n",
       "  </thead>\n",
       "  <tbody>\n",
       "    <tr>\n",
       "      <th>price_mln</th>\n",
       "      <td>1.000000</td>\n",
       "      <td>0.797038</td>\n",
       "      <td>0.641569</td>\n",
       "      <td>0.349319</td>\n",
       "      <td>0.147051</td>\n",
       "      <td>-0.094623</td>\n",
       "      <td>0.021523</td>\n",
       "      <td>0.002951</td>\n",
       "      <td>-0.068983</td>\n",
       "    </tr>\n",
       "    <tr>\n",
       "      <th>sq_price</th>\n",
       "      <td>0.797038</td>\n",
       "      <td>1.000000</td>\n",
       "      <td>0.295796</td>\n",
       "      <td>0.047787</td>\n",
       "      <td>0.085631</td>\n",
       "      <td>-0.078051</td>\n",
       "      <td>0.021491</td>\n",
       "      <td>-0.005466</td>\n",
       "      <td>-0.031763</td>\n",
       "    </tr>\n",
       "    <tr>\n",
       "      <th>total_area</th>\n",
       "      <td>0.641569</td>\n",
       "      <td>0.295796</td>\n",
       "      <td>1.000000</td>\n",
       "      <td>0.755542</td>\n",
       "      <td>0.302405</td>\n",
       "      <td>-0.182800</td>\n",
       "      <td>0.007746</td>\n",
       "      <td>0.003802</td>\n",
       "      <td>-0.120787</td>\n",
       "    </tr>\n",
       "    <tr>\n",
       "      <th>rooms</th>\n",
       "      <td>0.349319</td>\n",
       "      <td>0.047787</td>\n",
       "      <td>0.755542</td>\n",
       "      <td>1.000000</td>\n",
       "      <td>0.268163</td>\n",
       "      <td>-0.235549</td>\n",
       "      <td>-0.006984</td>\n",
       "      <td>-0.003861</td>\n",
       "      <td>-0.102878</td>\n",
       "    </tr>\n",
       "    <tr>\n",
       "      <th>ceiling_height</th>\n",
       "      <td>0.147051</td>\n",
       "      <td>0.085631</td>\n",
       "      <td>0.302405</td>\n",
       "      <td>0.268163</td>\n",
       "      <td>1.000000</td>\n",
       "      <td>-0.277295</td>\n",
       "      <td>-0.049043</td>\n",
       "      <td>-0.002606</td>\n",
       "      <td>-0.012319</td>\n",
       "    </tr>\n",
       "    <tr>\n",
       "      <th>city_centers_nearest</th>\n",
       "      <td>-0.094623</td>\n",
       "      <td>-0.078051</td>\n",
       "      <td>-0.182800</td>\n",
       "      <td>-0.235549</td>\n",
       "      <td>-0.277295</td>\n",
       "      <td>1.000000</td>\n",
       "      <td>0.024050</td>\n",
       "      <td>-0.008486</td>\n",
       "      <td>0.072527</td>\n",
       "    </tr>\n",
       "    <tr>\n",
       "      <th>weekday_exposition</th>\n",
       "      <td>0.021523</td>\n",
       "      <td>0.021491</td>\n",
       "      <td>0.007746</td>\n",
       "      <td>-0.006984</td>\n",
       "      <td>-0.049043</td>\n",
       "      <td>0.024050</td>\n",
       "      <td>1.000000</td>\n",
       "      <td>0.039223</td>\n",
       "      <td>0.013228</td>\n",
       "    </tr>\n",
       "    <tr>\n",
       "      <th>month_exposition</th>\n",
       "      <td>0.002951</td>\n",
       "      <td>-0.005466</td>\n",
       "      <td>0.003802</td>\n",
       "      <td>-0.003861</td>\n",
       "      <td>-0.002606</td>\n",
       "      <td>-0.008486</td>\n",
       "      <td>0.039223</td>\n",
       "      <td>1.000000</td>\n",
       "      <td>-0.176666</td>\n",
       "    </tr>\n",
       "    <tr>\n",
       "      <th>year_exposition</th>\n",
       "      <td>-0.068983</td>\n",
       "      <td>-0.031763</td>\n",
       "      <td>-0.120787</td>\n",
       "      <td>-0.102878</td>\n",
       "      <td>-0.012319</td>\n",
       "      <td>0.072527</td>\n",
       "      <td>0.013228</td>\n",
       "      <td>-0.176666</td>\n",
       "      <td>1.000000</td>\n",
       "    </tr>\n",
       "  </tbody>\n",
       "</table>\n",
       "</div>"
      ],
      "text/plain": [
       "                      price_mln  sq_price  total_area     rooms  \\\n",
       "price_mln              1.000000  0.797038    0.641569  0.349319   \n",
       "sq_price               0.797038  1.000000    0.295796  0.047787   \n",
       "total_area             0.641569  0.295796    1.000000  0.755542   \n",
       "rooms                  0.349319  0.047787    0.755542  1.000000   \n",
       "ceiling_height         0.147051  0.085631    0.302405  0.268163   \n",
       "city_centers_nearest  -0.094623 -0.078051   -0.182800 -0.235549   \n",
       "weekday_exposition     0.021523  0.021491    0.007746 -0.006984   \n",
       "month_exposition       0.002951 -0.005466    0.003802 -0.003861   \n",
       "year_exposition       -0.068983 -0.031763   -0.120787 -0.102878   \n",
       "\n",
       "                      ceiling_height  city_centers_nearest  \\\n",
       "price_mln                   0.147051             -0.094623   \n",
       "sq_price                    0.085631             -0.078051   \n",
       "total_area                  0.302405             -0.182800   \n",
       "rooms                       0.268163             -0.235549   \n",
       "ceiling_height              1.000000             -0.277295   \n",
       "city_centers_nearest       -0.277295              1.000000   \n",
       "weekday_exposition         -0.049043              0.024050   \n",
       "month_exposition           -0.002606             -0.008486   \n",
       "year_exposition            -0.012319              0.072527   \n",
       "\n",
       "                      weekday_exposition  month_exposition  year_exposition  \n",
       "price_mln                       0.021523          0.002951        -0.068983  \n",
       "sq_price                        0.021491         -0.005466        -0.031763  \n",
       "total_area                      0.007746          0.003802        -0.120787  \n",
       "rooms                          -0.006984         -0.003861        -0.102878  \n",
       "ceiling_height                 -0.049043         -0.002606        -0.012319  \n",
       "city_centers_nearest            0.024050         -0.008486         0.072527  \n",
       "weekday_exposition              1.000000          0.039223         0.013228  \n",
       "month_exposition                0.039223          1.000000        -0.176666  \n",
       "year_exposition                 0.013228         -0.176666         1.000000  "
      ]
     },
     "execution_count": 89,
     "metadata": {},
     "output_type": "execute_result"
    }
   ],
   "source": [
    "df_cntr.corr()"
   ]
  },
  {
   "cell_type": "markdown",
   "metadata": {},
   "source": [
    "#### Предварительные наблюдения:\n",
    "**Цена зависит от:** \n",
    "- sq_price 0.80\n",
    "- total_area 0.64\n",
    "- rooms 0.35\n",
    "- ceiling_height 0.15\n",
    "- city_centers_nearest -0.09\n"
   ]
  },
  {
   "cell_type": "markdown",
   "metadata": {},
   "source": [
    "Для разнообразия и тренировки используем вместо describe(), самописную функцию:"
   ]
  },
  {
   "cell_type": "code",
   "execution_count": 90,
   "metadata": {},
   "outputs": [],
   "source": [
    "def p_h_cntr(column):\n",
    "    cntr_min = df_cntr[column].min()\n",
    "    cntr_max = df_cntr[column].max()\n",
    "    cntr_mean = df_cntr[column].mean()\n",
    "    cntr_median = df_cntr[column].median()\n",
    "    ttl_min = df[column].min()\n",
    "    ttl_max = df[column].max()\n",
    "    ttl_mean = df[column].mean()\n",
    "    ttl_median = df[column].median()\n",
    "    print('Минимальное значение общее: {:.1f}, центр: {:.1f}, отклонение: {:.0%}'.format(ttl_min, cntr_min, (cntr_min - ttl_min)/ttl_min ))\n",
    "    print('Максимальное значение общее: {:.1f}, центр: {:.1f}, отклонение: {:.0%}'.format(ttl_max, cntr_max, (cntr_max - ttl_max)/ttl_max ))\n",
    "    print('Среднее значение общее: {:.1f}, центр: {:.1f}, отклонение: {:.0%}'.format(ttl_mean, cntr_mean, (cntr_mean - ttl_mean)/ttl_mean ))\n",
    "    print('Медиана общее: {:.1f}, центр: {:.1f}, отклонение: {:.0%}'.format(ttl_median, cntr_median, (cntr_median - ttl_median)/ttl_median ))"
   ]
  },
  {
   "cell_type": "markdown",
   "metadata": {},
   "source": [
    "#### Площадь"
   ]
  },
  {
   "cell_type": "code",
   "execution_count": 91,
   "metadata": {},
   "outputs": [
    {
     "name": "stdout",
     "output_type": "stream",
     "text": [
      "Минимальное значение общее: 12.0, центр: 12.0, отклонение: 0%\n",
      "Максимальное значение общее: 900.0, центр: 900.0, отклонение: 0%\n",
      "Среднее значение общее: 58.8, центр: 85.7, отклонение: 46%\n",
      "Медиана общее: 50.8, центр: 72.0, отклонение: 42%\n"
     ]
    }
   ],
   "source": [
    "p_h_cntr('total_area')"
   ]
  },
  {
   "cell_type": "markdown",
   "metadata": {},
   "source": [
    "#### Вывод:\n",
    "По сравнению с общими данными, квартиры в центре имеют большую на 46% среднюю площадь (в том числе выше и медиана)\n"
   ]
  },
  {
   "cell_type": "markdown",
   "metadata": {},
   "source": [
    "#### Цена"
   ]
  },
  {
   "cell_type": "code",
   "execution_count": 92,
   "metadata": {},
   "outputs": [
    {
     "data": {
      "text/plain": [
       "count    20355.000000\n",
       "mean         6.256058\n",
       "std         10.854758\n",
       "min          0.012190\n",
       "25%          3.400000\n",
       "50%          4.500000\n",
       "75%          6.500000\n",
       "max        763.000000\n",
       "Name: price_mln, dtype: float64"
      ]
     },
     "execution_count": 92,
     "metadata": {},
     "output_type": "execute_result"
    }
   ],
   "source": [
    "df['price_mln'].describe()"
   ]
  },
  {
   "cell_type": "code",
   "execution_count": 93,
   "metadata": {
    "scrolled": true
   },
   "outputs": [
    {
     "name": "stdout",
     "output_type": "stream",
     "text": [
      "Минимальное значение общее: 0.0, центр: 1.6, отклонение: 13026%\n",
      "Максимальное значение общее: 763.0, центр: 763.0, отклонение: 0%\n",
      "Среднее значение общее: 6.3, центр: 13.1, отклонение: 110%\n",
      "Медиана общее: 4.5, центр: 8.4, отклонение: 87%\n"
     ]
    }
   ],
   "source": [
    "p_h_cntr('price_mln')"
   ]
  },
  {
   "cell_type": "markdown",
   "metadata": {},
   "source": [
    "#### Вывод:\n",
    "В среднем цена квартир в \"центре\" в 2 раза выше общей выборки. Это обусловлено как престижностью района, так и большей площадью объектов. Опять же квартиры данной зоны тяготят к премиум сегменту, а цена в нем уже перестает играть ключевую роль.\n"
   ]
  },
  {
   "cell_type": "markdown",
   "metadata": {},
   "source": [
    "#### Число комнат"
   ]
  },
  {
   "cell_type": "code",
   "execution_count": 94,
   "metadata": {},
   "outputs": [
    {
     "name": "stdout",
     "output_type": "stream",
     "text": [
      "Минимальное значение общее: 1.0, центр: 1.0, отклонение: 0%\n",
      "Максимальное значение общее: 19.0, центр: 19.0, отклонение: 0%\n",
      "Среднее значение общее: 2.0, центр: 2.7, отклонение: 31%\n",
      "Медиана общее: 2.0, центр: 3.0, отклонение: 50%\n"
     ]
    }
   ],
   "source": [
    "p_h_cntr('rooms')"
   ]
  },
  {
   "cell_type": "markdown",
   "metadata": {},
   "source": [
    "Локации центр свойственны 3-х комнатные квартиры,\n",
    "\n",
    "что касается цены, посмотрим ниже:"
   ]
  },
  {
   "cell_type": "code",
   "execution_count": 95,
   "metadata": {},
   "outputs": [
    {
     "data": {
      "image/png": "[encoded data removed]",
      "text/plain": [
       "<Figure size 432x288 with 1 Axes>"
      ]
     },
     "metadata": {
      "needs_background": "light"
     },
     "output_type": "display_data"
    }
   ],
   "source": [
    "df_cntr['rooms_kvl'] = pd.cut(df['rooms'], [0,1,2,3,4,5,100])\n",
    "df.groupby('rooms_kvl')['price_mln'].median().plot(kind='bar', color='r')\n",
    "df_cntr.groupby('rooms_kvl')['price_mln'].median().plot(kind='bar', alpha=0.5)\n",
    "\n",
    "plt.show()"
   ]
  },
  {
   "cell_type": "markdown",
   "metadata": {},
   "source": [
    "#### Вывод:\n",
    "В \"центре преобладают 3-х комнатные квартиры, тогда как в общей выборке мы видим 2-х комнатные объекты. \n",
    "\n",
    "Увеличение стоимости в разрезе количества комнат обусловлено более высокой ценой квадратного метра. Уменьшение этой дельты в позициях: 5 и 5+ комнат вызвано тем, что основная масса объектов 5 и 5+ комнат как раз и расположены в центре.\n"
   ]
  },
  {
   "cell_type": "markdown",
   "metadata": {},
   "source": [
    "#### Высота потолков"
   ]
  },
  {
   "cell_type": "code",
   "execution_count": 96,
   "metadata": {},
   "outputs": [
    {
     "name": "stdout",
     "output_type": "stream",
     "text": [
      "Минимальное значение общее: 2.2, центр: 2.4, отклонение: 9%\n",
      "Максимальное значение общее: 5.0, центр: 4.9, отклонение: -2%\n",
      "Среднее значение общее: 2.7, центр: 2.9, отклонение: 7%\n",
      "Медиана общее: 2.6, центр: 2.7, отклонение: 2%\n"
     ]
    }
   ],
   "source": [
    "p_h_cntr('ceiling_height')"
   ]
  },
  {
   "cell_type": "markdown",
   "metadata": {},
   "source": [
    "Вот строили же раньше...\n",
    "\n",
    "**Посмотрим как дела с ценой**"
   ]
  },
  {
   "cell_type": "code",
   "execution_count": 97,
   "metadata": {},
   "outputs": [],
   "source": [
    "df_cntr['potolok'] = pd.cut(df_cntr['ceiling_height'], (0,2.7,3,3.5,5))"
   ]
  },
  {
   "cell_type": "code",
   "execution_count": 98,
   "metadata": {},
   "outputs": [
    {
     "data": {
      "image/png": "[encoded data removed]",
      "text/plain": [
       "<Figure size 432x288 with 1 Axes>"
      ]
     },
     "metadata": {
      "needs_background": "light"
     },
     "output_type": "display_data"
    }
   ],
   "source": [
    "df.groupby('potolok')['price_mln'].median().plot(kind='bar', color='r')\n",
    "df_cntr.groupby('potolok')['price_mln'].median().plot(kind='bar', alpha=0.5)\n",
    "\n",
    "plt.show()"
   ]
  },
  {
   "cell_type": "code",
   "execution_count": 99,
   "metadata": {},
   "outputs": [
    {
     "data": {
      "text/html": [
       "<div>\n",
       "<style scoped>\n",
       "    .dataframe tbody tr th:only-of-type {\n",
       "        vertical-align: middle;\n",
       "    }\n",
       "\n",
       "    .dataframe tbody tr th {\n",
       "        vertical-align: top;\n",
       "    }\n",
       "\n",
       "    .dataframe thead th {\n",
       "        text-align: right;\n",
       "    }\n",
       "</style>\n",
       "<table border=\"1\" class=\"dataframe\">\n",
       "  <thead>\n",
       "    <tr style=\"text-align: right;\">\n",
       "      <th></th>\n",
       "      <th>count</th>\n",
       "      <th>mean</th>\n",
       "    </tr>\n",
       "    <tr>\n",
       "      <th>potolok</th>\n",
       "      <th></th>\n",
       "      <th></th>\n",
       "    </tr>\n",
       "  </thead>\n",
       "  <tbody>\n",
       "    <tr>\n",
       "      <th>(0.0, 2.7]</th>\n",
       "      <td>1840</td>\n",
       "      <td>11.373030</td>\n",
       "    </tr>\n",
       "    <tr>\n",
       "      <th>(2.7, 3.0]</th>\n",
       "      <td>872</td>\n",
       "      <td>12.158240</td>\n",
       "    </tr>\n",
       "    <tr>\n",
       "      <th>(3.0, 3.5]</th>\n",
       "      <td>769</td>\n",
       "      <td>16.024462</td>\n",
       "    </tr>\n",
       "    <tr>\n",
       "      <th>(3.5, 5.0]</th>\n",
       "      <td>177</td>\n",
       "      <td>23.418768</td>\n",
       "    </tr>\n",
       "  </tbody>\n",
       "</table>\n",
       "</div>"
      ],
      "text/plain": [
       "            count       mean\n",
       "potolok                     \n",
       "(0.0, 2.7]   1840  11.373030\n",
       "(2.7, 3.0]    872  12.158240\n",
       "(3.0, 3.5]    769  16.024462\n",
       "(3.5, 5.0]    177  23.418768"
      ]
     },
     "execution_count": 99,
     "metadata": {},
     "output_type": "execute_result"
    }
   ],
   "source": [
    "df_cntr.groupby('potolok')['price_mln'].agg(['count', 'mean'])"
   ]
  },
  {
   "cell_type": "markdown",
   "metadata": {},
   "source": [
    "#### Вывод:\n",
    "Увеличение высоты потолков в \"центре\" обусловлено преобладанием исторической застройки и свойственным ей архитектурным традициям.\n",
    "\n",
    "Анализ влияния данного параметра на цену объекта не входит в рамки данного задания, однако выводы и характер влияния полностью соответствует параметру - \"количество комнат\"\n"
   ]
  },
  {
   "cell_type": "markdown",
   "metadata": {},
   "source": [
    "## Этажи"
   ]
  },
  {
   "cell_type": "code",
   "execution_count": 100,
   "metadata": {},
   "outputs": [
    {
     "data": {
      "image/png": "[encoded data removed]",
      "text/plain": [
       "<Figure size 432x288 with 1 Axes>"
      ]
     },
     "metadata": {
      "needs_background": "light"
     },
     "output_type": "display_data"
    }
   ],
   "source": [
    "df.groupby('floor_type')['price_mln'].median().plot(kind='bar', color='r')\n",
    "df_cntr.groupby('floor_type')['price_mln'].median().plot(kind='bar', alpha=0.5)\n",
    "\n",
    "plt.show()"
   ]
  },
  {
   "cell_type": "markdown",
   "metadata": {},
   "source": [
    "#### Вывод\n",
    "Ну чтож, **первые этажи не любят даже в Центре)))**\n",
    "\n",
    "В остальном разница в цене квадратного метра и большей площади объектов."
   ]
  },
  {
   "cell_type": "markdown",
   "metadata": {},
   "source": [
    "### \"Расстояние до \"центра в центре\"\n"
   ]
  },
  {
   "cell_type": "markdown",
   "metadata": {},
   "source": [
    "Разобьем \"золотой километр\" по 100 метров, а дальше по 500:"
   ]
  },
  {
   "cell_type": "code",
   "execution_count": 101,
   "metadata": {},
   "outputs": [
    {
     "data": {
      "image/png": "[encoded data removed]",
      "text/plain": [
       "<Figure size 432x288 with 1 Axes>"
      ]
     },
     "metadata": {
      "needs_background": "light"
     },
     "output_type": "display_data"
    }
   ],
   "source": [
    "df_cntr['centre'] = pd.cut(df_cntr['city_centers_nearest'], \n",
    "                      [0,100,200,300,400,500,600,700,800,900, 1000, 1500, 2000, 2500, 3000, 3500, 4000, 4500, 5000, 5500, 6000, 6500, 7000, 7500, 8000, 8500, 9000])\n",
    "(df_cntr.query('locality_name == \"Санкт-Петербург\"')\n",
    "   .groupby('centre')['price_mln']\n",
    "   .median()\n",
    "   .plot(kind='bar', grid=True, xlim=[0, 15])\n",
    ")\n",
    "plt.show()"
   ]
  },
  {
   "cell_type": "markdown",
   "metadata": {},
   "source": [
    "Интересно, что же там такое на шестой сотне..."
   ]
  },
  {
   "cell_type": "code",
   "execution_count": 102,
   "metadata": {},
   "outputs": [
    {
     "data": {
      "text/html": [
       "<div>\n",
       "<style scoped>\n",
       "    .dataframe tbody tr th:only-of-type {\n",
       "        vertical-align: middle;\n",
       "    }\n",
       "\n",
       "    .dataframe tbody tr th {\n",
       "        vertical-align: top;\n",
       "    }\n",
       "\n",
       "    .dataframe thead th {\n",
       "        text-align: right;\n",
       "    }\n",
       "</style>\n",
       "<table border=\"1\" class=\"dataframe\">\n",
       "  <thead>\n",
       "    <tr style=\"text-align: right;\">\n",
       "      <th></th>\n",
       "      <th>price_mln</th>\n",
       "      <th>sq_price</th>\n",
       "      <th>total_area</th>\n",
       "      <th>rooms</th>\n",
       "      <th>ceiling_height</th>\n",
       "      <th>locality_name</th>\n",
       "      <th>city_centers_nearest</th>\n",
       "      <th>floor_type</th>\n",
       "      <th>weekday_exposition</th>\n",
       "      <th>month_exposition</th>\n",
       "      <th>year_exposition</th>\n",
       "      <th>rooms_kvl</th>\n",
       "      <th>potolok</th>\n",
       "      <th>centre</th>\n",
       "    </tr>\n",
       "  </thead>\n",
       "  <tbody>\n",
       "    <tr>\n",
       "      <th>939</th>\n",
       "      <td>75.0</td>\n",
       "      <td>232198</td>\n",
       "      <td>323.0</td>\n",
       "      <td>5</td>\n",
       "      <td>4.00</td>\n",
       "      <td>Санкт-Петербург</td>\n",
       "      <td>594</td>\n",
       "      <td>other</td>\n",
       "      <td>0</td>\n",
       "      <td>7</td>\n",
       "      <td>2017</td>\n",
       "      <td>(4, 5]</td>\n",
       "      <td>(3.5, 5.0]</td>\n",
       "      <td>(500, 600]</td>\n",
       "    </tr>\n",
       "    <tr>\n",
       "      <th>4923</th>\n",
       "      <td>9.5</td>\n",
       "      <td>117283</td>\n",
       "      <td>81.0</td>\n",
       "      <td>2</td>\n",
       "      <td>2.65</td>\n",
       "      <td>Санкт-Петербург</td>\n",
       "      <td>515</td>\n",
       "      <td>other</td>\n",
       "      <td>1</td>\n",
       "      <td>5</td>\n",
       "      <td>2016</td>\n",
       "      <td>(1, 2]</td>\n",
       "      <td>(0.0, 2.7]</td>\n",
       "      <td>(500, 600]</td>\n",
       "    </tr>\n",
       "    <tr>\n",
       "      <th>6658</th>\n",
       "      <td>11.5</td>\n",
       "      <td>239583</td>\n",
       "      <td>48.0</td>\n",
       "      <td>1</td>\n",
       "      <td>3.70</td>\n",
       "      <td>Санкт-Петербург</td>\n",
       "      <td>583</td>\n",
       "      <td>other</td>\n",
       "      <td>5</td>\n",
       "      <td>12</td>\n",
       "      <td>2017</td>\n",
       "      <td>(0, 1]</td>\n",
       "      <td>(3.5, 5.0]</td>\n",
       "      <td>(500, 600]</td>\n",
       "    </tr>\n",
       "    <tr>\n",
       "      <th>7519</th>\n",
       "      <td>80.0</td>\n",
       "      <td>308641</td>\n",
       "      <td>259.2</td>\n",
       "      <td>5</td>\n",
       "      <td>3.30</td>\n",
       "      <td>Санкт-Петербург</td>\n",
       "      <td>573</td>\n",
       "      <td>other</td>\n",
       "      <td>4</td>\n",
       "      <td>5</td>\n",
       "      <td>2016</td>\n",
       "      <td>(4, 5]</td>\n",
       "      <td>(3.0, 3.5]</td>\n",
       "      <td>(500, 600]</td>\n",
       "    </tr>\n",
       "    <tr>\n",
       "      <th>9090</th>\n",
       "      <td>35.0</td>\n",
       "      <td>225806</td>\n",
       "      <td>155.0</td>\n",
       "      <td>4</td>\n",
       "      <td>2.50</td>\n",
       "      <td>Санкт-Петербург</td>\n",
       "      <td>573</td>\n",
       "      <td>other</td>\n",
       "      <td>6</td>\n",
       "      <td>11</td>\n",
       "      <td>2018</td>\n",
       "      <td>(3, 4]</td>\n",
       "      <td>(0.0, 2.7]</td>\n",
       "      <td>(500, 600]</td>\n",
       "    </tr>\n",
       "    <tr>\n",
       "      <th>10086</th>\n",
       "      <td>48.0</td>\n",
       "      <td>347322</td>\n",
       "      <td>138.2</td>\n",
       "      <td>3</td>\n",
       "      <td>2.65</td>\n",
       "      <td>Санкт-Петербург</td>\n",
       "      <td>591</td>\n",
       "      <td>other</td>\n",
       "      <td>2</td>\n",
       "      <td>4</td>\n",
       "      <td>2019</td>\n",
       "      <td>(2, 3]</td>\n",
       "      <td>(0.0, 2.7]</td>\n",
       "      <td>(500, 600]</td>\n",
       "    </tr>\n",
       "    <tr>\n",
       "      <th>15063</th>\n",
       "      <td>26.0</td>\n",
       "      <td>212418</td>\n",
       "      <td>122.4</td>\n",
       "      <td>4</td>\n",
       "      <td>2.65</td>\n",
       "      <td>Санкт-Петербург</td>\n",
       "      <td>537</td>\n",
       "      <td>last</td>\n",
       "      <td>4</td>\n",
       "      <td>8</td>\n",
       "      <td>2017</td>\n",
       "      <td>(3, 4]</td>\n",
       "      <td>(0.0, 2.7]</td>\n",
       "      <td>(500, 600]</td>\n",
       "    </tr>\n",
       "    <tr>\n",
       "      <th>16471</th>\n",
       "      <td>160.0</td>\n",
       "      <td>658436</td>\n",
       "      <td>243.0</td>\n",
       "      <td>5</td>\n",
       "      <td>2.65</td>\n",
       "      <td>Санкт-Петербург</td>\n",
       "      <td>555</td>\n",
       "      <td>other</td>\n",
       "      <td>0</td>\n",
       "      <td>11</td>\n",
       "      <td>2018</td>\n",
       "      <td>(4, 5]</td>\n",
       "      <td>(0.0, 2.7]</td>\n",
       "      <td>(500, 600]</td>\n",
       "    </tr>\n",
       "  </tbody>\n",
       "</table>\n",
       "</div>"
      ],
      "text/plain": [
       "       price_mln  sq_price  total_area  rooms  ceiling_height  \\\n",
       "939         75.0    232198       323.0      5            4.00   \n",
       "4923         9.5    117283        81.0      2            2.65   \n",
       "6658        11.5    239583        48.0      1            3.70   \n",
       "7519        80.0    308641       259.2      5            3.30   \n",
       "9090        35.0    225806       155.0      4            2.50   \n",
       "10086       48.0    347322       138.2      3            2.65   \n",
       "15063       26.0    212418       122.4      4            2.65   \n",
       "16471      160.0    658436       243.0      5            2.65   \n",
       "\n",
       "         locality_name  city_centers_nearest floor_type  weekday_exposition  \\\n",
       "939    Санкт-Петербург                   594      other                   0   \n",
       "4923   Санкт-Петербург                   515      other                   1   \n",
       "6658   Санкт-Петербург                   583      other                   5   \n",
       "7519   Санкт-Петербург                   573      other                   4   \n",
       "9090   Санкт-Петербург                   573      other                   6   \n",
       "10086  Санкт-Петербург                   591      other                   2   \n",
       "15063  Санкт-Петербург                   537       last                   4   \n",
       "16471  Санкт-Петербург                   555      other                   0   \n",
       "\n",
       "       month_exposition  year_exposition rooms_kvl     potolok      centre  \n",
       "939                   7             2017    (4, 5]  (3.5, 5.0]  (500, 600]  \n",
       "4923                  5             2016    (1, 2]  (0.0, 2.7]  (500, 600]  \n",
       "6658                 12             2017    (0, 1]  (3.5, 5.0]  (500, 600]  \n",
       "7519                  5             2016    (4, 5]  (3.0, 3.5]  (500, 600]  \n",
       "9090                 11             2018    (3, 4]  (0.0, 2.7]  (500, 600]  \n",
       "10086                 4             2019    (2, 3]  (0.0, 2.7]  (500, 600]  \n",
       "15063                 8             2017    (3, 4]  (0.0, 2.7]  (500, 600]  \n",
       "16471                11             2018    (4, 5]  (0.0, 2.7]  (500, 600]  "
      ]
     },
     "execution_count": 102,
     "metadata": {},
     "output_type": "execute_result"
    }
   ],
   "source": [
    "df_cntr.query('500 < city_centers_nearest < 600')"
   ]
  },
  {
   "cell_type": "markdown",
   "metadata": {},
   "source": [
    "### Вывод\n",
    "Даже в центре есть свой центр и есть своя периферия)))\n",
    "\n",
    "А вообще было бы интересно посмотреть удаленность от \"достопримечательностей\", можно предположить, что именно она объясняет колебания на графике... но у нас нет этих данных, а просто по карте не получилось зацепить логическую нить."
   ]
  },
  {
   "cell_type": "markdown",
   "metadata": {},
   "source": [
    "### Дата размещения объявления\n",
    "Не совсем понятна логика этого запроса, но надо так надо..."
   ]
  },
  {
   "cell_type": "code",
   "execution_count": 103,
   "metadata": {},
   "outputs": [
    {
     "data": {
      "text/plain": [
       "<matplotlib.axes._subplots.AxesSubplot at 0x7f410cec22b0>"
      ]
     },
     "execution_count": 103,
     "metadata": {},
     "output_type": "execute_result"
    },
    {
     "data": {
      "image/png": "[encoded data removed]",
      "text/plain": [
       "<Figure size 432x288 with 1 Axes>"
      ]
     },
     "metadata": {
      "needs_background": "light"
     },
     "output_type": "display_data"
    }
   ],
   "source": [
    "df.groupby('year_exposition')['price_mln'].mean().plot(kind='bar', color='r')\n",
    "df_cntr.groupby('year_exposition')['price_mln'].mean().plot(kind='bar', alpha=0.5)"
   ]
  },
  {
   "cell_type": "code",
   "execution_count": 104,
   "metadata": {
    "scrolled": true
   },
   "outputs": [
    {
     "data": {
      "text/plain": [
       "<matplotlib.axes._subplots.AxesSubplot at 0x7f410c6dc5b0>"
      ]
     },
     "execution_count": 104,
     "metadata": {},
     "output_type": "execute_result"
    },
    {
     "data": {
      "image/png": "[encoded data removed]",
      "text/plain": [
       "<Figure size 432x288 with 1 Axes>"
      ]
     },
     "metadata": {
      "needs_background": "light"
     },
     "output_type": "display_data"
    }
   ],
   "source": [
    "df.groupby('month_exposition')['price_mln'].mean().plot(kind='bar', color='r')\n",
    "df_cntr.groupby('month_exposition')['price_mln'].mean().plot(kind='bar', alpha=0.5)"
   ]
  },
  {
   "cell_type": "code",
   "execution_count": 105,
   "metadata": {},
   "outputs": [
    {
     "data": {
      "text/plain": [
       "<matplotlib.axes._subplots.AxesSubplot at 0x7f410c368a00>"
      ]
     },
     "execution_count": 105,
     "metadata": {},
     "output_type": "execute_result"
    },
    {
     "data": {
      "image/png": "[encoded data removed]",
      "text/plain": [
       "<Figure size 432x288 with 1 Axes>"
      ]
     },
     "metadata": {
      "needs_background": "light"
     },
     "output_type": "display_data"
    }
   ],
   "source": [
    "df.groupby('weekday_exposition')['price_mln'].mean().plot(kind='bar', color='r')\n",
    "df_cntr.groupby('weekday_exposition')['price_mln'].mean().plot(kind='bar', alpha=0.5)"
   ]
  },
  {
   "cell_type": "markdown",
   "metadata": {},
   "source": [
    "### Вывод\n",
    "Оказалось это круто: \n",
    "\n",
    "1. Квартиры премиум сегмента продаются дороже если они выставлены в выходные\n",
    "2. \"Дешевая элитка\" выставляется в октябре.\n"
   ]
  },
  {
   "cell_type": "markdown",
   "metadata": {},
   "source": [
    "[к содержанию...](#title)"
   ]
  },
  {
   "cell_type": "markdown",
   "metadata": {},
   "source": [
    "<a name=\"general\"></a>\n",
    "# 5. Общий вывод"
   ]
  },
  {
   "cell_type": "markdown",
   "metadata": {},
   "source": [
    "Подведем итоги нашего проекта…\n",
    "\n",
    "### Исходные данные, пропуски, дубликаты, типы данных:\n",
    "В целом качество предоставленных данных можно оценить на 9 из 10. Критических отклонений и выбросов обнаружено не было.\n",
    "\n",
    "В рамках работы был проведен анализ ряда параметров на предмет их реалистичности.\n",
    "Проанализировав параметры:\n",
    "- Площадь\n",
    "- Цена\n",
    "- Количество комнат\n",
    "- Высота потолков\n",
    "- Время продажи квартиры \n",
    "    \n",
    "мы установили:\n",
    "\n",
    "**1. Однозначной корректировке подлежат только значения в столбце \"высота потолков\".** Удаляем значения **менее 2.1** *(минимум по СНиП)* **и более 5 метров** *(для второго света в студии)*. Удаляем данные строки как явно ошибочные и незначительные в общем объеме (менее 50 строк).\n",
    "\n",
    "**2. Значение параметров Цена, Количество комнат, Высота потолков** корректировки не подлежат.\n",
    "**Их распределения логичны и имеют место быть в сфере недвижимости**.\n",
    "\n",
    "Например: для \"Площади\" - **Сверхнизкие** *(доля в квартире)* и **сверхвысокие** *(12 комнатная квартира с бассейном на 400 кв.м)* \n",
    "\n",
    "**3. Распределение \"Времени размещения\"** соответствует **распределению Пуассона** на всем диапазоне значений (даже в максимальных точках). Относить максимальные значения к выбросам и исключать их из анализа будет некорректно. \n",
    "\n",
    "Так же в ходе анализа **установлено влияние** на данный показатель **географии** размещения объекта. Но в рамках имеющихся данных однозначные выводы сделать нельзя. \n",
    "\n",
    "Например: **пгт Форносово** может реально оказаться **\"золотым\" местом** где недвижимость разлетается как горячие пирожки. А вот **поселок Лисий нос** *(— конечная точка маршрута главного героя повести Даниила Хармса «Старуха»)* может и не пользоваться на рынке недвижимости популярностью.\n",
    "\n",
    "### В рамках задания \"Факторы стоимости квартиры, \n",
    "были установлены влияющие на стоимость величины:\n",
    "\n",
    "**Цена квадратного метра** -  ожидаемая корреляция учитывая прямую связь этих параметров через площадь.  Квадратный метр в 3-4х комнатных квартирах всегда стоит меньше двушек и однушек, а далее наблюдаем резкий рост обусловленный переходом в премиум сегмент.\n",
    "\n",
    "**Площадь** — Больше площадь, больше стоимость.\n",
    "\n",
    "**Комнаты** — рассмотрев группы 1, 2, 3, 4, 5, 5+ комнат: мы обнаружили ярко выраженную зависимость обусловлена в первую очередь ростом площади объектов по мере роста количества комнат, усиливающуюся ростом цены квадратного метра по мере роста самой площади.\n",
    "\n",
    "**Этажи** - Цена первого этажа ниже на -18%, цена последнего этажа ниже на -9%.\n",
    "\n",
    "Классическая картина - \"нехороших\" квартир. Обычно в основные минусы первого и последнего этажа записывают безопасность, близость подвала и крыши. Фору последнему этажу дают освещенность, более свежий воздух и техэтаж в современных домах.\n",
    "\n",
    "**Парки и пруды** - Фактическое влияние оказывает сам факт наличия водоема или парка, количество играет не так значительно.\n",
    "\n",
    "Наличие пруда в радиусе 3-х километров увеличивает стоимость квартира на 24%\n",
    "\n",
    "Наличие парка в радиусе 3-х километров увеличивает стоимость квартира на 14%\n",
    "\n",
    "**Высота потолков** - Высокие потолки характеризуют объекты относящиеся к верхним ценовым сегментам (качественные характеристики здесь превалируют над стоимостью) отсюда и **значимый рост цены от высоты потолка**. Так же высокие потолки могут расцениваться как преимуществом и в масс-сегменте, если высота позволяет организовать двухуровневое размещение.\n",
    "\n",
    "**Время размещения объявления** - \n",
    "\n",
    "**Цена** **не имеет** ярко выраженной **сезонности** и **не зависит от дня недели** в который было размещено объявление. \n",
    "\n",
    "Цена квартиры зависит от года размещения. Зависимость соотноситься с глобальными рыночными тенденциями.\n",
    "\n",
    "Забегая чуть-чуть в перед были установлены интересные закономерности  по зоне «центр»:\n",
    "    1. Квартиры премиум сегмента продаются дороже если они выставлены в выходные \n",
    "    2. \"Дешевая элитка\" выставляется в октябре.\n",
    "    \n",
    "### В рамках задания  \"Средняя цена квадратного метра\", \n",
    "были сделаны следующие выводы:\n",
    "\n",
    "**Наибольшая цена квадратного метра** ожидаемо принадлежит **Санкт-Петербургу** и составляет **112.36 тысяч рублей за 1 кв.м**.\n",
    "\n",
    "Последние место в ТОП-10 с **минимальной ценой**  удерживает **Выборг** - **57.18 тысяч рублей за 1 кв.м**.\n",
    "\n",
    "### Расстояние до центра - \n",
    "Зависимость цены от расстояния до центра имеет ярко выраженную обратную зависимость. \n",
    "\n",
    "Мы установили, что **границы зоны** называемой **центром** проходят на отрезке **9 километров**.\n",
    "\n",
    "Мы рассмотрели основные параметры для этой зоны и сравнили их с общими выводами.\n",
    "\n",
    "\n",
    "**Площадь** - По сравнению с общими данными, квартиры в центре имеют большую на 46% среднюю площадь (в том числе выше и медиана)\n",
    "\n",
    "**Цена** — в среднем цена квартир в \"центре\" в 2 раза выше общей выборки. Это обусловлено как престижностью района, так и большей площадью объектов. Опять же квартиры данной зоны тяготят к премиум сегменту, а цена в нем уже перестает играть ключевую роль.\n",
    "\n",
    "**Число комнат** -  в \"центре преобладают 3-х комнатные квартиры, тогда как в общей выборке мы видим 2-х комнатные объекты.\n",
    "Увеличение стоимости в разрезе количества комнат обусловленно более высокой ценой квадратного метра. Уменьшение этой дельты в позициях: 5 и 5+ комнат вызвано тем, что основная масса объетов 5 и 5+ комнат как раз и расположены в центре.\n",
    "\n",
    "**Высота потолков** - Увеличение высоты потолков в \"центре\" обусловленно преоблоданием исторической застройки и свойственным ей архитектурным традициям.\n",
    "Анализ влияния данного параметра на цену объекта не входит в рамки данного задания, однако выводы и характер влияния полностью соответствует параметру - \"количество комнат\"\n",
    "\n",
    "**Этажи** — увеличение стоимости соответствует разнице в цене квадратного метра и большей площади объектов. Исключение составляют первые этажи, которые как и общей выборке не пользуются популярностью.\n",
    "\n",
    "**\"Расстояние до \"центра в центре\"** - даже в центре есть свой центр это зона до 500 метров, где цена явно превалирует на остальной зоной.\n",
    "\n",
    "А вообще было бы интересно посмотреть удаленность от \"достопримечательностей\", можно предположить, что именно она объясняет колебания на графике... но у нас нет этих данных, а просто по карте не получилось зацепить логическую нить."
   ]
  },
  {
   "cell_type": "markdown",
   "metadata": {},
   "source": [
    "[к содержанию...](#title)"
   ]
  }
 ],
 "metadata": {
  "kernelspec": {
   "display_name": "Python 3",
   "language": "python",
   "name": "python3"
  },
  "language_info": {
   "codemirror_mode": {
    "name": "ipython",
    "version": 3
   },
   "file_extension": ".py",
   "mimetype": "text/x-python",
   "name": "python",
   "nbconvert_exporter": "python",
   "pygments_lexer": "ipython3",
   "version": "3.8.3"
  }
 },
 "nbformat": 4,
 "nbformat_minor": 4
}
